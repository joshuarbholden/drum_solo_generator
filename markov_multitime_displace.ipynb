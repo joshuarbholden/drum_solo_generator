{
 "cells": [
  {
   "cell_type": "code",
   "execution_count": 18,
   "metadata": {},
   "outputs": [
    {
     "data": {
      "text/plain": [
       "makeppheader (generic function with 1 method)"
      ]
     },
     "execution_count": 18,
     "metadata": {},
     "output_type": "execute_result"
    }
   ],
   "source": [
    "include(\"markov-drum-utilities.jl\")  #loads AugMatrix, AugDblMatrix, insert, functionName, abptest, makeppheader"
   ]
  },
  {
   "cell_type": "code",
   "execution_count": 19,
   "metadata": {},
   "outputs": [
    {
     "data": {
      "text/plain": [
       "markovrand (generic function with 1 method)"
      ]
     },
     "execution_count": 19,
     "metadata": {},
     "output_type": "execute_result"
    }
   ],
   "source": [
    "#input a vector corresponding to a probability distribution and output an index according to that distribution\n",
    "function markovrand(nextv)\n",
    "    if round(sum(nextv), digits = 6) != 1.0\n",
    "        error(nextv, \" is not a stochastic vector\")\n",
    "    end\n",
    "    maxstates = length(nextv) - 1\n",
    "    r = rand(Float64)\n",
    "    current = maxstates\n",
    "    for i = 0:maxstates\n",
    "        if r <= nextv[i + 1]\n",
    "            current = i\n",
    "            break\n",
    "        else\n",
    "            r = r - nextv[i + 1]\n",
    "        end\n",
    "    end\n",
    "    return(current)\n",
    "end\n"
   ]
  },
  {
   "cell_type": "code",
   "execution_count": 20,
   "metadata": {},
   "outputs": [
    {
     "data": {
      "text/plain": [
       "ghostbassgen_pairs (generic function with 1 method)"
      ]
     },
     "execution_count": 20,
     "metadata": {},
     "output_type": "execute_result"
    }
   ],
   "source": [
    "#output bass note codes in $beats pairs of sixteenth notes\n",
    "function ghostbassgen_pairs(beats::Int, trans::AugMatrix)\n",
    "    transmat = trans.mat\n",
    "    iv = trans.init\n",
    "    nextv = iv\n",
    "    L = []\n",
    "    for j = 1:beats\n",
    "        current = markovrand(nextv)\n",
    "#print(current, \" \")\n",
    "        append!(L, [current])\n",
    "        nextv = transmat[:, current + 1]\n",
    "    end\n",
    "    return(L)\n",
    "end"
   ]
  },
  {
   "cell_type": "code",
   "execution_count": 21,
   "metadata": {},
   "outputs": [
    {
     "data": {
      "text/plain": [
       "ghostbassgen (generic function with 1 method)"
      ]
     },
     "execution_count": 21,
     "metadata": {},
     "output_type": "execute_result"
    }
   ],
   "source": [
    "#output bass note codes in 2*$beats notes\n",
    "function ghostbassgen(beats::Int, trans::AugMatrix)\n",
    "    transmat = trans.mat\n",
    "    iv = trans.init\n",
    "    nextv = iv\n",
    "    L = []\n",
    "    for j = 1:beats\n",
    "        current = markovrand(nextv)\n",
    "#print(current, \" \")\n",
    "        bincurrent = digits(current, base = 3, pad = 2)\n",
    "#print(bincurrent, \"\\n\")\n",
    "        append!(L, [bincurrent[2], bincurrent[1]])\n",
    "        nextv = transmat[:, current + 1]\n",
    "    end\n",
    "    return(L)\n",
    "end"
   ]
  },
  {
   "cell_type": "code",
   "execution_count": 22,
   "metadata": {},
   "outputs": [
    {
     "data": {
      "text/plain": [
       "backbeatgen (generic function with 1 method)"
      ]
     },
     "execution_count": 22,
     "metadata": {},
     "output_type": "execute_result"
    }
   ],
   "source": [
    "#output backbeat in $beats pairs of sixteenth notes \n",
    "function backbeatgen(beats::Int)\n",
    "    L = []\n",
    "    for j = 1:beats\n",
    "        if j % 8 == 3\n",
    "            append!(L, [2])\n",
    "        elseif j % 8 == 7\n",
    "            append!(L, [2])\n",
    "        else\n",
    "            append!(L, [0])\n",
    "        end\n",
    "    end\n",
    "    return(L)\n",
    "end"
   ]
  },
  {
   "cell_type": "code",
   "execution_count": 23,
   "metadata": {},
   "outputs": [
    {
     "data": {
      "text/plain": [
       "8-element Vector{Any}:\n",
       " 0\n",
       " 0\n",
       " 2\n",
       " 0\n",
       " 0\n",
       " 0\n",
       " 2\n",
       " 0"
      ]
     },
     "execution_count": 23,
     "metadata": {},
     "output_type": "execute_result"
    }
   ],
   "source": [
    "#test\n",
    "backbeatgen(8)"
   ]
  },
  {
   "cell_type": "code",
   "execution_count": 24,
   "metadata": {},
   "outputs": [
    {
     "data": {
      "text/plain": [
       "lookup8ride (generic function with 1 method)"
      ]
     },
     "execution_count": 24,
     "metadata": {},
     "output_type": "execute_result"
    }
   ],
   "source": [
    "function lookup8ride(; variation=\"none\")::Matrix\n",
    "    r = Matrix(undef, 4, 4)\n",
    "    r[1,1] = [\"!N![_e\",\"[\",\"!N![_e\",\"[\",\"!N![_e\",\"[\",\"!N![_e\",\"[\"] #hihat Quarters, trash #2\n",
    "    #NB Windows midi doesn't have a good way of making a trash hat?  !N! defined as tenuto mark and lowered volume in makeppheader\n",
    "    r[2,1] = [\"[^e\",\"[^e\",\"[^e\",\"[^e\",\"[^e\",\"[^e\",\"[^e\",\"[^e\"] #hihat 8, #1\n",
    "    r[3,1] = [\"!>![^e\",\"!U![^e\",\"!>![^e\",\"!U![^e\",\"!>![^e\",\"!U![^e\",\"!>![^e\",\"!U![^e\"] #drive #8, !U! defined as antiaccent mark\n",
    "    if variation == \"funk\"\n",
    "#        r[4,1] = [\"[^e\",\"[^e\",\"[^e\",\"[^e\",\"[^e\",\"[_e\",\"[^e\",\"[_e\"]  #slide last 2 ands #7\n",
    "        r[4,1] = [\"[^e\",\"[_e\",\"[^e\",\"[^e\",\"[^e\",\"[_e\",\"[^e\",\"[^e\"]  #\"James Brown\" slides #7\n",
    "    elseif variation == \"disco\"\n",
    "         r[4,1] = [\"[^e\",\"[_e\",\"[^e\",\"[_e\",\"[^e\",\"[_e\",\"[^e\",\"[_e\"] #slide every and #6\n",
    "    else\n",
    "        r[4,1] = [\"[^e\",\"[^e\",\"[^e\",\"[^e\",\"[^e\",\"[^e\",\"[^e\",\"[_e\"] #slide last and #7\n",
    "    end\n",
    "    r[1,2] = [\"[^g\",\"[\",\"[^g\",\"[\",\"[^g\",\"[\",\"[^g\",\"[\"] #ride quarter #2\n",
    "    r[2,2] = [\"[^g\",\"[^g\",\"[^g\",\"[^g\",\"[^g\",\"[^g\",\"[^g\",\"[^g\"] #ride 8, #1\n",
    "    r[3,2] = [\"[^g^D\",\"[^g\",\"[^g^D\",\"[^g\",\"[^g^D\",\"[^g\",\"[^g^D\",\"[^g\"] #ride 8 with step beats, #3\n",
    "    r[4,2] = [\"[^g\",\"[^g^D\",\"[^g\",\"[^g^D\",\"[^g\",\"[^g^D\",\"[^g\",\"[^g^D\"] #ride 8 with step ands, #4\n",
    "    r[1,3] = [\"[g\",\"[\",\"[g\",\"[\",\"[g\",\"[\",\"[g\",\"[\"] #bell Q, #2\n",
    "    r[2,3] = [\"[g\",\"[g\",\"[g\",\"[g\",\"[g\",\"[g\",\"[g\",\"[g\"] #bell 8, #1\n",
    "    r[3,3] = [\"[g\",\"[^g\",\"[g\",\"[^g\",\"[g\",\"[^g\",\"[g\",\"[^g\"] #bell drive, offbeat ride\n",
    "    r[4,3] = [\"[\",\"[g\",\"[\",\"[g\",\"[\",\"[g\",\"[\",\"[g\"] #bell ands, #5\n",
    "    r[1,4] = [\"[^D\",\"[\",\"[^D\",\"[\",\"[^D\",\"[\",\"[^D\",\"[\"]  #step Q, #2\n",
    "    r[2,4] = [\"[^D\",\"[^D\",\"[^D\",\"[^D\",\"[^D\",\"[^D\",\"[^D\",\"[^D\"] #step 8, #1\n",
    "    r[3,4] = [\"[g^D\",\"[^D\",\"[g^D\",\"[^D\",\"[g^D\",\"[^D\",\"[g^D\",\"[^D\"] #step 8 with bell beats, #9\n",
    "    r[4,4] = [\"[^D\",\"[g^D\",\"[^D\",\"[g^D\",\"[^D\",\"[g^D\",\"[^D\",\"[g^D\"] #step 8 with bell ands\n",
    "    return(r)\n",
    "end\n"
   ]
  },
  {
   "cell_type": "code",
   "execution_count": 25,
   "metadata": {},
   "outputs": [
    {
     "data": {
      "text/plain": [
       "lookup16ride (generic function with 1 method)"
      ]
     },
     "execution_count": 25,
     "metadata": {},
     "output_type": "execute_result"
    }
   ],
   "source": [
    "function lookup16ride(; variation=\"none\")::Matrix\n",
    "    r = Matrix(undef, 4, 4)\n",
    "    r[1,1] = [\"!N![_e\",\"[\",\"!N![_e\",\"[\",\"!N![_e\",\"[\",\"!N![_e\",\"[\",\"!N![_e\",\"[\",\"!N![_e\",\"[\",\"!N![_e\",\"[\",\"!N![_e\",\"[\"] #hihat eighths, trash\n",
    "    #NB Windows midi doesn't have a good way of making a trash hat?  !N! defined as tenuto mark and lowered volume in makeppheader\n",
    "    r[2,1] = [\"[^e\", \"[^e\", \"[^e\", \"[^e\", \"[^e\", \"[^e\", \"[^e\", \"[^e\", \"[^e\", \"[^e\", \"[^e\", \"[^e\", \"[^e\", \"[^e\", \"[^e\", \"[^e\"]; #hihat 16\n",
    "    r[3,1] = [\"!>![^e\", \"!U![^e\", \"!>![^e\", \"!U![^e\", \"!>![^e\", \"!U![^e\",\"!>![^e\", \"!U![^e\",\"!>![^e\", \"!U![^e\", \"!>![^e\", \"!U![^e\", \"!>![^e\", \"!U![^e\", \"!>![^e\", \"!U![^e\"]; #drive 16\n",
    "    if variation == \"funk\"\n",
    "        r[4,1] = [\"[^e\", \"[^e\", \"[^e\", \"[_e\", \"[^e\", \"[^e\", \"[^e\", \"[^e\", \"[^e\", \"[^e\", \"[^e\", \"[_e\", \"[^e\", \"[^e\", \"[^e\", \"[^e\"]  #\"James Brown\" slides #7\n",
    "    elseif variation == \"disco\"\n",
    "         r[4,1] = [\"[^e\", \"[^e\", \"[_e\", \"[^e\", \"[^e\", \"[^e\", \"[_e\", \"[^e\", \"[^e\", \"[^e\", \"[_e\", \"[^e\", \"[^e\", \"[^e\", \"[_e\", \"[^e\"] #slide every and #6\n",
    "    else\n",
    "        r[4,1] = [\"[^e\", \"[^e\", \"[^e\", \"[^e\", \"[^e\", \"[^e\", \"[^e\", \"[^e\", \"[^e\", \"[^e\", \"[^e\", \"[^e\", \"[^e\", \"[^e\", \"[^e\", \"[_e\"];  #one slide 16\n",
    "    end\n",
    "    r[1,2] = [\"[^g\",\"[\",\"[^g\",\"[\",\"[^g\",\"[\",\"[^g\",\"[\",\"[^g\",\"[\",\"[^g\",\"[\",\"[^g\",\"[\",\"[^g\",\"[\"] #ride quarter\n",
    "    r[2,2] = [\"[^g\", \"[^g\", \"[^g\", \"[^g\", \"[^g\", \"[^g\", \"[^g\", \"[^g\", \"[^g\", \"[^g\", \"[^g\", \"[^g\", \"[^g\", \"[^g\", \"[^g\", \"[^g\"]; #ride 16 \n",
    "    r[3,2] = [\"[^g^D\", \"[^g\", \"[^g\", \"[^g\", \"[^g^D\", \"[^g\", \"[^g\", \"[^g\", \"[^g^D\", \"[^g\", \"[^g\", \"[^g\", \"[^g^D\", \"[^g\", \"[^g\", \"[^g\"]; #ride 16 with step beats\n",
    "    r[4,2] = [\"[^g\", \"[^g\", \"[^g^D\", \"[^g\", \"[^g\", \"[^g\", \"[^g^D\", \"[^g\", \"[^g\", \"[^g\", \"[^g^D\", \"[^g\", \"[^g\", \"[^g\", \"[^g^D\", \"[^g\" ]; #ride 16 with step ands\n",
    "    r[1,3] = [\"[g\",\"[\",\"[g\",\"[\",\"[g\",\"[\",\"[g\",\"[\",\"[g\",\"[\",\"[g\",\"[\",\"[g\",\"[\",\"[g\",\"[\"] #bell 8\n",
    "    r[2,3] = [\"[g\",\"[g\",\"[\",\"[\",\"[g\",\"[g\",\"[\",\"[\",\"[g\",\"[g\",\"[\",\"[\",\"[g\",\"[g\",\"[\",\"[\"] #bell 16th pairs on beat\n",
    "    r[3,3] = [\"[g\",\"!U![^g\",\"[g\",\"!U![^g\",\"[g\",\"!U![^g\",\"[g\",\"!U![^g\",\"[g\",\"!U![^g\",\"[g\",\"!U![^g\",\"[g\",\"!U![^g\",\"[g\",\"!U![^g\"] #bell drive, offbeat ride\n",
    "    r[4,3] = [\"[\",\"[\",\"[g\",\"[g\",\"[\",\"[\",\"[g\",\"[g\",\"[\",\"[\",\"[g\",\"[g\",\"[\",\"[\",\"[g\",\"[g\"] #bell pairs on and\n",
    "    r[1,4] = [\"[^D\",\"[\",\"[\",\"[\",\"[^D\",\"[\",\"[\",\"[\",\"[^D\",\"[\",\"[\",\"[\",\"[^D\",\"[\",\"[\",\"[\"]  #step Q\n",
    "    r[2,4] = [\"[^D\",\"[\",\"[^D\",\"[\",\"[^D\",\"[\",\"[^D\",\"[\",\"[^D\",\"[\",\"[^D\",\"[\",\"[^D\",\"[\",\"[^D\",\"[\"] #step 8\n",
    "    r[3,4] = [\"[g^D\",\"[g\",\"[^D\",\"[\",\"[g^D\",\"[g\",\"[^D\",\"[\",\"[g^D\",\"[g\",\"[^D\",\"[\",\"[g^D\",\"[g\",\"[^D\",\"[\"] #step 8 with bell beat pair\n",
    "    r[4,4] = [\"[^D\",\"[\",\"[g^D\",\"[g\",\"[^D\",\"[\",\"[g^D\",\"[g\",\"[^D\",\"[\",\"[g^D\",\"[g\",\"[^D\",\"[\",\"[g^D\",\"[g\"] #step 8 with bell and pair\n",
    "    return(r)\n",
    "end\n"
   ]
  },
  {
   "cell_type": "code",
   "execution_count": 52,
   "metadata": {},
   "outputs": [
    {
     "data": {
      "text/plain": [
       "lookup8backbass (generic function with 1 method)"
      ]
     },
     "execution_count": 52,
     "metadata": {},
     "output_type": "execute_result"
    }
   ],
   "source": [
    "function lookup8backbass()::Vector\n",
    "    c = Vector(undef, 4)\n",
    "     #nothing, rest-kick, rest-snare, kick-rest, kick-kick, kick-snare, snare-rest, snare-kick, snare-snare\n",
    "    c[0+1] = [\"]y\", \"]/2[F/2]\", \"]/2[!Q!c/2]\", \"F]y\", \"F]/2[F/2]\", \"F]/2[!Q!c/2]\", \"]\", \"]\", \"]\"] #no backbeat\n",
    "    c[1+1] = [\"]\", \"]/2[cF]/2\", \"]/2[c]/2\",  \"]\", \"F]/2[cF]/2\", \"F]/2[c/2]\", \"]\", \"]\", \"]\"]  #backbeat off 8th\n",
    "    c[2+1] = [\"]\", \"]\", \"]\", \"cF]y\", \"cF]/2[F/2]\", \"cF]/2[!Q!c/2]\", \"c]y\", \"c]/2[F/2]\", \"c]/2[!Q!c/2]\"] #backbeat on 8th\n",
    "    c[3+1] = [\"]\", \"]\", \"]\", \"cF]/[c]/2\", \"cF]/2[cF]/2\", \"cF]/2[c/2]\", \"c]/2[c]/2\", \"c]/2[cF/2]\", \"c]/2[c/2]\"] #backbeat on both, probably a bad idea\n",
    "    return(c)\n",
    "end"
   ]
  },
  {
   "cell_type": "code",
   "execution_count": 57,
   "metadata": {},
   "outputs": [
    {
     "data": {
      "text/plain": [
       "abctime8patinst16displace (generic function with 1 method)"
      ]
     },
     "execution_count": 57,
     "metadata": {},
     "output_type": "execute_result"
    }
   ],
   "source": [
    "#input a sixteenth note bass rhythm and an 8th note ride pattern, output abc notation\n",
    "function abctime8patinst16displace(L, pattern, instr; variation=\"none\")\n",
    "    n = length(L)\n",
    "    r = lookup8ride(variation=variation)\n",
    "    c = lookup8backbass()\n",
    "    b = backbeatgen(n)  ####THIS SHOULD BE SOMEWHERE ELSE!!!!!\n",
    "    m = [c[b[i] + 1][L[i] + 1] for i = 1:n]\n",
    "    s = \"\"\n",
    "    for i = 1:n\n",
    "        s = s * r[pattern, instr][(i - 1) % 8 + 1] * m[i]\n",
    "        if i % 4 == 0\n",
    "            s = s * \" \"\n",
    "        end\n",
    "        if i % 8 == 0\n",
    "            s = s * \"|\\n\"\n",
    "        end\n",
    "    end\n",
    "    return(s)\n",
    "end\n"
   ]
  },
  {
   "cell_type": "code",
   "execution_count": 28,
   "metadata": {},
   "outputs": [
    {
     "data": {
      "text/plain": [
       "abctime12patinst24ghost (generic function with 1 method)"
      ]
     },
     "execution_count": 28,
     "metadata": {},
     "output_type": "execute_result"
    }
   ],
   "source": [
    "#input a sixteenth note bass rhythm and an 8th note shuffled ride pattern, output abc notation\n",
    "function abctime12patinst24ghost(L, pattern, instr; variation=\"none\")\n",
    "    n = length(L)\n",
    "    r = lookup8ride(variation=variation)\n",
    "    c = [\"]y\", \"]/2[F/2]\", \"]/2[!Q!c/2]\", \"F]y\", \"F]/2[F/2]\", \"F]/2[!Q!c/2]\"] #nothing, rest-kick, rest-ghost snare, kick-rest, kick-kick, kick-ghost\n",
    " #should never try to index more than 6 elements of c!\n",
    "    m = [c[L[i] + 1] for i = 1:n]\n",
    "    s = \"\"\n",
    "    for i = 1:n\n",
    "        if i % 2 == 1\n",
    "            s = s * \"(3:2\"\n",
    "        end\n",
    "        s = s * r[pattern, instr][(i - 1) % 8 + 1] * m[i]\n",
    "        if i % 2 == 1 \n",
    "            s = s * \"z\" #rest\n",
    "        elseif i % 2 == 0\n",
    "            s = s * \" \"\n",
    "        end\n",
    "        if i % 8 == 0\n",
    "            s = s * \"|\\n\"\n",
    "        end\n",
    "    end\n",
    "    return(s)\n",
    "end\n"
   ]
  },
  {
   "cell_type": "code",
   "execution_count": 29,
   "metadata": {},
   "outputs": [
    {
     "data": {
      "text/plain": [
       "abctime16patinst16ghost (generic function with 1 method)"
      ]
     },
     "execution_count": 29,
     "metadata": {},
     "output_type": "execute_result"
    }
   ],
   "source": [
    "#input a sixteenth note bass rhythm and an 16th note ride pattern, output abc notation\n",
    "function abctime16patinst16ghost(L, pattern, instr; variation=\"none\")\n",
    "    n = length(L)\n",
    "    r = lookup16ride(variation=variation)\n",
    "    c = [\"]/2\", \"F]/2\", \"!Q!c]/2\"] #nothing, kick, ghost snare\n",
    "    m = [c[L[i] + 1] for i = 1:n]\n",
    "    s = \"\"\n",
    "    for i = 1:n\n",
    "        s = s * r[pattern, instr][(i - 1) % 16 + 1] * m[i]\n",
    "        if i % 4 == 0\n",
    "            s = s * \" \"\n",
    "        end\n",
    "        if i % 16 == 0\n",
    "            s = s * \"|\\n\"\n",
    "        end\n",
    "    end\n",
    "    return(s)\n",
    "end\n"
   ]
  },
  {
   "cell_type": "code",
   "execution_count": 30,
   "metadata": {},
   "outputs": [
    {
     "data": {
      "text/plain": [
       "abctime24patinst24ghost (generic function with 1 method)"
      ]
     },
     "execution_count": 30,
     "metadata": {},
     "output_type": "execute_result"
    }
   ],
   "source": [
    "#input a shuffled 16th bass rhythm and a shuffled 16th ride pattern, output abc notation\n",
    "function abctime24patinst24ghost(L, pattern, instr; variation=\"none\")\n",
    "    n = length(L)\n",
    "    r = lookup16ride(variation=variation)\n",
    "    c = [\"]/2\", \"F]/2\", \"!Q!c]/2\"] #nothing, kick, ghost snare\n",
    "    m = [c[L[i] + 1] for i = 1:n]\n",
    "    s = \"\"\n",
    "    for i = 1:n\n",
    "        if i % 4 == 1\n",
    "            s = s * \"(6:4\"\n",
    "        end\n",
    "        s = s * r[pattern, instr][(i - 1) % 16 + 1] * m[i]\n",
    "        if i % 2 == 1 \n",
    "            s = s * \"z/2\" #rest\n",
    "        elseif i % 4 == 0\n",
    "            s = s * \" \"\n",
    "        end\n",
    "        if i % 16 == 0\n",
    "            s = s * \"|\\n\"\n",
    "        end\n",
    "    end\n",
    "    return(s)\n",
    "end\n"
   ]
  },
  {
   "cell_type": "code",
   "execution_count": 31,
   "metadata": {},
   "outputs": [
    {
     "data": {
      "text/plain": [
       "fillgen (generic function with 1 method)"
      ]
     },
     "execution_count": 31,
     "metadata": {},
     "output_type": "execute_result"
    }
   ],
   "source": [
    "#output linear fill in $beats number of smallest subdivision\n",
    "function fillgen(\n",
    "  beats::Int,\n",
    "  trans::AugDblMatrix)\n",
    "    nextv = trans.init\n",
    "    L = []\n",
    "    for j = 1:beats\n",
    "        current = markovrand(nextv)\n",
    "        append!(L,current)\n",
    "        if j % 2 == 1\n",
    "            nextv = trans.mat1[1:6, current + 1]\n",
    "        else\n",
    "            nextv = trans.mat2[1:6, current + 1]\n",
    "        end\n",
    "    end\n",
    "    return(L)\n",
    "end\n"
   ]
  },
  {
   "cell_type": "code",
   "execution_count": 32,
   "metadata": {},
   "outputs": [
    {
     "data": {
      "text/plain": [
       "abcfill16 (generic function with 1 method)"
      ]
     },
     "execution_count": 32,
     "metadata": {},
     "output_type": "execute_result"
    }
   ],
   "source": [
    "#input a sixteenth note fill and a crescendo/descr indicator, output abc notation\n",
    "function abcfill16(L, crdc)\n",
    "    n = length(L)\n",
    "    c = [\"c/2\",\"e/2\",\"A/2\",\"G/2\",\"F/2\",\"z/2\"]\n",
    "    m = [c[L[i] + 1] for i = 1:n]\n",
    "    s = \"\"\n",
    "    for i = 1:n\n",
    "        s = s * m[i]\n",
    "        if i % 4 == 0\n",
    "            s = s * \" \"\n",
    "        end\n",
    "        if i % 16 == 12\n",
    "            if crdc < 0\n",
    "                s = s * \"!>(!\"\n",
    "            elseif 0 < crdc\n",
    "                s = s * \"!<(!\"\n",
    "            end\n",
    "        end\n",
    "        if i % 16 == 14\n",
    "            if crdc < 0\n",
    "                s = s * \"!>)!\"\n",
    "            elseif 0 < crdc\n",
    "                s = s * \"!<)!\"\n",
    "            end\n",
    "        end\n",
    "    end\n",
    "    return(s)\n",
    "end\n"
   ]
  },
  {
   "cell_type": "code",
   "execution_count": 33,
   "metadata": {},
   "outputs": [
    {
     "data": {
      "text/plain": [
       "abcfill12 (generic function with 1 method)"
      ]
     },
     "execution_count": 33,
     "metadata": {},
     "output_type": "execute_result"
    }
   ],
   "source": [
    "#input a eighth triplet fill and a crescendo/descr indicator, output abc notation\n",
    "function abcfill12(L, crdc)\n",
    "    n = length(L)\n",
    "    c = [\"c\",\"e\",\"A\",\"G\",\"F\",\"z\"]\n",
    "    m = [c[L[i] + 1] for i = 1:n]\n",
    "    s = \"\"\n",
    "    for i = 1:n\n",
    "        if i % 3 == 1\n",
    "            s = s * \"(3:2\"\n",
    "        end\n",
    "        s = s * m[i]\n",
    "        if i % 3 == 0\n",
    "            s = s * \" \"\n",
    "        end\n",
    "        if i % 12 == 8\n",
    "            if crdc < 0\n",
    "                s = s * \"!>(!\"\n",
    "            elseif 0 < crdc\n",
    "                s = s * \"!<(!\"\n",
    "            end\n",
    "        end\n",
    "        if i % 12 == 10\n",
    "            if crdc < 0\n",
    "                s = s * \"!>)!\"\n",
    "            elseif 0 < crdc\n",
    "                s = s * \"!<)!\"\n",
    "            end\n",
    "        end\n",
    "    end\n",
    "    return(s)\n",
    "end"
   ]
  },
  {
   "cell_type": "code",
   "execution_count": 34,
   "metadata": {},
   "outputs": [
    {
     "data": {
      "text/plain": [
       "abcfill24 (generic function with 1 method)"
      ]
     },
     "execution_count": 34,
     "metadata": {},
     "output_type": "execute_result"
    }
   ],
   "source": [
    "#input a sixteenth triplet fill and a crescendo/descr indicator, output abc notation\n",
    "function abcfill24(L, crdc)\n",
    "    n = length(L)\n",
    "    c = [\"c/2\",\"e/2\",\"A/2\",\"G/2\",\"F/2\",\"z/2\"]\n",
    "    m = [c[L[i] + 1] for i = 1:n]\n",
    "    s = \"\"\n",
    "    for i = 1:n\n",
    "        if i % 6 == 1\n",
    "            s = s * \"(6:4\"\n",
    "        end\n",
    "        s = s * m[i]\n",
    "        if i % 6 == 0\n",
    "            s = s * \" \"\n",
    "        end\n",
    "        if i % 24 == 16\n",
    "            if crdc < 0\n",
    "                s = s * \"!>(!\"\n",
    "            elseif 0 < crdc\n",
    "                s = s * \"!<(!\"\n",
    "            end\n",
    "        end\n",
    "        if i % 24 == 20\n",
    "            if crdc < 0\n",
    "                s = s * \"!>)!\"\n",
    "            elseif 0 < crdc\n",
    "                s = s * \"!<)!\"\n",
    "            end\n",
    "        end\n",
    "    end\n",
    "    return(s)\n",
    "end"
   ]
  },
  {
   "cell_type": "code",
   "execution_count": 37,
   "metadata": {},
   "outputs": [
    {
     "data": {
      "text/plain": [
       "abctune_multitime_displace (generic function with 1 method)"
      ]
     },
     "execution_count": 37,
     "metadata": {},
     "output_type": "execute_result"
    }
   ],
   "source": [
    "#output time, fill, time, fill with cresc/decr in abc notation\n",
    "function abctune_multitime_displace(\n",
    "  timesig,\n",
    "    vol,\n",
    "  bass,\n",
    "  pat,\n",
    "  inst,\n",
    "  fill,\n",
    "  crdc;\n",
    "    variation=\"none\")\n",
    "    fp = [\"!pp!\",\"!p!\",\"!mp!\",\"!mf!\",\"!f!\",\"!ff!\"]\n",
    "    if timesig === 8 \n",
    "        abctime = abctime8patinst16displace(bass, pat, inst, variation=variation)\n",
    "        abcfill0 = abcfill16(fill, 0)\n",
    "        abcfill1 = abcfill16(fill, crdc)\n",
    "    elseif timesig == 16\n",
    "        abctime = abctime16patinst16displace(bass, pat, inst, variation=variation)\n",
    "        abcfill0 = abcfill16(fill, 0)\n",
    "        abcfill1 = abcfill16(fill, crdc)\n",
    "    elseif timesig == 12\n",
    "        abctime = abctime12patinst24displace(bass, pat, inst)\n",
    "        abcfill0 = abcfill12(fill, 0)\n",
    "        abcfill1 = abcfill12(fill, crdc)\n",
    "    elseif timesig == 24\n",
    "        abctime = abctime24patinst24displace(bass, pat, inst)\n",
    "        abcfill0 = abcfill24(fill, 0)\n",
    "        abcfill1 = abcfill24(fill, crdc)\n",
    "    end        \n",
    "    return(\"|:\" * fp[vol] * abctime * \"[1\" * abcfill0 * \":|2\" * abcfill1 * \"\\n\")\n",
    "end\n"
   ]
  },
  {
   "cell_type": "code",
   "execution_count": 38,
   "metadata": {},
   "outputs": [
    {
     "data": {
      "text/plain": [
       "abcsolo_multitime_displace (generic function with 1 method)"
      ]
     },
     "execution_count": 38,
     "metadata": {},
     "output_type": "execute_result"
    }
   ],
   "source": [
    "#put it all together, output abc notation\n",
    "import Dates\n",
    "function abcsolo_multitime_displace(\n",
    "        timesig::Int,\n",
    "  len::Int,\n",
    "  basstrans::AugMatrix,\n",
    "  filltrans::AugDblMatrix,\n",
    "  dyntrans::AugDblMatrix,\n",
    "  pattrans::AugMatrix,\n",
    "  insttrans::AugMatrix,\n",
    "  feel::String;\n",
    "        variation=\"rock\"\n",
    "    )\n",
    "    s = \"\"\n",
    "    curdyn = markovrand(dyn.init)\n",
    "    curpat = markovrand(pattrans.init)\n",
    "    curinst = markovrand(insttrans.init)\n",
    "    for i = 1:len\n",
    "        vol = div(curdyn, 2) + 1\n",
    "        if (timesig == 8) || (timesig == 12)\n",
    "            bass = ghostbassgen_pairs(24, basstrans)\n",
    "        elseif (timesig == 16) || (timesig == 24)\n",
    "            bass = ghostbassgen(24, basstrans)\n",
    "        end\n",
    "        pat = curpat + 1\n",
    "        inst = curinst + 1\n",
    "        if (timesig == 8) || (timesig == 16)\n",
    "            fill = fillgen(16, filltrans)\n",
    "        elseif (timesig == 12) \n",
    "            fill = fillgen(12, filltrans)\n",
    "        elseif (timesig == 24)\n",
    "            fill = fillgen(24, filltrans)\n",
    "        end\n",
    "        crdc = 2 * mod(curdyn, 2) - 1\n",
    "        s = s * abctune_multitime_displace(timesig, vol, bass, pat, inst, fill, crdc, variation=variation)\n",
    "        if i + 1 < len\n",
    "            curdyn = markovrand(dyntrans.mat1[:, curdyn + 1])\n",
    "        else\n",
    "            curdyn = markovrand(dyntrans.mat2[:, curdyn + 1])\n",
    "        end\n",
    "        curpat = markovrand(pattrans.mat[:, curpat + 1])\n",
    "        curinst = markovrand(insttrans.mat[:, curinst + 1])\n",
    "    end\n",
    "    s = insert(s, findlast(occursin(\"acbdefgABCDEFG\"), s)-1, \"!fermata!\") #final fermata\n",
    "    s = replace(s, \"[]\" => \"z\") #rest\n",
    "    s = makeppheader(\"Computer-generated \\\\`Etude for Solo Drum Kit\", String(@functionName) * \"/\" * variation, \"$(Dates.now())\", \"4/4\", feel, 80) * s * \"|]\\n\"\n",
    "    return(s)\n",
    "end\n"
   ]
  },
  {
   "cell_type": "code",
   "execution_count": 39,
   "metadata": {},
   "outputs": [
    {
     "data": {
      "text/plain": [
       "12×12 Matrix{Float64}:\n",
       " 0.0  0.0  0.2  0.2  0.1  0.1  0.0  0.0  0.0  0.0  0.0  0.0\n",
       " 0.0  0.0  0.2  0.1  0.1  0.1  0.0  0.0  0.0  0.0  0.0  0.0\n",
       " 0.2  0.2  0.0  0.0  0.2  0.1  0.1  0.1  0.1  0.2  0.1  0.2\n",
       " 0.2  0.2  0.0  0.0  0.2  0.1  0.1  0.1  0.2  0.1  0.2  0.1\n",
       " 0.0  0.0  0.1  0.2  0.0  0.0  0.2  0.1  0.0  0.0  0.1  0.2\n",
       " 0.0  0.0  0.2  0.2  0.0  0.0  0.2  0.1  0.0  0.0  0.2  0.1\n",
       " 0.1  0.2  0.0  0.0  0.1  0.2  0.0  0.0  0.2  0.2  0.0  0.0\n",
       " 0.2  0.1  0.0  0.0  0.1  0.2  0.0  0.0  0.2  0.1  0.0  0.0\n",
       " 0.1  0.2  0.1  0.2  0.1  0.1  0.1  0.2  0.0  0.0  0.2  0.2\n",
       " 0.2  0.1  0.2  0.1  0.1  0.1  0.1  0.2  0.0  0.0  0.2  0.2\n",
       " 0.0  0.0  0.0  0.0  0.0  0.0  0.1  0.1  0.1  0.2  0.0  0.0\n",
       " 0.0  0.0  0.0  0.0  0.0  0.0  0.1  0.1  0.2  0.2  0.0  0.0\n",
       "12×12 Matrix{Float64}:\n",
       " 0.1  0.2  0.2  0.2  0.1  0.1  0.1  0.1  0.1  0.2  0.0  0.0\n",
       " 0.2  0.1  0.2  0.1  0.1  0.1  0.1  0.1  0.2  0.1  0.0  0.0\n",
       " 0.2  0.2  0.0  0.0  0.2  0.1  0.2  0.1  0.2  0.2  0.1  0.2\n",
       " 0.2  0.2  0.0  0.0  0.2  0.1  0.2  0.1  0.2  0.1  0.2  0.1\n",
       " 0.0  0.0  0.0  0.0  0.0  0.0  0.0  0.0  0.0  0.0  0.0  0.0\n",
       " 0.0  0.0  0.0  0.0  0.0  0.0  0.0  0.0  0.0  0.0  0.0  0.0\n",
       " 0.0  0.0  0.0  0.0  0.0  0.0  0.0  0.0  0.0  0.0  0.0  0.0\n",
       " 0.0  0.0  0.0  0.0  0.0  0.0  0.0  0.0  0.0  0.0  0.0  0.0\n",
       " 0.1  0.2  0.1  0.2  0.1  0.2  0.1  0.2  0.0  0.0  0.2  0.2\n",
       " 0.2  0.1  0.2  0.2  0.1  0.2  0.1  0.2  0.0  0.0  0.2  0.2\n",
       " 0.0  0.0  0.1  0.2  0.1  0.1  0.1  0.1  0.1  0.2  0.1  0.2\n",
       " 0.0  0.0  0.2  0.1  0.1  0.1  0.1  0.1  0.2  0.2  0.2  0.1\n",
       "12-element Vector{Float64}:\n",
       " 0.05\n",
       " 0.05\n",
       " 0.1\n",
       " 0.1\n",
       " 0.1\n",
       " 0.1\n",
       " 0.1\n",
       " 0.1\n",
       " 0.1\n",
       " 0.1\n",
       " 0.05\n",
       " 0.05"
      ]
     },
     "execution_count": 39,
     "metadata": {},
     "output_type": "execute_result"
    }
   ],
   "source": [
    "dynMatrix = [\n",
    "    0 0 0.2e0 0.2e0 0.1e0 0.1e0 0 0 0 0 0 0; \n",
    "    0 0 0.2e0 0.1e0 0.1e0 0.1e0 0 0 0 0 0 0; \n",
    "    0.2e0 0.2e0 0 0 0.2e0 0.1e0 0.1e0 0.1e0 0.1e0 0.2e0 0.1e0 0.2e0; \n",
    "    0.2e0 0.2e0 0 0 0.2e0 0.1e0 0.1e0 0.1e0 0.2e0 0.1e0 0.2e0 0.1e0; \n",
    "    0 0 0.1e0 0.2e0 0 0 0.2e0 0.1e0 0 0 0.1e0 0.2e0; \n",
    "    0 0 0.2e0 0.2e0 0 0 0.2e0 0.1e0 0 0 0.2e0 0.1e0; \n",
    "    0.1e0 0.2e0 0 0 0.1e0 0.2e0 0 0 0.2e0 0.2e0 0 0; \n",
    "    0.2e0 0.1e0 0 0 0.1e0 0.2e0 0 0 0.2e0 0.1e0 0 0; \n",
    "    0.1e0 0.2e0 0.1e0 0.2e0 0.1e0 0.1e0 0.1e0 0.2e0 0 0 0.2e0 0.2e0;\n",
    "    0.2e0 0.1e0 0.2e0 0.1e0 0.1e0 0.1e0 0.1e0 0.2e0 0 0 0.2e0 0.2e0; \n",
    "    0 0 0 0 0 0 0.1e0 0.1e0 0.1e0 0.2e0 0 0; \n",
    "    0 0 0 0 0 0 0.1e0 0.1e0 0.2e0 0.2e0 0 0]\n",
    "\n",
    "\n",
    "dynFinal = [\n",
    "    0.1e0 0.2e0 0.2e0 0.2e0 0.1e0 0.1e0 0.1e0 0.1e0 0.1e0 0.2e0 0 0; \n",
    "    0.2e0 0.1e0 0.2e0 0.1e0 0.1e0 0.1e0 0.1e0 0.1e0 0.2e0 0.1e0 0 0; \n",
    "    0.2e0 0.2e0 0 0 0.2e0 0.1e0 0.2e0 0.1e0 0.2e0 0.2e0 0.1e0 0.2e0; \n",
    "    0.2e0 0.2e0 0 0 0.2e0 0.1e0 0.2e0 0.1e0 0.2e0 0.1e0 0.2e0 0.1e0; \n",
    "    0 0 0 0 0 0 0 0 0 0 0 0; \n",
    "    0 0 0 0 0 0 0 0 0 0 0 0; \n",
    "    0 0 0 0 0 0 0 0 0 0 0 0; \n",
    "    0 0 0 0 0 0 0 0 0 0 0 0; \n",
    "    0.1e0 0.2e0 0.1e0 0.2e0 0.1e0 0.2e0 0.1e0 0.2e0 0 0 0.2e0 0.2e0; \n",
    "    0.2e0 0.1e0 0.2e0 0.2e0 0.1e0 0.2e0 0.1e0 0.2e0 0 0 0.2e0 0.2e0; \n",
    "    0 0 0.1e0 0.2e0 0.1e0 0.1e0 0.1e0 0.1e0 0.1e0 0.2e0 0.1e0 0.2e0; \n",
    "    0 0 0.2e0 0.1e0 0.1e0 0.1e0 0.1e0 0.1e0 0.2e0 0.2e0 0.2e0 0.1e0]\n",
    "\n",
    "\n",
    "dynInitial = [0.5e-1,0.5e-1,0.1e0,0.1e0,0.1e0,0.1e0,0.1e0,0.1e0,0.1e0,0.1e0,0.5e-1,0.5e-1]\n",
    "#pp>, pp<, p>, p<, mp>, mp<, mf>, mf<, f>, f<, ff>, ff<\n",
    "\n",
    "dyn = AugDblMatrix(dynMatrix, dynFinal, dynInitial)"
   ]
  },
  {
   "cell_type": "code",
   "execution_count": 40,
   "metadata": {},
   "outputs": [
    {
     "data": {
      "text/plain": [
       "9×9 Matrix{Float64}:\n",
       " 0.1   0.166667  0.0   0.166667  0.5  0.0   0.0  0.0  0.0\n",
       " 0.0   0.333333  0.0   0.0       0.0  0.0   0.0  0.0  0.0\n",
       " 0.0   0.166667  0.1   0.166667  0.5  0.1   0.0  0.0  0.0\n",
       " 0.45  0.333333  0.45  0.333333  0.0  0.45  0.0  0.0  0.0\n",
       " 0.45  0.0       0.45  0.333333  0.0  0.45  0.0  0.0  0.0\n",
       " 0.0   0.0       0.0   0.0       0.0  0.0   0.0  0.0  0.0\n",
       " 0.0   0.0       0.0   0.0       0.0  0.0   0.0  0.0  0.0\n",
       " 0.0   0.0       0.0   0.0       0.0  0.0   0.0  0.0  0.0\n",
       " 0.0   0.0       0.0   0.0       0.0  0.0   0.0  0.0  0.0\n",
       "9-element Vector{Float64}:\n",
       " 0.1\n",
       " 0.0\n",
       " 0.1\n",
       " 0.4\n",
       " 0.4\n",
       " 0.0\n",
       " 0.0\n",
       " 0.0\n",
       " 0.0"
      ]
     },
     "execution_count": 40,
     "metadata": {},
     "output_type": "execute_result"
    }
   ],
   "source": [
    "#0 = rest, 1 = bass, 2 = LH\n",
    "                #00    #01  #02   #10  #11  #12     #zeros\n",
    "rockBassMatrix = [0.1 1//6  0   1//6  0.5    0      0 0 0 #00\n",
    "                    0   1//3  0     0    0    0     0 0 0  #01\n",
    "                    0   1//6  0.1   1//6  0.5   0.1 0 0 0  #02\n",
    "                    0.45 1//3  0.45  1//3 0    0.45 0 0 0  #10\n",
    "                    0.45 0    0.45  1//3  0    0.45 0 0 0  #11\n",
    "                    0  0    0      0   0    0       0 0 0    #12\n",
    "                    zeros(3,9)]                 #zeros\n",
    "\n",
    "rockBassInitial = [0.1,0, 0.1, 0.4, 0.4, 0, 0, 0, 0]\n",
    "\n",
    "rockBass = AugMatrix(rockBassMatrix, rockBassInitial)"
   ]
  },
  {
   "cell_type": "code",
   "execution_count": 41,
   "metadata": {},
   "outputs": [
    {
     "data": {
      "text/plain": [
       "9×9 Matrix{Float64}:\n",
       " 0.1   0.333333  0.0  0.333333  1.0  0.0  0.0  0.0  0.0\n",
       " 0.0   0.333333  0.0  0.0       0.0  0.0  0.0  0.0  0.0\n",
       " 0.0   0.0       0.0  0.0       0.0  0.0  0.0  0.0  0.0\n",
       " 0.45  0.333333  0.0  0.333333  0.0  0.0  0.0  0.0  0.0\n",
       " 0.45  0.0       0.0  0.333333  0.0  0.0  0.0  0.0  0.0\n",
       " 0.0   0.0       0.0  0.0       0.0  0.0  0.0  0.0  0.0\n",
       " 0.0   0.0       0.0  0.0       0.0  0.0  0.0  0.0  0.0\n",
       " 0.0   0.0       0.0  0.0       0.0  0.0  0.0  0.0  0.0\n",
       " 0.0   0.0       0.0  0.0       0.0  0.0  0.0  0.0  0.0\n",
       "9-element Vector{Float64}:\n",
       " 0.1\n",
       " 0.0\n",
       " 0.0\n",
       " 0.5\n",
       " 0.4\n",
       " 0.0\n",
       " 0.0\n",
       " 0.0\n",
       " 0.0"
      ]
     },
     "execution_count": 41,
     "metadata": {},
     "output_type": "execute_result"
    }
   ],
   "source": [
    "rockNoGhostBMatrix = [0.1e0 1//3 1//3 1; 0 1//3 0 0; 0.45e0 1//3 1//3 0; 0.45e0 0 1//3 0]\n",
    "\n",
    "rockNoGhostBInitial = [0.1e0,0, 0,0.5e0,0.4e0, 0, 0, 0, 0]\n",
    "\n",
    "rockNoGhostB = AugMatrix([rockNoGhostBMatrix[1:2, 1:2] zeros(2,1) rockNoGhostBMatrix[1:2, 3:4] zeros(2, 4)\n",
    "    zeros(1, 9)\n",
    "    rockNoGhostBMatrix[3:4, 1:2] zeros(2,1) rockNoGhostBMatrix[3:4, 3:4] zeros(2, 4)\n",
    "    zeros(4, 9)\n",
    "    ],\n",
    "    rockNoGhostBInitial)"
   ]
  },
  {
   "cell_type": "code",
   "execution_count": 42,
   "metadata": {},
   "outputs": [
    {
     "data": {
      "text/plain": [
       "6×6 Matrix{Float64}:\n",
       " 0.2  0.1  0.2  0.0  0.3  0.2\n",
       " 0.4  0.2  0.0  0.3  0.3  0.2\n",
       " 0.1  0.4  0.2  0.1  0.1  0.2\n",
       " 0.1  0.1  0.4  0.3  0.1  0.2\n",
       " 0.1  0.1  0.2  0.2  0.1  0.2\n",
       " 0.1  0.1  0.0  0.1  0.1  0.0\n",
       "6×6 Matrix{Float64}:\n",
       " 0.4  0.2  0.1  0.1  0.3  0.0\n",
       " 0.2  0.4  0.2  0.2  0.2  0.0\n",
       " 0.1  0.0  0.4  0.1  0.1  0.0\n",
       " 0.0  0.1  0.1  0.4  0.1  0.0\n",
       " 0.2  0.1  0.1  0.1  0.2  0.0\n",
       " 0.1  0.2  0.1  0.1  0.1  1.0\n",
       "6-element Vector{Float64}:\n",
       " 0.4\n",
       " 0.4\n",
       " 0.1\n",
       " 0.1\n",
       " 0.0\n",
       " 0.0"
      ]
     },
     "execution_count": 42,
     "metadata": {},
     "output_type": "execute_result"
    }
   ],
   "source": [
    "rockFillLeftToRight = [\n",
    "    0.2e0 0.1e0 0.2e0 0 0.3e0 0.2e0; \n",
    "    0.4e0 0.2e0 0 0.3e0 0.3e0 0.2e0; \n",
    "    0.1e0 0.4e0 0.2e0 0.1e0 0.1e0 0.2e0; \n",
    "    0.1e0 0.1e0 0.4e0 0.3e0 0.1e0 0.2e0; \n",
    "    0.1e0 0.1e0 0.2e0 0.2e0 0.1e0 0.2e0; \n",
    "    0.1e0 0.1e0 0 0.1e0 0.1e0 0]\n",
    "\n",
    "rockFillRightToLeft = [\n",
    "    0.4e0 0.2e0 0.1e0 0.1e0 0.3e0 0\n",
    "    0.2e0 0.4e0 0.2e0 0.2e0 0.2e0 0\n",
    "    0.1e0 0 0.4e0 0.1e0 0.1e0 0\n",
    "    0 0.1e0 0.1e0 0.4e0 0.1e0 0\n",
    "    0.2e0 0.1e0 0.1e0 0.1e0 0.2e0 0\n",
    "    0.1e0 0.2e0 0.1e0 0.1e0 0.1e0 0.10e1]\n",
    "\n",
    "\n",
    "rockFillInitial = [0.4e0,0.4e0,0.1e0,0.1e0,0,0] #snare, high, mid, low, kick, rest\n",
    "\n",
    "rockFill= AugDblMatrix(rockFillLeftToRight, rockFillRightToLeft, rockFillInitial)"
   ]
  },
  {
   "cell_type": "code",
   "execution_count": 43,
   "metadata": {},
   "outputs": [
    {
     "data": {
      "text/plain": [
       "4×4 Matrix{Float64}:\n",
       " 0.0  0.4  0.4  0.4\n",
       " 0.4  0.0  0.2  0.2\n",
       " 0.2  0.2  0.0  0.4\n",
       " 0.4  0.4  0.4  0.0\n",
       "4-element Vector{Float64}:\n",
       " 0.4\n",
       " 0.4\n",
       " 0.2\n",
       " 0.0"
      ]
     },
     "execution_count": 43,
     "metadata": {},
     "output_type": "execute_result"
    }
   ],
   "source": [
    "rockPatMatrix = [\n",
    "    #8  Q   b   +\n",
    "    0   0.4 0.4 0.4 #8 \n",
    "    0.4 0   0.2 0.2   #Q\n",
    "    0.2 0.2 0   0.4 #b\n",
    "    0.4 0.4 0.4 0 #+\n",
    "    ]\n",
    "\n",
    "\n",
    "\n",
    "rockPatInitial = [0.4; 0.4; 0.2; 0]\n",
    "\n",
    "rockPat = AugMatrix(rockPatMatrix, rockPatInitial)"
   ]
  },
  {
   "cell_type": "code",
   "execution_count": 44,
   "metadata": {},
   "outputs": [
    {
     "data": {
      "text/plain": [
       "4×4 Matrix{Float64}:\n",
       " 0.1  0.4  0.4  0.4\n",
       " 0.6  0.1  0.4  0.4\n",
       " 0.2  0.4  0.1  0.2\n",
       " 0.1  0.1  0.1  0.0\n",
       "4-element Vector{Float64}:\n",
       " 0.5\n",
       " 0.3\n",
       " 0.0\n",
       " 0.2"
      ]
     },
     "execution_count": 44,
     "metadata": {},
     "output_type": "execute_result"
    }
   ],
   "source": [
    "rockInstMatrix = [\n",
    "   #HH  RC  RB  ST \n",
    "    0.1 0.4 0.4   0.4   #HH\n",
    "    0.6 0.1 0.4   0.4   #RC\n",
    "    0.2 0.4 0.1   0.2   #RB\n",
    "    0.1 0.1 0.1   0     #ST\n",
    "]\n",
    "\n",
    "rockInstInitial = [0.5; 0.3; 0; 0.2]\n",
    "\n",
    "rockInst = AugMatrix(rockInstMatrix, rockInstInitial)"
   ]
  },
  {
   "cell_type": "code",
   "execution_count": 58,
   "metadata": {},
   "outputs": [
    {
     "name": "stdout",
     "output_type": "stream",
     "text": [
      "%%abc-include percussions-JBH.abh\n",
      "\n",
      "I:linebreak $\n",
      "\n",
      "#ifdef MIDI\n",
      "#define !>! \"[I:volinc 50]\"\n",
      "#define !Q! \"[I:vol 20]\" \n",
      "                %%%ghost\n",
      "#define !U! \"[I:vol 40]\" \n",
      "                %%%unaccent\n",
      "#define !N! \"[I:volinc -25]\" \n",
      "            %%%tenuto for trash hat\n",
      "#else\n",
      "#define !N! \"\\\"^_\\\"\" \n",
      "                %%%tenuto\n",
      "#define !Q! !(.!!).! \n",
      "                %%%ghost\n",
      "#define !U! !anti!  \n",
      "                %%%unaccent\n",
      "#endif\n",
      "\n",
      "X:1\n",
      "T:Computer-generated \\`Etude for Solo Drum Kit\n",
      "C:#abcsolo_multitime_displace#26/rock\n",
      "O:2022-01-28T20:14:36.879\n",
      "M:4/4\n",
      "L:1/8\n",
      "Q:\"Rock 8th feel\" 1/4=80\n",
      "K:none clef=perc\n",
      "[V:1 clef=perc, stem=up]     % activate abc2xml.py map\n",
      "%%voicemap drummap  % activate abcm2ps/abc2svg map\n",
      "%%MIDI channel 10   % activate abc2midi map\n",
      "%%MIDI program 0\n",
      "%%flatbeams\n",
      "%%propagate-accidentals not\n",
      "%%pos ornament up\n",
      "%%ornament up\n",
      "%%MIDI fermatafixed\n",
      "|:!mp![^e]y[^eF]y[^e][^eF]y [^eF]y[^e]y[^ecF]/2[F/2][^e]y |\n",
      "[^eF]/2[F/2][^e]y[^ecF]y[^eF]/2[F/2] [^e]/2[!Q!c/2][^eF]y[^ecF]y[^eF]/2[F/2] |\n",
      "[^e]/2[!Q!c/2][^eF]/2[F/2][^e][^eF]y [^eF]/2[F/2][^e]y[^ecF]y[^eF]y |\n",
      "[1e/2A/2G/2z/2 z/2G/2e/2F/2 c/2A/2A/2G/2 G/2F/2c/2e/2 :|2e/2A/2G/2z/2 z/2G/2e/2F/2 c/2A/2A/2G/2 !>(!G/2F/2!>)!c/2e/2 \n",
      "|:!mf![gF]y[^gF]/2[F/2][g][^g]y [gF]y[^gF]y[gcF]/2[F/2][^g]y |\n",
      "[gF]/2[F/2][^g]y[gcF]/2[F/2][^g]/2[!Q!c/2] [gF]y[^gF]y[gcF]/2[F/2][^g]/2[!Q!c/2] |\n",
      "[gF]y[^g]/2[!Q!c/2][gcF]/2[F/2][^g]y [gF]y[^gF]y[g][^gF]/2[F/2] |\n",
      "[1e/2z/2z/2F/2 e/2A/2z/2e/2 G/2e/2z/2F/2 c/2e/2z/2A/2 :|2e/2z/2z/2F/2 e/2A/2z/2e/2 G/2e/2z/2F/2 !<(!c/2e/2!<)!z/2A/2 \n",
      "|:!f![g]/2[!Q!c/2][gF]/2[F/2][g][gF]/2[F/2] [g]/2[!Q!c/2][gF]/2[F/2][g][gF]/2[F/2] |\n",
      "[g]y[gF]/2[F/2][g][gF]/2[F/2] [g]/2[!Q!c/2][gF]/2[F/2][g][gF]y |\n",
      "[gF]/2[F/2][g]y[gcF]/2[F/2][g]/2[!Q!c/2] [gF]/2[F/2][g]y[gcF]y[gF]/2[F/2] |\n",
      "[1e/2e/2c/2c/2 c/2e/2e/2A/2 A/2A/2A/2G/2 G/2z/2z/2F/2 :|2e/2e/2c/2c/2 c/2e/2e/2A/2 A/2A/2A/2G/2 !<(!G/2z/2!<)!z/2F/2 \n",
      "|:!pp![^D]y[F]/2[F/2][^D][F]/2[F/2] [^D]y[F]y[^DcF]yz/2[!Q!c/2] |\n",
      "[^DF]/2[F/2]zy[^DcF]y[F]y [^D]/2[!Q!c/2][F]y[^DcF]/2[F/2]z/2[!Q!c/2] |\n",
      "[^DF]/2[F/2]zy[^DcF]/2[F/2]z/2[!Q!c/2] [^DF]yz/2[!Q!c/2][^DcF]y[F]/2[F/2] |\n",
      "[1c/2c/2F/2z/2 z/2A/2F/2z/2 z/2e/2z/2c/2 c/2c/2c/2e/2 :|2c/2c/2F/2z/2 z/2A/2F/2z/2 z/2e/2z/2c/2 !>(!c/2c/2!>)!c/2!fermata!e/2 \n",
      "|]\n"
     ]
    }
   ],
   "source": [
    "rocksolo = abcsolo_multitime_displace(8, 4, rockBass, rockFill, dyn, rockPat, rockInst, \"Rock 8th feel\")\n",
    "print(rocksolo)"
   ]
  },
  {
   "cell_type": "code",
   "execution_count": 59,
   "metadata": {},
   "outputs": [
    {
     "name": "stdout",
     "output_type": "stream",
     "text": [
      "abcm2ps-8.14.12 (2021-07-14)\r\n",
      "File rockghosttest-ps.abc\r\n",
      "File percussions-JBH.abh\r\n",
      "Output written on rockghosttest.xhtml (1 page, 1 title, 47954 bytes)\r\n"
     ]
    },
    {
     "name": "stderr",
     "output_type": "stream",
     "text": [
      "rockghosttest-ps.abc:29:47: warning: Line overfull (631pt of 628pt)\r\n"
     ]
    },
    {
     "name": "stdout",
     "output_type": "stream",
     "text": [
      "4.59 June 27 2021 abc2midi\r\n",
      "writing MIDI file rockghosttest.mid\r\n",
      "Warning in line-char 41-0 : Track 1 Bar 19 has 9/2 units instead of 4 in repeat\r\n"
     ]
    },
    {
     "data": {
      "text/plain": [
       "Process(`\u001b[4mcmd\u001b[24m \u001b[4m/C\u001b[24m \u001b[4mstart\u001b[24m \u001b[4mrockghosttest.xhtml\u001b[24m`, ProcessExited(0))"
      ]
     },
     "execution_count": 59,
     "metadata": {},
     "output_type": "execute_result"
    }
   ],
   "source": [
    "#write a string to a file\n",
    "open(f->print(f, rocksolo), \"rockghosttest.abp\", \"w\")\n",
    "\n",
    "#Converts ABP file to score and MIDI and displays/plays it\n",
    "abptest(\"rockghosttest.abp\")"
   ]
  },
  {
   "cell_type": "code",
   "execution_count": 36,
   "metadata": {
    "scrolled": true
   },
   "outputs": [
    {
     "data": {
      "text/plain": [
       "9×9 Matrix{Float64}:\n",
       " 0.1  0.2  0.0  0.1  0.333333  0.0  0.0  0.0  0.0\n",
       " 0.2  0.2  0.2  0.2  0.333333  0.1  0.0  0.0  0.0\n",
       " 0.2  0.2  0.2  0.2  0.333333  0.1  0.0  0.0  0.0\n",
       " 0.1  0.2  0.2  0.1  0.0       0.3  0.0  0.0  0.0\n",
       " 0.2  0.0  0.2  0.2  0.0       0.2  0.0  0.0  0.0\n",
       " 0.2  0.2  0.2  0.2  0.0       0.3  0.0  0.0  0.0\n",
       " 0.0  0.0  0.0  0.0  0.0       0.0  0.0  0.0  0.0\n",
       " 0.0  0.0  0.0  0.0  0.0       0.0  0.0  0.0  0.0\n",
       " 0.0  0.0  0.0  0.0  0.0       0.0  0.0  0.0  0.0\n",
       "9-element Vector{Float64}:\n",
       " 0.1\n",
       " 0.2\n",
       " 0.1\n",
       " 0.2\n",
       " 0.2\n",
       " 0.2\n",
       " 0.0\n",
       " 0.0\n",
       " 0.0"
      ]
     },
     "execution_count": 36,
     "metadata": {},
     "output_type": "execute_result"
    }
   ],
   "source": [
    "#0 = rest, 1 = bass, 2 = LH\n",
    "                #00    #01  #02   #10  #11   #12  #zeros\n",
    "funkBassMatrix = [0.1e0 0.2  0     0.1  1//3 0   0 0 0 #00\n",
    "                    0.2 0.2  0.2   0.2  1//3 0.1    0 0 0  #01\n",
    "                    0.2 0.2  0.2   0.2  1//3 0.1    0 0 0  #02\n",
    "                    0.1 0.2  0.2   0.1  0    0.3 0 0 0  #10\n",
    "                    0.2 0    0.2   0.2  0    0.2 0 0 0  #11\n",
    "                    0.2 0.2  0.2   0.2  0    0.3 0 0 0    #12\n",
    "                    zeros(3,9)]                 #zeros\n",
    "\n",
    "funkBassInitial = [0.1, 0.2, 0.1, 0.2, 0.2, 0.2, 0, 0, 0]\n",
    "\n",
    "funkBass = AugMatrix(funkBassMatrix, funkBassInitial)"
   ]
  },
  {
   "cell_type": "code",
   "execution_count": null,
   "metadata": {},
   "outputs": [],
   "source": [
    "funkNoGhostBMatrix = [0.1e0 1//3 0.25e0 0.5e0; 0.3e0 1//3 0.25e0 0.5e0; 0.3e0 1//3 0.25e0 0; 0.3e0 0 0.25e0 0]\n",
    "\n",
    "funkNoGhostBInitial = [0.1e0, 0.1e0, 0, 0.4e0, 0.4e0, 0, 0, 0, 0 ]\n",
    "\n",
    "funkNoGhostB = AugMatrix([funkNoGhostBMatrix[1:2, 1:2] zeros(2,1) funkNoGhostBMatrix[1:2, 3:4] zeros(2, 4)\n",
    "    zeros(1, 9)\n",
    "    funkNoGhostBMatrix[3:4, 1:2] zeros(2,1) funkNoGhostBMatrix[3:4, 3:4] zeros(2, 4)\n",
    "    zeros(4, 9)\n",
    "    ],\n",
    "    funkNoGhostBInitial)"
   ]
  },
  {
   "cell_type": "code",
   "execution_count": null,
   "metadata": {},
   "outputs": [],
   "source": [
    "funkFillLeftToRight = [0.2e0 0.1e0 0.1e0 0 0.3e0 0.2e0; 0.4e0 0.2e0 0 0.3e0 0.3e0 0.2e0; 0.1e0 0.4e0 0.2e0 0.1e0 0.1e0 0.2e0; 0.1e0 0.1e0 0.4e0 0.3e0 0.1e0 0.2e0; 0.1e0 0.1e0 0.1e0 0.2e0 0.1e0 0.1e0; 0.1e0 0.1e0 0.2e0 0.1e0 0.1e0 0.1e0]\n",
    "\n",
    "funkFillRightToLeft = [0.4e0 0.2e0 0.1e0 0.1e0 0.3e0 0.2e0; 0.2e0 0.4e0 0.2e0 0.2e0 0.2e0 0.2e0; 0.1e0 0 0.4e0 0.1e0 0.1e0 0.2e0; 0 0.1e0 0.1e0 0.4e0 0.1e0 0.2e0; 0.2e0 0.1e0 0.1e0 0.1e0 0.2e0 0.1e0; 0.1e0 0.2e0 0.1e0 0.1e0 0.1e0 0.1e0]\n",
    "\n",
    "\n",
    "funkFillInitial = [0.3e0,0.3e0,0.1e0,0.1e0,0.1e0,0.1e0]\n",
    "\n",
    "funkFill = AugDblMatrix(funkFillLeftToRight, funkFillRightToLeft, funkFillInitial)"
   ]
  },
  {
   "cell_type": "code",
   "execution_count": null,
   "metadata": {},
   "outputs": [],
   "source": [
    "funkPatMatrix = [\n",
    "    #8  Q   b   +\n",
    "    0   0.2 0.2 0.2 #8 \n",
    "    0.2 0   0.4 0.4   #Q\n",
    "    0.2 0.2 0   0.4 #b\n",
    "    0.6 0.6 0.4 0 #+\n",
    "    ]\n",
    "\n",
    "funkPatInitial = [0; 0.2; 0.4; 0.4]\n",
    "\n",
    "funkPat = AugMatrix(funkPatMatrix, funkPatInitial)"
   ]
  },
  {
   "cell_type": "code",
   "execution_count": null,
   "metadata": {},
   "outputs": [],
   "source": [
    "funkInstMatrix = [\n",
    "   #HH  RC  RB  ST \n",
    "    0.1 0.4 0.4   0.4   #HH\n",
    "    0.6 0.1 0.4   0.4   #RC\n",
    "    0.2 0.4 0.1   0.2   #RB\n",
    "    0.1 0.1 0.1   0     #ST\n",
    "]\n",
    "\n",
    "funkInstInitial = [0.4; 0.4; 0.2; 0]\n",
    "\n",
    "funkInst = AugMatrix(funkInstMatrix, funkInstInitial)"
   ]
  },
  {
   "cell_type": "code",
   "execution_count": null,
   "metadata": {},
   "outputs": [],
   "source": [
    "funksolo = abcsolo8patinst16ghost(4, funkBass, funkFill, dyn, funkPat, funkInst, \"Funk 16th feel\")\n",
    "print(funksolo)"
   ]
  },
  {
   "cell_type": "code",
   "execution_count": null,
   "metadata": {},
   "outputs": [],
   "source": [
    "writetune(\"funkghosttest.abp\", funksolo)\n",
    "\n",
    "abptest(\"funkghosttest.abp\")"
   ]
  },
  {
   "cell_type": "code",
   "execution_count": null,
   "metadata": {},
   "outputs": [],
   "source": [
    "halffunksolo = abcsolo8patinst16ghost(4, 0.5*funkBass+0.5*rockBass, 0.5*funkFill+0.5*rockFill, dyn, 0.5*funkPat+0.5*rockPat, 0.5*funkInst+0.5*rockInst, \"Rock/Funk 16th feel\")\n",
    "print(halffunksolo)"
   ]
  },
  {
   "cell_type": "code",
   "execution_count": null,
   "metadata": {},
   "outputs": [],
   "source": [
    "writetune(\"halffunktest.abp\", halffunksolo)\n",
    "\n",
    "abptest(\"halffunktest.abp\")"
   ]
  },
  {
   "cell_type": "code",
   "execution_count": null,
   "metadata": {},
   "outputs": [],
   "source": [
    "#0 = rest, 1 = bass\n",
    "discoNoGhostBMatrix = \n",
    "    #00   #01  #10      #11\n",
    "    [0    0    0.5   0.5; \n",
    "    0     0    0.5   0.5; \n",
    "    0.5   1    0      0; \n",
    "    0.5   0    0      0]\n",
    "\n",
    "discoNoGhostBInitial = [0, 0, 0, 0.5, 0.5, 0, 0, 0, 0 ]\n",
    "\n",
    "discoNoGhostB = AugMatrix([discoNoGhostBMatrix[1:2, 1:2] zeros(2,1) discoNoGhostBMatrix[1:2, 3:4] zeros(2, 4)\n",
    "    zeros(1, 9)\n",
    "    discoNoGhostBMatrix[3:4, 1:2] zeros(2,1) discoNoGhostBMatrix[3:4, 3:4] zeros(2, 4)\n",
    "    zeros(4, 9)\n",
    "    ],\n",
    "    discoNoGhostBInitial)"
   ]
  },
  {
   "cell_type": "code",
   "execution_count": null,
   "metadata": {},
   "outputs": [],
   "source": [
    "discoPatMatrix = [\n",
    "    #Q  8   b   +\n",
    "    0   0.2 0.2 0.2 #Q \n",
    "    0.2 0   0.4 0.4   #8\n",
    "    0.2 0.2 0   0.4 #b\n",
    "    0.6 0.6 0.4 0 #+\n",
    "    ]\n",
    "\n",
    "discoPatInitial = [0; 0.5; 0.5; 0]\n",
    "\n",
    "discoPat = AugMatrix(discoPatMatrix, discoPatInitial)"
   ]
  },
  {
   "cell_type": "code",
   "execution_count": null,
   "metadata": {},
   "outputs": [],
   "source": [
    "discoInstMatrix = [\n",
    "   #HH  RC  RB  ST \n",
    "    0.1 0.5 0.6   0.4   #HH\n",
    "    0.3 0.1 0.3   0.2   #RC\n",
    "    0.6 0.4 0.1   0.4   #RB\n",
    "    0    0  0   0     #ST\n",
    "]\n",
    "\n",
    "discoInstInitial = [0.6; 0.2; 0.2; 0]\n",
    "\n",
    "discoInst = AugMatrix(discoInstMatrix, discoInstInitial)"
   ]
  },
  {
   "cell_type": "code",
   "execution_count": null,
   "metadata": {},
   "outputs": [],
   "source": [
    "discoFillLeftToRight = [0.2e0 0.1e0 0.1e0 0 0.3e0 0.2e0; 0.4e0 0.2e0 0 0.3e0 0.3e0 0.2e0; 0.1e0 0.4e0 0.2e0 0.1e0 0.1e0 0.2e0; 0.1e0 0.1e0 0.4e0 0.3e0 0.1e0 0.2e0; 0.1e0 0.1e0 0.1e0 0.2e0 0.1e0 0.1e0; 0.1e0 0.1e0 0.2e0 0.1e0 0.1e0 0.1e0]\n",
    "\n",
    "discoFillRightToLeft = [0.4e0 0.2e0 0.1e0 0.1e0 0.3e0 0.2e0; 0.2e0 0.4e0 0.2e0 0.2e0 0.2e0 0.2e0; 0.1e0 0 0.4e0 0.1e0 0.1e0 0.2e0; 0 0.1e0 0.1e0 0.4e0 0.1e0 0.2e0; 0.2e0 0.1e0 0.1e0 0.1e0 0.2e0 0.1e0; 0.1e0 0.2e0 0.1e0 0.1e0 0.1e0 0.1e0]\n",
    "\n",
    "\n",
    "discoFillInitial = [0.3e0,0.3e0,0.1e0,0.1e0,0.1e0,0.1e0]\n",
    "\n",
    "discoFill = AugDblMatrix(discoFillLeftToRight, discoFillRightToLeft, discoFillInitial)"
   ]
  },
  {
   "cell_type": "code",
   "execution_count": null,
   "metadata": {},
   "outputs": [],
   "source": [
    "dancedynMatrix = [\n",
    "    0 0 0.2e0 0.2e0 0.1e0 0.1e0 0 0 0 0 0 0; \n",
    "    0 0 0.2e0 0.1e0 0.1e0 0.1e0 0 0 0 0 0 0; \n",
    "    0.2e0 0.2e0 0 0 0.2e0 0.1e0 0.1e0 0.1e0 0.1e0 0.2e0 0.1e0 0.2e0; \n",
    "    0.2e0 0.2e0 0 0 0.2e0 0.1e0 0.1e0 0.1e0 0.2e0 0.1e0 0.2e0 0.1e0; \n",
    "    0 0 0.1e0 0.2e0 0 0 0.2e0 0.1e0 0 0 0.1e0 0.2e0; \n",
    "    0 0 0.2e0 0.2e0 0 0 0.2e0 0.1e0 0 0 0.2e0 0.1e0; \n",
    "    0.1e0 0.2e0 0 0 0.1e0 0.2e0 0 0 0.2e0 0.2e0 0 0; \n",
    "    0.2e0 0.1e0 0 0 0.1e0 0.2e0 0 0 0.2e0 0.1e0 0 0; \n",
    "    0.1e0 0.2e0 0.1e0 0.2e0 0.1e0 0.1e0 0.1e0 0.2e0 0 0 0.2e0 0.2e0;\n",
    "    0.2e0 0.1e0 0.2e0 0.1e0 0.1e0 0.1e0 0.1e0 0.2e0 0 0 0.2e0 0.2e0; \n",
    "    0 0 0 0 0 0 0.1e0 0.1e0 0.1e0 0.2e0 0 0; \n",
    "    0 0 0 0 0 0 0.1e0 0.1e0 0.2e0 0.2e0 0 0]\n",
    "\n",
    "\n",
    "dancedynFinal = [\n",
    "    #pp>, pp<, p>, p<, mp>, mp<, mf>, mf<, f>, f<, ff>, ff<\n",
    "    zeros(1, 12); \n",
    "    zeros(1, 12); \n",
    "    0   0   0   0      0   0   0   0      0   0   0   0; \n",
    "    0   0   0   0      0.4 0.2 0.4 0.2    0.4 0.3 0.3 0.3; \n",
    "    zeros(1, 12); \n",
    "    zeros(1, 12);    \n",
    "    zeros(1, 12); \n",
    "    zeros(1, 12); \n",
    "    0.2 0.3 0.2 0.3    0.2 0.2 0.2 0.2    0   0   0.2 0.2; \n",
    "    0.3 0.2 0.3 0.2    0.2 0.2 0.2 0.2    0   0   0.2 0.2; \n",
    "    0.2 0.3 0.2 0.3    0.1 0.2 0.1 0.2    0.2 0.4 0.1 0.2; \n",
    "    0.3 0.2 0.3 0.2    0.1 0.2 0.1 0.2    0.4 0.3 0.2 0.1]\n",
    "\n",
    "\n",
    "dancedynInitial = [0,0,0.1e0,0.1e0,0.1e0,0.1e0,0.1e0,0.1e0,0.1e0,0.1e0,0.1,0.1]\n",
    "#pp>, pp<, p>, p<, mp>, mp<, mf>, mf<, f>, f<, ff>, ff<\n",
    "\n",
    "dancedyn = AugDblMatrix(dancedynMatrix, dancedynFinal, dancedynInitial)"
   ]
  },
  {
   "cell_type": "code",
   "execution_count": null,
   "metadata": {},
   "outputs": [],
   "source": [
    "discosolo = abcsolo8patinst16ghost(4, discoNoGhostB, funkFill, dancedyn, discoPat, discoInst, \"Disco 16th feel\", variation=\"disco\")\n",
    "print(discosolo)"
   ]
  },
  {
   "cell_type": "code",
   "execution_count": null,
   "metadata": {},
   "outputs": [],
   "source": [
    "writetune(\"disconoghosttest.abp\", discosolo)\n",
    "\n",
    "abptest(\"disconoghosttest.abp\")"
   ]
  },
  {
   "cell_type": "code",
   "execution_count": null,
   "metadata": {
    "scrolled": true
   },
   "outputs": [],
   "source": [
    "#0 = rest, 1 = bass, 2 = LH\n",
    "                #00    #01  #02   #10  #11  #12  #zeros\n",
    "discoBassMatrix = [0   0    0     0.2  1//3 0   0 0 0 #00\n",
    "                    0  0    0     0.4  1//3 0.5    0 0 0  #01\n",
    "                    0  0    0     0.4  1//3 0.5    0 0 0  #02\n",
    "                    0.2 0.5  1//3   0    0    0   0 0 0  #10\n",
    "                    0.4 0    1//3   0    0    0   0 0 0  #11\n",
    "                    0.4 0.5  1//3   0    0    0   0 0 0    #12\n",
    "                    zeros(3,9)]                 #zeros\n",
    "\n",
    "sum(discoBassMatrix, dims=1)\n",
    "\n",
    "discoBassInitial = [0, 0, 0, 1//3, 1//3, 1//3, 0, 0, 0]\n",
    "\n",
    "discoBass = AugMatrix(discoBassMatrix, discoBassInitial)"
   ]
  },
  {
   "cell_type": "code",
   "execution_count": null,
   "metadata": {},
   "outputs": [],
   "source": [
    "discosolo = abcsolo8patinst16ghost(4, discoBass, funkFill, dancedyn, discoPat, discoInst, \"Disco 16th feel\", variation=\"disco\")\n",
    "print(discosolo)"
   ]
  },
  {
   "cell_type": "code",
   "execution_count": null,
   "metadata": {},
   "outputs": [],
   "source": [
    "writetune(\"discoghosttest.abp\", discosolo)\n",
    "\n",
    "abptest(\"discoghosttest.abp\")"
   ]
  },
  {
   "cell_type": "code",
   "execution_count": 38,
   "metadata": {},
   "outputs": [
    {
     "data": {
      "text/plain": [
       "9×9 Matrix{Float64}:\n",
       " 0.1  0.2  0.2  0.25  1.0  0.25  0.0  0.0  0.0\n",
       " 0.0  0.2  0.1  0.0   0.0  0.0   0.0  0.0  0.0\n",
       " 0.0  0.2  0.1  0.0   0.0  0.0   0.0  0.0  0.0\n",
       " 0.3  0.2  0.2  0.25  0.0  0.25  0.0  0.0  0.0\n",
       " 0.3  0.0  0.2  0.25  0.0  0.25  0.0  0.0  0.0\n",
       " 0.3  0.2  0.2  0.25  0.0  0.25  0.0  0.0  0.0\n",
       " 0.0  0.0  0.0  0.0   0.0  0.0   0.0  0.0  0.0\n",
       " 0.0  0.0  0.0  0.0   0.0  0.0   0.0  0.0  0.0\n",
       " 0.0  0.0  0.0  0.0   0.0  0.0   0.0  0.0  0.0\n",
       "9-element Vector{Float64}:\n",
       " 0.1\n",
       " 0.0\n",
       " 0.0\n",
       " 0.3\n",
       " 0.3\n",
       " 0.3\n",
       " 0.0\n",
       " 0.0\n",
       " 0.0"
      ]
     },
     "execution_count": 38,
     "metadata": {},
     "output_type": "execute_result"
    }
   ],
   "source": [
    "#0 = rest, 1 = bass, 2 = LH\n",
    "                #00    #01  #02   #10  #11  #12  #zeros\n",
    "shuffleBassMatrix = [0.1e0 0.2  0.2   0.25 1    0.25 0 0 0 #00\n",
    "                    0   0.2  0.1   0    0    0    0 0 0  #01\n",
    "                    0   0.2  0.1   0    0    0    0 0 0  #02\n",
    "                    0.3 0.2  0.2   0.25 0    0.25 0 0 0  #10\n",
    "                    0.3 0    0.2   0.25 0    0.25 0 0 0  #11\n",
    "                    0.3 0.2  0.2   0.25 0    0.25 0 0 0    #12\n",
    "                    zeros(3,9)]                 #zeros\n",
    "\n",
    "shuffleBassInitial = [0.1,0,0, 0.3,0.3, 0.3, 0, 0, 0]\n",
    "\n",
    "shuffleBass = AugMatrix(shuffleBassMatrix, shuffleBassInitial)"
   ]
  },
  {
   "cell_type": "code",
   "execution_count": 64,
   "metadata": {
    "scrolled": true
   },
   "outputs": [
    {
     "name": "stdout",
     "output_type": "stream",
     "text": [
      "%%abc-include percussions-JBH.abh\n",
      "\n",
      "I:linebreak $\n",
      "\n",
      "#ifdef MIDI\n",
      "#define !>! \"[I:volinc 50]\"\n",
      "#define !Q! \"[I:vol 20]\" \n",
      "                %%%ghost\n",
      "#define !U! \"[I:vol 40]\" \n",
      "                %%%unaccent\n",
      "#define !N! \"[I:volinc -25]\" \n",
      "            %%%tenuto for trash hat\n",
      "#else\n",
      "#define !N! \"\\\"^_\\\"\" \n",
      "                %%%tenuto\n",
      "#define !Q! !(.!!).! \n",
      "                %%%ghost\n",
      "#define !U! !anti!  \n",
      "                %%%unaccent\n",
      "#endif\n",
      "\n",
      "X:1\n",
      "T:Computer-generated \\`Etude for Solo Drum Kit\n",
      "C:#abcsolo_multitime_ghost#59/rock\n",
      "O:2022-01-01T19:56:25.584\n",
      "M:4/4\n",
      "L:1/8\n",
      "Q:\"Half-time shuffle feel\" 1/4=80\n",
      "K:none clef=perc\n",
      "[V:1 clef=perc, stem=up]     % activate abc2xml.py map\n",
      "%%voicemap drummap  % activate abcm2ps/abc2svg map\n",
      "%%MIDI channel 10   % activate abc2midi map\n",
      "%%MIDI program 0\n",
      "%%flatbeams\n",
      "%%propagate-accidentals not\n",
      "%%pos ornament up\n",
      "%%ornament up\n",
      "%%MIDI fermatafixed\n",
      "|:!f!(6:4!N![_eF]/2z/2[!Q!c]/2!N![_e]/2z/2z/2 (6:4!N![_ecF]/2z/2[F]/2!N![_e]/2z/2z/2 (6:4!N![_e]/2z/2z/2!N![_eF]/2z/2z/2 (6:4!N![_ec]/2z/2z/2!N![_eF]/2z/2[F]/2 |\n",
      "(6:4!N![_e]/2z/2z/2!N![_eF]/2z/2[F]/2 (6:4!N![_ec]/2z/2z/2!N![_eF]/2z/2[!Q!c]/2 (6:4!N![_eF]/2z/2[!Q!c]/2!N![_eF]/2z/2[!Q!c]/2 (6:4!N![_ecF]/2z/2[F]/2!N![_e]/2z/2z/2 |\n",
      "(6:4!N![_eF]/2z/2[F]/2!N![_e]/2z/2z/2 (6:4!N![_ecF]/2z/2[F]/2!N![_e]/2z/2z/2 (6:4!N![_eF]/2z/2z/2!N![_eF]/2z/2[F]/2 (6:4!N![_ec]/2z/2z/2!N![_eF]/2z/2[F]/2 |\n",
      "[1(6:4e/2F/2e/2A/2e/2G/2 (6:4G/2e/2e/2c/2F/2e/2 (6:4z/2G/2G/2F/2c/2e/2 (6:4e/2z/2z/2F/2G/2G/2 :|2(6:4e/2F/2e/2A/2e/2G/2 (6:4G/2e/2e/2c/2F/2e/2 (6:4z/2G/2G/2F/2!<(!c/2e/2 (6:4e/2z/2!<)!z/2F/2G/2G/2 \n",
      "|:!mf!(6:4[^gF]/2z/2[^g]/2[^g^D]/2z/2[^g]/2 (6:4[^gc]/2z/2[^g]/2[^g^D]/2z/2[^g]/2 (6:4[^gF]/2z/2[^g!Q!c]/2[^g^DF]/2z/2[^gF]/2 (6:4[^gc]/2z/2[^g]/2[^g^DF]/2z/2[^g!Q!c]/2 |\n",
      "(6:4[^g]/2z/2[^g]/2[^g^DF]/2z/2[^gF]/2 (6:4[^gc]/2z/2[^g]/2[^g^D]/2z/2[^g]/2 (6:4[^gF]/2z/2[^gF]/2[^g^D]/2z/2[^g]/2 (6:4[^gcF]/2z/2[^g]/2[^g^DF]/2z/2[^g!Q!c]/2 |\n",
      "(6:4[^gF]/2z/2[^gF]/2[^g^D]/2z/2[^g]/2 (6:4[^gcF]/2z/2[^gF]/2[^g^D]/2z/2[^g]/2 (6:4[^gF]/2z/2[^gF]/2[^g^D]/2z/2[^g]/2 (6:4[^gcF]/2z/2[^gF]/2[^g^D]/2z/2[^g]/2 |\n",
      "[1(6:4c/2c/2z/2e/2F/2F/2 (6:4z/2c/2c/2e/2F/2e/2 (6:4e/2A/2A/2c/2z/2e/2 (6:4F/2e/2e/2z/2z/2F/2 :|2(6:4c/2c/2z/2e/2F/2F/2 (6:4z/2c/2c/2e/2F/2e/2 (6:4e/2A/2A/2c/2!>(!z/2e/2 (6:4F/2e/2!>)!e/2z/2z/2F/2 \n",
      "|:!mp!(6:4!N![_eF]/2z/2z/2!N![_e]/2z/2z/2 (6:4!N![_ecF]/2z/2z/2!N![_eF]/2z/2[F]/2 (6:4!N![_e]/2z/2z/2!N![_eF]/2z/2[F]/2 (6:4!N![_ec]/2z/2z/2!N![_eF]/2z/2z/2 |\n",
      "(6:4!N![_eF]/2z/2[!Q!c]/2!N![_e]/2z/2z/2 (6:4!N![_ecF]/2z/2[!Q!c]/2!N![_eF]/2z/2z/2 (6:4!N![_eF]/2z/2z/2!N![_eF]/2z/2[!Q!c]/2 (6:4!N![_ec]/2z/2z/2!N![_eF]/2z/2[F]/2 |\n",
      "(6:4!N![_e]/2z/2z/2!N![_eF]/2z/2z/2 (6:4!N![_ecF]/2z/2[!Q!c]/2!N![_eF]/2z/2[F]/2 (6:4!N![_e]/2z/2z/2!N![_eF]/2z/2[!Q!c]/2 (6:4!N![_ec]/2z/2z/2!N![_e]/2z/2z/2 |\n",
      "[1(6:4G/2G/2A/2G/2e/2F/2 (6:4c/2G/2G/2e/2e/2c/2 (6:4c/2A/2c/2e/2z/2c/2 (6:4c/2c/2c/2z/2z/2F/2 :|2(6:4G/2G/2A/2G/2e/2F/2 (6:4c/2G/2G/2e/2e/2c/2 (6:4c/2A/2c/2e/2!>(!z/2c/2 (6:4c/2c/2!>)!c/2z/2z/2F/2 \n",
      "|:!pp!(6:4[^gF]/2z/2[^g!Q!c]/2[^g^DF]/2z/2[^g]/2 (6:4[^gcF]/2z/2[^g!Q!c]/2[^g^DF]/2z/2[^g]/2 (6:4[^gF]/2z/2[^g]/2[^g^DF]/2z/2[^gF]/2 (6:4[^gc]/2z/2[^g]/2[^g^DF]/2z/2[^gF]/2 |\n",
      "(6:4[^g]/2z/2[^g]/2[^g^D]/2z/2[^g]/2 (6:4[^gcF]/2z/2[^gF]/2[^g^D]/2z/2[^g]/2 (6:4[^gF]/2z/2[^g]/2[^g^DF]/2z/2[^g]/2 (6:4[^gcF]/2z/2[^g]/2[^g^DF]/2z/2[^g!Q!c]/2 |\n",
      "(6:4[^gF]/2z/2[^gF]/2[^g^D]/2z/2[^g]/2 (6:4[^gcF]/2z/2[^g]/2[^g^DF]/2z/2[^g]/2 (6:4[^g]/2z/2[^g]/2[^g^DF]/2z/2[^gF]/2 (6:4[^gc]/2z/2[^g]/2[^g^DF]/2z/2[^gF]/2 |\n",
      "[1(6:4e/2c/2c/2A/2G/2G/2 (6:4G/2G/2G/2G/2G/2G/2 (6:4A/2A/2A/2G/2z/2F/2 (6:4A/2A/2A/2F/2c/2G/2 :|2(6:4e/2c/2c/2A/2G/2G/2 (6:4G/2G/2G/2G/2G/2G/2 (6:4A/2A/2A/2G/2!>(!z/2F/2 (6:4A/2A/2!>)!A/2F/2c/2!fermata!G/2 \n",
      "|]\n"
     ]
    }
   ],
   "source": [
    "halfshufflesolo = abcsolo_multitime_ghost(24, 4, shuffleBass, rockFill, dyn, rockPat, rockInst, \"Half-time shuffle feel\")\n",
    "print(halfshufflesolo)"
   ]
  },
  {
   "cell_type": "code",
   "execution_count": 65,
   "metadata": {},
   "outputs": [
    {
     "name": "stdout",
     "output_type": "stream",
     "text": [
      "abcm2ps-8.14.12 (2021-07-14)\r\n",
      "File halfshuffleghosttest-ps.abc\r\n",
      "File percussions-JBH.abh\r\n",
      "Output written on halfshuffleghosttest.xhtml (2 pages, 1 title, 81566 bytes)\r\n",
      "4.59 June 27 2021 abc2midi\r\n",
      "Warning in line-char 25-30 : Different length notes in tuple\r\n",
      "Warning in line-char 25-68 : Different length notes in tuple\r\n",
      "Warning in line-char 25-71 : Different length notes in tuple\r\n",
      "Warning in line-char 25-101 : Different length notes in tuple\r\n",
      "Warning in line-char 25-129 : Different length notes in tuple\r\n",
      "Warning in line-char 25-132 : Different length notes in tuple\r\n",
      "Warning in line-char 25-160 : Different length notes in tuple\r\n",
      "Warning in line-char 25-163 : Different length notes in tuple\r\n",
      "Warning in line-char 25-187 : Different length notes in tuple\r\n",
      "Warning in line-char 25-190 : Different length notes in tuple\r\n",
      "Warning in line-char 25-219 : Different length notes in tuple\r\n",
      "Warning in line-char 25-222 : Different length notes in tuple\r\n",
      "Warning in line-char 25-246 : Different length notes in tuple\r\n",
      "Warning in line-char 26-24 : Different length notes in tuple\r\n",
      "Warning in line-char 26-27 : Different length notes in tuple\r\n",
      "Warning in line-char 26-51 : Different length notes in tuple\r\n",
      "Warning in line-char 26-85 : Different length notes in tuple\r\n",
      "Warning in line-char 26-88 : Different length notes in tuple\r\n",
      "Warning in line-char 26-112 : Different length notes in tuple\r\n",
      "Warning in line-char 26-156 : Different length notes in tuple\r\n",
      "Warning in line-char 26-195 : Different length notes in tuple\r\n",
      "Warning in line-char 26-240 : Different length notes in tuple\r\n",
      "Warning in line-char 26-268 : Different length notes in tuple\r\n",
      "Warning in line-char 26-271 : Different length notes in tuple\r\n",
      "Warning in line-char 27-25 : Different length notes in tuple\r\n",
      "Warning in line-char 27-53 : Different length notes in tuple\r\n",
      "Warning in line-char 27-56 : Different length notes in tuple\r\n",
      "Warning in line-char 27-86 : Different length notes in tuple\r\n",
      "Warning in line-char 27-114 : Different length notes in tuple\r\n",
      "Warning in line-char 27-117 : Different length notes in tuple\r\n",
      "Warning in line-char 27-146 : Different length notes in tuple\r\n",
      "Warning in line-char 27-149 : Different length notes in tuple\r\n",
      "Warning in line-char 27-173 : Different length notes in tuple\r\n",
      "Warning in line-char 27-207 : Different length notes in tuple\r\n",
      "Warning in line-char 27-210 : Different length notes in tuple\r\n",
      "Warning in line-char 27-234 : Different length notes in tuple\r\n",
      "Warning in line-char 29-17 : Different length notes in tuple\r\n",
      "Warning in line-char 29-34 : Different length notes in tuple\r\n",
      "Warning in line-char 29-55 : Different length notes in tuple\r\n",
      "Warning in line-char 29-72 : Different length notes in tuple\r\n",
      "Warning in line-char 29-93 : Different length notes in tuple\r\n",
      "Warning in line-char 29-122 : Different length notes in tuple\r\n",
      "Warning in line-char 29-144 : Different length notes in tuple\r\n",
      "Warning in line-char 29-162 : Different length notes in tuple\r\n",
      "Warning in line-char 30-10 : Different length notes in tuple\r\n",
      "Warning in line-char 30-28 : Different length notes in tuple\r\n",
      "Warning in line-char 30-50 : Different length notes in tuple\r\n",
      "Warning in line-char 30-67 : Different length notes in tuple\r\n",
      "Warning in line-char 30-88 : Different length notes in tuple\r\n",
      "Warning in line-char 30-106 : Different length notes in tuple\r\n",
      "Warning in line-char 30-128 : Different length notes in tuple\r\n",
      "Warning in line-char 30-146 : Different length notes in tuple\r\n",
      "Warning in line-char 31-11 : Different length notes in tuple\r\n",
      "Warning in line-char 31-29 : Different length notes in tuple\r\n",
      "Warning in line-char 31-51 : Different length notes in tuple\r\n",
      "Warning in line-char 31-69 : Different length notes in tuple\r\n",
      "Warning in line-char 31-90 : Different length notes in tuple\r\n",
      "Warning in line-char 31-108 : Different length notes in tuple\r\n",
      "Warning in line-char 31-130 : Different length notes in tuple\r\n",
      "Warning in line-char 31-148 : Different length notes in tuple\r\n",
      "Warning in line-char 33-31 : Different length notes in tuple\r\n",
      "Warning in line-char 33-34 : Different length notes in tuple\r\n",
      "Warning in line-char 33-57 : Different length notes in tuple\r\n",
      "Warning in line-char 33-60 : Different length notes in tuple\r\n",
      "Warning in line-char 33-90 : Different length notes in tuple\r\n",
      "Warning in line-char 33-93 : Different length notes in tuple\r\n",
      "Warning in line-char 33-117 : Different length notes in tuple\r\n",
      "Warning in line-char 33-150 : Different length notes in tuple\r\n",
      "Warning in line-char 33-153 : Different length notes in tuple\r\n",
      "Warning in line-char 33-177 : Different length notes in tuple\r\n",
      "Warning in line-char 33-211 : Different length notes in tuple\r\n",
      "Warning in line-char 33-214 : Different length notes in tuple\r\n",
      "Warning in line-char 33-238 : Different length notes in tuple\r\n",
      "Warning in line-char 33-241 : Different length notes in tuple\r\n",
      "Warning in line-char 34-25 : Different length notes in tuple\r\n",
      "Warning in line-char 34-63 : Different length notes in tuple\r\n",
      "Warning in line-char 34-66 : Different length notes in tuple\r\n",
      "Warning in line-char 34-96 : Different length notes in tuple\r\n",
      "Warning in line-char 34-135 : Different length notes in tuple\r\n",
      "Warning in line-char 34-138 : Different length notes in tuple\r\n",
      "Warning in line-char 34-167 : Different length notes in tuple\r\n",
      "Warning in line-char 34-170 : Different length notes in tuple\r\n",
      "Warning in line-char 34-194 : Different length notes in tuple\r\n",
      "Warning in line-char 34-238 : Different length notes in tuple\r\n",
      "Warning in line-char 34-241 : Different length notes in tuple\r\n",
      "Warning in line-char 34-265 : Different length notes in tuple\r\n",
      "Warning in line-char 35-24 : Different length notes in tuple\r\n",
      "Warning in line-char 35-27 : Different length notes in tuple\r\n",
      "Warning in line-char 35-51 : Different length notes in tuple\r\n",
      "Warning in line-char 35-54 : Different length notes in tuple\r\n",
      "Warning in line-char 35-84 : Different length notes in tuple\r\n",
      "Warning in line-char 35-123 : Different length notes in tuple\r\n",
      "Warning in line-char 35-156 : Different length notes in tuple\r\n",
      "Warning in line-char 35-159 : Different length notes in tuple\r\n",
      "Warning in line-char 35-183 : Different length notes in tuple\r\n",
      "Warning in line-char 35-227 : Different length notes in tuple\r\n",
      "Warning in line-char 35-230 : Different length notes in tuple\r\n",
      "Warning in line-char 35-253 : Different length notes in tuple\r\n",
      "Warning in line-char 35-256 : Different length notes in tuple\r\n",
      "Warning in line-char 37-17 : Different length notes in tuple\r\n",
      "Warning in line-char 37-46 : Different length notes in tuple\r\n",
      "Warning in line-char 37-68 : Different length notes in tuple\r\n",
      "Warning in line-char 37-97 : Different length notes in tuple\r\n",
      "Warning in line-char 37-118 : Different length notes in tuple\r\n",
      "Warning in line-char 37-136 : Different length notes in tuple\r\n",
      "Warning in line-char 37-158 : Different length notes in tuple\r\n",
      "Warning in line-char 37-176 : Different length notes in tuple\r\n",
      "Warning in line-char 38-10 : Different length notes in tuple\r\n",
      "Warning in line-char 38-27 : Different length notes in tuple\r\n",
      "Warning in line-char 38-49 : Different length notes in tuple\r\n",
      "Warning in line-char 38-67 : Different length notes in tuple\r\n",
      "Warning in line-char 38-88 : Different length notes in tuple\r\n",
      "Warning in line-char 38-106 : Different length notes in tuple\r\n",
      "Warning in line-char 38-128 : Different length notes in tuple\r\n",
      "Warning in line-char 38-146 : Different length notes in tuple\r\n",
      "Warning in line-char 39-11 : Different length notes in tuple\r\n",
      "Warning in line-char 39-29 : Different length notes in tuple\r\n",
      "Warning in line-char 39-51 : Different length notes in tuple\r\n",
      "Warning in line-char 39-69 : Different length notes in tuple\r\n",
      "Warning in line-char 39-89 : Different length notes in tuple\r\n",
      "Warning in line-char 39-107 : Different length notes in tuple\r\n",
      "Warning in line-char 39-129 : Different length notes in tuple\r\n",
      "Warning in line-char 39-147 : Different length notes in tuple\r\n",
      "writing MIDI file halfshuffleghosttest.mid\r\n",
      "Warning in line-char 41-0 : Track 1 Bar 19 has 9/2 units instead of 4 in repeat\r\n"
     ]
    },
    {
     "name": "stderr",
     "output_type": "stream",
     "text": [
      "halfshuffleghosttest-ps.abc:28:8: warning: Line overfull (637pt of 628pt)\r\n"
     ]
    },
    {
     "data": {
      "text/plain": [
       "Process(`\u001b[4mcmd\u001b[24m \u001b[4m/C\u001b[24m \u001b[4mstart\u001b[24m \u001b[4mhalfshuffleghosttest.xhtml\u001b[24m`, ProcessExited(0))"
      ]
     },
     "execution_count": 65,
     "metadata": {},
     "output_type": "execute_result"
    }
   ],
   "source": [
    "#write a string to a file\n",
    "open(f->print(f, halfshufflesolo), \"halfshuffleghosttest.abp\", \"w\")\n",
    "\n",
    "#Converts ABP file to score and MIDI and displays/plays it\n",
    "abptest(\"halfshuffleghosttest.abp\")"
   ]
  },
  {
   "cell_type": "code",
   "execution_count": 75,
   "metadata": {},
   "outputs": [
    {
     "data": {
      "text/plain": [
       "9×9 Matrix{Float64}:\n",
       " 0.1  0.166667  0.0   0.333333  0.5  0.0   0.0  0.0  0.0\n",
       " 0.0  0.333333  0.0   0.0       0.0  0.0   0.0  0.0  0.0\n",
       " 0.0  0.166667  0.1   0.0       0.5  0.1   0.0  0.0  0.0\n",
       " 0.9  0.333333  0.45  0.666667  0.0  0.45  0.0  0.0  0.0\n",
       " 0.0  0.0       0.45  0.0       0.0  0.45  0.0  0.0  0.0\n",
       " 0.0  0.0       0.0   0.0       0.0  0.0   0.0  0.0  0.0\n",
       " 0.0  0.0       0.0   0.0       0.0  0.0   0.0  0.0  0.0\n",
       " 0.0  0.0       0.0   0.0       0.0  0.0   0.0  0.0  0.0\n",
       " 0.0  0.0       0.0   0.0       0.0  0.0   0.0  0.0  0.0\n",
       "9-element Vector{Float64}:\n",
       " 0.2\n",
       " 0.0\n",
       " 0.0\n",
       " 0.8\n",
       " 0.0\n",
       " 0.0\n",
       " 0.0\n",
       " 0.0\n",
       " 0.0"
      ]
     },
     "execution_count": 75,
     "metadata": {},
     "output_type": "execute_result"
    }
   ],
   "source": [
    "#0 = rest, 1 = bass, 2 = LH\n",
    "                #00    #01  #02   #10  #11  #12     #zeros\n",
    "rock8BassMatrix = [0.1 1//6  0   1//3  0.5    0      0 0 0 #00\n",
    "                    0   1//3  0     0    0    0     0 0 0  #01\n",
    "                    0   1//6  0.1   0  0.5   0.1 0 0 0  #02\n",
    "                    0.9 1//3  0.45  2//3 0    0.45 0 0 0  #10\n",
    "                    0    0    0.45  0     0    0.45 0 0 0  #11\n",
    "                    0  0    0      0   0    0       0 0 0    #12\n",
    "                    zeros(3,9)]                 #zeros\n",
    "\n",
    "rock8BassInitial = [0.2, 0, 0, 0.8, 0, 0, 0, 0, 0]\n",
    "\n",
    "rock8Bass = AugMatrix(rock8BassMatrix, rock8BassInitial)"
   ]
  },
  {
   "cell_type": "code",
   "execution_count": 100,
   "metadata": {
    "scrolled": true
   },
   "outputs": [
    {
     "name": "stdout",
     "output_type": "stream",
     "text": [
      "%%abc-include percussions-JBH.abh\n",
      "\n",
      "I:linebreak $\n",
      "\n",
      "#ifdef MIDI\n",
      "#define !>! \"[I:volinc 50]\"\n",
      "#define !Q! \"[I:vol 20]\" \n",
      "                %%%ghost\n",
      "#define !U! \"[I:vol 40]\" \n",
      "                %%%unaccent\n",
      "#define !N! \"[I:volinc -25]\" \n",
      "            %%%tenuto for trash hat\n",
      "#else\n",
      "#define !N! \"\\\"^_\\\"\" \n",
      "                %%%tenuto\n",
      "#define !Q! !(.!!).! \n",
      "                %%%ghost\n",
      "#define !U! !anti!  \n",
      "                %%%unaccent\n",
      "#endif\n",
      "\n",
      "X:1\n",
      "T:Computer-generated \\`Etude for Solo Drum Kit\n",
      "C:#abcsolo_multitime_ghost#101/rock\n",
      "O:2022-01-01T20:20:51.644\n",
      "M:4/4\n",
      "L:1/8\n",
      "Q:\"Shuffle feel\" 1/4=80\n",
      "K:none clef=perc\n",
      "[V:1 clef=perc, stem=up]     % activate abc2xml.py map\n",
      "%%voicemap drummap  % activate abcm2ps/abc2svg map\n",
      "%%MIDI channel 10   % activate abc2midi map\n",
      "%%MIDI program 0\n",
      "%%flatbeams\n",
      "%%propagate-accidentals not\n",
      "%%pos ornament up\n",
      "%%ornament up\n",
      "%%MIDI fermatafixed\n",
      "|:!mf!(3:2!>![^eF]yz!U![^eF]y (3:2!>![^ecF]yz!U![^eF]y (3:2!>![^e]yz!U![^e]y (3:2!>![^ecF]yz!U![^eF]y |\n",
      "(3:2!>![^eF]yz!U![^eF]y (3:2!>![^ecF]yz!U![^e]y (3:2!>![^eF]yz!U![^e]y (3:2!>![^ecF]yz!U![^eF]y |\n",
      "(3:2!>![^eF]yz!U![^eF]y (3:2!>![^ecF]yz!U![^eF]y (3:2!>![^e]yz!U![^eF]y (3:2!>![^ecF]yz!U![^eF]y |\n",
      "[1(3:2AGe (3:2Aee (3:2Fce (3:2GAG :|2(3:2AGe (3:2Aee (3:2Fc!>(!e (3:2G!>)!AG \n",
      "|:!f!(3:2[^D]yzzy (3:2[^DcF]yz[F]y (3:2[^DF]yzzy (3:2[^DcF]yz[F]y |\n",
      "(3:2[^DF]yz[F]y (3:2[^DcF]yz[F]y (3:2[^DF]yz[F]y (3:2[^DcF]yz[F]y |\n",
      "(3:2[^DF]yzzy (3:2[^DcF]yzzy (3:2[^DF]yzzy (3:2[^DcF]yz[F]y |\n",
      "[1(3:2eee (3:2eFc (3:2zcc (3:2ecG :|2(3:2eee (3:2eFc (3:2zc!>(!c (3:2e!>)!cG \n",
      "|:!p!(3:2[gF]yz[gF]y (3:2[gcF]yz[gF]y (3:2[gF]yz[gF]y (3:2[gc]yz[gF]y |\n",
      "(3:2[gF]yz[g]y (3:2[gcF]yz[gF]y (3:2[g]yz[gF]y (3:2[gc]yz[gF]y |\n",
      "(3:2[g]yz[gF]y (3:2[gcF]yz[g]y (3:2[gF]yz[gF]y (3:2[gcF]yz[g]y |\n",
      "[1(3:2ezz (3:2AcA (3:2eAe (3:2cFc :|2(3:2ezz (3:2AcA (3:2eA!>(!e (3:2c!>)!Fc \n",
      "|:!pp!(3:2[^gF]yz[^g^DF]y (3:2[^gcF]yz[^g^DF]y (3:2[^gF]yz[^g^DF]y (3:2[^gc]yz[^g^DF]y |\n",
      "(3:2[^gF]yz[^g^D]y (3:2[^gcF]yz[^g^DF]y (3:2[^gF]yz[^g^D]y (3:2[^gc]yz[^g^DF]y |\n",
      "(3:2[^gF]yz[^g^D]y (3:2[^gcF]yz[^g^DF]y (3:2[^gF]yz[^g^D]y (3:2[^gcF]yz[^g^DF]y |\n",
      "[1(3:2eAA (3:2cFc (3:2AGG (3:2zzc :|2(3:2eAA (3:2cFc (3:2AG!<(!G (3:2z!<)!z!fermata!c \n",
      "|]\n"
     ]
    }
   ],
   "source": [
    "shufflesolo = abcsolo_multitime_ghost(12, 4, rock8Bass, rockFill, dyn, rockPat, rockInst, \"Shuffle feel\")\n",
    "print(shufflesolo)"
   ]
  },
  {
   "cell_type": "code",
   "execution_count": 101,
   "metadata": {},
   "outputs": [
    {
     "name": "stdout",
     "output_type": "stream",
     "text": [
      "abcm2ps-8.14.12 (2021-07-14)\r\n",
      "File shuffleghosttest-ps.abc\r\n",
      "File percussions-JBH.abh\r\n",
      "Output written on shuffleghosttest.xhtml (1 page, 1 title, 51096 bytes)\r\n",
      "4.59 June 27 2021 abc2midi\r\n",
      "writing MIDI file shuffleghosttest.mid\r\n",
      "Warning in line-char 41-0 : Track 1 Bar 19 has 9/2 units instead of 4 in repeat\r\n"
     ]
    },
    {
     "name": "stderr",
     "output_type": "stream",
     "text": [
      "shuffleghosttest-ps.abc:28:109: warning: Line overfull (628pt of 628pt)\r\n"
     ]
    },
    {
     "data": {
      "text/plain": [
       "Process(`\u001b[4mcmd\u001b[24m \u001b[4m/C\u001b[24m \u001b[4mstart\u001b[24m \u001b[4mshuffleghosttest.xhtml\u001b[24m`, ProcessExited(0))"
      ]
     },
     "execution_count": 101,
     "metadata": {},
     "output_type": "execute_result"
    }
   ],
   "source": [
    "#write a string to a file\n",
    "open(f->print(f, shufflesolo), \"shuffleghosttest.abp\", \"w\")\n",
    "\n",
    "#Converts ABP file to score and MIDI and displays/plays it\n",
    "abptest(\"shuffleghosttest.abp\")"
   ]
  },
  {
   "cell_type": "code",
   "execution_count": null,
   "metadata": {},
   "outputs": [],
   "source": []
  },
  {
   "cell_type": "code",
   "execution_count": null,
   "metadata": {},
   "outputs": [],
   "source": []
  }
 ],
 "metadata": {
  "kernelspec": {
   "display_name": "Julia 1.6.3",
   "language": "julia",
   "name": "julia-1.6"
  },
  "language_info": {
   "file_extension": ".jl",
   "mimetype": "application/julia",
   "name": "julia",
   "version": "1.6.3"
  }
 },
 "nbformat": 4,
 "nbformat_minor": 4
}
