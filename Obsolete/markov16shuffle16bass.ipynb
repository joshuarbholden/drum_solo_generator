{
 "cells": [
  {
   "cell_type": "code",
   "execution_count": 11,
   "metadata": {},
   "outputs": [
    {
     "data": {
      "text/plain": [
       "markovrand (generic function with 1 method)"
      ]
     },
     "execution_count": 11,
     "metadata": {},
     "output_type": "execute_result"
    }
   ],
   "source": [
    "#input a vector corresponding to a probability distribution and output an index according to that distribution\n",
    "function markovrand(nextv)\n",
    "    if round(sum(nextv), digits = 6) != 1.0\n",
    "        error(nextv, \" is not a stochastic vector\")\n",
    "    end\n",
    "    maxstates = length(nextv) - 1\n",
    "    r = rand(Float64)\n",
    "    current = maxstates\n",
    "    for i = 0:maxstates\n",
    "        if r <= nextv[i + 1]\n",
    "            current = i\n",
    "            break\n",
    "        else\n",
    "            r = r - nextv[i + 1]\n",
    "        end\n",
    "    end\n",
    "    return(current)\n",
    "end\n"
   ]
  },
  {
   "cell_type": "code",
   "execution_count": 12,
   "metadata": {},
   "outputs": [],
   "source": [
    "struct AugMatrix\n",
    "    mat::Matrix\n",
    "    init::Vector\n",
    "end\n",
    "\n",
    "struct AugDblMatrix\n",
    "    mat1::Matrix\n",
    "    mat2::Matrix\n",
    "    init::Vector\n",
    "end"
   ]
  },
  {
   "cell_type": "code",
   "execution_count": 13,
   "metadata": {},
   "outputs": [
    {
     "data": {
      "text/plain": [
       "bassgen (generic function with 1 method)"
      ]
     },
     "execution_count": 13,
     "metadata": {},
     "output_type": "execute_result"
    }
   ],
   "source": [
    "#output bass notes in 2*$beats notes\n",
    "function bassgen(beats::Int, trans::AugMatrix)\n",
    "    transmat = trans.mat\n",
    "    iv = trans.init\n",
    "    nextv = iv\n",
    "    L = []\n",
    "    for j = 1:beats\n",
    "        current = markovrand(nextv)\n",
    "#print(current, \" \")\n",
    "        bincurrent = digits(current, base = 2, pad = 2)\n",
    "#print(bincurrent, \"\\n\")\n",
    "        append!(L, [bincurrent[2], bincurrent[1]])\n",
    "        nextv = transmat[:, current + 1]\n",
    "    end\n",
    "    return(L)\n",
    "end"
   ]
  },
  {
   "cell_type": "code",
   "execution_count": null,
   "metadata": {},
   "outputs": [],
   "source": []
  },
  {
   "cell_type": "code",
   "execution_count": 87,
   "metadata": {},
   "outputs": [
    {
     "data": {
      "text/plain": [
       "4×4 Matrix{Float64}:\n",
       " 0.1   0.333333  0.333333  1.0\n",
       " 0.0   0.333333  0.0       0.0\n",
       " 0.45  0.333333  0.333333  0.0\n",
       " 0.45  0.0       0.333333  0.0"
      ]
     },
     "execution_count": 87,
     "metadata": {},
     "output_type": "execute_result"
    }
   ],
   "source": [
    "#0 = nobass, 1 = bass\n",
    "                #00    #01   #10  #11\n",
    "rockBassMatrix = [0.1e0 1//3 1//3 1; #00\n",
    "                0 1//3 0 0;          #01\n",
    "                0.45e0 1//3 1//3 0;  #10\n",
    "                0.45e0 0 1//3 0]     #11"
   ]
  },
  {
   "cell_type": "code",
   "execution_count": 15,
   "metadata": {},
   "outputs": [
    {
     "data": {
      "text/plain": [
       "4-element Vector{Float64}:\n",
       " 0.1\n",
       " 0.0\n",
       " 0.5\n",
       " 0.4"
      ]
     },
     "execution_count": 15,
     "metadata": {},
     "output_type": "execute_result"
    }
   ],
   "source": [
    "rockBassInitial = [0.1e0,0,0.5e0,0.4e0]"
   ]
  },
  {
   "cell_type": "code",
   "execution_count": 16,
   "metadata": {},
   "outputs": [
    {
     "data": {
      "text/plain": [
       "AugMatrix([0.1 0.3333333333333333 0.3333333333333333 1.0; 0.0 0.3333333333333333 0.0 0.0; 0.45 0.3333333333333333 0.3333333333333333 0.0; 0.45 0.0 0.3333333333333333 0.0], [0.1, 0.0, 0.5, 0.4])"
      ]
     },
     "execution_count": 16,
     "metadata": {},
     "output_type": "execute_result"
    }
   ],
   "source": [
    "rockBass = AugMatrix(rockBassMatrix, rockBassInitial)"
   ]
  },
  {
   "cell_type": "code",
   "execution_count": 17,
   "metadata": {},
   "outputs": [
    {
     "data": {
      "text/plain": [
       "8-element Vector{Any}:\n",
       " 1\n",
       " 0\n",
       " 1\n",
       " 0\n",
       " 1\n",
       " 1\n",
       " 0\n",
       " 0"
      ]
     },
     "execution_count": 17,
     "metadata": {},
     "output_type": "execute_result"
    }
   ],
   "source": [
    "#test\n",
    "bassgen(4, rockBass)"
   ]
  },
  {
   "cell_type": "code",
   "execution_count": 18,
   "metadata": {},
   "outputs": [
    {
     "data": {
      "text/plain": [
       "lookup16ride (generic function with 1 method)"
      ]
     },
     "execution_count": 18,
     "metadata": {},
     "output_type": "execute_result"
    }
   ],
   "source": [
    "function lookup16ride()::Matrix\n",
    "    r = Matrix(undef, 4, 4)\n",
    "    r[1,1] = [\"N[^e\",\"[\",\"N[^e\",\"[\",\"N[c^e\",\"[\",\"N[^e\",\"[\",\"N[^e\",\"[\",\"N[^e\",\"[\",\"N[c^e\",\"[\",\"N[^e\",\"[\"] #hihat eighths, trash\n",
    "    #NB Windows midi doesn't have a good way of making a trash hat?  N defined as tenuto mark in header.abc\n",
    "    r[2,1] = [\"[^e\", \"[^e\", \"[^e\", \"[^e\", \"[c^e\", \"[^e\", \"[^e\", \"[^e\", \"[^e\", \"[^e\", \"[^e\", \"[^e\", \"[c^e\", \"[^e\", \"[^e\", \"[^e\"]; #hihat 16\n",
    "    r[3,1] = [\"!>![^e\", \"U[^e\", \"!>![^e\", \"U[^e\", \"!>![c^e\", \"U[^e\",\"!>![^e\", \"U[^e\",\"!>![^e\", \"U[^e\", \"!>![^e\", \"U[^e\", \"!>![c^e\", \"U[^e\", \"!>![^e\", \"U[^e\"]; #drive 16\n",
    "    r[4,1] = [\"[^e\", \"[^e\", \"[^e\", \"[^e\", \"[c^e\", \"[^e\", \"[^e\", \"[^e\", \"[^e\", \"[^e\", \"[^e\", \"[^e\", \"[c^e\", \"[^e\", \"[^e\", \"[_e\"];  #one slide 16\n",
    "    r[1,2] = [\"[^g\",\"[\",\"[^g\",\"[\",\"[c^g\",\"[\",\"[^g\",\"[\",\"[^g\",\"[\",\"[^g\",\"[\",\"[c^g\",\"[\",\"[^g\",\"[\"] #ride quarter\n",
    "    r[2,2] = [\"[^g\", \"[^g\", \"[^g\", \"[^g\", \"[c^g\", \"[^g\", \"[^g\", \"[^g\", \"[^g\", \"[^g\", \"[^g\", \"[^g\", \"[c^g\", \"[^g\", \"[^g\", \"[^g\"]; #ride 16 \n",
    "    r[3,2] = [\"[^g^D\", \"[^g\", \"[^g\", \"[^g\", \"[c^g^D\", \"[^g\", \"[^g\", \"[^g\", \"[^g^D\", \"[^g\", \"[^g\", \"[^g\", \"[c^g^D\", \"[^g\", \"[^g\", \"[^g\"]; #ride 16 with step beats\n",
    "    r[4,2] = [\"[^g\", \"[^g\", \"[^g^D\", \"[^g\", \"[c^g\", \"[^g\", \"[^g^D\", \"[^g\", \"[^g\", \"[^g\", \"[^g^D\", \"[^g\", \"[c^g\", \"[^g\", \"[^g^D\", \"[^g\" ]; #ride 16 with step ands\n",
    "    r[1,3] = [\"[g\",\"[\",\"[g\",\"[\",\"[cg\",\"[\",\"[g\",\"[\",\"[g\",\"[\",\"[g\",\"[\",\"[cg\",\"[\",\"[g\",\"[\"] #bell 8\n",
    "    r[2,3] = [\"[g\",\"[g\",\"[\",\"[\",\"[cg\",\"[g\",\"[\",\"[\",\"[g\",\"[g\",\"[\",\"[\",\"[cg\",\"[g\",\"[\",\"[\"] #bell 16th pairs on beat\n",
    "    r[3,3] = [\"[g\",\"[^g\",\"[g\",\"[^g\",\"[cg\",\"[^g\",\"[g\",\"[^g\",\"[g\",\"[^g\",\"[g\",\"[^g\",\"[cg\",\"[^g\",\"[g\",\"[^g\"] #bell drive, offbeat ride\n",
    "    r[4,3] = [\"[\",\"[\",\"[g\",\"[g\",\"[c\",\"[\",\"[g\",\"[g\",\"[\",\"[\",\"[g\",\"[g\",\"[c\",\"[\",\"[g\",\"[g\"] #bell pairs on and\n",
    "    r[1,4] = [\"[^D\",\"[\",\"[\",\"[\",\"[c^D\",\"[\",\"[\",\"[\",\"[^D\",\"[\",\"[\",\"[\",\"[c^D\",\"[\",\"[\",\"[\"]  #step Q\n",
    "    r[2,4] = [\"[^D\",\"[\",\"[^D\",\"[\",\"[c^D\",\"[\",\"[^D\",\"[\",\"[^D\",\"[\",\"[^D\",\"[\",\"[c^D\",\"[\",\"[^D\",\"[\"] #step 8\n",
    "    r[3,4] = [\"[g^D\",\"[g\",\"[^D\",\"[\",\"[cg^D\",\"[g\",\"[^D\",\"[\",\"[g^D\",\"[g\",\"[^D\",\"[\",\"[cg^D\",\"[g\",\"[^D\",\"[\"] #step 8 with bell beat pair\n",
    "    r[4,4] = [\"[^D\",\"[\",\"[g^D\",\"[g\",\"[c^D\",\"[\",\"[g^D\",\"[g\",\"[^D\",\"[\",\"[g^D\",\"[g\",\"[c^D\",\"[\",\"[g^D\",\"[g\"] #step 8 with bell and pair\n",
    "    return(r)\n",
    "end\n"
   ]
  },
  {
   "cell_type": "code",
   "execution_count": 78,
   "metadata": {},
   "outputs": [
    {
     "data": {
      "text/plain": [
       "abctime24patinst24bass (generic function with 1 method)"
      ]
     },
     "execution_count": 78,
     "metadata": {},
     "output_type": "execute_result"
    }
   ],
   "source": [
    "#input a shiffled 16th bass rhythm and a shuffled 16th ride pattern, output abc notation\n",
    "function abctime24patinst24bass(L, pattern, instr)\n",
    "    n = length(L)\n",
    "    r = lookup16ride()\n",
    "    c = [\"]/2\", \"F]/2\"]\n",
    "    m = [c[L[i] + 1] for i = 1:n]\n",
    "    s = \"\"\n",
    "    for i = 1:n\n",
    "        if i % 4 == 1\n",
    "            s = s * \"(6:4\"\n",
    "        end\n",
    "        s = s * r[pattern, instr][(i - 1) % 16 + 1] * m[i]\n",
    "        if i % 2 == 1 \n",
    " #           s = s * \"Qc/2\" #ghost snare\n",
    "            s = s * \"z/2\" #rest\n",
    "        elseif i % 4 == 0\n",
    "            s = s * \" \"\n",
    "        end\n",
    "        if i % 16 == 0\n",
    "            s = s * \"|\"\n",
    "        end\n",
    "    end\n",
    "    return(s)\n",
    "end\n"
   ]
  },
  {
   "cell_type": "code",
   "execution_count": 79,
   "metadata": {},
   "outputs": [
    {
     "data": {
      "text/plain": [
       "\"(6:4N[^eF]/2z/2[]/2N[^e]/2z/2[]/2 (6:4N[c^eF]/2z/2[F]/2N[^e]/2z/2[]/2 (6:4N[^eF]/2z/2[]/2N[^e]/2z/2[]/2 (6:4N[c^eF]/2z/2[F]/2N[^e]/2z/2[]/2 |\""
      ]
     },
     "execution_count": 79,
     "metadata": {},
     "output_type": "execute_result"
    }
   ],
   "source": [
    "#test\n",
    "abctime24patinst24bass(bassgen(8, rockBass), 1, 1)"
   ]
  },
  {
   "cell_type": "code",
   "execution_count": null,
   "metadata": {},
   "outputs": [],
   "source": []
  },
  {
   "cell_type": "code",
   "execution_count": 21,
   "metadata": {},
   "outputs": [
    {
     "data": {
      "text/plain": [
       "fill24gen (generic function with 1 method)"
      ]
     },
     "execution_count": 21,
     "metadata": {},
     "output_type": "execute_result"
    }
   ],
   "source": [
    "#output linear fill in $beats number of sixteenth triplets\n",
    "function fill24gen(\n",
    "  beats::Int,\n",
    "  trans::AugDblMatrix)\n",
    "    nextv = trans.init\n",
    "    L = []\n",
    "    for j = 1:beats\n",
    "        current = markovrand(nextv)\n",
    "        append!(L,current)\n",
    "        if j % 2 == 1\n",
    "            nextv = trans.mat1[1:6, current + 1]\n",
    "        else\n",
    "            nextv = trans.mat2[1:6, current + 1]\n",
    "        end\n",
    "    end\n",
    "    return(L)\n",
    "end\n"
   ]
  },
  {
   "cell_type": "code",
   "execution_count": 22,
   "metadata": {},
   "outputs": [
    {
     "data": {
      "text/plain": [
       "6×6 Matrix{Float64}:\n",
       " 0.2  0.1  0.2  0.0  0.3  0.2\n",
       " 0.4  0.2  0.0  0.3  0.3  0.2\n",
       " 0.1  0.4  0.2  0.1  0.1  0.2\n",
       " 0.1  0.1  0.4  0.3  0.1  0.2\n",
       " 0.1  0.1  0.2  0.2  0.1  0.2\n",
       " 0.1  0.1  0.0  0.1  0.1  0.0"
      ]
     },
     "execution_count": 22,
     "metadata": {},
     "output_type": "execute_result"
    }
   ],
   "source": [
    "rockFillLeftToRight = [\n",
    "    0.2e0 0.1e0 0.2e0 0 0.3e0 0.2e0; \n",
    "    0.4e0 0.2e0 0 0.3e0 0.3e0 0.2e0; \n",
    "    0.1e0 0.4e0 0.2e0 0.1e0 0.1e0 0.2e0; \n",
    "    0.1e0 0.1e0 0.4e0 0.3e0 0.1e0 0.2e0; \n",
    "    0.1e0 0.1e0 0.2e0 0.2e0 0.1e0 0.2e0; \n",
    "    0.1e0 0.1e0 0 0.1e0 0.1e0 0]"
   ]
  },
  {
   "cell_type": "code",
   "execution_count": 23,
   "metadata": {},
   "outputs": [
    {
     "data": {
      "text/plain": [
       "6×6 Matrix{Float64}:\n",
       " 0.4  0.2  0.1  0.1  0.3  0.0\n",
       " 0.2  0.4  0.2  0.2  0.2  0.0\n",
       " 0.1  0.0  0.4  0.1  0.1  0.0\n",
       " 0.0  0.1  0.1  0.4  0.1  0.0\n",
       " 0.2  0.1  0.1  0.1  0.2  0.0\n",
       " 0.1  0.2  0.1  0.1  0.1  1.0"
      ]
     },
     "execution_count": 23,
     "metadata": {},
     "output_type": "execute_result"
    }
   ],
   "source": [
    "rockFillRightToLeft = [\n",
    "    0.4e0 0.2e0 0.1e0 0.1e0 0.3e0 0\n",
    "    0.2e0 0.4e0 0.2e0 0.2e0 0.2e0 0\n",
    "    0.1e0 0 0.4e0 0.1e0 0.1e0 0\n",
    "    0 0.1e0 0.1e0 0.4e0 0.1e0 0\n",
    "    0.2e0 0.1e0 0.1e0 0.1e0 0.2e0 0\n",
    "    0.1e0 0.2e0 0.1e0 0.1e0 0.1e0 0.10e1]\n"
   ]
  },
  {
   "cell_type": "code",
   "execution_count": 24,
   "metadata": {},
   "outputs": [
    {
     "data": {
      "text/plain": [
       "6-element Vector{Float64}:\n",
       " 0.4\n",
       " 0.4\n",
       " 0.1\n",
       " 0.1\n",
       " 0.0\n",
       " 0.0"
      ]
     },
     "execution_count": 24,
     "metadata": {},
     "output_type": "execute_result"
    }
   ],
   "source": [
    "rockFillInitial = [0.4e0,0.4e0,0.1e0,0.1e0,0,0] #snare, high, mid, low, kick, rest"
   ]
  },
  {
   "cell_type": "code",
   "execution_count": 25,
   "metadata": {},
   "outputs": [
    {
     "data": {
      "text/plain": [
       "AugDblMatrix([0.2 0.1 … 0.3 0.2; 0.4 0.2 … 0.3 0.2; … ; 0.1 0.1 … 0.1 0.2; 0.1 0.1 … 0.1 0.0], [0.4 0.2 … 0.3 0.0; 0.2 0.4 … 0.2 0.0; … ; 0.2 0.1 … 0.2 0.0; 0.1 0.2 … 0.1 1.0], [0.4, 0.4, 0.1, 0.1, 0.0, 0.0])"
      ]
     },
     "execution_count": 25,
     "metadata": {},
     "output_type": "execute_result"
    }
   ],
   "source": [
    "rockFill= AugDblMatrix(rockFillLeftToRight, rockFillRightToLeft, rockFillInitial)"
   ]
  },
  {
   "cell_type": "code",
   "execution_count": 26,
   "metadata": {},
   "outputs": [
    {
     "data": {
      "text/plain": [
       "abcfill24 (generic function with 1 method)"
      ]
     },
     "execution_count": 26,
     "metadata": {},
     "output_type": "execute_result"
    }
   ],
   "source": [
    "#input a sixteenth triplet fill and a crescendo/descr indicator, output abc notation\n",
    "function abcfill24(L, crdc)\n",
    "    n = length(L)\n",
    "    c = [\"c/2\",\"e/2\",\"A/2\",\"G/2\",\"F/2\",\"z/2\"]\n",
    "    m = [c[L[i] + 1] for i = 1:n]\n",
    "    s = \"\"\n",
    "    for i = 1:n\n",
    "        if i % 6 == 1\n",
    "            s = s * \"(6:4\"\n",
    "        end\n",
    "        s = s * m[i]\n",
    "        if i % 6 == 0\n",
    "            s = s * \" \"\n",
    "        end\n",
    "        if i % 24 == 16\n",
    "            if crdc < 0\n",
    "                s = s * \"!>(!\"\n",
    "            elseif 0 < crdc\n",
    "                s = s * \"!<(!\"\n",
    "            end\n",
    "        end\n",
    "        if i % 24 == 20\n",
    "            if crdc < 0\n",
    "                s = s * \"!>)!\"\n",
    "            elseif 0 < crdc\n",
    "                s = s * \"!<)!\"\n",
    "            end\n",
    "        end\n",
    "    end\n",
    "    return(s)\n",
    "end"
   ]
  },
  {
   "cell_type": "code",
   "execution_count": 27,
   "metadata": {},
   "outputs": [
    {
     "data": {
      "text/plain": [
       "\"(6:4e/2G/2G/2F/2e/2e/2 (6:4z/2A/2c/2e/2G/2F/2 (6:4F/2A/2A/2A/2c/2e/2 (6:4e/2A/2z/2G/2e/2A/2 \""
      ]
     },
     "execution_count": 27,
     "metadata": {},
     "output_type": "execute_result"
    }
   ],
   "source": [
    "#test\n",
    "abcfill24(fill24gen(24, rockFill), 0)"
   ]
  },
  {
   "cell_type": "code",
   "execution_count": 28,
   "metadata": {},
   "outputs": [
    {
     "data": {
      "text/plain": [
       "abctune16shuffle16bass (generic function with 1 method)"
      ]
     },
     "execution_count": 28,
     "metadata": {},
     "output_type": "execute_result"
    }
   ],
   "source": [
    "#output time, fill, time, fill with cresc/decr in abc notation\n",
    "function abctune16shuffle16bass(\n",
    "  vol,\n",
    "  bass,\n",
    "  pat,\n",
    "  inst,\n",
    "  fill,\n",
    "  crdc)\n",
    "    fp = [\"!pp!\",\"!p!\",\"!mp!\",\"!mf!\",\"!f!\",\"!ff!\"]\n",
    "    return(\"|:\" * fp[vol] * abctime24patinst24bass(bass, pat, inst) * \"[1\" * abcfill24(fill, 0) * \":|2\" * abcfill24(fill, crdc))\n",
    "end\n"
   ]
  },
  {
   "cell_type": "code",
   "execution_count": 29,
   "metadata": {},
   "outputs": [
    {
     "data": {
      "text/plain": [
       "insert (generic function with 1 method)"
      ]
     },
     "execution_count": 29,
     "metadata": {},
     "output_type": "execute_result"
    }
   ],
   "source": [
    "#utility function, insert one string into another\n",
    "function insert(\n",
    "    s::String,\n",
    "    pos::Integer,\n",
    "    sub::String)\n",
    "    return s[1:pos] * sub * s[pos+1:end]\n",
    "end\n",
    "    "
   ]
  },
  {
   "cell_type": "code",
   "execution_count": 30,
   "metadata": {},
   "outputs": [
    {
     "data": {
      "text/plain": [
       "\"abcdxefg\""
      ]
     },
     "execution_count": 30,
     "metadata": {},
     "output_type": "execute_result"
    }
   ],
   "source": [
    "#test\n",
    "insert(\"abcdefg\", 4, \"x\")"
   ]
  },
  {
   "cell_type": "code",
   "execution_count": 31,
   "metadata": {},
   "outputs": [
    {
     "data": {
      "text/plain": [
       "@functionName (macro with 1 method)"
      ]
     },
     "execution_count": 31,
     "metadata": {},
     "output_type": "execute_result"
    }
   ],
   "source": [
    "macro functionName()\n",
    "    return quote\n",
    "        st = stacktrace(backtrace())\n",
    "        myf = \"\"\n",
    "        for frm in st\n",
    "            funcname = frm.func\n",
    "            if frm.func != :backtrace && frm.func!= Symbol(\"macro expansion\")\n",
    "                myf = frm.func\n",
    "                break\n",
    "            end\n",
    "        end\n",
    "        #println(\"Running function $(myf)\")\n",
    "        String(myf)\n",
    "    end\n",
    "end\n"
   ]
  },
  {
   "cell_type": "code",
   "execution_count": 58,
   "metadata": {},
   "outputs": [
    {
     "data": {
      "text/plain": [
       "abcsolo16shuffle16bass (generic function with 1 method)"
      ]
     },
     "execution_count": 58,
     "metadata": {},
     "output_type": "execute_result"
    }
   ],
   "source": [
    "#put it all together, output abc notation\n",
    "import Dates\n",
    "function abcsolo16shuffle16bass(\n",
    "  len::Int,\n",
    "  basstrans::AugMatrix,\n",
    "  filltrans::AugDblMatrix,\n",
    "  dyntrans::AugDblMatrix,\n",
    "  pattrans::AugMatrix,\n",
    "  insttrans::AugMatrix,\n",
    "  feel::String,\n",
    "    )\n",
    "    s = \"\"\n",
    "    curdyn = markovrand(dyn.init)\n",
    "    curpat = markovrand(pattrans.init)\n",
    "    curinst = markovrand(insttrans.init)\n",
    "    for i = 1:len\n",
    "        vol = div(curdyn, 2) + 1\n",
    "        bass = bassgen(24, basstrans)\n",
    "        pat = curpat + 1\n",
    "        inst = curinst + 1\n",
    "        fill = fill24gen(24, filltrans)\n",
    "        crdc = 2 * mod(curdyn, 2) - 1\n",
    "        s = s * abctune16shuffle16bass(vol, bass, pat, inst, fill, crdc)\n",
    "        if i + 1 < len\n",
    "            curdyn = markovrand(dyntrans.mat1[:, curdyn + 1])\n",
    "        else\n",
    "            curdyn = markovrand(dyntrans.mat2[:, curdyn + 1])\n",
    "        end\n",
    "        curpat = markovrand(pattrans.mat[:, curpat + 1])\n",
    "        curinst = markovrand(insttrans.mat[:, curinst + 1])\n",
    "    end\n",
    "    s = insert(s, findlast(occursin(\"acbdefgABCDEFG\"), s)-1, \"H\") #final fermata\n",
    "    s = replace(s, \"[]\" => \"z\") #rest\n",
    "    s = replace(s, \"!>!\" => \"!>![I: volinc 50]\") #accent\n",
    "    s = replace(s, \"U\" => \"!anti![I: volinc -20]\") #unaccent\n",
    "    s = replace(s, \"N\" => \"\\\"^_\\\"\") #tenuto\n",
    "    s = replace(s, \"Q\" => \"\\\"<(\\\"\\\">)\\\"[I:volinc -50]\") #ghost    \n",
    "    s = makeheader(\"Computer-generated \\\\`Etude for Solo Drum Kit\", String(@functionName), \"$(Dates.now())\", \"4/4\", feel, 60) * s * \"|]\\n\"\n",
    "    return(s)\n",
    "end\n"
   ]
  },
  {
   "cell_type": "code",
   "execution_count": 59,
   "metadata": {
    "scrolled": true
   },
   "outputs": [
    {
     "data": {
      "text/plain": [
       "makeheader (generic function with 1 method)"
      ]
     },
     "execution_count": 59,
     "metadata": {},
     "output_type": "execute_result"
    }
   ],
   "source": [
    "function makeheader(title::String, composer::String, date::String, meter::String, feel::String, tempo::Int)\n",
    "    s = \"\"\"%%abc-include percussions-JBH.abh\n",
    "    \n",
    "    %%flatbeams\n",
    "    %%propagate-accidentals not\n",
    "    %%pos ornament up\n",
    "    %%ornament up\n",
    "    %%MIDI fermatafixed\n",
    "    U: N = !tenuto!\n",
    "    U: U = !anti!\n",
    "    U: Q = !ghost! %doesn't exist but it should!\n",
    "    \n",
    "    X:1\n",
    "    T:$title\n",
    "    C:$composer\n",
    "    O:$date\n",
    "    M:$meter\n",
    "    L:1/8\n",
    "    Q:\\\"$feel\\\" 1/4=$tempo\n",
    "    K:none clef=perc\n",
    "    [V:1 clef=perc, stem=up]     % activate abc2xml.py map\n",
    "    %%voicemap drummap  % activate abcm2ps/abc2svg map\n",
    "    %%MIDI channel 10   % activate abc2midi map\n",
    "    %%MIDI program 0\n",
    "    \"\"\"\n",
    "    return(s)\n",
    "end"
   ]
  },
  {
   "cell_type": "code",
   "execution_count": 60,
   "metadata": {},
   "outputs": [
    {
     "name": "stdout",
     "output_type": "stream",
     "text": [
      "%%abc-include percussions-JBH.abh\n",
      "\n",
      "%%flatbeams\n",
      "%%propagate-accidentals not\n",
      "%%pos ornament up\n",
      "%%ornament up\n",
      "%%MIDI fermatafixed\n",
      "U: N = !tenuto!\n",
      "U: U = !anti!\n",
      "U: Q = !ghost! %doesn't exist but it should!\n",
      "\n",
      "X:1\n",
      "T:Computer-generated \\`Etude for Solo Drum Kit\n",
      "C:top-level scope\n",
      "O:2021-11-11T19:31:12.277\n",
      "M:4/4\n",
      "L:1/8\n",
      "Q:\"Rock 16th feel\" 1/4=80\n",
      "K:none clef=perc\n",
      "[V:1 clef=perc, stem=up]     % activate abc2xml.py map\n",
      "%%voicemap drummap  % activate abcm2ps/abc2svg map\n",
      "%%MIDI channel 10   % activate abc2midi map\n",
      "%%MIDI program 0\n"
     ]
    }
   ],
   "source": [
    "#test\n",
    "print(makeheader(\"Computer-generated \\\\`Etude for Solo Drum Kit\", String(@functionName), \"$(Dates.now())\", \"4/4\", \"Rock 16th feel\", 80))"
   ]
  },
  {
   "cell_type": "code",
   "execution_count": 61,
   "metadata": {},
   "outputs": [
    {
     "data": {
      "text/plain": [
       "writetune (generic function with 1 method)"
      ]
     },
     "execution_count": 61,
     "metadata": {},
     "output_type": "execute_result"
    }
   ],
   "source": [
    "#write a string s of abc notation to a file fname\n",
    "function writetune(fname, s)\n",
    "    #h = open(\"header.abc\", \"r\")\n",
    "    f = open(fname, \"w\")\n",
    "    #for header in eachline(h)\n",
    "    #    print(f, header * \"\\n\")\n",
    "    #end\n",
    "    #close(h)\n",
    "    #print(f, makeheader(\"Computer-generated \\\\`Etude for Solo Drum Kit\", \"4/4\", \"Rock 16th feel\", 80))\n",
    "    print(f, s)\n",
    "    return(close(f))\n",
    "end\n"
   ]
  },
  {
   "cell_type": "code",
   "execution_count": null,
   "metadata": {},
   "outputs": [],
   "source": []
  },
  {
   "cell_type": "code",
   "execution_count": 62,
   "metadata": {},
   "outputs": [
    {
     "data": {
      "text/plain": [
       "12×12 Matrix{Float64}:\n",
       " 0.0  0.0  0.2  0.2  0.1  0.1  0.0  0.0  0.0  0.0  0.0  0.0\n",
       " 0.0  0.0  0.2  0.1  0.1  0.1  0.0  0.0  0.0  0.0  0.0  0.0\n",
       " 0.2  0.2  0.0  0.0  0.2  0.1  0.1  0.1  0.1  0.2  0.1  0.2\n",
       " 0.2  0.2  0.0  0.0  0.2  0.1  0.1  0.1  0.2  0.1  0.2  0.1\n",
       " 0.0  0.0  0.1  0.2  0.0  0.0  0.2  0.1  0.0  0.0  0.1  0.2\n",
       " 0.0  0.0  0.2  0.2  0.0  0.0  0.2  0.1  0.0  0.0  0.2  0.1\n",
       " 0.1  0.2  0.0  0.0  0.1  0.2  0.0  0.0  0.2  0.2  0.0  0.0\n",
       " 0.2  0.1  0.0  0.0  0.1  0.2  0.0  0.0  0.2  0.1  0.0  0.0\n",
       " 0.1  0.2  0.1  0.2  0.1  0.1  0.1  0.2  0.0  0.0  0.2  0.2\n",
       " 0.2  0.1  0.2  0.1  0.1  0.1  0.1  0.2  0.0  0.0  0.2  0.2\n",
       " 0.0  0.0  0.0  0.0  0.0  0.0  0.1  0.1  0.1  0.2  0.0  0.0\n",
       " 0.0  0.0  0.0  0.0  0.0  0.0  0.1  0.1  0.2  0.2  0.0  0.0"
      ]
     },
     "execution_count": 62,
     "metadata": {},
     "output_type": "execute_result"
    }
   ],
   "source": [
    "dynMatrix = [\n",
    "    0 0 0.2e0 0.2e0 0.1e0 0.1e0 0 0 0 0 0 0; \n",
    "    0 0 0.2e0 0.1e0 0.1e0 0.1e0 0 0 0 0 0 0; \n",
    "    0.2e0 0.2e0 0 0 0.2e0 0.1e0 0.1e0 0.1e0 0.1e0 0.2e0 0.1e0 0.2e0; \n",
    "    0.2e0 0.2e0 0 0 0.2e0 0.1e0 0.1e0 0.1e0 0.2e0 0.1e0 0.2e0 0.1e0; \n",
    "    0 0 0.1e0 0.2e0 0 0 0.2e0 0.1e0 0 0 0.1e0 0.2e0; \n",
    "    0 0 0.2e0 0.2e0 0 0 0.2e0 0.1e0 0 0 0.2e0 0.1e0; \n",
    "    0.1e0 0.2e0 0 0 0.1e0 0.2e0 0 0 0.2e0 0.2e0 0 0; \n",
    "    0.2e0 0.1e0 0 0 0.1e0 0.2e0 0 0 0.2e0 0.1e0 0 0; \n",
    "    0.1e0 0.2e0 0.1e0 0.2e0 0.1e0 0.1e0 0.1e0 0.2e0 0 0 0.2e0 0.2e0;\n",
    "    0.2e0 0.1e0 0.2e0 0.1e0 0.1e0 0.1e0 0.1e0 0.2e0 0 0 0.2e0 0.2e0; \n",
    "    0 0 0 0 0 0 0.1e0 0.1e0 0.1e0 0.2e0 0 0; \n",
    "    0 0 0 0 0 0 0.1e0 0.1e0 0.2e0 0.2e0 0 0]\n"
   ]
  },
  {
   "cell_type": "code",
   "execution_count": 63,
   "metadata": {},
   "outputs": [
    {
     "data": {
      "text/plain": [
       "12×12 Matrix{Float64}:\n",
       " 0.1  0.2  0.2  0.2  0.1  0.1  0.1  0.1  0.1  0.2  0.0  0.0\n",
       " 0.2  0.1  0.2  0.1  0.1  0.1  0.1  0.1  0.2  0.1  0.0  0.0\n",
       " 0.2  0.2  0.0  0.0  0.2  0.1  0.2  0.1  0.2  0.2  0.1  0.2\n",
       " 0.2  0.2  0.0  0.0  0.2  0.1  0.2  0.1  0.2  0.1  0.2  0.1\n",
       " 0.0  0.0  0.0  0.0  0.0  0.0  0.0  0.0  0.0  0.0  0.0  0.0\n",
       " 0.0  0.0  0.0  0.0  0.0  0.0  0.0  0.0  0.0  0.0  0.0  0.0\n",
       " 0.0  0.0  0.0  0.0  0.0  0.0  0.0  0.0  0.0  0.0  0.0  0.0\n",
       " 0.0  0.0  0.0  0.0  0.0  0.0  0.0  0.0  0.0  0.0  0.0  0.0\n",
       " 0.1  0.2  0.1  0.2  0.1  0.2  0.1  0.2  0.0  0.0  0.2  0.2\n",
       " 0.2  0.1  0.2  0.2  0.1  0.2  0.1  0.2  0.0  0.0  0.2  0.2\n",
       " 0.0  0.0  0.1  0.2  0.1  0.1  0.1  0.1  0.1  0.2  0.1  0.2\n",
       " 0.0  0.0  0.2  0.1  0.1  0.1  0.1  0.1  0.2  0.2  0.2  0.1"
      ]
     },
     "execution_count": 63,
     "metadata": {},
     "output_type": "execute_result"
    }
   ],
   "source": [
    "dynFinal = [\n",
    "    0.1e0 0.2e0 0.2e0 0.2e0 0.1e0 0.1e0 0.1e0 0.1e0 0.1e0 0.2e0 0 0; \n",
    "    0.2e0 0.1e0 0.2e0 0.1e0 0.1e0 0.1e0 0.1e0 0.1e0 0.2e0 0.1e0 0 0; \n",
    "    0.2e0 0.2e0 0 0 0.2e0 0.1e0 0.2e0 0.1e0 0.2e0 0.2e0 0.1e0 0.2e0; \n",
    "    0.2e0 0.2e0 0 0 0.2e0 0.1e0 0.2e0 0.1e0 0.2e0 0.1e0 0.2e0 0.1e0; \n",
    "    0 0 0 0 0 0 0 0 0 0 0 0; \n",
    "    0 0 0 0 0 0 0 0 0 0 0 0; \n",
    "    0 0 0 0 0 0 0 0 0 0 0 0; \n",
    "    0 0 0 0 0 0 0 0 0 0 0 0; \n",
    "    0.1e0 0.2e0 0.1e0 0.2e0 0.1e0 0.2e0 0.1e0 0.2e0 0 0 0.2e0 0.2e0; \n",
    "    0.2e0 0.1e0 0.2e0 0.2e0 0.1e0 0.2e0 0.1e0 0.2e0 0 0 0.2e0 0.2e0; \n",
    "    0 0 0.1e0 0.2e0 0.1e0 0.1e0 0.1e0 0.1e0 0.1e0 0.2e0 0.1e0 0.2e0; \n",
    "    0 0 0.2e0 0.1e0 0.1e0 0.1e0 0.1e0 0.1e0 0.2e0 0.2e0 0.2e0 0.1e0]\n"
   ]
  },
  {
   "cell_type": "code",
   "execution_count": 64,
   "metadata": {},
   "outputs": [
    {
     "data": {
      "text/plain": [
       "12-element Vector{Float64}:\n",
       " 0.05\n",
       " 0.05\n",
       " 0.1\n",
       " 0.1\n",
       " 0.1\n",
       " 0.1\n",
       " 0.1\n",
       " 0.1\n",
       " 0.1\n",
       " 0.1\n",
       " 0.05\n",
       " 0.05"
      ]
     },
     "execution_count": 64,
     "metadata": {},
     "output_type": "execute_result"
    }
   ],
   "source": [
    "dynInitial = [0.5e-1,0.5e-1,0.1e0,0.1e0,0.1e0,0.1e0,0.1e0,0.1e0,0.1e0,0.1e0,0.5e-1,0.5e-1]\n",
    "#pp>, pp<, p>, p<, mp>, mp<, mf>, mf<, f>, f<, ff>, ff<"
   ]
  },
  {
   "cell_type": "code",
   "execution_count": 65,
   "metadata": {},
   "outputs": [
    {
     "data": {
      "text/plain": [
       "AugDblMatrix([0.0 0.0 … 0.0 0.0; 0.0 0.0 … 0.0 0.0; … ; 0.0 0.0 … 0.0 0.0; 0.0 0.0 … 0.0 0.0], [0.1 0.2 … 0.0 0.0; 0.2 0.1 … 0.0 0.0; … ; 0.0 0.0 … 0.1 0.2; 0.0 0.0 … 0.2 0.1], [0.05, 0.05, 0.1, 0.1, 0.1, 0.1, 0.1, 0.1, 0.1, 0.1, 0.05, 0.05])"
      ]
     },
     "execution_count": 65,
     "metadata": {},
     "output_type": "execute_result"
    }
   ],
   "source": [
    "dyn = AugDblMatrix(dynMatrix, dynFinal, dynInitial)"
   ]
  },
  {
   "cell_type": "code",
   "execution_count": 66,
   "metadata": {},
   "outputs": [
    {
     "data": {
      "text/plain": [
       "4×4 Matrix{Float64}:\n",
       " 0.0  0.4  0.4  0.4\n",
       " 0.4  0.0  0.2  0.2\n",
       " 0.2  0.2  0.0  0.4\n",
       " 0.4  0.4  0.4  0.0"
      ]
     },
     "execution_count": 66,
     "metadata": {},
     "output_type": "execute_result"
    }
   ],
   "source": [
    "rockPatMatrix = [\n",
    "    #8  Q   b   +\n",
    "    0   0.4 0.4 0.4 #8 \n",
    "    0.4 0   0.2 0.2   #Q\n",
    "    0.2 0.2 0   0.4 #b\n",
    "    0.4 0.4 0.4 0 #+\n",
    "    ]\n",
    "\n"
   ]
  },
  {
   "cell_type": "code",
   "execution_count": 67,
   "metadata": {},
   "outputs": [
    {
     "data": {
      "text/plain": [
       "1×4 Matrix{Float64}:\n",
       " 1.0  1.0  1.0  1.0"
      ]
     },
     "execution_count": 67,
     "metadata": {},
     "output_type": "execute_result"
    }
   ],
   "source": [
    "sum(rockPatMatrix, dims=1)"
   ]
  },
  {
   "cell_type": "code",
   "execution_count": 68,
   "metadata": {},
   "outputs": [
    {
     "data": {
      "text/plain": [
       "4-element Vector{Float64}:\n",
       " 0.4\n",
       " 0.4\n",
       " 0.2\n",
       " 0.0"
      ]
     },
     "execution_count": 68,
     "metadata": {},
     "output_type": "execute_result"
    }
   ],
   "source": [
    "rockPatInitial = [0.4; 0.4; 0.2; 0]"
   ]
  },
  {
   "cell_type": "code",
   "execution_count": 69,
   "metadata": {},
   "outputs": [
    {
     "data": {
      "text/plain": [
       "AugMatrix([0.0 0.4 0.4 0.4; 0.4 0.0 0.2 0.2; 0.2 0.2 0.0 0.4; 0.4 0.4 0.4 0.0], [0.4, 0.4, 0.2, 0.0])"
      ]
     },
     "execution_count": 69,
     "metadata": {},
     "output_type": "execute_result"
    }
   ],
   "source": [
    "rockPat = AugMatrix(rockPatMatrix, rockPatInitial)"
   ]
  },
  {
   "cell_type": "code",
   "execution_count": 70,
   "metadata": {},
   "outputs": [
    {
     "data": {
      "text/plain": [
       "4×4 Matrix{Float64}:\n",
       " 0.1  0.4  0.4  0.4\n",
       " 0.6  0.1  0.4  0.4\n",
       " 0.2  0.4  0.1  0.2\n",
       " 0.1  0.1  0.1  0.0"
      ]
     },
     "execution_count": 70,
     "metadata": {},
     "output_type": "execute_result"
    }
   ],
   "source": [
    "rockInstMatrix = [\n",
    "   #HH  RC  RB  ST \n",
    "    0.1 0.4 0.4   0.4   #HH\n",
    "    0.6 0.1 0.4   0.4   #RC\n",
    "    0.2 0.4 0.1   0.2   #RB\n",
    "    0.1 0.1 0.1   0     #ST\n",
    "]"
   ]
  },
  {
   "cell_type": "code",
   "execution_count": 71,
   "metadata": {},
   "outputs": [
    {
     "data": {
      "text/plain": [
       "1×4 Matrix{Float64}:\n",
       " 1.0  1.0  1.0  1.0"
      ]
     },
     "execution_count": 71,
     "metadata": {},
     "output_type": "execute_result"
    }
   ],
   "source": [
    "sum(rockInstMatrix, dims=1)"
   ]
  },
  {
   "cell_type": "code",
   "execution_count": 72,
   "metadata": {},
   "outputs": [
    {
     "data": {
      "text/plain": [
       "4-element Vector{Float64}:\n",
       " 0.5\n",
       " 0.3\n",
       " 0.0\n",
       " 0.2"
      ]
     },
     "execution_count": 72,
     "metadata": {},
     "output_type": "execute_result"
    }
   ],
   "source": [
    "rockInstInitial = [0.5; 0.3; 0; 0.2]"
   ]
  },
  {
   "cell_type": "code",
   "execution_count": 73,
   "metadata": {},
   "outputs": [
    {
     "data": {
      "text/plain": [
       "AugMatrix([0.1 0.4 0.4 0.4; 0.6 0.1 0.4 0.4; 0.2 0.4 0.1 0.2; 0.1 0.1 0.1 0.0], [0.5, 0.3, 0.0, 0.2])"
      ]
     },
     "execution_count": 73,
     "metadata": {},
     "output_type": "execute_result"
    }
   ],
   "source": [
    "rockInst = AugMatrix(rockInstMatrix, rockInstInitial)"
   ]
  },
  {
   "cell_type": "code",
   "execution_count": 80,
   "metadata": {},
   "outputs": [
    {
     "name": "stdout",
     "output_type": "stream",
     "text": [
      "%%abc-include percussions-JBH.abh\n",
      "\n",
      "%%flatbeams\n",
      "%%propagate-accidentals not\n",
      "%%pos ornament up\n",
      "%%ornament up\n",
      "%%MIDI fermatafixed\n",
      "U: N = !tenuto!\n",
      "U: U = !anti!\n",
      "U: Q = !ghost! %doesn't exist but it should!\n",
      "\n",
      "X:1\n",
      "T:Computer-generated \\`Etude for Solo Drum Kit\n",
      "C:abcsolo16shuffle16bass\n",
      "O:2021-11-11T19:36:23.337\n",
      "M:4/4\n",
      "L:1/8\n",
      "Q:\"Rock 16th shuffle feel\" 1/4=60\n",
      "K:none clef=perc\n",
      "[V:1 clef=perc, stem=up]     % activate abc2xml.py map\n",
      "%%voicemap drummap  % activate abcm2ps/abc2svg map\n",
      "%%MIDI channel 10   % activate abc2midi map\n",
      "%%MIDI program 0\n",
      "|:!ff!(6:4[^DF]/2z/2z/2[F]/2z/2[F]/2 (6:4[c^D]/2z/2z/2[F]/2z/2[F]/2 (6:4[^D]/2z/2z/2[F]/2z/2z/2 (6:4[c^DF]/2z/2z/2[F]/2z/2[F]/2 |(6:4[^D]/2z/2z/2[F]/2z/2z/2 (6:4[c^D]/2z/2z/2z/2z/2z/2 (6:4[^D]/2z/2z/2[F]/2z/2z/2 (6:4[c^DF]/2z/2z/2z/2z/2z/2 |(6:4[^DF]/2z/2z/2[F]/2z/2z/2 (6:4[c^DF]/2z/2z/2[F]/2z/2[F]/2 (6:4[^D]/2z/2z/2[F]/2z/2[F]/2 (6:4[c^D]/2z/2z/2z/2z/2z/2 |[1(6:4c/2G/2e/2A/2e/2z/2 (6:4z/2G/2G/2G/2F/2G/2 (6:4e/2A/2z/2c/2A/2G/2 (6:4c/2A/2e/2e/2e/2A/2 :|2(6:4c/2G/2e/2A/2e/2z/2 (6:4z/2G/2G/2G/2F/2G/2 (6:4e/2A/2z/2c/2!>(!A/2G/2 (6:4c/2A/2!>)!e/2e/2e/2A/2 |:!f!(6:4[^g^DF]/2z/2[^gF]/2[^g]/2z/2[^g]/2 (6:4[c^g^DF]/2z/2[^gF]/2[^g]/2z/2[^g]/2 (6:4[^g^DF]/2z/2[^gF]/2[^g]/2z/2[^g]/2 (6:4[c^g^DF]/2z/2[^g]/2[^g]/2z/2[^g]/2 |(6:4[^g^DF]/2z/2[^gF]/2[^g]/2z/2[^g]/2 (6:4[c^g^D]/2z/2[^g]/2[^gF]/2z/2[^gF]/2 (6:4[^g^D]/2z/2[^g]/2[^gF]/2z/2[^g]/2 (6:4[c^g^D]/2z/2[^g]/2[^gF]/2z/2[^g]/2 |(6:4[^g^D]/2z/2[^g]/2[^gF]/2z/2[^gF]/2 (6:4[c^g^D]/2z/2[^g]/2[^gF]/2z/2[^gF]/2 (6:4[^g^D]/2z/2[^g]/2[^gF]/2z/2[^gF]/2 (6:4[c^g^D]/2z/2[^g]/2[^gF]/2z/2[^g]/2 |[1(6:4G/2e/2e/2A/2z/2A/2 (6:4e/2F/2c/2e/2G/2F/2 (6:4F/2e/2c/2c/2e/2F/2 (6:4c/2c/2e/2e/2e/2A/2 :|2(6:4G/2e/2e/2A/2z/2A/2 (6:4e/2F/2c/2e/2G/2F/2 (6:4F/2e/2c/2c/2!>(!e/2F/2 (6:4c/2c/2!>)!e/2e/2e/2A/2 |:!p!(6:4[F]/2z/2z/2[g]/2z/2[g]/2 (6:4[c]/2z/2z/2[gF]/2z/2[g]/2 (6:4[F]/2z/2z/2[gF]/2z/2[gF]/2 (6:4[c]/2z/2z/2[gF]/2z/2[g]/2 |(6:4[F]/2z/2[F]/2[g]/2z/2[g]/2 (6:4[cF]/2z/2z/2[gF]/2z/2[g]/2 (6:4[F]/2z/2[F]/2[g]/2z/2[g]/2 (6:4[cF]/2z/2z/2[g]/2z/2[g]/2 |(6:4[F]/2z/2z/2[g]/2z/2[g]/2 (6:4[cF]/2z/2[F]/2[g]/2z/2[g]/2 (6:4[F]/2z/2[F]/2[g]/2z/2[g]/2 (6:4[cF]/2z/2z/2[gF]/2z/2[gF]/2 |[1(6:4e/2A/2A/2F/2c/2e/2 (6:4c/2e/2e/2A/2A/2A/2 (6:4A/2c/2A/2A/2A/2G/2 (6:4F/2c/2F/2c/2c/2e/2 :|2(6:4e/2A/2A/2F/2c/2e/2 (6:4c/2e/2e/2A/2A/2A/2 (6:4A/2c/2A/2A/2!<(!A/2G/2 (6:4F/2c/2!<)!F/2c/2c/2e/2 |:!ff!(6:4[g^DF]/2z/2[gF]/2[^D]/2z/2z/2 (6:4[cg^DF]/2z/2[g]/2[^DF]/2z/2z/2 (6:4[g^DF]/2z/2[g]/2[^DF]/2z/2z/2 (6:4[cg^D]/2z/2[g]/2[^DF]/2z/2[F]/2 |(6:4[g^D]/2z/2[g]/2[^DF]/2z/2z/2 (6:4[cg^D]/2z/2[g]/2[^DF]/2z/2[F]/2 (6:4[g^D]/2z/2[g]/2[^DF]/2z/2z/2 (6:4[cg^D]/2z/2[g]/2[^DF]/2z/2z/2 |(6:4[g^D]/2z/2[g]/2[^DF]/2z/2z/2 (6:4[cg^DF]/2z/2[gF]/2[^D]/2z/2z/2 (6:4[g^DF]/2z/2[gF]/2[^D]/2z/2z/2 (6:4[cg^DF]/2z/2[g]/2[^D]/2z/2z/2 |[1(6:4e/2e/2e/2A/2A/2G/2 (6:4e/2A/2F/2A/2G/2G/2 (6:4c/2e/2c/2G/2A/2G/2 (6:4F/2e/2e/2A/2A/2c/2 :|2(6:4e/2e/2e/2A/2A/2G/2 (6:4e/2A/2F/2A/2G/2G/2 (6:4c/2e/2c/2G/2!<(!A/2G/2 (6:4F/2e/2!<)!e/2A/2A/2Hc/2 |]\n"
     ]
    }
   ],
   "source": [
    "solo = abcsolo16shuffle16bass(4, rockBass, rockFill, dyn, rockPat, rockInst, \"Rock 16th shuffle feel\")\n",
    "print(solo)"
   ]
  },
  {
   "cell_type": "code",
   "execution_count": null,
   "metadata": {},
   "outputs": [],
   "source": []
  },
  {
   "cell_type": "code",
   "execution_count": 81,
   "metadata": {},
   "outputs": [],
   "source": [
    "writetune(\"rocktest.abc\", solo)"
   ]
  },
  {
   "cell_type": "code",
   "execution_count": 82,
   "metadata": {},
   "outputs": [
    {
     "name": "stdout",
     "output_type": "stream",
     "text": [
      "%%abc-include percussions-JBH.abh\n",
      "\n",
      "%%flatbeams\n",
      "%%propagate-accidentals not\n",
      "%%pos ornament up\n",
      "%%ornament up\n",
      "%%MIDI fermatafixed\n",
      "U: N = !tenuto!\n",
      "U: U = !anti!\n",
      "U: Q = !ghost! %doesn't exist but it should!\n",
      "\n",
      "X:1\n",
      "T:Computer-generated \\`Etude for Solo Drum Kit\n",
      "C:abcsolo16shuffle16bass\n",
      "O:2021-11-11T19:36:23.337\n",
      "M:4/4\n",
      "L:1/8\n",
      "Q:\"Rock 16th shuffle feel\" 1/4=60\n",
      "K:none clef=perc\n",
      "[V:1 clef=perc, stem=up]     % activate abc2xml.py map\n",
      "%%voicemap drummap  % activate abcm2ps/abc2svg map\n",
      "%%MIDI channel 10   % activate abc2midi map\n",
      "%%MIDI program 0\n",
      "|:!ff!(6:4[^DF]/2z/2z/2[F]/2z/2[F]/2 (6:4[c^D]/2z/2z/2[F]/2z/2[F]/2 (6:4[^D]/2z/2z/2[F]/2z/2z/2 (6:4[c^DF]/2z/2z/2[F]/2z/2[F]/2 |(6:4[^D]/2z/2z/2[F]/2z/2z/2 (6:4[c^D]/2z/2z/2z/2z/2z/2 (6:4[^D]/2z/2z/2[F]/2z/2z/2 (6:4[c^DF]/2z/2z/2z/2z/2z/2 |(6:4[^DF]/2z/2z/2[F]/2z/2z/2 (6:4[c^DF]/2z/2z/2[F]/2z/2[F]/2 (6:4[^D]/2z/2z/2[F]/2z/2[F]/2 (6:4[c^D]/2z/2z/2z/2z/2z/2 |[1(6:4c/2G/2e/2A/2e/2z/2 (6:4z/2G/2G/2G/2F/2G/2 (6:4e/2A/2z/2c/2A/2G/2 (6:4c/2A/2e/2e/2e/2A/2 :|2(6:4c/2G/2e/2A/2e/2z/2 (6:4z/2G/2G/2G/2F/2G/2 (6:4e/2A/2z/2c/2!>(!A/2G/2 (6:4c/2A/2!>)!e/2e/2e/2A/2 |:!f!(6:4[^g^DF]/2z/2[^gF]/2[^g]/2z/2[^g]/2 (6:4[c^g^DF]/2z/2[^gF]/2[^g]/2z/2[^g]/2 (6:4[^g^DF]/2z/2[^gF]/2[^g]/2z/2[^g]/2 (6:4[c^g^DF]/2z/2[^g]/2[^g]/2z/2[^g]/2 |(6:4[^g^DF]/2z/2[^gF]/2[^g]/2z/2[^g]/2 (6:4[c^g^D]/2z/2[^g]/2[^gF]/2z/2[^gF]/2 (6:4[^g^D]/2z/2[^g]/2[^gF]/2z/2[^g]/2 (6:4[c^g^D]/2z/2[^g]/2[^gF]/2z/2[^g]/2 |(6:4[^g^D]/2z/2[^g]/2[^gF]/2z/2[^gF]/2 (6:4[c^g^D]/2z/2[^g]/2[^gF]/2z/2[^gF]/2 (6:4[^g^D]/2z/2[^g]/2[^gF]/2z/2[^gF]/2 (6:4[c^g^D]/2z/2[^g]/2[^gF]/2z/2[^g]/2 |[1(6:4G/2e/2e/2A/2z/2A/2 (6:4e/2F/2c/2e/2G/2F/2 (6:4F/2e/2c/2c/2e/2F/2 (6:4c/2c/2e/2e/2e/2A/2 :|2(6:4G/2e/2e/2A/2z/2A/2 (6:4e/2F/2c/2e/2G/2F/2 (6:4F/2e/2c/2c/2!>(!e/2F/2 (6:4c/2c/2!>)!e/2e/2e/2A/2 |:!p!(6:4[F]/2z/2z/2[g]/2z/2[g]/2 (6:4[c]/2z/2z/2[gF]/2z/2[g]/2 (6:4[F]/2z/2z/2[gF]/2z/2[gF]/2 (6:4[c]/2z/2z/2[gF]/2z/2[g]/2 |(6:4[F]/2z/2[F]/2[g]/2z/2[g]/2 (6:4[cF]/2z/2z/2[gF]/2z/2[g]/2 (6:4[F]/2z/2[F]/2[g]/2z/2[g]/2 (6:4[cF]/2z/2z/2[g]/2z/2[g]/2 |(6:4[F]/2z/2z/2[g]/2z/2[g]/2 (6:4[cF]/2z/2[F]/2[g]/2z/2[g]/2 (6:4[F]/2z/2[F]/2[g]/2z/2[g]/2 (6:4[cF]/2z/2z/2[gF]/2z/2[gF]/2 |[1(6:4e/2A/2A/2F/2c/2e/2 (6:4c/2e/2e/2A/2A/2A/2 (6:4A/2c/2A/2A/2A/2G/2 (6:4F/2c/2F/2c/2c/2e/2 :|2(6:4e/2A/2A/2F/2c/2e/2 (6:4c/2e/2e/2A/2A/2A/2 (6:4A/2c/2A/2A/2!<(!A/2G/2 (6:4F/2c/2!<)!F/2c/2c/2e/2 |:!ff!(6:4[g^DF]/2z/2[gF]/2[^D]/2z/2z/2 (6:4[cg^DF]/2z/2[g]/2[^DF]/2z/2z/2 (6:4[g^DF]/2z/2[g]/2[^DF]/2z/2z/2 (6:4[cg^D]/2z/2[g]/2[^DF]/2z/2[F]/2 |(6:4[g^D]/2z/2[g]/2[^DF]/2z/2z/2 (6:4[cg^D]/2z/2[g]/2[^DF]/2z/2[F]/2 (6:4[g^D]/2z/2[g]/2[^DF]/2z/2z/2 (6:4[cg^D]/2z/2[g]/2[^DF]/2z/2z/2 |(6:4[g^D]/2z/2[g]/2[^DF]/2z/2z/2 (6:4[cg^DF]/2z/2[gF]/2[^D]/2z/2z/2 (6:4[g^DF]/2z/2[gF]/2[^D]/2z/2z/2 (6:4[cg^DF]/2z/2[g]/2[^D]/2z/2z/2 |[1(6:4e/2e/2e/2A/2A/2G/2 (6:4e/2A/2F/2A/2G/2G/2 (6:4c/2e/2c/2G/2A/2G/2 (6:4F/2e/2e/2A/2A/2c/2 :|2(6:4e/2e/2e/2A/2A/2G/2 (6:4e/2A/2F/2A/2G/2G/2 (6:4c/2e/2c/2G/2!<(!A/2G/2 (6:4F/2e/2!<)!e/2A/2A/2Hc/2 |]\n"
     ]
    },
    {
     "data": {
      "text/plain": [
       "Process(`\u001b[4mcat\u001b[24m \u001b[4mrocktest.abc\u001b[24m`, ProcessExited(0))"
      ]
     },
     "execution_count": 82,
     "metadata": {},
     "output_type": "execute_result"
    }
   ],
   "source": [
    "run(`cat rocktest.abc`)"
   ]
  },
  {
   "cell_type": "code",
   "execution_count": 83,
   "metadata": {
    "scrolled": false
   },
   "outputs": [
    {
     "name": "stdout",
     "output_type": "stream",
     "text": [
      "\r\n",
      "(base) C:\\Users\\holden\\Documents\\GitHub\\drum_solo_generator>abcm2ps.exe -X rocktest.abc -O rocktest.xhtml \r\n",
      "abcm2ps-8.14.12 (2021-07-14)\r\n",
      "File rocktest.abc\r\n",
      "File percussions-JBH.abh\r\n",
      "Output written on rocktest.xhtml (1 page, 1 title, 75961 bytes)\r\n",
      "\r\n",
      "(base) C:\\Users\\holden\\Documents\\GitHub\\drum_solo_generator>abc2midi.exe rocktest.abc -o rocktest.mid \r\n",
      "4.59 June 27 2021 abc2midi\r\n",
      "Warning in line-char 24-17 : Different length notes in tuple\r\n",
      "Warning in line-char 24-20 : Different length notes in tuple\r\n",
      "Warning in line-char 24-28 : Different length notes in tuple\r\n",
      "Warning in line-char 24-48 : Different length notes in tuple\r\n",
      "Warning in line-char 24-51 : Different length notes in tuple\r\n",
      "Warning in line-char 24-59 : Different length notes in tuple\r\n",
      "Warning in line-char 24-78 : Different length notes in tuple\r\n",
      "Warning in line-char 24-81 : Different length notes in tuple\r\n",
      "Warning in line-char 24-89 : Different length notes in tuple\r\n",
      "Warning in line-char 24-92 : Different length notes in tuple\r\n",
      "Warning in line-char 24-108 : Different length notes in tuple\r\n",
      "Warning in line-char 24-111 : Different length notes in tuple\r\n",
      "Warning in line-char 24-119 : Different length notes in tuple\r\n",
      "Warning in line-char 24-139 : Different length notes in tuple\r\n",
      "Warning in line-char 24-142 : Different length notes in tuple\r\n",
      "Warning in line-char 24-150 : Different length notes in tuple\r\n",
      "Warning in line-char 24-153 : Different length notes in tuple\r\n",
      "Warning in line-char 24-168 : Different length notes in tuple\r\n",
      "Warning in line-char 24-171 : Different length notes in tuple\r\n",
      "Warning in line-char 24-174 : Different length notes in tuple\r\n",
      "Warning in line-char 24-177 : Different length notes in tuple\r\n",
      "Warning in line-char 24-180 : Different length notes in tuple\r\n",
      "Warning in line-char 24-194 : Different length notes in tuple\r\n",
      "Warning in line-char 24-197 : Different length notes in tuple\r\n",
      "Warning in line-char 24-205 : Different length notes in tuple\r\n",
      "Warning in line-char 24-208 : Different length notes in tuple\r\n",
      "Warning in line-char 24-224 : Different length notes in tuple\r\n",
      "Warning in line-char 24-227 : Different length notes in tuple\r\n",
      "Warning in line-char 24-230 : Different length notes in tuple\r\n",
      "Warning in line-char 24-233 : Different length notes in tuple\r\n",
      "Warning in line-char 24-236 : Different length notes in tuple\r\n",
      "Warning in line-char 24-252 : Different length notes in tuple\r\n",
      "Warning in line-char 24-255 : Different length notes in tuple\r\n",
      "Warning in line-char 24-263 : Different length notes in tuple\r\n",
      "Warning in line-char 24-266 : Different length notes in tuple\r\n",
      "Warning in line-char 24-282 : Different length notes in tuple\r\n",
      "Warning in line-char 24-285 : Different length notes in tuple\r\n",
      "Warning in line-char 24-293 : Different length notes in tuple\r\n",
      "Warning in line-char 24-312 : Different length notes in tuple\r\n",
      "Warning in line-char 24-315 : Different length notes in tuple\r\n",
      "Warning in line-char 24-323 : Different length notes in tuple\r\n",
      "Warning in line-char 24-343 : Different length notes in tuple\r\n",
      "Warning in line-char 24-346 : Different length notes in tuple\r\n",
      "Warning in line-char 24-349 : Different length notes in tuple\r\n",
      "Warning in line-char 24-352 : Different length notes in tuple\r\n",
      "Warning in line-char 24-355 : Different length notes in tuple\r\n",
      "Warning in line-char 24-575 : Different length notes in tuple\r\n",
      "Warning in line-char 24-591 : Different length notes in tuple\r\n",
      "Warning in line-char 24-615 : Different length notes in tuple\r\n",
      "Warning in line-char 24-631 : Different length notes in tuple\r\n",
      "Warning in line-char 24-654 : Different length notes in tuple\r\n",
      "Warning in line-char 24-670 : Different length notes in tuple\r\n",
      "Warning in line-char 24-694 : Different length notes in tuple\r\n",
      "Warning in line-char 24-709 : Different length notes in tuple\r\n",
      "Warning in line-char 24-733 : Different length notes in tuple\r\n",
      "Warning in line-char 24-749 : Different length notes in tuple\r\n",
      "Warning in line-char 24-772 : Different length notes in tuple\r\n",
      "Warning in line-char 24-788 : Different length notes in tuple\r\n",
      "Warning in line-char 24-811 : Different length notes in tuple\r\n",
      "Warning in line-char 24-827 : Different length notes in tuple\r\n",
      "Warning in line-char 24-850 : Different length notes in tuple\r\n",
      "Warning in line-char 24-866 : Different length notes in tuple\r\n",
      "Warning in line-char 24-889 : Different length notes in tuple\r\n",
      "Warning in line-char 24-905 : Different length notes in tuple\r\n",
      "Warning in line-char 24-929 : Different length notes in tuple\r\n",
      "Warning in line-char 24-945 : Different length notes in tuple\r\n",
      "Warning in line-char 24-968 : Different length notes in tuple\r\n",
      "Warning in line-char 24-984 : Different length notes in tuple\r\n",
      "Warning in line-char 24-1008 : Different length notes in tuple\r\n",
      "Warning in line-char 24-1024 : Different length notes in tuple\r\n",
      "Warning in line-char 24-1246 : Different length notes in tuple\r\n",
      "Warning in line-char 24-1249 : Different length notes in tuple\r\n",
      "Warning in line-char 24-1257 : Different length notes in tuple\r\n",
      "Warning in line-char 24-1275 : Different length notes in tuple\r\n",
      "Warning in line-char 24-1278 : Different length notes in tuple\r\n",
      "Warning in line-char 24-1287 : Different length notes in tuple\r\n",
      "Warning in line-char 24-1305 : Different length notes in tuple\r\n",
      "Warning in line-char 24-1308 : Different length notes in tuple\r\n",
      "Warning in line-char 24-1317 : Different length notes in tuple\r\n",
      "Warning in line-char 24-1336 : Different length notes in tuple\r\n",
      "Warning in line-char 24-1339 : Different length notes in tuple\r\n",
      "Warning in line-char 24-1348 : Different length notes in tuple\r\n",
      "Warning in line-char 24-1367 : Different length notes in tuple\r\n",
      "Warning in line-char 24-1380 : Different length notes in tuple\r\n",
      "Warning in line-char 24-1399 : Different length notes in tuple\r\n",
      "Warning in line-char 24-1402 : Different length notes in tuple\r\n",
      "Warning in line-char 24-1411 : Different length notes in tuple\r\n",
      "Warning in line-char 24-1429 : Different length notes in tuple\r\n",
      "Warning in line-char 24-1442 : Different length notes in tuple\r\n",
      "Warning in line-char 24-1461 : Different length notes in tuple\r\n",
      "Warning in line-char 24-1464 : Different length notes in tuple\r\n",
      "Warning in line-char 24-1472 : Different length notes in tuple\r\n",
      "Warning in line-char 24-1491 : Different length notes in tuple\r\n",
      "Warning in line-char 24-1494 : Different length notes in tuple\r\n",
      "Warning in line-char 24-1502 : Different length notes in tuple\r\n",
      "Warning in line-char 24-1521 : Different length notes in tuple\r\n",
      "Warning in line-char 24-1534 : Different length notes in tuple\r\n",
      "Warning in line-char 24-1552 : Different length notes in tuple\r\n",
      "Warning in line-char 24-1565 : Different length notes in tuple\r\n",
      "Warning in line-char 24-1584 : Different length notes in tuple\r\n",
      "Warning in line-char 24-1587 : Different length notes in tuple\r\n",
      "Warning in line-char 24-1596 : Different length notes in tuple\r\n",
      "Warning in line-char 24-1822 : Different length notes in tuple\r\n",
      "Warning in line-char 24-1837 : Different length notes in tuple\r\n",
      "Warning in line-char 24-1840 : Different length notes in tuple\r\n",
      "Warning in line-char 24-1857 : Different length notes in tuple\r\n",
      "Warning in line-char 24-1872 : Different length notes in tuple\r\n",
      "Warning in line-char 24-1875 : Different length notes in tuple\r\n",
      "Warning in line-char 24-1891 : Different length notes in tuple\r\n",
      "Warning in line-char 24-1906 : Different length notes in tuple\r\n",
      "Warning in line-char 24-1909 : Different length notes in tuple\r\n",
      "Warning in line-char 24-1925 : Different length notes in tuple\r\n",
      "Warning in line-char 24-1940 : Different length notes in tuple\r\n",
      "Warning in line-char 24-1961 : Different length notes in tuple\r\n",
      "Warning in line-char 24-1976 : Different length notes in tuple\r\n",
      "Warning in line-char 24-1979 : Different length notes in tuple\r\n",
      "Warning in line-char 24-1995 : Different length notes in tuple\r\n",
      "Warning in line-char 24-2010 : Different length notes in tuple\r\n",
      "Warning in line-char 24-2030 : Different length notes in tuple\r\n",
      "Warning in line-char 24-2045 : Different length notes in tuple\r\n",
      "Warning in line-char 24-2048 : Different length notes in tuple\r\n",
      "Warning in line-char 24-2064 : Different length notes in tuple\r\n",
      "Warning in line-char 24-2079 : Different length notes in tuple\r\n",
      "Warning in line-char 24-2082 : Different length notes in tuple\r\n",
      "Warning in line-char 24-2098 : Different length notes in tuple\r\n",
      "Warning in line-char 24-2113 : Different length notes in tuple\r\n",
      "Warning in line-char 24-2116 : Different length notes in tuple\r\n",
      "Warning in line-char 24-2133 : Different length notes in tuple\r\n",
      "Warning in line-char 24-2148 : Different length notes in tuple\r\n",
      "Warning in line-char 24-2151 : Different length notes in tuple\r\n",
      "Warning in line-char 24-2167 : Different length notes in tuple\r\n",
      "Warning in line-char 24-2182 : Different length notes in tuple\r\n",
      "Warning in line-char 24-2185 : Different length notes in tuple\r\n",
      "Warning in line-char 24-2202 : Different length notes in tuple\r\n",
      "Warning in line-char 24-2216 : Different length notes in tuple\r\n",
      "Warning in line-char 24-2219 : Different length notes in tuple\r\n",
      "writing MIDI file rocktest.mid\r\n",
      "Warning in line-char 24-2422 : Track 1 Bar 19 has 9/2 units instead of 4 in repeat\r\n",
      "\r\n",
      "(base) C:\\Users\\holden\\Documents\\GitHub\\drum_solo_generator>start rocktest.mid \r\n"
     ]
    },
    {
     "name": "stderr",
     "output_type": "stream",
     "text": [
      "rocktest.abc:24:318: warning: Line overfull (637pt of 628pt)\r\n"
     ]
    },
    {
     "name": "stdout",
     "output_type": "stream",
     "text": [
      "\r\n",
      "(base) C:\\Users\\holden\\Documents\\GitHub\\drum_solo_generator>start rocktest.xhtml \r\n"
     ]
    },
    {
     "data": {
      "text/plain": [
       "Process(`\u001b[4mabctest.bat\u001b[24m \u001b[4mrocktest.abc\u001b[24m`, ProcessExited(0))"
      ]
     },
     "execution_count": 83,
     "metadata": {},
     "output_type": "execute_result"
    }
   ],
   "source": [
    "run(`abctest.bat rocktest.abc`)"
   ]
  },
  {
   "cell_type": "code",
   "execution_count": 84,
   "metadata": {},
   "outputs": [
    {
     "data": {
      "text/plain": [
       "4×4 Matrix{Float64}:\n",
       " 0.1  0.333333  0.25  0.5\n",
       " 0.3  0.333333  0.25  0.5\n",
       " 0.3  0.333333  0.25  0.0\n",
       " 0.3  0.0       0.25  0.0"
      ]
     },
     "execution_count": 84,
     "metadata": {},
     "output_type": "execute_result"
    }
   ],
   "source": [
    "funkBassMatrix = [0.1e0 1//3 0.25e0 0.5e0; 0.3e0 1//3 0.25e0 0.5e0; 0.3e0 1//3 0.25e0 0; 0.3e0 0 0.25e0 0]"
   ]
  },
  {
   "cell_type": "code",
   "execution_count": 85,
   "metadata": {},
   "outputs": [
    {
     "data": {
      "text/plain": [
       "4-element Vector{Float64}:\n",
       " 0.1\n",
       " 0.1\n",
       " 0.4\n",
       " 0.4"
      ]
     },
     "execution_count": 85,
     "metadata": {},
     "output_type": "execute_result"
    }
   ],
   "source": [
    "funkBassInitial = [0.1e0,0.1e0,0.4e0,0.4e0]"
   ]
  },
  {
   "cell_type": "code",
   "execution_count": 138,
   "metadata": {},
   "outputs": [
    {
     "data": {
      "text/plain": [
       "AugMatrix([0.1 0.3333333333333333 0.25 0.5; 0.3 0.3333333333333333 0.25 0.5; 0.3 0.3333333333333333 0.25 0.0; 0.3 0.0 0.25 0.0], [0.1, 0.1, 0.4, 0.4])"
      ]
     },
     "execution_count": 138,
     "metadata": {},
     "output_type": "execute_result"
    }
   ],
   "source": [
    "funkBass = AugMatrix(funkBassMatrix, funkBassInitial)"
   ]
  },
  {
   "cell_type": "code",
   "execution_count": 139,
   "metadata": {},
   "outputs": [
    {
     "data": {
      "text/plain": [
       "6×6 Matrix{Float64}:\n",
       " 0.2  0.1  0.1  0.0  0.3  0.2\n",
       " 0.4  0.2  0.0  0.3  0.3  0.2\n",
       " 0.1  0.4  0.2  0.1  0.1  0.2\n",
       " 0.1  0.1  0.4  0.3  0.1  0.2\n",
       " 0.1  0.1  0.1  0.2  0.1  0.1\n",
       " 0.1  0.1  0.2  0.1  0.1  0.1"
      ]
     },
     "execution_count": 139,
     "metadata": {},
     "output_type": "execute_result"
    }
   ],
   "source": [
    "funkFillLeftToRight = [0.2e0 0.1e0 0.1e0 0 0.3e0 0.2e0; 0.4e0 0.2e0 0 0.3e0 0.3e0 0.2e0; 0.1e0 0.4e0 0.2e0 0.1e0 0.1e0 0.2e0; 0.1e0 0.1e0 0.4e0 0.3e0 0.1e0 0.2e0; 0.1e0 0.1e0 0.1e0 0.2e0 0.1e0 0.1e0; 0.1e0 0.1e0 0.2e0 0.1e0 0.1e0 0.1e0]"
   ]
  },
  {
   "cell_type": "code",
   "execution_count": 140,
   "metadata": {},
   "outputs": [
    {
     "data": {
      "text/plain": [
       "6×6 Matrix{Float64}:\n",
       " 0.4  0.2  0.1  0.1  0.3  0.2\n",
       " 0.2  0.4  0.2  0.2  0.2  0.2\n",
       " 0.1  0.0  0.4  0.1  0.1  0.2\n",
       " 0.0  0.1  0.1  0.4  0.1  0.2\n",
       " 0.2  0.1  0.1  0.1  0.2  0.1\n",
       " 0.1  0.2  0.1  0.1  0.1  0.1"
      ]
     },
     "execution_count": 140,
     "metadata": {},
     "output_type": "execute_result"
    }
   ],
   "source": [
    "funkFillRightToLeft = [0.4e0 0.2e0 0.1e0 0.1e0 0.3e0 0.2e0; 0.2e0 0.4e0 0.2e0 0.2e0 0.2e0 0.2e0; 0.1e0 0 0.4e0 0.1e0 0.1e0 0.2e0; 0 0.1e0 0.1e0 0.4e0 0.1e0 0.2e0; 0.2e0 0.1e0 0.1e0 0.1e0 0.2e0 0.1e0; 0.1e0 0.2e0 0.1e0 0.1e0 0.1e0 0.1e0]\n"
   ]
  },
  {
   "cell_type": "code",
   "execution_count": 141,
   "metadata": {},
   "outputs": [
    {
     "data": {
      "text/plain": [
       "6-element Vector{Float64}:\n",
       " 0.3\n",
       " 0.3\n",
       " 0.1\n",
       " 0.1\n",
       " 0.1\n",
       " 0.1"
      ]
     },
     "execution_count": 141,
     "metadata": {},
     "output_type": "execute_result"
    }
   ],
   "source": [
    "funkFillInitial = [0.3e0,0.3e0,0.1e0,0.1e0,0.1e0,0.1e0]"
   ]
  },
  {
   "cell_type": "code",
   "execution_count": 142,
   "metadata": {},
   "outputs": [
    {
     "data": {
      "text/plain": [
       "AugDblMatrix([0.2 0.1 … 0.3 0.2; 0.4 0.2 … 0.3 0.2; … ; 0.1 0.1 … 0.1 0.1; 0.1 0.1 … 0.1 0.1], [0.4 0.2 … 0.3 0.2; 0.2 0.4 … 0.2 0.2; … ; 0.2 0.1 … 0.2 0.1; 0.1 0.2 … 0.1 0.1], [0.3, 0.3, 0.1, 0.1, 0.1, 0.1])"
      ]
     },
     "execution_count": 142,
     "metadata": {},
     "output_type": "execute_result"
    }
   ],
   "source": [
    "funkFill = AugDblMatrix(funkFillLeftToRight, funkFillRightToLeft, funkFillInitial)"
   ]
  },
  {
   "cell_type": "code",
   "execution_count": 143,
   "metadata": {},
   "outputs": [
    {
     "data": {
      "text/plain": [
       "10×10 Matrix{Float64}:\n",
       " 0.0  0.1  0.1  0.1  0.2  0.2  0.2  0.2  0.0  0.2\n",
       " 0.2  0.0  0.2  0.2  0.1  0.2  0.2  0.2  0.2  0.1\n",
       " 0.1  0.1  0.0  0.0  0.1  0.1  0.1  0.1  0.1  0.1\n",
       " 0.1  0.1  0.0  0.0  0.1  0.1  0.1  0.1  0.1  0.1\n",
       " 0.2  0.2  0.2  0.2  0.0  0.1  0.1  0.1  0.2  0.0\n",
       " 0.1  0.1  0.1  0.1  0.1  0.0  0.1  0.1  0.1  0.1\n",
       " 0.1  0.1  0.1  0.1  0.1  0.0  0.0  0.0  0.1  0.1\n",
       " 0.1  0.1  0.1  0.1  0.1  0.0  0.0  0.0  0.1  0.1\n",
       " 0.0  0.1  0.1  0.1  0.2  0.1  0.1  0.1  0.0  0.2\n",
       " 0.1  0.1  0.1  0.1  0.0  0.2  0.1  0.1  0.1  0.0"
      ]
     },
     "execution_count": 143,
     "metadata": {},
     "output_type": "execute_result"
    }
   ],
   "source": [
    "funkRideMatrix = [\n",
    "     #HH8 #RQ    #R8sB #R8sA #beA  #sl4A #sl2A #sl1A #HHdr8 #s8beB\n",
    "    0 0.1e0 0.1e0 0.1e0 0.2e0 0.2e0 0.2e0 0.2e0 0 0.2e0; #HH8 \n",
    "    0.2e0 0 0.2e0 0.2e0 0.1e0 0.2e0 0.2e0 0.2e0 0.2e0 0.1e0; #RQ   \n",
    "    0.1e0 0.1e0 0 0 0.1e0 0.1e0 0.1e0 0.1e0 0.1e0 0.1e0;   #R8sB \n",
    "    0.1e0 0.1e0 0 0 0.1e0 0.1e0 0.1e0 0.1e0 0.1e0 0.1e0;  #R8sA \n",
    "    0.2e0 0.2e0 0.2e0 0.2e0 0 0.1e0 0.1e0 0.1e0 0.2e0 0; #beA \n",
    "    0.1e0 0.1e0 0.1e0 0.1e0 0.1e0 0 0.1e0 0.1e0 0.1e0 0.1e0;  #sl4A\n",
    "    0.1e0 0.1e0 0.1e0 0.1e0 0.1e0 0 0 0 0.1e0 0.1e0; #sl2A\n",
    "    0.1e0 0.1e0 0.1e0 0.1e0 0.1e0 0 0 0 0.1e0 0.1e0; #sl1A\n",
    "    0 0.1e0 0.1e0 0.1e0 0.2e0 0.1e0 0.1e0 0.1e0 0 0.2e0; #HHdr8\n",
    "    0.1e0 0.1e0 0.1e0 0.1e0 0 0.2e0 0.1e0 0.1e0 0.1e0 0 #s8beB\n",
    "]\n"
   ]
  },
  {
   "cell_type": "code",
   "execution_count": 144,
   "metadata": {},
   "outputs": [
    {
     "data": {
      "text/plain": [
       "10-element Vector{Float64}:\n",
       " 0.2\n",
       " 0.2\n",
       " 0.0\n",
       " 0.0\n",
       " 0.1\n",
       " 0.1\n",
       " 0.1\n",
       " 0.1\n",
       " 0.2\n",
       " 0.0"
      ]
     },
     "execution_count": 144,
     "metadata": {},
     "output_type": "execute_result"
    }
   ],
   "source": [
    "funkRideInitial = [0.2e0,0.2e0,0,0,0.1e0,0.1e0,0.1e0,0.1e0,0.2e0,0]"
   ]
  },
  {
   "cell_type": "code",
   "execution_count": 145,
   "metadata": {},
   "outputs": [
    {
     "data": {
      "text/plain": [
       "AugMatrix([0.0 0.1 … 0.0 0.2; 0.2 0.0 … 0.2 0.1; … ; 0.0 0.1 … 0.0 0.2; 0.1 0.1 … 0.1 0.0], [0.2, 0.2, 0.0, 0.0, 0.1, 0.1, 0.1, 0.1, 0.2, 0.0])"
      ]
     },
     "execution_count": 145,
     "metadata": {},
     "output_type": "execute_result"
    }
   ],
   "source": [
    "funkRide = AugMatrix(funkRideMatrix, funkRideInitial)"
   ]
  },
  {
   "cell_type": "code",
   "execution_count": 170,
   "metadata": {},
   "outputs": [
    {
     "data": {
      "text/plain": [
       "4×4 Matrix{Float64}:\n",
       " 0.0  0.2  0.2  0.2\n",
       " 0.2  0.0  0.4  0.4\n",
       " 0.2  0.2  0.0  0.4\n",
       " 0.6  0.6  0.4  0.0"
      ]
     },
     "execution_count": 170,
     "metadata": {},
     "output_type": "execute_result"
    }
   ],
   "source": [
    "funkPatMatrix = [\n",
    "    #8  Q   b   +\n",
    "    0   0.2 0.2 0.2 #8 \n",
    "    0.2 0   0.4 0.4   #Q\n",
    "    0.2 0.2 0   0.4 #b\n",
    "    0.6 0.6 0.4 0 #+\n",
    "    ]"
   ]
  },
  {
   "cell_type": "code",
   "execution_count": 171,
   "metadata": {},
   "outputs": [
    {
     "data": {
      "text/plain": [
       "1×4 Matrix{Float64}:\n",
       " 1.0  1.0  1.0  1.0"
      ]
     },
     "execution_count": 171,
     "metadata": {},
     "output_type": "execute_result"
    }
   ],
   "source": [
    "sum(funkPatMatrix, dims=1)"
   ]
  },
  {
   "cell_type": "code",
   "execution_count": 172,
   "metadata": {},
   "outputs": [
    {
     "data": {
      "text/plain": [
       "4-element Vector{Float64}:\n",
       " 0.0\n",
       " 0.2\n",
       " 0.4\n",
       " 0.4"
      ]
     },
     "execution_count": 172,
     "metadata": {},
     "output_type": "execute_result"
    }
   ],
   "source": [
    "funkPatInitial = [0; 0.2; 0.4; 0.4]"
   ]
  },
  {
   "cell_type": "code",
   "execution_count": 173,
   "metadata": {},
   "outputs": [
    {
     "data": {
      "text/plain": [
       "AugMatrix([0.0 0.2 0.2 0.2; 0.2 0.0 0.4 0.4; 0.2 0.2 0.0 0.4; 0.6 0.6 0.4 0.0], [0.0, 0.2, 0.4, 0.4])"
      ]
     },
     "execution_count": 173,
     "metadata": {},
     "output_type": "execute_result"
    }
   ],
   "source": [
    "funkPat = AugMatrix(funkPatMatrix, funkPatInitial)"
   ]
  },
  {
   "cell_type": "code",
   "execution_count": 174,
   "metadata": {},
   "outputs": [
    {
     "data": {
      "text/plain": [
       "4×4 Matrix{Float64}:\n",
       " 0.1  0.4  0.4  0.4\n",
       " 0.6  0.1  0.4  0.4\n",
       " 0.2  0.4  0.1  0.2\n",
       " 0.1  0.1  0.1  0.0"
      ]
     },
     "execution_count": 174,
     "metadata": {},
     "output_type": "execute_result"
    }
   ],
   "source": [
    "funkInstMatrix = [\n",
    "   #HH  RC  RB  ST \n",
    "    0.1 0.4 0.4   0.4   #HH\n",
    "    0.6 0.1 0.4   0.4   #RC\n",
    "    0.2 0.4 0.1   0.2   #RB\n",
    "    0.1 0.1 0.1   0     #ST\n",
    "]"
   ]
  },
  {
   "cell_type": "code",
   "execution_count": 175,
   "metadata": {},
   "outputs": [
    {
     "data": {
      "text/plain": [
       "4-element Vector{Float64}:\n",
       " 0.4\n",
       " 0.4\n",
       " 0.2\n",
       " 0.0"
      ]
     },
     "execution_count": 175,
     "metadata": {},
     "output_type": "execute_result"
    }
   ],
   "source": [
    "funkInstInitial = [0.4; 0.4; 0.2; 0]"
   ]
  },
  {
   "cell_type": "code",
   "execution_count": 176,
   "metadata": {},
   "outputs": [
    {
     "data": {
      "text/plain": [
       "AugMatrix([0.1 0.4 0.4 0.4; 0.6 0.1 0.4 0.4; 0.2 0.4 0.1 0.2; 0.1 0.1 0.1 0.0], [0.4, 0.4, 0.2, 0.0])"
      ]
     },
     "execution_count": 176,
     "metadata": {},
     "output_type": "execute_result"
    }
   ],
   "source": [
    "funkInst = AugMatrix(funkInstMatrix, funkInstInitial)"
   ]
  },
  {
   "cell_type": "code",
   "execution_count": 177,
   "metadata": {},
   "outputs": [
    {
     "name": "stdout",
     "output_type": "stream",
     "text": [
      "%%abc-include percussions-JBH.abh\n",
      "\n",
      "X:1\n",
      "T:Computer-generated \\`Etude for Solo Drum Kit\n",
      "C:abcsolo8patinst16bass\n",
      "O:2021-10-19T18:55:34.504\n",
      "M:4/4\n",
      "L:1/8\n",
      "Q:\"Funk 16th feel\" 1/4=80\n",
      "K:none clef=perc\n",
      "[V:1 clef=perc, stem=up]     % activate abc2xml.py map\n",
      "%%voicemap drummap  % activate abcm2ps/abc2svg map\n",
      "%%MIDI channel 10   % activate abc2midi map\n",
      "%%MIDI program 0\n",
      "%%flatbeams\n",
      "%%propagate-accidentals not\n",
      "%%pos ornament up\n",
      "%%ornament up\n",
      "%%MIDI fermatafixed\n",
      "|:!f![gF]/2[F/2][^g]y[cg]y[^gF]/2[F/2] [g]/2[F/2][^g]y[cg]/2[F/2][^gF]y |[g]/2[F/2][^gF]y[cg]/2[F/2][^g]y [gF]/2[F/2][^g]/2[F/2][cgF]y[^gF]y |[g]/2[F/2][^gF]y[cgF]y[^gF]/2[F/2] [g]y[^g]/2[F/2][cg]y[^g]y |[1F/2A/2e/2F/2 z/2F/2G/2G/2 A/2G/2G/2e/2 c/2A/2c/2F/2 :|2F/2A/2e/2F/2 z/2F/2G/2G/2 A/2G/2G/2e/2 !<(!c/2A/2!<)!c/2F/2 |:!mf![F]y[gF]y[c]y[gF]/2[F/2] z/2[F/2][g]/2[F/2][c]/2[F/2][g]/2[F/2] |zy[gF]y[c]y[gF]y z/2[F/2][g]/2[F/2][cF]y[gF]y |zy[gF]y[cF]/2[F/2][g]y [F]y[g]/2[F/2][c]y[gF]/2[F/2] |[1c/2F/2e/2z/2 c/2e/2e/2A/2 A/2G/2z/2A/2 A/2z/2c/2e/2 :|2c/2F/2e/2z/2 c/2e/2e/2A/2 A/2G/2z/2A/2 !<(!A/2z/2!<)!c/2e/2 |:!mp!\"^_\"[^eF]/2[F/2]z/2[F/2]\"^_\"[c^e]yz/2[F/2] \"^_\"[^e]/2[F/2][F]y\"^_\"[c^eF]/2[F/2]zy |\"^_\"[^eF]/2[F/2]z/2[F/2]\"^_\"[c^eF]yzy \"^_\"[^e]/2[F/2]zy\"^_\"[c^eF]yz/2[F/2] |\"^_\"[^eF]y[F]/2[F/2]\"^_\"[c^e]/2[F/2]zy \"^_\"[^eF]y[F]/2[F/2]\"^_\"[c^e]y[F]/2[F/2] |[1A/2z/2G/2F/2 c/2z/2c/2e/2 c/2e/2e/2c/2 e/2A/2A/2A/2 :|2A/2z/2G/2F/2 c/2z/2c/2e/2 c/2e/2e/2c/2 !<(!e/2A/2!<)!A/2A/2 |:!p![^g^DF]y[^gF]y[c^g^DF]y[^gF]y [^g^DF]y[^gF]/2[F/2][c^g^D]/2[F/2][^gF]y |[^g^D]y[^gF]y[c^g^DF]y[^g]/2[F/2] [^g^DF]y[^gF]y[c^g^D]y[^gF]/2[F/2] |[^g^D]/2[F/2][^gF]y[c^g^D]y[^gF]y [^g^D]y[^gF]/2[F/2][c^g^D]/2[F/2][^g]y |[1e/2c/2c/2z/2 G/2z/2G/2G/2 e/2z/2G/2G/2 G/2e/2e/2A/2 :|2e/2c/2c/2z/2 G/2z/2G/2G/2 e/2z/2G/2G/2 !<(!G/2e/2!<)!e/2HA/2 |]\n"
     ]
    }
   ],
   "source": [
    "funksolo = abcsolo8patinst16bass(4, funkBass, funkFill, dyn, funkPat, funkInst, \"Funk 16th feel\")\n",
    "print(funksolo)"
   ]
  },
  {
   "cell_type": "code",
   "execution_count": 178,
   "metadata": {},
   "outputs": [],
   "source": [
    "writetune(\"funktest.abc\", funksolo)"
   ]
  },
  {
   "cell_type": "code",
   "execution_count": 179,
   "metadata": {},
   "outputs": [
    {
     "name": "stdout",
     "output_type": "stream",
     "text": [
      "%%abc-include percussions-JBH.abh\n",
      "\n",
      "X:1\n",
      "T:Computer-generated \\`Etude for Solo Drum Kit\n",
      "C:abcsolo8patinst16bass\n",
      "O:2021-10-19T18:55:34.504\n",
      "M:4/4\n",
      "L:1/8\n",
      "Q:\"Funk 16th feel\" 1/4=80\n",
      "K:none clef=perc\n",
      "[V:1 clef=perc, stem=up]     % activate abc2xml.py map\n",
      "%%voicemap drummap  % activate abcm2ps/abc2svg map\n",
      "%%MIDI channel 10   % activate abc2midi map\n",
      "%%MIDI program 0\n",
      "%%flatbeams\n",
      "%%propagate-accidentals not\n",
      "%%pos ornament up\n",
      "%%ornament up\n",
      "%%MIDI fermatafixed\n",
      "|:!f![gF]/2[F/2][^g]y[cg]y[^gF]/2[F/2] [g]/2[F/2][^g]y[cg]/2[F/2][^gF]y |[g]/2[F/2][^gF]y[cg]/2[F/2][^g]y [gF]/2[F/2][^g]/2[F/2][cgF]y[^gF]y |[g]/2[F/2][^gF]y[cgF]y[^gF]/2[F/2] [g]y[^g]/2[F/2][cg]y[^g]y |[1F/2A/2e/2F/2 z/2F/2G/2G/2 A/2G/2G/2e/2 c/2A/2c/2F/2 :|2F/2A/2e/2F/2 z/2F/2G/2G/2 A/2G/2G/2e/2 !<(!c/2A/2!<)!c/2F/2 |:!mf![F]y[gF]y[c]y[gF]/2[F/2] z/2[F/2][g]/2[F/2][c]/2[F/2][g]/2[F/2] |zy[gF]y[c]y[gF]y z/2[F/2][g]/2[F/2][cF]y[gF]y |zy[gF]y[cF]/2[F/2][g]y [F]y[g]/2[F/2][c]y[gF]/2[F/2] |[1c/2F/2e/2z/2 c/2e/2e/2A/2 A/2G/2z/2A/2 A/2z/2c/2e/2 :|2c/2F/2e/2z/2 c/2e/2e/2A/2 A/2G/2z/2A/2 !<(!A/2z/2!<)!c/2e/2 |:!mp!\"^_\"[^eF]/2[F/2]z/2[F/2]\"^_\"[c^e]yz/2[F/2] \"^_\"[^e]/2[F/2][F]y\"^_\"[c^eF]/2[F/2]zy |\"^_\"[^eF]/2[F/2]z/2[F/2]\"^_\"[c^eF]yzy \"^_\"[^e]/2[F/2]zy\"^_\"[c^eF]yz/2[F/2] |\"^_\"[^eF]y[F]/2[F/2]\"^_\"[c^e]/2[F/2]zy \"^_\"[^eF]y[F]/2[F/2]\"^_\"[c^e]y[F]/2[F/2] |[1A/2z/2G/2F/2 c/2z/2c/2e/2 c/2e/2e/2c/2 e/2A/2A/2A/2 :|2A/2z/2G/2F/2 c/2z/2c/2e/2 c/2e/2e/2c/2 !<(!e/2A/2!<)!A/2A/2 |:!p![^g^DF]y[^gF]y[c^g^DF]y[^gF]y [^g^DF]y[^gF]/2[F/2][c^g^D]/2[F/2][^gF]y |[^g^D]y[^gF]y[c^g^DF]y[^g]/2[F/2] [^g^DF]y[^gF]y[c^g^D]y[^gF]/2[F/2] |[^g^D]/2[F/2][^gF]y[c^g^D]y[^gF]y [^g^D]y[^gF]/2[F/2][c^g^D]/2[F/2][^g]y |[1e/2c/2c/2z/2 G/2z/2G/2G/2 e/2z/2G/2G/2 G/2e/2e/2A/2 :|2e/2c/2c/2z/2 G/2z/2G/2G/2 e/2z/2G/2G/2 !<(!G/2e/2!<)!e/2HA/2 |]\n"
     ]
    },
    {
     "data": {
      "text/plain": [
       "Process(`\u001b[4mcat\u001b[24m \u001b[4mfunktest.abc\u001b[24m`, ProcessExited(0))"
      ]
     },
     "execution_count": 179,
     "metadata": {},
     "output_type": "execute_result"
    }
   ],
   "source": [
    "run(`cat funktest.abc`)"
   ]
  },
  {
   "cell_type": "code",
   "execution_count": 180,
   "metadata": {},
   "outputs": [
    {
     "name": "stdout",
     "output_type": "stream",
     "text": [
      "\r\n",
      "(base) C:\\Users\\holden\\Documents\\GitHub\\drum_solo_generator>abcm2ps.exe -X funktest.abc -O funktest.xhtml \r\n",
      "abcm2ps-8.14.12 (2021-07-14)\r\n",
      "File funktest.abc\r\n",
      "File percussions-JBH.abh\r\n",
      "Output written on funktest.xhtml (1 page, 1 title, 46991 bytes)\r\n",
      "\r\n",
      "(base) C:\\Users\\holden\\Documents\\GitHub\\drum_solo_generator>abc2midi.exe funktest.abc -o funktest.mid \r\n",
      "4.59 June 27 2021 abc2midi\r\n",
      "writing MIDI file funktest.mid\r\n",
      "Warning in line-char 20-1312 : Track 1 Bar 19 has 9/2 units instead of 4 in repeat\r\n",
      "\r\n",
      "(base) C:\\Users\\holden\\Documents\\GitHub\\drum_solo_generator>start funktest.mid \r\n"
     ]
    },
    {
     "name": "stderr",
     "output_type": "stream",
     "text": [
      "funktest.abc:20:245: warning: Line overfull (630pt of 628pt)\r\n"
     ]
    },
    {
     "name": "stdout",
     "output_type": "stream",
     "text": [
      "\r\n",
      "(base) C:\\Users\\holden\\Documents\\GitHub\\drum_solo_generator>start funktest.xhtml \r\n"
     ]
    },
    {
     "data": {
      "text/plain": [
       "Process(`\u001b[4mabctest.bat\u001b[24m \u001b[4mfunktest.abc\u001b[24m`, ProcessExited(0))"
      ]
     },
     "execution_count": 180,
     "metadata": {},
     "output_type": "execute_result"
    }
   ],
   "source": [
    "run(`abctest.bat funktest.abc`)"
   ]
  },
  {
   "cell_type": "code",
   "execution_count": null,
   "metadata": {},
   "outputs": [],
   "source": []
  }
 ],
 "metadata": {
  "kernelspec": {
   "display_name": "Julia 1.6.3",
   "language": "julia",
   "name": "julia-1.6"
  },
  "language_info": {
   "file_extension": ".jl",
   "mimetype": "application/julia",
   "name": "julia",
   "version": "1.6.3"
  }
 },
 "nbformat": 4,
 "nbformat_minor": 4
}
