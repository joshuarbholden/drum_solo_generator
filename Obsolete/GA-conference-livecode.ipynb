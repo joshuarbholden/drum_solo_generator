{
 "cells": [
  {
   "cell_type": "code",
   "execution_count": 48,
   "metadata": {},
   "outputs": [
    {
     "data": {
      "text/plain": [
       "markovrand (generic function with 1 method)"
      ]
     },
     "execution_count": 48,
     "metadata": {},
     "output_type": "execute_result"
    }
   ],
   "source": [
    "#input a vector corresponding to a probability distribution and output an index according to that distribution\n",
    "function markovrand(nextv)\n",
    "    if round(sum(nextv), digits = 6) != 1.0\n",
    "        error(nextv, \" is not a stochastic vector\")\n",
    "    end\n",
    "    maxstates = length(nextv) - 1\n",
    "    r = rand(Float64)\n",
    "    current = maxstates\n",
    "    for i = 0:maxstates\n",
    "        if r <= nextv[i + 1]\n",
    "            current = i\n",
    "            break\n",
    "        else\n",
    "            r = r - nextv[i + 1]\n",
    "        end\n",
    "    end\n",
    "    return(current)\n",
    "end\n"
   ]
  },
  {
   "cell_type": "code",
   "execution_count": 49,
   "metadata": {},
   "outputs": [],
   "source": [
    "struct AugMatrix\n",
    "    mat::Matrix\n",
    "    init::Vector\n",
    "end\n",
    "\n",
    "struct AugDblMatrix\n",
    "    mat1::Matrix\n",
    "    mat2::Matrix\n",
    "    init::Vector\n",
    "end"
   ]
  },
  {
   "cell_type": "code",
   "execution_count": 50,
   "metadata": {},
   "outputs": [
    {
     "data": {
      "text/plain": [
       "bassgen (generic function with 1 method)"
      ]
     },
     "execution_count": 50,
     "metadata": {},
     "output_type": "execute_result"
    }
   ],
   "source": [
    "#output bass notes in 2*$beats notes\n",
    "function bassgen(beats::Int, trans::AugMatrix)\n",
    "    transmat = trans.mat\n",
    "    iv = trans.init\n",
    "    nextv = iv\n",
    "    L = []\n",
    "    for j = 1:beats\n",
    "        current = markovrand(nextv)\n",
    "#print(current, \" \")\n",
    "        bincurrent = digits(current, base = 2, pad = 2)\n",
    "#print(bincurrent, \"\\n\")\n",
    "        append!(L, [bincurrent[2], bincurrent[1]])\n",
    "        nextv = transmat[:, current + 1]\n",
    "    end\n",
    "    return(L)\n",
    "end"
   ]
  },
  {
   "cell_type": "code",
   "execution_count": null,
   "metadata": {},
   "outputs": [],
   "source": []
  },
  {
   "cell_type": "code",
   "execution_count": 51,
   "metadata": {},
   "outputs": [
    {
     "data": {
      "text/plain": [
       "4×4 Matrix{Float64}:\n",
       " 0.1   0.333333  0.333333  1.0\n",
       " 0.0   0.333333  0.0       0.0\n",
       " 0.45  0.333333  0.333333  0.0\n",
       " 0.45  0.0       0.333333  0.0"
      ]
     },
     "execution_count": 51,
     "metadata": {},
     "output_type": "execute_result"
    }
   ],
   "source": [
    "#0 = nobass, 1 = bass\n",
    "                #00    #01   #10  #11\n",
    "rockBassMatrix = [0.1e0 1//3 1//3 1; #00\n",
    "                0 1//3 0 0;          #01\n",
    "                0.45e0 1//3 1//3 0;  #10\n",
    "                0.45e0 0 1//3 0]     #11"
   ]
  },
  {
   "cell_type": "code",
   "execution_count": 52,
   "metadata": {},
   "outputs": [
    {
     "data": {
      "text/plain": [
       "4-element Vector{Float64}:\n",
       " 0.1\n",
       " 0.0\n",
       " 0.5\n",
       " 0.4"
      ]
     },
     "execution_count": 52,
     "metadata": {},
     "output_type": "execute_result"
    }
   ],
   "source": [
    "rockBassInitial = [0.1e0,0,0.5e0,0.4e0]"
   ]
  },
  {
   "cell_type": "code",
   "execution_count": 53,
   "metadata": {},
   "outputs": [
    {
     "data": {
      "text/plain": [
       "AugMatrix([0.1 0.3333333333333333 0.3333333333333333 1.0; 0.0 0.3333333333333333 0.0 0.0; 0.45 0.3333333333333333 0.3333333333333333 0.0; 0.45 0.0 0.3333333333333333 0.0], [0.1, 0.0, 0.5, 0.4])"
      ]
     },
     "execution_count": 53,
     "metadata": {},
     "output_type": "execute_result"
    }
   ],
   "source": [
    "rockBass = AugMatrix(rockBassMatrix, rockBassInitial)"
   ]
  },
  {
   "cell_type": "code",
   "execution_count": 54,
   "metadata": {},
   "outputs": [
    {
     "data": {
      "text/plain": [
       "8-element Vector{Any}:\n",
       " 1\n",
       " 0\n",
       " 1\n",
       " 0\n",
       " 0\n",
       " 0\n",
       " 1\n",
       " 1"
      ]
     },
     "execution_count": 54,
     "metadata": {},
     "output_type": "execute_result"
    }
   ],
   "source": [
    "#test\n",
    "bassgen(4, rockBass)"
   ]
  },
  {
   "cell_type": "code",
   "execution_count": 55,
   "metadata": {},
   "outputs": [
    {
     "data": {
      "text/plain": [
       "lookup16ride (generic function with 1 method)"
      ]
     },
     "execution_count": 55,
     "metadata": {},
     "output_type": "execute_result"
    }
   ],
   "source": [
    "function lookup16ride()::Matrix\n",
    "    r = Matrix(undef, 4, 4)\n",
    "    r[1,1] = [\"N[^e\",\"[\",\"N[^e\",\"[\",\"N[c^e\",\"[\",\"N[^e\",\"[\",\"N[^e\",\"[\",\"N[^e\",\"[\",\"N[c^e\",\"[\",\"N[^e\",\"[\"] #hihat eighths, trash\n",
    "    #NB Windows midi doesn't have a good way of making a trash hat?  N defined as tenuto mark in header.abc\n",
    "    r[2,1] = [\"[^e\", \"[^e\", \"[^e\", \"[^e\", \"[c^e\", \"[^e\", \"[^e\", \"[^e\", \"[^e\", \"[^e\", \"[^e\", \"[^e\", \"[c^e\", \"[^e\", \"[^e\", \"[^e\"]; #hihat 16\n",
    "    r[3,1] = [\"!>![^e\", \"U[^e\", \"!>![^e\", \"U[^e\", \"!>![c^e\", \"U[^e\",\"!>![^e\", \"U[^e\",\"!>![^e\", \"U[^e\", \"!>![^e\", \"U[^e\", \"!>![c^e\", \"U[^e\", \"!>![^e\", \"U[^e\"]; #drive 16\n",
    "    r[4,1] = [\"[^e\", \"[^e\", \"[^e\", \"[^e\", \"[c^e\", \"[^e\", \"[^e\", \"[^e\", \"[^e\", \"[^e\", \"[^e\", \"[^e\", \"[c^e\", \"[^e\", \"[^e\", \"[_e\"];  #one slide 16\n",
    "    r[1,2] = [\"[^g\",\"[\",\"[^g\",\"[\",\"[c^g\",\"[\",\"[^g\",\"[\",\"[^g\",\"[\",\"[^g\",\"[\",\"[c^g\",\"[\",\"[^g\",\"[\"] #ride quarter\n",
    "    r[2,2] = [\"[^g\", \"[^g\", \"[^g\", \"[^g\", \"[c^g\", \"[^g\", \"[^g\", \"[^g\", \"[^g\", \"[^g\", \"[^g\", \"[^g\", \"[c^g\", \"[^g\", \"[^g\", \"[^g\"]; #ride 16 \n",
    "    r[3,2] = [\"[^g^D\", \"[^g\", \"[^g\", \"[^g\", \"[c^g^D\", \"[^g\", \"[^g\", \"[^g\", \"[^g^D\", \"[^g\", \"[^g\", \"[^g\", \"[c^g^D\", \"[^g\", \"[^g\", \"[^g\"]; #ride 16 with step beats\n",
    "    r[4,2] = [\"[^g\", \"[^g\", \"[^g^D\", \"[^g\", \"[c^g\", \"[^g\", \"[^g^D\", \"[^g\", \"[^g\", \"[^g\", \"[^g^D\", \"[^g\", \"[c^g\", \"[^g\", \"[^g^D\", \"[^g\" ]; #ride 16 with step ands\n",
    "    r[1,3] = [\"[g\",\"[\",\"[g\",\"[\",\"[cg\",\"[\",\"[g\",\"[\",\"[g\",\"[\",\"[g\",\"[\",\"[cg\",\"[\",\"[g\",\"[\"] #bell 8\n",
    "    r[2,3] = [\"[g\",\"[g\",\"[\",\"[\",\"[cg\",\"[g\",\"[\",\"[\",\"[g\",\"[g\",\"[\",\"[\",\"[cg\",\"[g\",\"[\",\"[\"] #bell 16th pairs on beat\n",
    "    r[3,3] = [\"[g\",\"[^g\",\"[g\",\"[^g\",\"[cg\",\"[^g\",\"[g\",\"[^g\",\"[g\",\"[^g\",\"[g\",\"[^g\",\"[cg\",\"[^g\",\"[g\",\"[^g\"] #bell drive, offbeat ride\n",
    "    r[4,3] = [\"[\",\"[\",\"[g\",\"[g\",\"[c\",\"[\",\"[g\",\"[g\",\"[\",\"[\",\"[g\",\"[g\",\"[c\",\"[\",\"[g\",\"[g\"] #bell pairs on and\n",
    "    r[1,4] = [\"[^D\",\"[\",\"[\",\"[\",\"[c^D\",\"[\",\"[\",\"[\",\"[^D\",\"[\",\"[\",\"[\",\"[c^D\",\"[\",\"[\",\"[\"]  #step Q\n",
    "    r[2,4] = [\"[^D\",\"[\",\"[^D\",\"[\",\"[c^D\",\"[\",\"[^D\",\"[\",\"[^D\",\"[\",\"[^D\",\"[\",\"[c^D\",\"[\",\"[^D\",\"[\"] #step 8\n",
    "    r[3,4] = [\"[g^D\",\"[g\",\"[^D\",\"[\",\"[cg^D\",\"[g\",\"[^D\",\"[\",\"[g^D\",\"[g\",\"[^D\",\"[\",\"[cg^D\",\"[g\",\"[^D\",\"[\"] #step 8 with bell beat pair\n",
    "    r[4,4] = [\"[^D\",\"[\",\"[g^D\",\"[g\",\"[c^D\",\"[\",\"[g^D\",\"[g\",\"[^D\",\"[\",\"[g^D\",\"[g\",\"[c^D\",\"[\",\"[g^D\",\"[g\"] #step 8 with bell and pair\n",
    "    return(r)\n",
    "end\n"
   ]
  },
  {
   "cell_type": "code",
   "execution_count": 56,
   "metadata": {},
   "outputs": [
    {
     "data": {
      "text/plain": [
       "abctime24patinst24bass (generic function with 1 method)"
      ]
     },
     "execution_count": 56,
     "metadata": {},
     "output_type": "execute_result"
    }
   ],
   "source": [
    "#input a shiffled 16th bass rhythm and a shuffled 16th ride pattern, output abc notation\n",
    "function abctime24patinst24bass(L, pattern, instr)\n",
    "    n = length(L)\n",
    "    r = lookup16ride()\n",
    "    c = [\"]/2\", \"F]/2\"]\n",
    "    m = [c[L[i] + 1] for i = 1:n]\n",
    "    s = \"\"\n",
    "    for i = 1:n\n",
    "        if i % 4 == 1\n",
    "            s = s * \"(6:4\"\n",
    "        end\n",
    "        s = s * r[pattern, instr][(i - 1) % 16 + 1] * m[i]\n",
    "        if i % 2 == 1 \n",
    " #           s = s * \"Qc/2\" #ghost snare\n",
    "            s = s * \"z/2\" #rest\n",
    "        elseif i % 4 == 0\n",
    "            s = s * \" \"\n",
    "        end\n",
    "        if i % 16 == 0\n",
    "            s = s * \"|\"\n",
    "        end\n",
    "    end\n",
    "    return(s)\n",
    "end\n"
   ]
  },
  {
   "cell_type": "code",
   "execution_count": 57,
   "metadata": {},
   "outputs": [
    {
     "data": {
      "text/plain": [
       "\"(6:4N[^eF]/2z/2[F]/2N[^e]/2z/2[]/2 (6:4N[c^eF]/2z/2[F]/2N[^e]/2z/2[]/2 (6:4N[^e]/2z/2[]/2N[^eF]/2z/2[]/2 (6:4N[c^eF]/2z/2[]/2N[^e]/2z/2[]/2 |\""
      ]
     },
     "execution_count": 57,
     "metadata": {},
     "output_type": "execute_result"
    }
   ],
   "source": [
    "#test\n",
    "abctime24patinst24bass(bassgen(8, rockBass), 1, 1)"
   ]
  },
  {
   "cell_type": "code",
   "execution_count": null,
   "metadata": {},
   "outputs": [],
   "source": []
  },
  {
   "cell_type": "code",
   "execution_count": 58,
   "metadata": {},
   "outputs": [
    {
     "data": {
      "text/plain": [
       "fill24gen (generic function with 1 method)"
      ]
     },
     "execution_count": 58,
     "metadata": {},
     "output_type": "execute_result"
    }
   ],
   "source": [
    "#output linear fill in $beats number of sixteenth triplets\n",
    "function fill24gen(\n",
    "  beats::Int,\n",
    "  trans::AugDblMatrix)\n",
    "    nextv = trans.init\n",
    "    L = []\n",
    "    for j = 1:beats\n",
    "        current = markovrand(nextv)\n",
    "        append!(L,current)\n",
    "        if j % 2 == 1\n",
    "            nextv = trans.mat1[1:6, current + 1]\n",
    "        else\n",
    "            nextv = trans.mat2[1:6, current + 1]\n",
    "        end\n",
    "    end\n",
    "    return(L)\n",
    "end\n"
   ]
  },
  {
   "cell_type": "code",
   "execution_count": 59,
   "metadata": {},
   "outputs": [
    {
     "data": {
      "text/plain": [
       "6×6 Matrix{Float64}:\n",
       " 0.2  0.1  0.2  0.0  0.3  0.2\n",
       " 0.4  0.2  0.0  0.3  0.3  0.2\n",
       " 0.1  0.4  0.2  0.1  0.1  0.2\n",
       " 0.1  0.1  0.4  0.3  0.1  0.2\n",
       " 0.1  0.1  0.2  0.2  0.1  0.2\n",
       " 0.1  0.1  0.0  0.1  0.1  0.0"
      ]
     },
     "execution_count": 59,
     "metadata": {},
     "output_type": "execute_result"
    }
   ],
   "source": [
    "rockFillLeftToRight = [\n",
    "    0.2e0 0.1e0 0.2e0 0 0.3e0 0.2e0; \n",
    "    0.4e0 0.2e0 0 0.3e0 0.3e0 0.2e0; \n",
    "    0.1e0 0.4e0 0.2e0 0.1e0 0.1e0 0.2e0; \n",
    "    0.1e0 0.1e0 0.4e0 0.3e0 0.1e0 0.2e0; \n",
    "    0.1e0 0.1e0 0.2e0 0.2e0 0.1e0 0.2e0; \n",
    "    0.1e0 0.1e0 0 0.1e0 0.1e0 0]"
   ]
  },
  {
   "cell_type": "code",
   "execution_count": 60,
   "metadata": {},
   "outputs": [
    {
     "data": {
      "text/plain": [
       "6×6 Matrix{Float64}:\n",
       " 0.4  0.2  0.1  0.1  0.3  0.0\n",
       " 0.2  0.4  0.2  0.2  0.2  0.0\n",
       " 0.1  0.0  0.4  0.1  0.1  0.0\n",
       " 0.0  0.1  0.1  0.4  0.1  0.0\n",
       " 0.2  0.1  0.1  0.1  0.2  0.0\n",
       " 0.1  0.2  0.1  0.1  0.1  1.0"
      ]
     },
     "execution_count": 60,
     "metadata": {},
     "output_type": "execute_result"
    }
   ],
   "source": [
    "rockFillRightToLeft = [\n",
    "    0.4e0 0.2e0 0.1e0 0.1e0 0.3e0 0\n",
    "    0.2e0 0.4e0 0.2e0 0.2e0 0.2e0 0\n",
    "    0.1e0 0 0.4e0 0.1e0 0.1e0 0\n",
    "    0 0.1e0 0.1e0 0.4e0 0.1e0 0\n",
    "    0.2e0 0.1e0 0.1e0 0.1e0 0.2e0 0\n",
    "    0.1e0 0.2e0 0.1e0 0.1e0 0.1e0 0.10e1]\n"
   ]
  },
  {
   "cell_type": "code",
   "execution_count": 61,
   "metadata": {},
   "outputs": [
    {
     "data": {
      "text/plain": [
       "6-element Vector{Float64}:\n",
       " 0.4\n",
       " 0.4\n",
       " 0.1\n",
       " 0.1\n",
       " 0.0\n",
       " 0.0"
      ]
     },
     "execution_count": 61,
     "metadata": {},
     "output_type": "execute_result"
    }
   ],
   "source": [
    "rockFillInitial = [0.4e0,0.4e0,0.1e0,0.1e0,0,0] #snare, high, mid, low, kick, rest"
   ]
  },
  {
   "cell_type": "code",
   "execution_count": 62,
   "metadata": {},
   "outputs": [
    {
     "data": {
      "text/plain": [
       "AugDblMatrix([0.2 0.1 … 0.3 0.2; 0.4 0.2 … 0.3 0.2; … ; 0.1 0.1 … 0.1 0.2; 0.1 0.1 … 0.1 0.0], [0.4 0.2 … 0.3 0.0; 0.2 0.4 … 0.2 0.0; … ; 0.2 0.1 … 0.2 0.0; 0.1 0.2 … 0.1 1.0], [0.4, 0.4, 0.1, 0.1, 0.0, 0.0])"
      ]
     },
     "execution_count": 62,
     "metadata": {},
     "output_type": "execute_result"
    }
   ],
   "source": [
    "rockFill= AugDblMatrix(rockFillLeftToRight, rockFillRightToLeft, rockFillInitial)"
   ]
  },
  {
   "cell_type": "code",
   "execution_count": 63,
   "metadata": {},
   "outputs": [
    {
     "data": {
      "text/plain": [
       "abcfill24 (generic function with 1 method)"
      ]
     },
     "execution_count": 63,
     "metadata": {},
     "output_type": "execute_result"
    }
   ],
   "source": [
    "#input a sixteenth triplet fill and a crescendo/descr indicator, output abc notation\n",
    "function abcfill24(L, crdc)\n",
    "    n = length(L)\n",
    "    c = [\"c/2\",\"e/2\",\"A/2\",\"G/2\",\"F/2\",\"z/2\"]\n",
    "    m = [c[L[i] + 1] for i = 1:n]\n",
    "    s = \"\"\n",
    "    for i = 1:n\n",
    "        if i % 6 == 1\n",
    "            s = s * \"(6:4\"\n",
    "        end\n",
    "        s = s * m[i]\n",
    "        if i % 6 == 0\n",
    "            s = s * \" \"\n",
    "        end\n",
    "        if i % 24 == 16\n",
    "            if crdc < 0\n",
    "                s = s * \"!>(!\"\n",
    "            elseif 0 < crdc\n",
    "                s = s * \"!<(!\"\n",
    "            end\n",
    "        end\n",
    "        if i % 24 == 20\n",
    "            if crdc < 0\n",
    "                s = s * \"!>)!\"\n",
    "            elseif 0 < crdc\n",
    "                s = s * \"!<)!\"\n",
    "            end\n",
    "        end\n",
    "    end\n",
    "    return(s)\n",
    "end"
   ]
  },
  {
   "cell_type": "code",
   "execution_count": 64,
   "metadata": {},
   "outputs": [
    {
     "data": {
      "text/plain": [
       "\"(6:4e/2G/2c/2e/2e/2c/2 (6:4c/2c/2e/2e/2F/2c/2 (6:4e/2e/2G/2e/2e/2e/2 (6:4c/2z/2z/2c/2A/2F/2 \""
      ]
     },
     "execution_count": 64,
     "metadata": {},
     "output_type": "execute_result"
    }
   ],
   "source": [
    "#test\n",
    "abcfill24(fill24gen(24, rockFill), 0)"
   ]
  },
  {
   "cell_type": "code",
   "execution_count": 65,
   "metadata": {},
   "outputs": [
    {
     "data": {
      "text/plain": [
       "abctune16shuffle16bass (generic function with 1 method)"
      ]
     },
     "execution_count": 65,
     "metadata": {},
     "output_type": "execute_result"
    }
   ],
   "source": [
    "#output time, fill, time, fill with cresc/decr in abc notation\n",
    "function abctune16shuffle16bass(\n",
    "  vol,\n",
    "  bass,\n",
    "  pat,\n",
    "  inst,\n",
    "  fill,\n",
    "  crdc)\n",
    "    fp = [\"!pp!\",\"!p!\",\"!mp!\",\"!mf!\",\"!f!\",\"!ff!\"]\n",
    "    return(\"|:\" * fp[vol] * abctime24patinst24bass(bass, pat, inst) * \"[1\" * abcfill24(fill, 0) * \":|2\" * abcfill24(fill, crdc))\n",
    "end\n"
   ]
  },
  {
   "cell_type": "code",
   "execution_count": 66,
   "metadata": {},
   "outputs": [
    {
     "data": {
      "text/plain": [
       "insert (generic function with 1 method)"
      ]
     },
     "execution_count": 66,
     "metadata": {},
     "output_type": "execute_result"
    }
   ],
   "source": [
    "#utility function, insert one string into another\n",
    "function insert(\n",
    "    s::String,\n",
    "    pos::Integer,\n",
    "    sub::String)\n",
    "    return s[1:pos] * sub * s[pos+1:end]\n",
    "end\n",
    "    "
   ]
  },
  {
   "cell_type": "code",
   "execution_count": 67,
   "metadata": {},
   "outputs": [
    {
     "data": {
      "text/plain": [
       "\"abcdxefg\""
      ]
     },
     "execution_count": 67,
     "metadata": {},
     "output_type": "execute_result"
    }
   ],
   "source": [
    "#test\n",
    "insert(\"abcdefg\", 4, \"x\")"
   ]
  },
  {
   "cell_type": "code",
   "execution_count": 68,
   "metadata": {},
   "outputs": [
    {
     "data": {
      "text/plain": [
       "@functionName (macro with 1 method)"
      ]
     },
     "execution_count": 68,
     "metadata": {},
     "output_type": "execute_result"
    }
   ],
   "source": [
    "macro functionName()\n",
    "    return quote\n",
    "        st = stacktrace(backtrace())\n",
    "        myf = \"\"\n",
    "        for frm in st\n",
    "            funcname = frm.func\n",
    "            if frm.func != :backtrace && frm.func!= Symbol(\"macro expansion\")\n",
    "                myf = frm.func\n",
    "                break\n",
    "            end\n",
    "        end\n",
    "        #println(\"Running function $(myf)\")\n",
    "        String(myf)\n",
    "    end\n",
    "end\n"
   ]
  },
  {
   "cell_type": "code",
   "execution_count": 69,
   "metadata": {},
   "outputs": [
    {
     "data": {
      "text/plain": [
       "abcsolo16shuffle16bass (generic function with 1 method)"
      ]
     },
     "execution_count": 69,
     "metadata": {},
     "output_type": "execute_result"
    }
   ],
   "source": [
    "#put it all together, output abc notation\n",
    "import Dates\n",
    "function abcsolo16shuffle16bass(\n",
    "  len::Int,\n",
    "  basstrans::AugMatrix,\n",
    "  filltrans::AugDblMatrix,\n",
    "  dyntrans::AugDblMatrix,\n",
    "  pattrans::AugMatrix,\n",
    "  insttrans::AugMatrix,\n",
    "  feel::String,\n",
    "    )\n",
    "    s = \"\"\n",
    "    curdyn = markovrand(dyn.init)\n",
    "    curpat = markovrand(pattrans.init)\n",
    "    curinst = markovrand(insttrans.init)\n",
    "    for i = 1:len\n",
    "        vol = div(curdyn, 2) + 1\n",
    "        bass = bassgen(24, basstrans)\n",
    "        pat = curpat + 1\n",
    "        inst = curinst + 1\n",
    "        fill = fill24gen(24, filltrans)\n",
    "        crdc = 2 * mod(curdyn, 2) - 1\n",
    "        s = s * abctune16shuffle16bass(vol, bass, pat, inst, fill, crdc)\n",
    "        if i + 1 < len\n",
    "            curdyn = markovrand(dyntrans.mat1[:, curdyn + 1])\n",
    "        else\n",
    "            curdyn = markovrand(dyntrans.mat2[:, curdyn + 1])\n",
    "        end\n",
    "        curpat = markovrand(pattrans.mat[:, curpat + 1])\n",
    "        curinst = markovrand(insttrans.mat[:, curinst + 1])\n",
    "    end\n",
    "    s = insert(s, findlast(occursin(\"acbdefgABCDEFG\"), s)-1, \"H\") #final fermata\n",
    "    s = replace(s, \"[]\" => \"z\") #rest\n",
    "    s = replace(s, \"!>!\" => \"!>![I: volinc 50]\") #accent\n",
    "    s = replace(s, \"U\" => \"!anti![I: volinc -20]\") #unaccent\n",
    "    s = replace(s, \"N\" => \"\\\"^_\\\"\") #tenuto\n",
    "    s = replace(s, \"Q\" => \"\\\"<(\\\"\\\">)\\\"[I:volinc -50]\") #ghost    \n",
    "    s = makeheader(\"Computer-generated \\\\`Etude for Solo Drum Kit\", String(@functionName), \"$(Dates.now())\", \"4/4\", feel, 60) * s * \"|]\\n\"\n",
    "    return(s)\n",
    "end\n"
   ]
  },
  {
   "cell_type": "code",
   "execution_count": 70,
   "metadata": {
    "scrolled": true
   },
   "outputs": [
    {
     "data": {
      "text/plain": [
       "makeheader (generic function with 1 method)"
      ]
     },
     "execution_count": 70,
     "metadata": {},
     "output_type": "execute_result"
    }
   ],
   "source": [
    "function makeheader(title::String, composer::String, date::String, meter::String, feel::String, tempo::Int)\n",
    "    s = \"\"\"%%abc-include percussions-JBH.abh\n",
    "    \n",
    "    %%flatbeams\n",
    "    %%propagate-accidentals not\n",
    "    %%pos ornament up\n",
    "    %%ornament up\n",
    "    %%MIDI fermatafixed\n",
    "    U: N = !tenuto!\n",
    "    U: U = !anti!\n",
    "    U: Q = !ghost! %doesn't exist but it should!\n",
    "    \n",
    "    X:1\n",
    "    T:$title\n",
    "    C:$composer\n",
    "    O:$date\n",
    "    M:$meter\n",
    "    L:1/8\n",
    "    Q:\\\"$feel\\\" 1/4=$tempo\n",
    "    K:none clef=perc\n",
    "    [V:1 clef=perc, stem=up]     % activate abc2xml.py map\n",
    "    %%voicemap drummap  % activate abcm2ps/abc2svg map\n",
    "    %%MIDI channel 10   % activate abc2midi map\n",
    "    %%MIDI program 0\n",
    "    \"\"\"\n",
    "    return(s)\n",
    "end"
   ]
  },
  {
   "cell_type": "code",
   "execution_count": 71,
   "metadata": {},
   "outputs": [
    {
     "data": {
      "text/plain": [
       "writetune (generic function with 1 method)"
      ]
     },
     "execution_count": 71,
     "metadata": {},
     "output_type": "execute_result"
    }
   ],
   "source": [
    "#write a string s of abc notation to a file fname\n",
    "function writetune(fname, s)\n",
    "    #h = open(\"header.abc\", \"r\")\n",
    "    f = open(fname, \"w\")\n",
    "    #for header in eachline(h)\n",
    "    #    print(f, header * \"\\n\")\n",
    "    #end\n",
    "    #close(h)\n",
    "    #print(f, makeheader(\"Computer-generated \\\\`Etude for Solo Drum Kit\", \"4/4\", \"Rock 16th feel\", 80))\n",
    "    print(f, s)\n",
    "    return(close(f))\n",
    "end\n"
   ]
  },
  {
   "cell_type": "code",
   "execution_count": 72,
   "metadata": {},
   "outputs": [
    {
     "data": {
      "text/plain": [
       "12×12 Matrix{Float64}:\n",
       " 0.0  0.0  0.2  0.2  0.1  0.1  0.0  0.0  0.0  0.0  0.0  0.0\n",
       " 0.0  0.0  0.2  0.1  0.1  0.1  0.0  0.0  0.0  0.0  0.0  0.0\n",
       " 0.2  0.2  0.0  0.0  0.2  0.1  0.1  0.1  0.1  0.2  0.1  0.2\n",
       " 0.2  0.2  0.0  0.0  0.2  0.1  0.1  0.1  0.2  0.1  0.2  0.1\n",
       " 0.0  0.0  0.1  0.2  0.0  0.0  0.2  0.1  0.0  0.0  0.1  0.2\n",
       " 0.0  0.0  0.2  0.2  0.0  0.0  0.2  0.1  0.0  0.0  0.2  0.1\n",
       " 0.1  0.2  0.0  0.0  0.1  0.2  0.0  0.0  0.2  0.2  0.0  0.0\n",
       " 0.2  0.1  0.0  0.0  0.1  0.2  0.0  0.0  0.2  0.1  0.0  0.0\n",
       " 0.1  0.2  0.1  0.2  0.1  0.1  0.1  0.2  0.0  0.0  0.2  0.2\n",
       " 0.2  0.1  0.2  0.1  0.1  0.1  0.1  0.2  0.0  0.0  0.2  0.2\n",
       " 0.0  0.0  0.0  0.0  0.0  0.0  0.1  0.1  0.1  0.2  0.0  0.0\n",
       " 0.0  0.0  0.0  0.0  0.0  0.0  0.1  0.1  0.2  0.2  0.0  0.0"
      ]
     },
     "execution_count": 72,
     "metadata": {},
     "output_type": "execute_result"
    }
   ],
   "source": [
    "dynMatrix = [\n",
    "    0 0 0.2e0 0.2e0 0.1e0 0.1e0 0 0 0 0 0 0; \n",
    "    0 0 0.2e0 0.1e0 0.1e0 0.1e0 0 0 0 0 0 0; \n",
    "    0.2e0 0.2e0 0 0 0.2e0 0.1e0 0.1e0 0.1e0 0.1e0 0.2e0 0.1e0 0.2e0; \n",
    "    0.2e0 0.2e0 0 0 0.2e0 0.1e0 0.1e0 0.1e0 0.2e0 0.1e0 0.2e0 0.1e0; \n",
    "    0 0 0.1e0 0.2e0 0 0 0.2e0 0.1e0 0 0 0.1e0 0.2e0; \n",
    "    0 0 0.2e0 0.2e0 0 0 0.2e0 0.1e0 0 0 0.2e0 0.1e0; \n",
    "    0.1e0 0.2e0 0 0 0.1e0 0.2e0 0 0 0.2e0 0.2e0 0 0; \n",
    "    0.2e0 0.1e0 0 0 0.1e0 0.2e0 0 0 0.2e0 0.1e0 0 0; \n",
    "    0.1e0 0.2e0 0.1e0 0.2e0 0.1e0 0.1e0 0.1e0 0.2e0 0 0 0.2e0 0.2e0;\n",
    "    0.2e0 0.1e0 0.2e0 0.1e0 0.1e0 0.1e0 0.1e0 0.2e0 0 0 0.2e0 0.2e0; \n",
    "    0 0 0 0 0 0 0.1e0 0.1e0 0.1e0 0.2e0 0 0; \n",
    "    0 0 0 0 0 0 0.1e0 0.1e0 0.2e0 0.2e0 0 0]\n"
   ]
  },
  {
   "cell_type": "code",
   "execution_count": 73,
   "metadata": {},
   "outputs": [
    {
     "data": {
      "text/plain": [
       "12×12 Matrix{Float64}:\n",
       " 0.1  0.2  0.2  0.2  0.1  0.1  0.1  0.1  0.1  0.2  0.0  0.0\n",
       " 0.2  0.1  0.2  0.1  0.1  0.1  0.1  0.1  0.2  0.1  0.0  0.0\n",
       " 0.2  0.2  0.0  0.0  0.2  0.1  0.2  0.1  0.2  0.2  0.1  0.2\n",
       " 0.2  0.2  0.0  0.0  0.2  0.1  0.2  0.1  0.2  0.1  0.2  0.1\n",
       " 0.0  0.0  0.0  0.0  0.0  0.0  0.0  0.0  0.0  0.0  0.0  0.0\n",
       " 0.0  0.0  0.0  0.0  0.0  0.0  0.0  0.0  0.0  0.0  0.0  0.0\n",
       " 0.0  0.0  0.0  0.0  0.0  0.0  0.0  0.0  0.0  0.0  0.0  0.0\n",
       " 0.0  0.0  0.0  0.0  0.0  0.0  0.0  0.0  0.0  0.0  0.0  0.0\n",
       " 0.1  0.2  0.1  0.2  0.1  0.2  0.1  0.2  0.0  0.0  0.2  0.2\n",
       " 0.2  0.1  0.2  0.2  0.1  0.2  0.1  0.2  0.0  0.0  0.2  0.2\n",
       " 0.0  0.0  0.1  0.2  0.1  0.1  0.1  0.1  0.1  0.2  0.1  0.2\n",
       " 0.0  0.0  0.2  0.1  0.1  0.1  0.1  0.1  0.2  0.2  0.2  0.1"
      ]
     },
     "execution_count": 73,
     "metadata": {},
     "output_type": "execute_result"
    }
   ],
   "source": [
    "dynFinal = [\n",
    "    0.1e0 0.2e0 0.2e0 0.2e0 0.1e0 0.1e0 0.1e0 0.1e0 0.1e0 0.2e0 0 0; \n",
    "    0.2e0 0.1e0 0.2e0 0.1e0 0.1e0 0.1e0 0.1e0 0.1e0 0.2e0 0.1e0 0 0; \n",
    "    0.2e0 0.2e0 0 0 0.2e0 0.1e0 0.2e0 0.1e0 0.2e0 0.2e0 0.1e0 0.2e0; \n",
    "    0.2e0 0.2e0 0 0 0.2e0 0.1e0 0.2e0 0.1e0 0.2e0 0.1e0 0.2e0 0.1e0; \n",
    "    0 0 0 0 0 0 0 0 0 0 0 0; \n",
    "    0 0 0 0 0 0 0 0 0 0 0 0; \n",
    "    0 0 0 0 0 0 0 0 0 0 0 0; \n",
    "    0 0 0 0 0 0 0 0 0 0 0 0; \n",
    "    0.1e0 0.2e0 0.1e0 0.2e0 0.1e0 0.2e0 0.1e0 0.2e0 0 0 0.2e0 0.2e0; \n",
    "    0.2e0 0.1e0 0.2e0 0.2e0 0.1e0 0.2e0 0.1e0 0.2e0 0 0 0.2e0 0.2e0; \n",
    "    0 0 0.1e0 0.2e0 0.1e0 0.1e0 0.1e0 0.1e0 0.1e0 0.2e0 0.1e0 0.2e0; \n",
    "    0 0 0.2e0 0.1e0 0.1e0 0.1e0 0.1e0 0.1e0 0.2e0 0.2e0 0.2e0 0.1e0]\n"
   ]
  },
  {
   "cell_type": "code",
   "execution_count": 74,
   "metadata": {},
   "outputs": [
    {
     "data": {
      "text/plain": [
       "12-element Vector{Float64}:\n",
       " 0.05\n",
       " 0.05\n",
       " 0.1\n",
       " 0.1\n",
       " 0.1\n",
       " 0.1\n",
       " 0.1\n",
       " 0.1\n",
       " 0.1\n",
       " 0.1\n",
       " 0.05\n",
       " 0.05"
      ]
     },
     "execution_count": 74,
     "metadata": {},
     "output_type": "execute_result"
    }
   ],
   "source": [
    "dynInitial = [0.5e-1,0.5e-1,0.1e0,0.1e0,0.1e0,0.1e0,0.1e0,0.1e0,0.1e0,0.1e0,0.5e-1,0.5e-1]\n",
    "#pp>, pp<, p>, p<, mp>, mp<, mf>, mf<, f>, f<, ff>, ff<"
   ]
  },
  {
   "cell_type": "code",
   "execution_count": 75,
   "metadata": {},
   "outputs": [
    {
     "data": {
      "text/plain": [
       "AugDblMatrix([0.0 0.0 … 0.0 0.0; 0.0 0.0 … 0.0 0.0; … ; 0.0 0.0 … 0.0 0.0; 0.0 0.0 … 0.0 0.0], [0.1 0.2 … 0.0 0.0; 0.2 0.1 … 0.0 0.0; … ; 0.0 0.0 … 0.1 0.2; 0.0 0.0 … 0.2 0.1], [0.05, 0.05, 0.1, 0.1, 0.1, 0.1, 0.1, 0.1, 0.1, 0.1, 0.05, 0.05])"
      ]
     },
     "execution_count": 75,
     "metadata": {},
     "output_type": "execute_result"
    }
   ],
   "source": [
    "dyn = AugDblMatrix(dynMatrix, dynFinal, dynInitial)"
   ]
  },
  {
   "cell_type": "code",
   "execution_count": 76,
   "metadata": {},
   "outputs": [
    {
     "data": {
      "text/plain": [
       "4×4 Matrix{Float64}:\n",
       " 0.1  0.333333  0.25  0.5\n",
       " 0.3  0.333333  0.25  0.5\n",
       " 0.3  0.333333  0.25  0.0\n",
       " 0.3  0.0       0.25  0.0"
      ]
     },
     "execution_count": 76,
     "metadata": {},
     "output_type": "execute_result"
    }
   ],
   "source": [
    "funkBassMatrix = [0.1e0 1//3 0.25e0 0.5e0; \n",
    "                0.3e0 1//3 0.25e0 0.5e0; \n",
    "                0.3e0 1//3 0.25e0 0; \n",
    "                0.3e0 0 0.25e0 0]"
   ]
  },
  {
   "cell_type": "code",
   "execution_count": 77,
   "metadata": {},
   "outputs": [
    {
     "data": {
      "text/plain": [
       "4-element Vector{Float64}:\n",
       " 0.1\n",
       " 0.1\n",
       " 0.4\n",
       " 0.4"
      ]
     },
     "execution_count": 77,
     "metadata": {},
     "output_type": "execute_result"
    }
   ],
   "source": [
    "funkBassInitial = [0.1e0,0.1e0,0.4e0,0.4e0]"
   ]
  },
  {
   "cell_type": "code",
   "execution_count": 78,
   "metadata": {},
   "outputs": [
    {
     "data": {
      "text/plain": [
       "AugMatrix([0.1 0.3333333333333333 0.25 0.5; 0.3 0.3333333333333333 0.25 0.5; 0.3 0.3333333333333333 0.25 0.0; 0.3 0.0 0.25 0.0], [0.1, 0.1, 0.4, 0.4])"
      ]
     },
     "execution_count": 78,
     "metadata": {},
     "output_type": "execute_result"
    }
   ],
   "source": [
    "funkBass = AugMatrix(funkBassMatrix, funkBassInitial)"
   ]
  },
  {
   "cell_type": "code",
   "execution_count": 79,
   "metadata": {},
   "outputs": [
    {
     "data": {
      "text/plain": [
       "6×6 Matrix{Float64}:\n",
       " 0.2  0.1  0.1  0.0  0.3  0.2\n",
       " 0.4  0.2  0.0  0.3  0.3  0.2\n",
       " 0.1  0.4  0.2  0.1  0.1  0.2\n",
       " 0.1  0.1  0.4  0.3  0.1  0.2\n",
       " 0.1  0.1  0.1  0.2  0.1  0.1\n",
       " 0.1  0.1  0.2  0.1  0.1  0.1"
      ]
     },
     "execution_count": 79,
     "metadata": {},
     "output_type": "execute_result"
    }
   ],
   "source": [
    "funkFillLeftToRight = [0.2e0 0.1e0 0.1e0 0 0.3e0 0.2e0; \n",
    "                    0.4e0 0.2e0 0 0.3e0 0.3e0 0.2e0; \n",
    "                    0.1e0 0.4e0 0.2e0 0.1e0 0.1e0 0.2e0; \n",
    "                    0.1e0 0.1e0 0.4e0 0.3e0 0.1e0 0.2e0; \n",
    "                    0.1e0 0.1e0 0.1e0 0.2e0 0.1e0 0.1e0; \n",
    "                    0.1e0 0.1e0 0.2e0 0.1e0 0.1e0 0.1e0]"
   ]
  },
  {
   "cell_type": "code",
   "execution_count": 80,
   "metadata": {},
   "outputs": [
    {
     "data": {
      "text/plain": [
       "6×6 Matrix{Float64}:\n",
       " 0.4  0.2  0.1  0.1  0.3  0.2\n",
       " 0.2  0.4  0.2  0.2  0.2  0.2\n",
       " 0.1  0.0  0.4  0.1  0.1  0.2\n",
       " 0.0  0.1  0.1  0.4  0.1  0.2\n",
       " 0.2  0.1  0.1  0.1  0.2  0.1\n",
       " 0.1  0.2  0.1  0.1  0.1  0.1"
      ]
     },
     "execution_count": 80,
     "metadata": {},
     "output_type": "execute_result"
    }
   ],
   "source": [
    "funkFillRightToLeft = [0.4 0.2 0.1 0.1 0.3 0.2; \n",
    "                    0.2 0.4 0.2 0.2 0.2 0.2; \n",
    "                    0.1 0 0.4 0.1 0.1 0.2; \n",
    "                    0 0.1 0.1 0.4 0.1 0.2; \n",
    "                    0.2 0.1 0.1 0.1 0.2 0.1; \n",
    "                    0.1 0.2 0.1 0.1 0.1 0.1]\n"
   ]
  },
  {
   "cell_type": "code",
   "execution_count": 81,
   "metadata": {},
   "outputs": [
    {
     "data": {
      "text/plain": [
       "6-element Vector{Float64}:\n",
       " 0.3\n",
       " 0.3\n",
       " 0.1\n",
       " 0.1\n",
       " 0.1\n",
       " 0.1"
      ]
     },
     "execution_count": 81,
     "metadata": {},
     "output_type": "execute_result"
    }
   ],
   "source": [
    "funkFillInitial = [0.3e0,0.3e0,0.1e0,0.1e0,0.1e0,0.1e0]"
   ]
  },
  {
   "cell_type": "code",
   "execution_count": 82,
   "metadata": {},
   "outputs": [
    {
     "data": {
      "text/plain": [
       "AugDblMatrix([0.2 0.1 … 0.3 0.2; 0.4 0.2 … 0.3 0.2; … ; 0.1 0.1 … 0.1 0.1; 0.1 0.1 … 0.1 0.1], [0.4 0.2 … 0.3 0.2; 0.2 0.4 … 0.2 0.2; … ; 0.2 0.1 … 0.2 0.1; 0.1 0.2 … 0.1 0.1], [0.3, 0.3, 0.1, 0.1, 0.1, 0.1])"
      ]
     },
     "execution_count": 82,
     "metadata": {},
     "output_type": "execute_result"
    }
   ],
   "source": [
    "funkFill = AugDblMatrix(funkFillLeftToRight, funkFillRightToLeft, funkFillInitial)"
   ]
  },
  {
   "cell_type": "code",
   "execution_count": 83,
   "metadata": {},
   "outputs": [
    {
     "data": {
      "text/plain": [
       "4×4 Matrix{Float64}:\n",
       " 0.0  0.2  0.2  0.2\n",
       " 0.2  0.0  0.4  0.4\n",
       " 0.2  0.2  0.0  0.4\n",
       " 0.6  0.6  0.4  0.0"
      ]
     },
     "execution_count": 83,
     "metadata": {},
     "output_type": "execute_result"
    }
   ],
   "source": [
    "funkPatMatrix = [\n",
    "    #8  Q   b   +\n",
    "    0   0.2 0.2 0.2 #8 \n",
    "    0.2 0   0.4 0.4   #Q\n",
    "    0.2 0.2 0   0.4 #b\n",
    "    0.6 0.6 0.4 0 #+\n",
    "    ]"
   ]
  },
  {
   "cell_type": "code",
   "execution_count": 84,
   "metadata": {},
   "outputs": [
    {
     "data": {
      "text/plain": [
       "1×4 Matrix{Float64}:\n",
       " 1.0  1.0  1.0  1.0"
      ]
     },
     "execution_count": 84,
     "metadata": {},
     "output_type": "execute_result"
    }
   ],
   "source": [
    "sum(funkPatMatrix, dims=1)"
   ]
  },
  {
   "cell_type": "code",
   "execution_count": 85,
   "metadata": {},
   "outputs": [
    {
     "data": {
      "text/plain": [
       "4-element Vector{Float64}:\n",
       " 0.0\n",
       " 0.2\n",
       " 0.4\n",
       " 0.4"
      ]
     },
     "execution_count": 85,
     "metadata": {},
     "output_type": "execute_result"
    }
   ],
   "source": [
    "funkPatInitial = [0; 0.2; 0.4; 0.4]"
   ]
  },
  {
   "cell_type": "code",
   "execution_count": 86,
   "metadata": {},
   "outputs": [
    {
     "data": {
      "text/plain": [
       "AugMatrix([0.0 0.2 0.2 0.2; 0.2 0.0 0.4 0.4; 0.2 0.2 0.0 0.4; 0.6 0.6 0.4 0.0], [0.0, 0.2, 0.4, 0.4])"
      ]
     },
     "execution_count": 86,
     "metadata": {},
     "output_type": "execute_result"
    }
   ],
   "source": [
    "funkPat = AugMatrix(funkPatMatrix, funkPatInitial)"
   ]
  },
  {
   "cell_type": "code",
   "execution_count": 87,
   "metadata": {},
   "outputs": [
    {
     "data": {
      "text/plain": [
       "4×4 Matrix{Float64}:\n",
       " 0.1  0.4  0.4  0.4\n",
       " 0.6  0.1  0.4  0.4\n",
       " 0.2  0.4  0.1  0.2\n",
       " 0.1  0.1  0.1  0.0"
      ]
     },
     "execution_count": 87,
     "metadata": {},
     "output_type": "execute_result"
    }
   ],
   "source": [
    "funkInstMatrix = [\n",
    "   #HH  RC  RB  ST \n",
    "    0.1 0.4 0.4   0.4   #HH\n",
    "    0.6 0.1 0.4   0.4   #RC\n",
    "    0.2 0.4 0.1   0.2   #RB\n",
    "    0.1 0.1 0.1   0     #ST\n",
    "]"
   ]
  },
  {
   "cell_type": "code",
   "execution_count": 88,
   "metadata": {},
   "outputs": [
    {
     "data": {
      "text/plain": [
       "4-element Vector{Float64}:\n",
       " 0.4\n",
       " 0.4\n",
       " 0.2\n",
       " 0.0"
      ]
     },
     "execution_count": 88,
     "metadata": {},
     "output_type": "execute_result"
    }
   ],
   "source": [
    "funkInstInitial = [0.4; 0.4; 0.2; 0]"
   ]
  },
  {
   "cell_type": "code",
   "execution_count": 89,
   "metadata": {},
   "outputs": [
    {
     "data": {
      "text/plain": [
       "AugMatrix([0.1 0.4 0.4 0.4; 0.6 0.1 0.4 0.4; 0.2 0.4 0.1 0.2; 0.1 0.1 0.1 0.0], [0.4, 0.4, 0.2, 0.0])"
      ]
     },
     "execution_count": 89,
     "metadata": {},
     "output_type": "execute_result"
    }
   ],
   "source": [
    "funkInst = AugMatrix(funkInstMatrix, funkInstInitial)"
   ]
  },
  {
   "cell_type": "code",
   "execution_count": 90,
   "metadata": {},
   "outputs": [
    {
     "name": "stdout",
     "output_type": "stream",
     "text": [
      "%%abc-include percussions-JBH.abh\n",
      "\n",
      "%%flatbeams\n",
      "%%propagate-accidentals not\n",
      "%%pos ornament up\n",
      "%%ornament up\n",
      "%%MIDI fermatafixed\n",
      "U: N = !tenuto!\n",
      "U: U = !anti!\n",
      "U: Q = !ghost! %doesn't exist but it should!\n",
      "\n",
      "X:1\n",
      "T:Computer-generated \\`Etude for Solo Drum Kit\n",
      "C:abcsolo16shuffle16bass\n",
      "O:2021-12-17T09:16:48.009\n",
      "M:4/4\n",
      "L:1/8\n",
      "Q:\"Funk 16th feel\" 1/4=60\n",
      "K:none clef=perc\n",
      "[V:1 clef=perc, stem=up]     % activate abc2xml.py map\n",
      "%%voicemap drummap  % activate abcm2ps/abc2svg map\n",
      "%%MIDI channel 10   % activate abc2midi map\n",
      "%%MIDI program 0\n",
      "|:!p!(6:4[gF]/2z/2[^g]/2[gF]/2z/2[^g]/2 (6:4[cg]/2z/2[^g]/2[gF]/2z/2[^g]/2 (6:4[g]/2z/2[^gF]/2[g]/2z/2[^gF]/2 (6:4[cg]/2z/2[^gF]/2[gF]/2z/2[^g]/2 |(6:4[gF]/2z/2[^gF]/2[g]/2z/2[^g]/2 (6:4[cg]/2z/2[^gF]/2[g]/2z/2[^g]/2 (6:4[gF]/2z/2[^g]/2[gF]/2z/2[^gF]/2 (6:4[cg]/2z/2[^gF]/2[gF]/2z/2[^g]/2 |(6:4[gF]/2z/2[^g]/2[g]/2z/2[^gF]/2 (6:4[cg]/2z/2[^gF]/2[g]/2z/2[^gF]/2 (6:4[g]/2z/2[^g]/2[gF]/2z/2[^gF]/2 (6:4[cg]/2z/2[^g]/2[g]/2z/2[^gF]/2 |[1(6:4c/2G/2e/2A/2A/2z/2 (6:4A/2z/2z/2c/2c/2z/2 (6:4G/2F/2c/2e/2e/2z/2 (6:4A/2c/2c/2F/2c/2c/2 :|2(6:4c/2G/2e/2A/2A/2z/2 (6:4A/2z/2z/2c/2c/2z/2 (6:4G/2F/2c/2e/2!>(!e/2z/2 (6:4A/2c/2!>)!c/2F/2c/2c/2 |:!f!(6:4[^eF]/2z/2[^e]/2[^e]/2z/2[^e]/2 (6:4[c^eF]/2z/2[^eF]/2[^e]/2z/2[^eF]/2 (6:4[^e]/2z/2[^e]/2[^eF]/2z/2[^e]/2 (6:4[c^eF]/2z/2[^eF]/2[^e]/2z/2[_eF]/2 |(6:4[^e]/2z/2[^e]/2[^eF]/2z/2[^eF]/2 (6:4[c^e]/2z/2[^eF]/2[^e]/2z/2[^e]/2 (6:4[^eF]/2z/2[^eF]/2[^e]/2z/2[^eF]/2 (6:4[c^e]/2z/2[^eF]/2[^e]/2z/2[_e]/2 |(6:4[^e]/2z/2[^eF]/2[^e]/2z/2[^eF]/2 (6:4[c^e]/2z/2[^e]/2[^e]/2z/2[^eF]/2 (6:4[^eF]/2z/2[^e]/2[^eF]/2z/2[^e]/2 (6:4[c^e]/2z/2[^eF]/2[^e]/2z/2[_e]/2 |[1(6:4z/2e/2e/2A/2c/2c/2 (6:4F/2G/2A/2z/2e/2e/2 (6:4z/2F/2c/2G/2G/2z/2 (6:4A/2z/2G/2G/2c/2e/2 :|2(6:4z/2e/2e/2A/2c/2c/2 (6:4F/2G/2A/2z/2e/2e/2 (6:4z/2F/2c/2G/2!<(!G/2z/2 (6:4A/2z/2!<)!G/2G/2c/2e/2 |:!p!(6:4[gF]/2z/2[^g]/2[g]/2z/2[^gF]/2 (6:4[cgF]/2z/2[^g]/2[gF]/2z/2[^gF]/2 (6:4[g]/2z/2[^gF]/2[g]/2z/2[^g]/2 (6:4[cg]/2z/2[^gF]/2[g]/2z/2[^gF]/2 |(6:4[gF]/2z/2[^g]/2[g]/2z/2[^g]/2 (6:4[cgF]/2z/2[^gF]/2[g]/2z/2[^g]/2 (6:4[gF]/2z/2[^g]/2[g]/2z/2[^g]/2 (6:4[cg]/2z/2[^gF]/2[g]/2z/2[^g]/2 |(6:4[g]/2z/2[^gF]/2[g]/2z/2[^gF]/2 (6:4[cg]/2z/2[^gF]/2[gF]/2z/2[^g]/2 (6:4[g]/2z/2[^gF]/2[g]/2z/2[^gF]/2 (6:4[cg]/2z/2[^gF]/2[g]/2z/2[^g]/2 |[1(6:4e/2F/2e/2A/2A/2F/2 (6:4c/2c/2c/2e/2e/2A/2 (6:4A/2c/2c/2c/2A/2G/2 (6:4e/2e/2e/2G/2G/2G/2 :|2(6:4e/2F/2e/2A/2A/2F/2 (6:4c/2c/2c/2e/2e/2A/2 (6:4A/2c/2c/2c/2!>(!A/2G/2 (6:4e/2e/2!>)!e/2G/2G/2G/2 |:!pp!(6:4[^gF]/2z/2[^gF]/2[^g]/2z/2[^g]/2 (6:4[c^gF]/2z/2[^gF]/2[^g]/2z/2[^g]/2 (6:4[^g]/2z/2[^gF]/2[^g]/2z/2[^gF]/2 (6:4[c^gF]/2z/2[^g]/2[^g]/2z/2[^gF]/2 |(6:4[^g]/2z/2[^g]/2[^gF]/2z/2[^g]/2 (6:4[c^gF]/2z/2[^g]/2[^gF]/2z/2[^gF]/2 (6:4[^g]/2z/2[^gF]/2[^gF]/2z/2[^g]/2 (6:4[c^g]/2z/2[^gF]/2[^g]/2z/2[^g]/2 |(6:4[^g]/2z/2[^gF]/2[^g]/2z/2[^gF]/2 (6:4[c^g]/2z/2[^g]/2[^gF]/2z/2[^g]/2 (6:4[^gF]/2z/2[^gF]/2[^g]/2z/2[^g]/2 (6:4[c^gF]/2z/2[^gF]/2[^g]/2z/2[^g]/2 |[1(6:4c/2z/2A/2G/2G/2G/2 (6:4e/2A/2A/2A/2e/2A/2 (6:4A/2G/2z/2A/2A/2A/2 (6:4F/2c/2e/2e/2z/2G/2 :|2(6:4c/2z/2A/2G/2G/2G/2 (6:4e/2A/2A/2A/2e/2A/2 (6:4A/2G/2z/2A/2!<(!A/2A/2 (6:4F/2c/2!<)!e/2e/2z/2HG/2 |]\n"
     ]
    }
   ],
   "source": [
    "funksolo = abcsolo16shuffle16bass(4, funkBass, funkFill, dyn, funkPat, funkInst, \"Funk 16th feel\")\n",
    "print(funksolo)"
   ]
  },
  {
   "cell_type": "code",
   "execution_count": 91,
   "metadata": {},
   "outputs": [],
   "source": [
    "writetune(\"funktest.abc\", funksolo)"
   ]
  },
  {
   "cell_type": "code",
   "execution_count": 92,
   "metadata": {},
   "outputs": [
    {
     "name": "stdout",
     "output_type": "stream",
     "text": [
      "%%abc-include percussions-JBH.abh\n",
      "\n",
      "%%flatbeams\n",
      "%%propagate-accidentals not\n",
      "%%pos ornament up\n",
      "%%ornament up\n",
      "%%MIDI fermatafixed\n",
      "U: N = !tenuto!\n",
      "U: U = !anti!\n",
      "U: Q = !ghost! %doesn't exist but it should!\n",
      "\n",
      "X:1\n",
      "T:Computer-generated \\`Etude for Solo Drum Kit\n",
      "C:abcsolo16shuffle16bass\n",
      "O:2021-12-17T09:16:48.009\n",
      "M:4/4\n",
      "L:1/8\n",
      "Q:\"Funk 16th feel\" 1/4=60\n",
      "K:none clef=perc\n",
      "[V:1 clef=perc, stem=up]     % activate abc2xml.py map\n",
      "%%voicemap drummap  % activate abcm2ps/abc2svg map\n",
      "%%MIDI channel 10   % activate abc2midi map\n",
      "%%MIDI program 0\n",
      "|:!p!(6:4[gF]/2z/2[^g]/2[gF]/2z/2[^g]/2 (6:4[cg]/2z/2[^g]/2[gF]/2z/2[^g]/2 (6:4[g]/2z/2[^gF]/2[g]/2z/2[^gF]/2 (6:4[cg]/2z/2[^gF]/2[gF]/2z/2[^g]/2 |(6:4[gF]/2z/2[^gF]/2[g]/2z/2[^g]/2 (6:4[cg]/2z/2[^gF]/2[g]/2z/2[^g]/2 (6:4[gF]/2z/2[^g]/2[gF]/2z/2[^gF]/2 (6:4[cg]/2z/2[^gF]/2[gF]/2z/2[^g]/2 |(6:4[gF]/2z/2[^g]/2[g]/2z/2[^gF]/2 (6:4[cg]/2z/2[^gF]/2[g]/2z/2[^gF]/2 (6:4[g]/2z/2[^g]/2[gF]/2z/2[^gF]/2 (6:4[cg]/2z/2[^g]/2[g]/2z/2[^gF]/2 |[1(6:4c/2G/2e/2A/2A/2z/2 (6:4A/2z/2z/2c/2c/2z/2 (6:4G/2F/2c/2e/2e/2z/2 (6:4A/2c/2c/2F/2c/2c/2 :|2(6:4c/2G/2e/2A/2A/2z/2 (6:4A/2z/2z/2c/2c/2z/2 (6:4G/2F/2c/2e/2!>(!e/2z/2 (6:4A/2c/2!>)!c/2F/2c/2c/2 |:!f!(6:4[^eF]/2z/2[^e]/2[^e]/2z/2[^e]/2 (6:4[c^eF]/2z/2[^eF]/2[^e]/2z/2[^eF]/2 (6:4[^e]/2z/2[^e]/2[^eF]/2z/2[^e]/2 (6:4[c^eF]/2z/2[^eF]/2[^e]/2z/2[_eF]/2 |(6:4[^e]/2z/2[^e]/2[^eF]/2z/2[^eF]/2 (6:4[c^e]/2z/2[^eF]/2[^e]/2z/2[^e]/2 (6:4[^eF]/2z/2[^eF]/2[^e]/2z/2[^eF]/2 (6:4[c^e]/2z/2[^eF]/2[^e]/2z/2[_e]/2 |(6:4[^e]/2z/2[^eF]/2[^e]/2z/2[^eF]/2 (6:4[c^e]/2z/2[^e]/2[^e]/2z/2[^eF]/2 (6:4[^eF]/2z/2[^e]/2[^eF]/2z/2[^e]/2 (6:4[c^e]/2z/2[^eF]/2[^e]/2z/2[_e]/2 |[1(6:4z/2e/2e/2A/2c/2c/2 (6:4F/2G/2A/2z/2e/2e/2 (6:4z/2F/2c/2G/2G/2z/2 (6:4A/2z/2G/2G/2c/2e/2 :|2(6:4z/2e/2e/2A/2c/2c/2 (6:4F/2G/2A/2z/2e/2e/2 (6:4z/2F/2c/2G/2!<(!G/2z/2 (6:4A/2z/2!<)!G/2G/2c/2e/2 |:!p!(6:4[gF]/2z/2[^g]/2[g]/2z/2[^gF]/2 (6:4[cgF]/2z/2[^g]/2[gF]/2z/2[^gF]/2 (6:4[g]/2z/2[^gF]/2[g]/2z/2[^g]/2 (6:4[cg]/2z/2[^gF]/2[g]/2z/2[^gF]/2 |(6:4[gF]/2z/2[^g]/2[g]/2z/2[^g]/2 (6:4[cgF]/2z/2[^gF]/2[g]/2z/2[^g]/2 (6:4[gF]/2z/2[^g]/2[g]/2z/2[^g]/2 (6:4[cg]/2z/2[^gF]/2[g]/2z/2[^g]/2 |(6:4[g]/2z/2[^gF]/2[g]/2z/2[^gF]/2 (6:4[cg]/2z/2[^gF]/2[gF]/2z/2[^g]/2 (6:4[g]/2z/2[^gF]/2[g]/2z/2[^gF]/2 (6:4[cg]/2z/2[^gF]/2[g]/2z/2[^g]/2 |[1(6:4e/2F/2e/2A/2A/2F/2 (6:4c/2c/2c/2e/2e/2A/2 (6:4A/2c/2c/2c/2A/2G/2 (6:4e/2e/2e/2G/2G/2G/2 :|2(6:4e/2F/2e/2A/2A/2F/2 (6:4c/2c/2c/2e/2e/2A/2 (6:4A/2c/2c/2c/2!>(!A/2G/2 (6:4e/2e/2!>)!e/2G/2G/2G/2 |:!pp!(6:4[^gF]/2z/2[^gF]/2[^g]/2z/2[^g]/2 (6:4[c^gF]/2z/2[^gF]/2[^g]/2z/2[^g]/2 (6:4[^g]/2z/2[^gF]/2[^g]/2z/2[^gF]/2 (6:4[c^gF]/2z/2[^g]/2[^g]/2z/2[^gF]/2 |(6:4[^g]/2z/2[^g]/2[^gF]/2z/2[^g]/2 (6:4[c^gF]/2z/2[^g]/2[^gF]/2z/2[^gF]/2 (6:4[^g]/2z/2[^gF]/2[^gF]/2z/2[^g]/2 (6:4[c^g]/2z/2[^gF]/2[^g]/2z/2[^g]/2 |(6:4[^g]/2z/2[^gF]/2[^g]/2z/2[^gF]/2 (6:4[c^g]/2z/2[^g]/2[^gF]/2z/2[^g]/2 (6:4[^gF]/2z/2[^gF]/2[^g]/2z/2[^g]/2 (6:4[c^gF]/2z/2[^gF]/2[^g]/2z/2[^g]/2 |[1(6:4c/2z/2A/2G/2G/2G/2 (6:4e/2A/2A/2A/2e/2A/2 (6:4A/2G/2z/2A/2A/2A/2 (6:4F/2c/2e/2e/2z/2G/2 :|2(6:4c/2z/2A/2G/2G/2G/2 (6:4e/2A/2A/2A/2e/2A/2 (6:4A/2G/2z/2A/2!<(!A/2A/2 (6:4F/2c/2!<)!e/2e/2z/2HG/2 |]\n"
     ]
    },
    {
     "data": {
      "text/plain": [
       "Process(`\u001b[4mcat\u001b[24m \u001b[4mfunktest.abc\u001b[24m`, ProcessExited(0))"
      ]
     },
     "execution_count": 92,
     "metadata": {},
     "output_type": "execute_result"
    }
   ],
   "source": [
    "run(`cat funktest.abc`)"
   ]
  },
  {
   "cell_type": "code",
   "execution_count": 93,
   "metadata": {},
   "outputs": [
    {
     "name": "stdout",
     "output_type": "stream",
     "text": [
      "\n",
      "(base) C:\\Users\\holden\\Documents\\GitHub\\drum_solo_generator>abcm2ps.exe -X funktest.abc -O funktest.xhtml \n",
      "abcm2ps-8.14.12 (2021-07-14)\n",
      "File funktest.abc\n",
      "File percussions-JBH.abh\n",
      "Output written on funktest.xhtml (1 page, 1 title, 76863 bytes)\n",
      "\n",
      "(base) C:\\Users\\holden\\Documents\\GitHub\\drum_solo_generator>abc2midi.exe funktest.abc -o funktest.mid \n"
     ]
    },
    {
     "name": "stderr",
     "output_type": "stream",
     "text": [
      "funktest.abc:24:385: warning: Line overfull (637pt of 628pt)\r\n"
     ]
    },
    {
     "name": "stdout",
     "output_type": "stream",
     "text": [
      "4.59 June 27 2021 abc2midi\n",
      "Warning in line-char 24-15 : Different length notes in tuple\n",
      "Warning in line-char 24-30 : Different length notes in tuple\n",
      "Warning in line-char 24-50 : Different length notes in tuple\n",
      "Warning in line-char 24-65 : Different length notes in tuple\n",
      "Warning in line-char 24-84 : Different length notes in tuple\n",
      "Warning in line-char 24-99 : Different length notes in tuple\n",
      "Warning in line-char 24-120 : Different length notes in tuple\n",
      "Warning in line-char 24-136 : Different length notes in tuple\n",
      "Warning in line-char 24-157 : Different length notes in tuple\n",
      "Warning in line-char 24-172 : Different length notes in tuple\n",
      "Warning in line-char 24-192 : Different length notes in tuple\n",
      "Warning in line-char 24-207 : Different length notes in tuple\n",
      "Warning in line-char 24-227 : Different length notes in tuple\n",
      "Warning in line-char 24-242 : Different length notes in tuple\n",
      "Warning in line-char 24-263 : Different length notes in tuple\n",
      "Warning in line-char 24-279 : Different length notes in tuple\n",
      "Warning in line-char 24-300 : Different length notes in tuple\n",
      "Warning in line-char 24-314 : Different length notes in tuple\n",
      "Warning in line-char 24-335 : Different length notes in tuple\n",
      "Warning in line-char 24-350 : Different length notes in tuple\n",
      "Warning in line-char 24-370 : Different length notes in tuple\n",
      "Warning in line-char 24-385 : Different length notes in tuple\n",
      "Warning in line-char 24-406 : Different length notes in tuple\n",
      "Warning in line-char 24-420 : Different length notes in tuple\n",
      "Warning in line-char 24-645 : Different length notes in tuple\n",
      "Warning in line-char 24-660 : Different length notes in tuple\n",
      "Warning in line-char 24-682 : Different length notes in tuple\n",
      "Warning in line-char 24-698 : Different length notes in tuple\n",
      "Warning in line-char 24-719 : Different length notes in tuple\n",
      "Warning in line-char 24-735 : Different length notes in tuple\n",
      "Warning in line-char 24-757 : Different length notes in tuple\n",
      "Warning in line-char 24-773 : Different length notes in tuple\n",
      "Warning in line-char 24-795 : Different length notes in tuple\n",
      "Warning in line-char 24-811 : Different length notes in tuple\n",
      "Warning in line-char 24-833 : Different length notes in tuple\n",
      "Warning in line-char 24-849 : Different length notes in tuple\n",
      "Warning in line-char 24-870 : Different length notes in tuple\n",
      "Warning in line-char 24-886 : Different length notes in tuple\n",
      "Warning in line-char 24-908 : Different length notes in tuple\n",
      "Warning in line-char 24-924 : Different length notes in tuple\n",
      "Warning in line-char 24-945 : Different length notes in tuple\n",
      "Warning in line-char 24-961 : Different length notes in tuple\n",
      "Warning in line-char 24-983 : Different length notes in tuple\n",
      "Warning in line-char 24-998 : Different length notes in tuple\n",
      "Warning in line-char 24-1020 : Different length notes in tuple\n",
      "Warning in line-char 24-1036 : Different length notes in tuple\n",
      "Warning in line-char 24-1057 : Different length notes in tuple\n",
      "Warning in line-char 24-1073 : Different length notes in tuple\n",
      "Warning in line-char 24-1296 : Different length notes in tuple\n",
      "Warning in line-char 24-1310 : Different length notes in tuple\n",
      "Warning in line-char 24-1332 : Different length notes in tuple\n",
      "Warning in line-char 24-1347 : Different length notes in tuple\n",
      "Warning in line-char 24-1367 : Different length notes in tuple\n",
      "Warning in line-char 24-1382 : Different length notes in tuple\n",
      "Warning in line-char 24-1402 : Different length notes in tuple\n",
      "Warning in line-char 24-1417 : Different length notes in tuple\n",
      "Warning in line-char 24-1439 : Different length notes in tuple\n",
      "Warning in line-char 24-1453 : Different length notes in tuple\n",
      "Warning in line-char 24-1474 : Different length notes in tuple\n",
      "Warning in line-char 24-1489 : Different length notes in tuple\n",
      "Warning in line-char 24-1509 : Different length notes in tuple\n",
      "Warning in line-char 24-1523 : Different length notes in tuple\n",
      "Warning in line-char 24-1543 : Different length notes in tuple\n",
      "Warning in line-char 24-1558 : Different length notes in tuple\n",
      "Warning in line-char 24-1578 : Different length notes in tuple\n",
      "Warning in line-char 24-1593 : Different length notes in tuple\n",
      "Warning in line-char 24-1614 : Different length notes in tuple\n",
      "Warning in line-char 24-1630 : Different length notes in tuple\n",
      "Warning in line-char 24-1649 : Different length notes in tuple\n",
      "Warning in line-char 24-1664 : Different length notes in tuple\n",
      "Warning in line-char 24-1685 : Different length notes in tuple\n",
      "Warning in line-char 24-1700 : Different length notes in tuple\n",
      "Warning in line-char 24-1925 : Different length notes in tuple\n",
      "Warning in line-char 24-1941 : Different length notes in tuple\n",
      "Warning in line-char 24-1963 : Different length notes in tuple\n",
      "Warning in line-char 24-1979 : Different length notes in tuple\n",
      "Warning in line-char 24-1999 : Different length notes in tuple\n",
      "Warning in line-char 24-2015 : Different length notes in tuple\n",
      "Warning in line-char 24-2038 : Different length notes in tuple\n",
      "Warning in line-char 24-2053 : Different length notes in tuple\n",
      "Warning in line-char 24-2075 : Different length notes in tuple\n",
      "Warning in line-char 24-2091 : Different length notes in tuple\n",
      "Warning in line-char 24-2113 : Different length notes in tuple\n",
      "Warning in line-char 24-2129 : Different length notes in tuple\n",
      "Warning in line-char 24-2150 : Different length notes in tuple\n",
      "Warning in line-char 24-2167 : Different length notes in tuple\n",
      "Warning in line-char 24-2188 : Different length notes in tuple\n",
      "Warning in line-char 24-2204 : Different length notes in tuple\n",
      "Warning in line-char 24-2225 : Different length notes in tuple\n",
      "Warning in line-char 24-2241 : Different length notes in tuple\n",
      "Warning in line-char 24-2263 : Different length notes in tuple\n",
      "Warning in line-char 24-2279 : Different length notes in tuple\n",
      "Warning in line-char 24-2300 : Different length notes in tuple\n",
      "Warning in line-char 24-2316 : Different length notes in tuple\n",
      "Warning in line-char 24-2338 : Different length notes in tuple\n",
      "Warning in line-char 24-2354 : Different length notes in tuple\n",
      "writing MIDI file funktest.mid\n",
      "Warning in line-char 24-2563 : Track 1 Bar 19 has 9/2 units instead of 4 in repeat\n",
      "\n",
      "(base) C:\\Users\\holden\\Documents\\GitHub\\drum_solo_generator>start funktest.mid \n",
      "\n",
      "(base) C:\\Users\\holden\\Documents\\GitHub\\drum_solo_generator>start funktest.xhtml \n"
     ]
    },
    {
     "data": {
      "text/plain": [
       "Process(`\u001b[4mabctest.bat\u001b[24m \u001b[4mfunktest.abc\u001b[24m`, ProcessExited(0))"
      ]
     },
     "execution_count": 93,
     "metadata": {},
     "output_type": "execute_result"
    }
   ],
   "source": [
    "run(`abctest.bat funktest.abc`)"
   ]
  },
  {
   "cell_type": "code",
   "execution_count": null,
   "metadata": {},
   "outputs": [],
   "source": []
  }
 ],
 "metadata": {
  "kernelspec": {
   "display_name": "Julia 1.6.3",
   "language": "julia",
   "name": "julia-1.6"
  },
  "language_info": {
   "file_extension": ".jl",
   "mimetype": "application/julia",
   "name": "julia",
   "version": "1.6.3"
  }
 },
 "nbformat": 4,
 "nbformat_minor": 4
}
