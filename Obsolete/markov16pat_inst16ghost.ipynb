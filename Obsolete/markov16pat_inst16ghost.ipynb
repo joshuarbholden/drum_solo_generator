{
 "cells": [
  {
   "cell_type": "code",
   "execution_count": 33,
   "metadata": {},
   "outputs": [
    {
     "data": {
      "text/plain": [
       "makeppheader (generic function with 1 method)"
      ]
     },
     "execution_count": 33,
     "metadata": {},
     "output_type": "execute_result"
    }
   ],
   "source": [
    "include(\"markov-drum-utilities.jl\")  #loads AugMatrix, AugDblMatrix, insert, functionName, abptest, makeppheader"
   ]
  },
  {
   "cell_type": "code",
   "execution_count": 34,
   "metadata": {},
   "outputs": [
    {
     "data": {
      "text/plain": [
       "markovrand (generic function with 1 method)"
      ]
     },
     "execution_count": 34,
     "metadata": {},
     "output_type": "execute_result"
    }
   ],
   "source": [
    "#input a vector corresponding to a probability distribution and output an index according to that distribution\n",
    "function markovrand(nextv)\n",
    "    if round(sum(nextv), digits = 6) != 1.0\n",
    "        error(nextv, \" is not a stochastic vector\")\n",
    "    end\n",
    "    maxstates = length(nextv) - 1\n",
    "    r = rand(Float64)\n",
    "    current = maxstates\n",
    "    for i = 0:maxstates\n",
    "        if r <= nextv[i + 1]\n",
    "            current = i\n",
    "            break\n",
    "        else\n",
    "            r = r - nextv[i + 1]\n",
    "        end\n",
    "    end\n",
    "    return(current)\n",
    "end\n"
   ]
  },
  {
   "cell_type": "code",
   "execution_count": 35,
   "metadata": {},
   "outputs": [
    {
     "data": {
      "text/plain": [
       "ghostbassgen (generic function with 1 method)"
      ]
     },
     "execution_count": 35,
     "metadata": {},
     "output_type": "execute_result"
    }
   ],
   "source": [
    "#output bass notes in 2*$beats notes\n",
    "function ghostbassgen(beats::Int, trans::AugMatrix)\n",
    "    transmat = trans.mat\n",
    "    iv = trans.init\n",
    "    nextv = iv\n",
    "    L = []\n",
    "    for j = 1:beats\n",
    "        current = markovrand(nextv)\n",
    "#print(current, \" \")\n",
    "        bincurrent = digits(current, base = 3, pad = 2)\n",
    "#print(bincurrent, \"\\n\")\n",
    "        append!(L, [bincurrent[2], bincurrent[1]])\n",
    "        nextv = transmat[:, current + 1]\n",
    "    end\n",
    "    return(L)\n",
    "end"
   ]
  },
  {
   "cell_type": "code",
   "execution_count": 36,
   "metadata": {},
   "outputs": [
    {
     "data": {
      "text/plain": [
       "9×9 Matrix{Float64}:\n",
       " 0.1   0.166667  0.0   0.166667  0.5  0.0  0.0  0.0  0.0\n",
       " 0.0   0.333333  0.0   0.0       0.0  0.0  0.0  0.0  0.0\n",
       " 0.0   0.166667  0.1   0.166667  0.5  0.0  0.0  0.0  0.0\n",
       " 0.45  0.333333  0.45  0.333333  0.0  0.0  0.0  0.0  0.0\n",
       " 0.45  0.0       0.45  0.333333  0.0  0.0  0.0  0.0  0.0\n",
       " 0.0   0.0       0.0   0.0       0.0  0.0  0.0  0.0  0.0\n",
       " 0.0   0.0       0.0   0.0       0.0  0.0  0.0  0.0  0.0\n",
       " 0.0   0.0       0.0   0.0       0.0  0.0  0.0  0.0  0.0\n",
       " 0.0   0.0       0.0   0.0       0.0  0.0  0.0  0.0  0.0\n",
       "9-element Vector{Float64}:\n",
       " 0.1\n",
       " 0.0\n",
       " 0.1\n",
       " 0.4\n",
       " 0.4\n",
       " 0.0\n",
       " 0.0\n",
       " 0.0\n",
       " 0.0"
      ]
     },
     "execution_count": 36,
     "metadata": {},
     "output_type": "execute_result"
    }
   ],
   "source": [
    "#0 = rest, 1 = bass, 2 = LH\n",
    "                #00    #01  #02   #10  #11  #12  #zeros\n",
    "rockBassMatrix = [0.1e0 1//6  0   1//6  0.5    0 0 0 0 #00\n",
    "                    0   1//3  0     0    0    0  0 0 0  #01\n",
    "                    0   1//6  0.1   1//6  0.5   0 0 0 0  #02\n",
    "                    0.45 1//3  0.45  1//3 0    0 0 0 0  #10\n",
    "                    0.45 0    0.45  1//3  0    0 0 0 0  #11\n",
    "                    0.0  0    0      0   0    0 0 0 0    #12\n",
    "                    zeros(3,9)]                 #zeros\n",
    "\n",
    "rockBassInitial = [0.1,0, 0.1, 0.4, 0.4, 0, 0, 0, 0]\n",
    "\n",
    "rockBass = AugMatrix(rockBassMatrix, rockBassInitial)"
   ]
  },
  {
   "cell_type": "code",
   "execution_count": 37,
   "metadata": {},
   "outputs": [
    {
     "data": {
      "text/plain": [
       "9×9 Matrix{Float64}:\n",
       " 0.1   0.333333  0.0  0.333333  1.0  0.0  0.0  0.0  0.0\n",
       " 0.0   0.333333  0.0  0.0       0.0  0.0  0.0  0.0  0.0\n",
       " 0.0   0.0       0.0  0.0       0.0  0.0  0.0  0.0  0.0\n",
       " 0.45  0.333333  0.0  0.333333  0.0  0.0  0.0  0.0  0.0\n",
       " 0.45  0.0       0.0  0.333333  0.0  0.0  0.0  0.0  0.0\n",
       " 0.0   0.0       0.0  0.0       0.0  0.0  0.0  0.0  0.0\n",
       " 0.0   0.0       0.0  0.0       0.0  0.0  0.0  0.0  0.0\n",
       " 0.0   0.0       0.0  0.0       0.0  0.0  0.0  0.0  0.0\n",
       " 0.0   0.0       0.0  0.0       0.0  0.0  0.0  0.0  0.0\n",
       "9-element Vector{Float64}:\n",
       " 0.1\n",
       " 0.0\n",
       " 0.0\n",
       " 0.5\n",
       " 0.4\n",
       " 0.0\n",
       " 0.0\n",
       " 0.0\n",
       " 0.0"
      ]
     },
     "execution_count": 37,
     "metadata": {},
     "output_type": "execute_result"
    }
   ],
   "source": [
    "rockNoGhostBMatrix = [0.1e0 1//3 1//3 1; 0 1//3 0 0; 0.45e0 1//3 1//3 0; 0.45e0 0 1//3 0]\n",
    "\n",
    "rockNoGhostBInitial = [0.1e0,0, 0,0.5e0,0.4e0, 0, 0, 0, 0]\n",
    "\n",
    "rockNoGhostB = AugMatrix([rockNoGhostBMatrix[1:2, 1:2] zeros(2,1) rockNoGhostBMatrix[1:2, 3:4] zeros(2, 4)\n",
    "    zeros(1, 9)\n",
    "    rockNoGhostBMatrix[3:4, 1:2] zeros(2,1) rockNoGhostBMatrix[3:4, 3:4] zeros(2, 4)\n",
    "    zeros(4, 9)\n",
    "    ],\n",
    "    rockNoGhostBInitial)"
   ]
  },
  {
   "cell_type": "code",
   "execution_count": 124,
   "metadata": {},
   "outputs": [
    {
     "data": {
      "text/plain": [
       "lookup16ride (generic function with 1 method)"
      ]
     },
     "execution_count": 124,
     "metadata": {},
     "output_type": "execute_result"
    }
   ],
   "source": [
    "function lookup16ride(; variation=\"none\")::Matrix\n",
    "    r = Matrix(undef, 4, 4)\n",
    "    r[1,1] = [\"!N![_e\",\"[\",\"!N![_e\",\"[\",\"!N![_ec\",\"[\",\"!N![_e\",\"[\",\"!N![_e\",\"[\",\"!N![_e\",\"[\",\"!N![_ec\",\"[\",\"!N![_e\",\"[\"] #hihat eighths, trash\n",
    "    #NB Windows midi doesn't have a good way of making a trash hat?  !N! defined as tenuto mark and lowered volume in makeppheader\n",
    "    r[2,1] = [\"[^e\", \"[^e\", \"[^e\", \"[^e\", \"[^ec\", \"[^e\", \"[^e\", \"[^e\", \"[^e\", \"[^e\", \"[^e\", \"[^e\", \"[^ec\", \"[^e\", \"[^e\", \"[^e\"]; #hihat 16\n",
    "    r[3,1] = [\"!>![^e\", \"!U![^e\", \"!>![^e\", \"!U![^e\", \"!>![^ec\", \"!U![^e\",\"!>![^e\", \"!U![^e\",\"!>![^e\", \"!U![^e\", \"!>![^e\", \"!U![^e\", \"!>![^ec\", \"!U![^e\", \"!>![^e\", \"!U![^e\"]; #drive 16\n",
    "    if variation == \"funk\"\n",
    "        r[4,1] = [\"[^e\", \"[^e\", \"[^e\", \"[_e\", \"[^ec\", \"[^e\", \"[^e\", \"[^e\", \"[^e\", \"[^e\", \"[^e\", \"[_e\", \"[^ec\", \"[^e\", \"[^e\", \"[^e\"]  #\"James Brown\" slides #7\n",
    "    elseif variation == \"disco\"\n",
    "         r[4,1] = [\"[^e\", \"[^e\", \"[_e\", \"[^e\", \"[^ec\", \"[^e\", \"[_e\", \"[^e\", \"[^e\", \"[^e\", \"[_e\", \"[^e\", \"[^ec\", \"[^e\", \"[_e\", \"[^e\"] #slide every and #6\n",
    "    else\n",
    "        r[4,1] = [\"[^e\", \"[^e\", \"[^e\", \"[^e\", \"[^ec\", \"[^e\", \"[^e\", \"[^e\", \"[^e\", \"[^e\", \"[^e\", \"[^e\", \"[^ec\", \"[^e\", \"[^e\", \"[_e\"];  #one slide 16\n",
    "    end\n",
    "    r[1,2] = [\"[^g\",\"[\",\"[^g\",\"[\",\"[^gc\",\"[\",\"[^g\",\"[\",\"[^g\",\"[\",\"[^g\",\"[\",\"[^gc\",\"[\",\"[^g\",\"[\"] #ride quarter\n",
    "    r[2,2] = [\"[^g\", \"[^g\", \"[^g\", \"[^g\", \"[^gc\", \"[^g\", \"[^g\", \"[^g\", \"[^g\", \"[^g\", \"[^g\", \"[^g\", \"[^gc\", \"[^g\", \"[^g\", \"[^g\"]; #ride 16 \n",
    "    r[3,2] = [\"[^g^D\", \"[^g\", \"[^g\", \"[^g\", \"[^g^Dc\", \"[^g\", \"[^g\", \"[^g\", \"[^g^D\", \"[^g\", \"[^g\", \"[^g\", \"[^g^Dc\", \"[^g\", \"[^g\", \"[^g\"]; #ride 16 with step beats\n",
    "    r[4,2] = [\"[^g\", \"[^g\", \"[^g^D\", \"[^g\", \"[^gc\", \"[^g\", \"[^g^D\", \"[^g\", \"[^g\", \"[^g\", \"[^g^D\", \"[^g\", \"[^gc\", \"[^g\", \"[^g^D\", \"[^g\" ]; #ride 16 with step ands\n",
    "    r[1,3] = [\"[g\",\"[\",\"[g\",\"[\",\"[gc\",\"[\",\"[g\",\"[\",\"[g\",\"[\",\"[g\",\"[\",\"[gc\",\"[\",\"[g\",\"[\"] #bell 8\n",
    "    r[2,3] = [\"[g\",\"[g\",\"[\",\"[\",\"[gc\",\"[g\",\"[\",\"[\",\"[g\",\"[g\",\"[\",\"[\",\"[gc\",\"[g\",\"[\",\"[\"] #bell 16th pairs on beat\n",
    "    r[3,3] = [\"[g\",\"!U![^g\",\"[g\",\"!U![^g\",\"[gc\",\"!U![^g\",\"[g\",\"!U![^g\",\"[g\",\"!U![^g\",\"[g\",\"!U![^g\",\"[gc\",\"!U![^g\",\"[g\",\"!U![^g\"] #bell drive, offbeat ride\n",
    "    r[4,3] = [\"[\",\"[\",\"[g\",\"[g\",\"[c\",\"[\",\"[g\",\"[g\",\"[\",\"[\",\"[g\",\"[g\",\"[c\",\"[\",\"[g\",\"[g\"] #bell pairs on and\n",
    "    r[1,4] = [\"[^D\",\"[\",\"[\",\"[\",\"[^Dc\",\"[\",\"[\",\"[\",\"[^D\",\"[\",\"[\",\"[\",\"[^Dc\",\"[\",\"[\",\"[\"]  #step Q\n",
    "    r[2,4] = [\"[^D\",\"[\",\"[^D\",\"[\",\"[^Dc\",\"[\",\"[^D\",\"[\",\"[^D\",\"[\",\"[^D\",\"[\",\"[^Dc\",\"[\",\"[^D\",\"[\"] #step 8\n",
    "    r[3,4] = [\"[g^D\",\"[g\",\"[^D\",\"[\",\"[g^Dc\",\"[g\",\"[^D\",\"[\",\"[g^D\",\"[g\",\"[^D\",\"[\",\"[g^Dc\",\"[g\",\"[^D\",\"[\"] #step 8 with bell beat pair\n",
    "    r[4,4] = [\"[^D\",\"[\",\"[g^D\",\"[g\",\"[^Dc\",\"[\",\"[g^D\",\"[g\",\"[^D\",\"[\",\"[g^D\",\"[g\",\"[^Dc\",\"[\",\"[g^D\",\"[g\"] #step 8 with bell and pair\n",
    "    return(r)\n",
    "end\n"
   ]
  },
  {
   "cell_type": "code",
   "execution_count": 118,
   "metadata": {},
   "outputs": [
    {
     "data": {
      "text/plain": [
       "abctime16patinst16ghost (generic function with 1 method)"
      ]
     },
     "execution_count": 118,
     "metadata": {},
     "output_type": "execute_result"
    }
   ],
   "source": [
    "#input a sixteenth note bass rhythm and an 16th note ride pattern, output abc notation\n",
    "function abctime16patinst16ghost(L, pattern, instr; variation=\"none\")\n",
    "    n = length(L)\n",
    "    r = lookup16ride(variation=variation)\n",
    "    c = [\"]/2\", \"F]/2\", \"!Q!c]/2\"] #nothing, kick, ghost snare\n",
    "    m = [c[L[i] + 1] for i = 1:n]\n",
    "    s = \"\"\n",
    "    for i = 1:n\n",
    "        s = s * r[pattern, instr][(i - 1) % 16 + 1] * m[i]\n",
    "        if i % 4 == 0\n",
    "            s = s * \" \"\n",
    "        end\n",
    "        if i % 16 == 0\n",
    "            s = s * \"|\\n\"\n",
    "        end\n",
    "    end\n",
    "    return(s)\n",
    "end\n"
   ]
  },
  {
   "cell_type": "code",
   "execution_count": 40,
   "metadata": {},
   "outputs": [
    {
     "data": {
      "text/plain": [
       "fill16gen (generic function with 1 method)"
      ]
     },
     "execution_count": 40,
     "metadata": {},
     "output_type": "execute_result"
    }
   ],
   "source": [
    "#output linear fill in $beats number of sixteenth notes\n",
    "function fill16gen(\n",
    "  beats::Int,\n",
    "  trans::AugDblMatrix)\n",
    "    nextv = trans.init\n",
    "    L = []\n",
    "    for j = 1:beats\n",
    "        current = markovrand(nextv)\n",
    "        append!(L,current)\n",
    "        if j % 2 == 1\n",
    "            nextv = trans.mat1[1:6, current + 1]\n",
    "        else\n",
    "            nextv = trans.mat2[1:6, current + 1]\n",
    "        end\n",
    "    end\n",
    "    return(L)\n",
    "end\n"
   ]
  },
  {
   "cell_type": "code",
   "execution_count": 41,
   "metadata": {},
   "outputs": [
    {
     "data": {
      "text/plain": [
       "6×6 Matrix{Float64}:\n",
       " 0.2  0.1  0.2  0.0  0.3  0.2\n",
       " 0.4  0.2  0.0  0.3  0.3  0.2\n",
       " 0.1  0.4  0.2  0.1  0.1  0.2\n",
       " 0.1  0.1  0.4  0.3  0.1  0.2\n",
       " 0.1  0.1  0.2  0.2  0.1  0.2\n",
       " 0.1  0.1  0.0  0.1  0.1  0.0\n",
       "6×6 Matrix{Float64}:\n",
       " 0.4  0.2  0.1  0.1  0.3  0.0\n",
       " 0.2  0.4  0.2  0.2  0.2  0.0\n",
       " 0.1  0.0  0.4  0.1  0.1  0.0\n",
       " 0.0  0.1  0.1  0.4  0.1  0.0\n",
       " 0.2  0.1  0.1  0.1  0.2  0.0\n",
       " 0.1  0.2  0.1  0.1  0.1  1.0\n",
       "6-element Vector{Float64}:\n",
       " 0.4\n",
       " 0.4\n",
       " 0.1\n",
       " 0.1\n",
       " 0.0\n",
       " 0.0"
      ]
     },
     "execution_count": 41,
     "metadata": {},
     "output_type": "execute_result"
    }
   ],
   "source": [
    "rockFillLeftToRight = [\n",
    "    0.2e0 0.1e0 0.2e0 0 0.3e0 0.2e0; \n",
    "    0.4e0 0.2e0 0 0.3e0 0.3e0 0.2e0; \n",
    "    0.1e0 0.4e0 0.2e0 0.1e0 0.1e0 0.2e0; \n",
    "    0.1e0 0.1e0 0.4e0 0.3e0 0.1e0 0.2e0; \n",
    "    0.1e0 0.1e0 0.2e0 0.2e0 0.1e0 0.2e0; \n",
    "    0.1e0 0.1e0 0 0.1e0 0.1e0 0]\n",
    "\n",
    "rockFillRightToLeft = [\n",
    "    0.4e0 0.2e0 0.1e0 0.1e0 0.3e0 0\n",
    "    0.2e0 0.4e0 0.2e0 0.2e0 0.2e0 0\n",
    "    0.1e0 0 0.4e0 0.1e0 0.1e0 0\n",
    "    0 0.1e0 0.1e0 0.4e0 0.1e0 0\n",
    "    0.2e0 0.1e0 0.1e0 0.1e0 0.2e0 0\n",
    "    0.1e0 0.2e0 0.1e0 0.1e0 0.1e0 0.10e1]\n",
    "\n",
    "\n",
    "rockFillInitial = [0.4e0,0.4e0,0.1e0,0.1e0,0,0] #snare, high, mid, low, kick, rest\n",
    "\n",
    "rockFill= AugDblMatrix(rockFillLeftToRight, rockFillRightToLeft, rockFillInitial)"
   ]
  },
  {
   "cell_type": "code",
   "execution_count": 42,
   "metadata": {},
   "outputs": [
    {
     "data": {
      "text/plain": [
       "abcfill16 (generic function with 1 method)"
      ]
     },
     "execution_count": 42,
     "metadata": {},
     "output_type": "execute_result"
    }
   ],
   "source": [
    "#input a sixteenth note fill and a crescendo/descr indicator, output abc notation\n",
    "function abcfill16(L, crdc)\n",
    "    n = length(L)\n",
    "    c = [\"c/2\",\"e/2\",\"A/2\",\"G/2\",\"F/2\",\"z/2\"]\n",
    "    m = [c[L[i] + 1] for i = 1:n]\n",
    "    s = \"\"\n",
    "    for i = 1:n\n",
    "        s = s * m[i]\n",
    "        if i % 4 == 0\n",
    "            s = s * \" \"\n",
    "        end\n",
    "        if i % 16 == 12\n",
    "            if crdc < 0\n",
    "                s = s * \"!>(!\"\n",
    "            elseif 0 < crdc\n",
    "                s = s * \"!<(!\"\n",
    "            end\n",
    "        end\n",
    "        if i % 16 == 14\n",
    "            if crdc < 0\n",
    "                s = s * \"!>)!\"\n",
    "            elseif 0 < crdc\n",
    "                s = s * \"!<)!\"\n",
    "            end\n",
    "        end\n",
    "    end\n",
    "    return(s)\n",
    "end\n"
   ]
  },
  {
   "cell_type": "code",
   "execution_count": 43,
   "metadata": {},
   "outputs": [
    {
     "data": {
      "text/plain": [
       "12×12 Matrix{Float64}:\n",
       " 0.0  0.0  0.2  0.2  0.1  0.1  0.0  0.0  0.0  0.0  0.0  0.0\n",
       " 0.0  0.0  0.2  0.1  0.1  0.1  0.0  0.0  0.0  0.0  0.0  0.0\n",
       " 0.2  0.2  0.0  0.0  0.2  0.1  0.1  0.1  0.1  0.2  0.1  0.2\n",
       " 0.2  0.2  0.0  0.0  0.2  0.1  0.1  0.1  0.2  0.1  0.2  0.1\n",
       " 0.0  0.0  0.1  0.2  0.0  0.0  0.2  0.1  0.0  0.0  0.1  0.2\n",
       " 0.0  0.0  0.2  0.2  0.0  0.0  0.2  0.1  0.0  0.0  0.2  0.1\n",
       " 0.1  0.2  0.0  0.0  0.1  0.2  0.0  0.0  0.2  0.2  0.0  0.0\n",
       " 0.2  0.1  0.0  0.0  0.1  0.2  0.0  0.0  0.2  0.1  0.0  0.0\n",
       " 0.1  0.2  0.1  0.2  0.1  0.1  0.1  0.2  0.0  0.0  0.2  0.2\n",
       " 0.2  0.1  0.2  0.1  0.1  0.1  0.1  0.2  0.0  0.0  0.2  0.2\n",
       " 0.0  0.0  0.0  0.0  0.0  0.0  0.1  0.1  0.1  0.2  0.0  0.0\n",
       " 0.0  0.0  0.0  0.0  0.0  0.0  0.1  0.1  0.2  0.2  0.0  0.0\n",
       "12×12 Matrix{Float64}:\n",
       " 0.1  0.2  0.2  0.2  0.1  0.1  0.1  0.1  0.1  0.2  0.0  0.0\n",
       " 0.2  0.1  0.2  0.1  0.1  0.1  0.1  0.1  0.2  0.1  0.0  0.0\n",
       " 0.2  0.2  0.0  0.0  0.2  0.1  0.2  0.1  0.2  0.2  0.1  0.2\n",
       " 0.2  0.2  0.0  0.0  0.2  0.1  0.2  0.1  0.2  0.1  0.2  0.1\n",
       " 0.0  0.0  0.0  0.0  0.0  0.0  0.0  0.0  0.0  0.0  0.0  0.0\n",
       " 0.0  0.0  0.0  0.0  0.0  0.0  0.0  0.0  0.0  0.0  0.0  0.0\n",
       " 0.0  0.0  0.0  0.0  0.0  0.0  0.0  0.0  0.0  0.0  0.0  0.0\n",
       " 0.0  0.0  0.0  0.0  0.0  0.0  0.0  0.0  0.0  0.0  0.0  0.0\n",
       " 0.1  0.2  0.1  0.2  0.1  0.2  0.1  0.2  0.0  0.0  0.2  0.2\n",
       " 0.2  0.1  0.2  0.2  0.1  0.2  0.1  0.2  0.0  0.0  0.2  0.2\n",
       " 0.0  0.0  0.1  0.2  0.1  0.1  0.1  0.1  0.1  0.2  0.1  0.2\n",
       " 0.0  0.0  0.2  0.1  0.1  0.1  0.1  0.1  0.2  0.2  0.2  0.1\n",
       "12-element Vector{Float64}:\n",
       " 0.05\n",
       " 0.05\n",
       " 0.1\n",
       " 0.1\n",
       " 0.1\n",
       " 0.1\n",
       " 0.1\n",
       " 0.1\n",
       " 0.1\n",
       " 0.1\n",
       " 0.05\n",
       " 0.05"
      ]
     },
     "execution_count": 43,
     "metadata": {},
     "output_type": "execute_result"
    }
   ],
   "source": [
    "dynMatrix = [\n",
    "    0 0 0.2e0 0.2e0 0.1e0 0.1e0 0 0 0 0 0 0; \n",
    "    0 0 0.2e0 0.1e0 0.1e0 0.1e0 0 0 0 0 0 0; \n",
    "    0.2e0 0.2e0 0 0 0.2e0 0.1e0 0.1e0 0.1e0 0.1e0 0.2e0 0.1e0 0.2e0; \n",
    "    0.2e0 0.2e0 0 0 0.2e0 0.1e0 0.1e0 0.1e0 0.2e0 0.1e0 0.2e0 0.1e0; \n",
    "    0 0 0.1e0 0.2e0 0 0 0.2e0 0.1e0 0 0 0.1e0 0.2e0; \n",
    "    0 0 0.2e0 0.2e0 0 0 0.2e0 0.1e0 0 0 0.2e0 0.1e0; \n",
    "    0.1e0 0.2e0 0 0 0.1e0 0.2e0 0 0 0.2e0 0.2e0 0 0; \n",
    "    0.2e0 0.1e0 0 0 0.1e0 0.2e0 0 0 0.2e0 0.1e0 0 0; \n",
    "    0.1e0 0.2e0 0.1e0 0.2e0 0.1e0 0.1e0 0.1e0 0.2e0 0 0 0.2e0 0.2e0;\n",
    "    0.2e0 0.1e0 0.2e0 0.1e0 0.1e0 0.1e0 0.1e0 0.2e0 0 0 0.2e0 0.2e0; \n",
    "    0 0 0 0 0 0 0.1e0 0.1e0 0.1e0 0.2e0 0 0; \n",
    "    0 0 0 0 0 0 0.1e0 0.1e0 0.2e0 0.2e0 0 0]\n",
    "\n",
    "\n",
    "dynFinal = [\n",
    "    0.1e0 0.2e0 0.2e0 0.2e0 0.1e0 0.1e0 0.1e0 0.1e0 0.1e0 0.2e0 0 0; \n",
    "    0.2e0 0.1e0 0.2e0 0.1e0 0.1e0 0.1e0 0.1e0 0.1e0 0.2e0 0.1e0 0 0; \n",
    "    0.2e0 0.2e0 0 0 0.2e0 0.1e0 0.2e0 0.1e0 0.2e0 0.2e0 0.1e0 0.2e0; \n",
    "    0.2e0 0.2e0 0 0 0.2e0 0.1e0 0.2e0 0.1e0 0.2e0 0.1e0 0.2e0 0.1e0; \n",
    "    0 0 0 0 0 0 0 0 0 0 0 0; \n",
    "    0 0 0 0 0 0 0 0 0 0 0 0; \n",
    "    0 0 0 0 0 0 0 0 0 0 0 0; \n",
    "    0 0 0 0 0 0 0 0 0 0 0 0; \n",
    "    0.1e0 0.2e0 0.1e0 0.2e0 0.1e0 0.2e0 0.1e0 0.2e0 0 0 0.2e0 0.2e0; \n",
    "    0.2e0 0.1e0 0.2e0 0.2e0 0.1e0 0.2e0 0.1e0 0.2e0 0 0 0.2e0 0.2e0; \n",
    "    0 0 0.1e0 0.2e0 0.1e0 0.1e0 0.1e0 0.1e0 0.1e0 0.2e0 0.1e0 0.2e0; \n",
    "    0 0 0.2e0 0.1e0 0.1e0 0.1e0 0.1e0 0.1e0 0.2e0 0.2e0 0.2e0 0.1e0]\n",
    "\n",
    "\n",
    "dynInitial = [0.5e-1,0.5e-1,0.1e0,0.1e0,0.1e0,0.1e0,0.1e0,0.1e0,0.1e0,0.1e0,0.5e-1,0.5e-1]\n",
    "#pp>, pp<, p>, p<, mp>, mp<, mf>, mf<, f>, f<, ff>, ff<\n",
    "\n",
    "dyn = AugDblMatrix(dynMatrix, dynFinal, dynInitial)"
   ]
  },
  {
   "cell_type": "code",
   "execution_count": 44,
   "metadata": {},
   "outputs": [
    {
     "data": {
      "text/plain": [
       "4×4 Matrix{Float64}:\n",
       " 0.0  0.4  0.4  0.4\n",
       " 0.4  0.0  0.2  0.2\n",
       " 0.2  0.2  0.0  0.4\n",
       " 0.4  0.4  0.4  0.0\n",
       "4-element Vector{Float64}:\n",
       " 0.4\n",
       " 0.4\n",
       " 0.2\n",
       " 0.0"
      ]
     },
     "execution_count": 44,
     "metadata": {},
     "output_type": "execute_result"
    }
   ],
   "source": [
    "rockPatMatrix = [\n",
    "    #8  Q   b   +\n",
    "    0   0.4 0.4 0.4 #8 \n",
    "    0.4 0   0.2 0.2   #Q\n",
    "    0.2 0.2 0   0.4 #b\n",
    "    0.4 0.4 0.4 0 #+\n",
    "    ]\n",
    "\n",
    "\n",
    "\n",
    "rockPatInitial = [0.4; 0.4; 0.2; 0]\n",
    "\n",
    "rockPat = AugMatrix(rockPatMatrix, rockPatInitial)"
   ]
  },
  {
   "cell_type": "code",
   "execution_count": 45,
   "metadata": {},
   "outputs": [
    {
     "data": {
      "text/plain": [
       "4×4 Matrix{Float64}:\n",
       " 0.1  0.4  0.4  0.4\n",
       " 0.6  0.1  0.4  0.4\n",
       " 0.2  0.4  0.1  0.2\n",
       " 0.1  0.1  0.1  0.0\n",
       "4-element Vector{Float64}:\n",
       " 0.5\n",
       " 0.3\n",
       " 0.0\n",
       " 0.2"
      ]
     },
     "execution_count": 45,
     "metadata": {},
     "output_type": "execute_result"
    }
   ],
   "source": [
    "rockInstMatrix = [\n",
    "   #HH  RC  RB  ST \n",
    "    0.1 0.4 0.4   0.4   #HH\n",
    "    0.6 0.1 0.4   0.4   #RC\n",
    "    0.2 0.4 0.1   0.2   #RB\n",
    "    0.1 0.1 0.1   0     #ST\n",
    "]\n",
    "\n",
    "rockInstInitial = [0.5; 0.3; 0; 0.2]\n",
    "\n",
    "rockInst = AugMatrix(rockInstMatrix, rockInstInitial)"
   ]
  },
  {
   "cell_type": "code",
   "execution_count": 110,
   "metadata": {},
   "outputs": [
    {
     "data": {
      "text/plain": [
       "abctune16patinst16ghost (generic function with 1 method)"
      ]
     },
     "execution_count": 110,
     "metadata": {},
     "output_type": "execute_result"
    }
   ],
   "source": [
    "#output time, fill, time, fill with cresc/decr in abc notation\n",
    "function abctune16patinst16ghost(\n",
    "  vol,\n",
    "  bass,\n",
    "  pat,\n",
    "  inst,\n",
    "  fill,\n",
    "  crdc; \n",
    "        variation=\"none\")\n",
    "    fp = [\"!pp!\",\"!p!\",\"!mp!\",\"!mf!\",\"!f!\",\"!ff!\"]\n",
    "    return(\"|:\" * fp[vol] * abctime16patinst16ghost(bass, pat, inst, variation=variation) * \"[1\" * abcfill16(fill, 0) * \":|2\" * abcfill16(fill, crdc)* \"\\n\")\n",
    "end\n"
   ]
  },
  {
   "cell_type": "code",
   "execution_count": 111,
   "metadata": {},
   "outputs": [
    {
     "data": {
      "text/plain": [
       "abcsolo16patinst16ghost (generic function with 1 method)"
      ]
     },
     "execution_count": 111,
     "metadata": {},
     "output_type": "execute_result"
    }
   ],
   "source": [
    "#put it all together, output abc notation\n",
    "import Dates\n",
    "function abcsolo16patinst16ghost(\n",
    "  len::Int,\n",
    "  basstrans::AugMatrix,\n",
    "  filltrans::AugDblMatrix,\n",
    "  dyntrans::AugDblMatrix,\n",
    "  pattrans::AugMatrix,\n",
    "  insttrans::AugMatrix,\n",
    "  feel::String;\n",
    "     variation=\"rock\"  )\n",
    "    s = \"\"\n",
    "    curdyn = markovrand(dyn.init)\n",
    "    curpat = markovrand(pattrans.init)\n",
    "    curinst = markovrand(insttrans.init)\n",
    "    for i = 1:len\n",
    "        vol = div(curdyn, 2) + 1\n",
    "        bass = ghostbassgen(24, basstrans)\n",
    "        pat = curpat + 1\n",
    "        inst = curinst + 1\n",
    "        fill = fill16gen(16, filltrans)\n",
    "        crdc = 2 * mod(curdyn, 2) - 1\n",
    "        s = s * abctune16patinst16ghost(vol, bass, pat, inst, fill, crdc, variation=variation)\n",
    "        if i + 1 < len\n",
    "            curdyn = markovrand(dyntrans.mat1[:, curdyn + 1])\n",
    "        else\n",
    "            curdyn = markovrand(dyntrans.mat2[:, curdyn + 1])\n",
    "        end\n",
    "        curpat = markovrand(pattrans.mat[:, curpat + 1])\n",
    "        curinst = markovrand(insttrans.mat[:, curinst + 1])\n",
    "    end\n",
    "    s = insert(s, findlast(occursin(\"acbdefgABCDEFG\"), s)-1, \"!fermata!\") #final fermata\n",
    "    s = replace(s, \"[]\" => \"z\") #rest\n",
    "    s = makeppheader(\"Computer-generated \\\\`Etude for Solo Drum Kit\", String(@functionName) * \"/\" * variation, \"$(Dates.now())\", \"4/4\", feel, 80) * s * \"|]\\n\"\n",
    "    return(s)\n",
    "end\n"
   ]
  },
  {
   "cell_type": "code",
   "execution_count": 112,
   "metadata": {},
   "outputs": [
    {
     "name": "stdout",
     "output_type": "stream",
     "text": [
      "%%abc-include percussions-JBH.abh\n",
      "\n",
      "I:linebreak $\n",
      "\n",
      "#ifdef MIDI\n",
      "#define !>! \"[I:volinc 50]\"\n",
      "#define !Q! \"[I:vol 20]\" \n",
      "                %%%ghost\n",
      "#define !U! \"[I:vol 40]\" \n",
      "                %%%unaccent\n",
      "#define !N! \"[I:volinc -25]\" \n",
      "            %%%tenuto for trash hat\n",
      "#else\n",
      "#define !N! \"\\\"^_\\\"\" \n",
      "                %%%tenuto\n",
      "#define !Q! !(.!!).! \n",
      "                %%%ghost\n",
      "#define !U! !anti!  \n",
      "                %%%unaccent\n",
      "#endif\n",
      "\n",
      "X:1\n",
      "T:Computer-generated \\`Etude for Solo Drum Kit\n",
      "C:#abcsolo16patinst16ghost#29/rock\n",
      "O:2021-12-31T17:45:42.529\n",
      "M:4/4\n",
      "L:1/8\n",
      "Q:\"Rock 16th feel\" 1/4=80\n",
      "K:none clef=perc\n",
      "[V:1 clef=perc, stem=up]     % activate abc2xml.py map\n",
      "%%voicemap drummap  % activate abcm2ps/abc2svg map\n",
      "%%MIDI channel 10   % activate abc2midi map\n",
      "%%MIDI program 0\n",
      "%%flatbeams\n",
      "%%propagate-accidentals not\n",
      "%%pos ornament up\n",
      "%%ornament up\n",
      "%%MIDI fermatafixed\n",
      "|:!mf![g^D]/2[g!Q!c]/2[^DF]/2z/2 [g^Dc]/2[g]/2[^DF]/2[F]/2 [g^D]/2[g!Q!c]/2[^DF]/2[F]/2 [g^Dc]/2[g]/2[^DF]/2z/2 |\n",
      "[g^D]/2[g!Q!c]/2[^DF]/2z/2 [g^DcF]/2[g]/2[^DF]/2z/2 [g^DF]/2[gF]/2[^D]/2[!Q!c]/2 [g^DcF]/2[g]/2[^DF]/2z/2 |\n",
      "[g^DF]/2[gF]/2[^D]/2[!Q!c]/2 [g^DcF]/2[g]/2[^DF]/2[F]/2 [g^D]/2[g]/2[^DF]/2[F]/2 [g^Dc]/2[g]/2[^DF]/2[F]/2 |\n",
      "[1G/2e/2e/2A/2 A/2F/2e/2e/2 e/2A/2e/2A/2 G/2z/2z/2A/2 :|2G/2e/2e/2A/2 A/2F/2e/2e/2 e/2A/2e/2A/2 !>(!G/2z/2!>)!z/2A/2 \n",
      "|:!mp![^eF]/2[^e]/2[^eF]/2[^eF]/2 [^ec]/2[^e!Q!c]/2[^eF]/2[^eF]/2 [^e]/2[^e!Q!c]/2[^e]/2[^e!Q!c]/2 [^ecF]/2[^eF]/2[^e]/2[_e!Q!c]/2 |\n",
      "[^eF]/2[^eF]/2[^e]/2[^e!Q!c]/2 [^ecF]/2[^eF]/2[^e]/2[^e]/2 [^eF]/2[^e]/2[^eF]/2[^e]/2 [^ec]/2[^e]/2[^eF]/2[_eF]/2 |\n",
      "[^e]/2[^e]/2[^e]/2[^e]/2 [^ecF]/2[^e]/2[^eF]/2[^e]/2 [^eF]/2[^eF]/2[^e]/2[^e]/2 [^ecF]/2[^e]/2[^eF]/2[_eF]/2 |\n",
      "[1e/2A/2e/2e/2 e/2G/2A/2A/2 z/2c/2F/2e/2 F/2e/2e/2A/2 :|2e/2A/2e/2e/2 e/2G/2A/2A/2 z/2c/2F/2e/2 !>(!F/2e/2!>)!e/2A/2 \n",
      "|:!mf![^gF]/2z/2[^gF]/2[F]/2 [^gc]/2[!Q!c]/2[^gF]/2z/2 [^gF]/2z/2[^gF]/2[F]/2 [^gc]/2z/2[^gF]/2z/2 |\n",
      "[^gF]/2z/2[^g]/2z/2 [^gcF]/2z/2[^gF]/2[F]/2 [^g]/2z/2[^g]/2z/2 [^gcF]/2z/2[^gF]/2[F]/2 |\n",
      "[^g]/2z/2[^gF]/2z/2 [^gc]/2[!Q!c]/2[^gF]/2[F]/2 [^g]/2[!Q!c]/2[^gF]/2[F]/2 [^gc]/2[!Q!c]/2[^gF]/2[F]/2 |\n",
      "[1c/2z/2z/2c/2 e/2e/2G/2e/2 F/2e/2z/2e/2 e/2z/2z/2G/2 :|2c/2z/2z/2c/2 e/2e/2G/2e/2 F/2e/2z/2e/2 !<(!e/2z/2!<)!z/2G/2 \n",
      "|:!ff!!>![^e]/2!U![^e]/2!>![^eF]/2!U![^eF]/2 !>![^ec]/2!U![^e]/2!>![^eF]/2!U![^e]/2 !>![^eF]/2!U![^e]/2!>![^eF]/2!U![^e]/2 !>![^ecF]/2!U![^e]/2!>![^eF]/2!U![^e]/2 |\n",
      "!>![^eF]/2!U![^eF]/2!>![^e]/2!U![^e!Q!c]/2 !>![^ecF]/2!U![^e]/2!>![^e]/2!U![^e]/2 !>![^eF]/2!U![^eF]/2!>![^e]/2!U![^e]/2 !>![^ec]/2!U![^e]/2!>![^eF]/2!U![^eF]/2 |\n",
      "!>![^e]/2!U![^e!Q!c]/2!>![^eF]/2!U![^e]/2 !>![^ec]/2!U![^e!Q!c]/2!>![^eF]/2!U![^e]/2 !>![^eF]/2!U![^eF]/2!>![^e]/2!U![^e]/2 !>![^ecF]/2!U![^e]/2!>![^e]/2!U![^e!Q!c]/2 |\n",
      "[1c/2F/2e/2c/2 e/2z/2z/2A/2 z/2F/2F/2c/2 e/2G/2c/2e/2 :|2c/2F/2e/2c/2 e/2z/2z/2A/2 z/2F/2F/2c/2 !>(!e/2G/2!>)!c/2!fermata!e/2 \n",
      "|]\n"
     ]
    }
   ],
   "source": [
    "solo = abcsolo16patinst16ghost(4, rockBass, rockFill, dyn, rockPat, rockInst, \"Rock 16th feel\")\n",
    "if true\n",
    "    print(solo)\n",
    "end"
   ]
  },
  {
   "cell_type": "code",
   "execution_count": 79,
   "metadata": {},
   "outputs": [],
   "source": [
    "#write a string to a file\n",
    "open(f->print(f, solo), \"rockghosttest.abp\", \"w\")"
   ]
  },
  {
   "cell_type": "code",
   "execution_count": 82,
   "metadata": {
    "scrolled": true
   },
   "outputs": [
    {
     "name": "stdout",
     "output_type": "stream",
     "text": [
      "abcm2ps-8.14.12 (2021-07-14)\r\n",
      "File rockghosttest-ps.abc\r\n",
      "File percussions-JBH.abh\r\n",
      "Output written on rockghosttest.xhtml (1 page, 1 title, 61145 bytes)\r\n",
      "4.59 June 27 2021 abc2midi\r\n",
      "writing MIDI file rockghosttest.mid\r\n",
      "Warning in line-char 41-0 : Track 1 Bar 19 has 9/2 units instead of 4 in repeat\r\n"
     ]
    },
    {
     "name": "stderr",
     "output_type": "stream",
     "text": [
      "rockghosttest-ps.abc:28:96: warning: Line overfull (637pt of 628pt)\r\n"
     ]
    },
    {
     "data": {
      "text/plain": [
       "Process(`\u001b[4mcmd\u001b[24m \u001b[4m/C\u001b[24m \u001b[4mstart\u001b[24m \u001b[4mrockghosttest.xhtml\u001b[24m`, ProcessExited(0))"
      ]
     },
     "execution_count": 82,
     "metadata": {},
     "output_type": "execute_result"
    }
   ],
   "source": [
    "#Converts ABP file to score and MIDI and displays/plays it\n",
    "abptest(\"rockghosttest.abp\")"
   ]
  },
  {
   "cell_type": "code",
   "execution_count": 81,
   "metadata": {
    "scrolled": true
   },
   "outputs": [
    {
     "name": "stdout",
     "output_type": "stream",
     "text": [
      "%%abc-include percussions-JBH.abh\n",
      "\n",
      "I:linebreak $\n",
      "\n",
      "#ifdef MIDI\n",
      "#define !>! \"[I:volinc 50]\"\n",
      "#define !Q! \"[I:vol 20]\" \n",
      "                %%%ghost\n",
      "#define !U! \"[I:vol 40]\" \n",
      "                %%%unaccent\n",
      "#define !N! \"[I:volinc -25]\" \n",
      "            %%%tenuto for trash hat\n",
      "#else\n",
      "#define !N! \"\\\"^_\\\"\" \n",
      "                %%%tenuto\n",
      "#define !Q! !(.!!).! \n",
      "                %%%ghost\n",
      "#define !U! !anti!  \n",
      "                %%%unaccent\n",
      "#endif\n",
      "\n",
      "X:1\n",
      "T:Computer-generated \\`Etude for Solo Drum Kit\n",
      "C:abcsolo16patinst16ghost\n",
      "O:2021-12-31T17:24:54.329\n",
      "M:4/4\n",
      "L:1/8\n",
      "Q:\"Rock 16th feel\" 1/4=80\n",
      "K:none clef=perc\n",
      "[V:1 clef=perc, stem=up]     % activate abc2xml.py map\n",
      "%%voicemap drummap  % activate abcm2ps/abc2svg map\n",
      "%%MIDI channel 10   % activate abc2midi map\n",
      "%%MIDI program 0\n",
      "%%flatbeams\n",
      "%%propagate-accidentals not\n",
      "%%pos ornament up\n",
      "%%ornament up\n",
      "%%MIDI fermatafixed\n",
      "|:!mp![^eF]/2[^e]/2[^eF]/2[^e]/2 [^ecF]/2[^e]/2[^eF]/2[^e]/2 [^e]/2[^e]/2[^eF]/2[^eF]/2 [^ec]/2[^e]/2[^eF]/2[^e]/2 |\n",
      "[^eF]/2[^eF]/2[^e]/2[^e]/2 [^ecF]/2[^e]/2[^e]/2[^e]/2 [^eF]/2[^e]/2[^eF]/2[^eF]/2 [^ec]/2[^e]/2[^eF]/2[^e]/2 |\n",
      "[^eF]/2[^eF]/2[^e]/2[^e]/2 [^ecF]/2[^eF]/2[^e]/2[^e]/2 [^eF]/2[^e]/2[^e]/2[^e]/2 [^ecF]/2[^e]/2[^eF]/2[^e]/2 |\n",
      "[1G/2e/2z/2G/2 c/2F/2e/2A/2 F/2e/2e/2A/2 z/2A/2A/2F/2 :|2G/2e/2z/2G/2 c/2F/2e/2A/2 F/2e/2e/2A/2 !>(!z/2A/2!>)!A/2F/2 \n",
      "|:!pp!z/2z/2[gF]/2[g]/2 [cF]/2z/2[gF]/2[g]/2 [F]/2[F]/2[g]/2[g]/2 [cF]/2[F]/2[g]/2[g]/2 |\n",
      "[F]/2[F]/2[g]/2[g]/2 [c]/2z/2[gF]/2[gF]/2 z/2z/2[gF]/2[gF]/2 [c]/2z/2[gF]/2[g]/2 |\n",
      "[F]/2[F]/2[g]/2[g]/2 [cF]/2z/2[gF]/2[gF]/2 z/2z/2[g]/2[g]/2 [cF]/2[F]/2[g]/2[g]/2 |\n",
      "[1c/2c/2F/2A/2 z/2c/2c/2e/2 e/2e/2e/2c/2 A/2G/2G/2e/2 :|2c/2c/2F/2A/2 z/2c/2c/2e/2 e/2e/2e/2c/2 !<(!A/2G/2!<)!G/2e/2 \n",
      "|:!f!!>![^eF]/2!U![^e]/2!>![^eF]/2!U![^eF]/2 !>![^ec]/2!U![^e]/2!>![^e]/2!U![^e]/2 !>![^eF]/2!U![^eF]/2!>![^e]/2!U![^e]/2 !>![^ecF]/2!U![^e]/2!>![^eF]/2!U![^e]/2 |\n",
      "!>![^eF]/2!U![^eF]/2!>![^e]/2!U![^e]/2 !>![^ecF]/2!U![^eF]/2!>![^e]/2!U![^e]/2 !>![^eF]/2!U![^eF]/2!>![^e]/2!U![^e]/2 !>![^ecF]/2!U![^e]/2!>![^eF]/2!U![^e]/2 |\n",
      "!>![^eF]/2!U![^e]/2!>![^eF]/2!U![^eF]/2 !>![^ec]/2!U![^e]/2!>![^eF]/2!U![^eF]/2 !>![^e]/2!U![^e]/2!>![^eF]/2!U![^e]/2 !>![^ecF]/2!U![^e]/2!>![^eF]/2!U![^e]/2 |\n",
      "[1e/2A/2F/2G/2 z/2c/2c/2G/2 G/2F/2F/2e/2 z/2A/2z/2c/2 :|2e/2A/2F/2G/2 z/2c/2c/2G/2 G/2F/2F/2e/2 !>(!z/2A/2!>)!z/2c/2 \n",
      "|:!ff![^gF]/2[^g]/2[^g]/2[^g]/2 [^gcF]/2[^g]/2[^gF]/2[^gF]/2 [^g]/2[^g]/2[^gF]/2[^g]/2 [^gcF]/2[^gF]/2[^g]/2[^g]/2 |\n",
      "[^gF]/2[^gF]/2[^g]/2[^g]/2 [^gcF]/2[^g]/2[^gF]/2[^g]/2 [^g]/2[^g]/2[^gF]/2[^g]/2 [^gcF]/2[^gF]/2[^g]/2[^g]/2 |\n",
      "[^gF]/2[^gF]/2[^g]/2[^g]/2 [^gc]/2[^g]/2[^gF]/2[^gF]/2 [^g]/2[^g]/2[^gF]/2[^gF]/2 [^gc]/2[^g]/2[^gF]/2[^gF]/2 |\n",
      "[1c/2z/2z/2G/2 z/2F/2c/2e/2 e/2G/2G/2F/2 e/2A/2F/2G/2 :|2c/2z/2z/2G/2 z/2F/2c/2e/2 e/2G/2G/2F/2 !<(!e/2A/2!<)!F/2!fermata!G/2 \n",
      "|]\n"
     ]
    }
   ],
   "source": [
    "NoGhostSolo = abcsolo16patinst16ghost(4, rockNoGhostB, rockFill, dyn, rockPat, rockInst, \"Rock 16th feel\")\n",
    "print(NoGhostSolo)"
   ]
  },
  {
   "cell_type": "code",
   "execution_count": 109,
   "metadata": {},
   "outputs": [
    {
     "name": "stdout",
     "output_type": "stream",
     "text": [
      "abcm2ps-8.14.12 (2021-07-14)\r\n",
      "File rocknoghosttest-ps.abc\r\n",
      "File percussions-JBH.abh\r\n",
      "Output written on rocknoghosttest.xhtml (1 page, 1 title, 54401 bytes)\r\n",
      "4.59 June 27 2021 abc2midi\r\n",
      "Warning in line-char 24-5 : instruction !N! ignored\r\n",
      "Warning in line-char 24-20 : instruction !N! ignored\r\n",
      "Warning in line-char 24-33 : instruction !N! ignored\r\n",
      "Warning in line-char 24-47 : instruction !N! ignored\r\n",
      "Warning in line-char 24-60 : instruction !N! ignored\r\n",
      "Warning in line-char 24-73 : instruction !N! ignored\r\n",
      "Warning in line-char 24-89 : instruction !N! ignored\r\n",
      "Warning in line-char 24-102 : instruction !N! ignored\r\n",
      "Warning in line-char 25-0 : instruction !N! ignored\r\n",
      "Warning in line-char 25-12 : instruction !N! ignored\r\n",
      "Warning in line-char 25-25 : instruction !N! ignored\r\n",
      "Warning in line-char 25-41 : instruction !N! ignored\r\n",
      "Warning in line-char 25-54 : instruction !N! ignored\r\n",
      "Warning in line-char 25-67 : instruction !N! ignored\r\n",
      "Warning in line-char 25-80 : instruction !N! ignored\r\n",
      "Warning in line-char 25-94 : instruction !N! ignored\r\n",
      "Warning in line-char 26-0 : instruction !N! ignored\r\n",
      "Warning in line-char 26-15 : instruction !N! ignored\r\n",
      "Warning in line-char 26-28 : instruction !N! ignored\r\n",
      "Warning in line-char 26-44 : instruction !N! ignored\r\n",
      "Warning in line-char 26-57 : instruction !N! ignored\r\n",
      "Warning in line-char 26-72 : instruction !N! ignored\r\n",
      "Warning in line-char 26-85 : instruction !N! ignored\r\n",
      "Warning in line-char 26-101 : instruction !N! ignored\r\n",
      "writing MIDI file rocknoghosttest.mid\r\n",
      "Warning in line-char 40-0 : Track 1 Bar 19 has 9/2 units instead of 4 in repeat\r\n"
     ]
    },
    {
     "name": "stderr",
     "output_type": "stream",
     "text": [
      "rocknoghosttest-ps.abc:29:47: warning: Line overfull (635pt of 628pt)\r\n"
     ]
    },
    {
     "data": {
      "text/plain": [
       "Process(`\u001b[4mcmd\u001b[24m \u001b[4m/C\u001b[24m \u001b[4mstart\u001b[24m \u001b[4mrocknoghosttest.xhtml\u001b[24m`, ProcessExited(0))"
      ]
     },
     "execution_count": 109,
     "metadata": {},
     "output_type": "execute_result"
    }
   ],
   "source": [
    "#write a string to a file\n",
    "open(f->print(f, NoGhostSolo), \"rocknoghosttest.abp\", \"w\")\n",
    "#Converts ABP file to score and MIDI and displays/plays it\n",
    "abptest(\"rocknoghosttest.abp\")"
   ]
  },
  {
   "cell_type": "code",
   "execution_count": 24,
   "metadata": {},
   "outputs": [
    {
     "data": {
      "text/plain": [
       "9×9 Matrix{Float64}:\n",
       " 0.1  0.2  0.0  0.1  0.333333  0.0  0.0  0.0  0.0\n",
       " 0.2  0.2  0.2  0.2  0.333333  0.1  0.0  0.0  0.0\n",
       " 0.2  0.2  0.2  0.2  0.333333  0.1  0.0  0.0  0.0\n",
       " 0.1  0.2  0.2  0.1  0.0       0.3  0.0  0.0  0.0\n",
       " 0.2  0.0  0.2  0.2  0.0       0.2  0.0  0.0  0.0\n",
       " 0.2  0.2  0.2  0.2  0.0       0.3  0.0  0.0  0.0\n",
       " 0.0  0.0  0.0  0.0  0.0       0.0  0.0  0.0  0.0\n",
       " 0.0  0.0  0.0  0.0  0.0       0.0  0.0  0.0  0.0\n",
       " 0.0  0.0  0.0  0.0  0.0       0.0  0.0  0.0  0.0\n",
       "9-element Vector{Float64}:\n",
       " 0.1\n",
       " 0.2\n",
       " 0.1\n",
       " 0.2\n",
       " 0.2\n",
       " 0.2\n",
       " 0.0\n",
       " 0.0\n",
       " 0.0"
      ]
     },
     "execution_count": 24,
     "metadata": {},
     "output_type": "execute_result"
    }
   ],
   "source": [
    "#0 = rest, 1 = bass, 2 = LH\n",
    "                #00    #01  #02   #10  #11   #12  #zeros\n",
    "funkBassMatrix = [0.1e0 0.2  0     0.1  1//3 0   0 0 0 #00\n",
    "                    0.2 0.2  0.2   0.2  1//3 0.1    0 0 0  #01\n",
    "                    0.2 0.2  0.2   0.2  1//3 0.1    0 0 0  #02\n",
    "                    0.1 0.2  0.2   0.1  0    0.3 0 0 0  #10\n",
    "                    0.2 0    0.2   0.2  0    0.2 0 0 0  #11\n",
    "                    0.2 0.2  0.2   0.2  0    0.3 0 0 0    #12\n",
    "                    zeros(3,9)]                 #zeros\n",
    "\n",
    "funkBassInitial = [0.1, 0.2, 0.1, 0.2, 0.2, 0.2, 0, 0, 0]\n",
    "\n",
    "\n",
    "funkBass = AugMatrix(funkBassMatrix, funkBassInitial)"
   ]
  },
  {
   "cell_type": "code",
   "execution_count": 25,
   "metadata": {
    "scrolled": true
   },
   "outputs": [
    {
     "data": {
      "text/plain": [
       "9×9 Matrix{Float64}:\n",
       " 0.1  0.333333  0.0  0.25  0.5  0.0  0.0  0.0  0.0\n",
       " 0.3  0.333333  0.0  0.25  0.5  0.0  0.0  0.0  0.0\n",
       " 0.0  0.0       0.0  0.0   0.0  0.0  0.0  0.0  0.0\n",
       " 0.3  0.333333  0.0  0.25  0.0  0.0  0.0  0.0  0.0\n",
       " 0.3  0.0       0.0  0.25  0.0  0.0  0.0  0.0  0.0\n",
       " 0.0  0.0       0.0  0.0   0.0  0.0  0.0  0.0  0.0\n",
       " 0.0  0.0       0.0  0.0   0.0  0.0  0.0  0.0  0.0\n",
       " 0.0  0.0       0.0  0.0   0.0  0.0  0.0  0.0  0.0\n",
       " 0.0  0.0       0.0  0.0   0.0  0.0  0.0  0.0  0.0\n",
       "9-element Vector{Float64}:\n",
       " 0.1\n",
       " 0.1\n",
       " 0.0\n",
       " 0.4\n",
       " 0.4\n",
       " 0.0\n",
       " 0.0\n",
       " 0.0\n",
       " 0.0"
      ]
     },
     "execution_count": 25,
     "metadata": {},
     "output_type": "execute_result"
    }
   ],
   "source": [
    "funkNoGhostBMatrix = [0.1e0 1//3 0.25e0 0.5e0; 0.3e0 1//3 0.25e0 0.5e0; 0.3e0 1//3 0.25e0 0; 0.3e0 0 0.25e0 0]\n",
    "\n",
    "funkNoGhostBInitial = [0.1e0, 0.1e0, 0, 0.4e0, 0.4e0, 0, 0, 0, 0 ]\n",
    "\n",
    "funkNoGhostB = AugMatrix([funkNoGhostBMatrix[1:2, 1:2] zeros(2,1) funkNoGhostBMatrix[1:2, 3:4] zeros(2, 4)\n",
    "    zeros(1, 9)\n",
    "    funkNoGhostBMatrix[3:4, 1:2] zeros(2,1) funkNoGhostBMatrix[3:4, 3:4] zeros(2, 4)\n",
    "    zeros(4, 9)\n",
    "    ],\n",
    "    funkNoGhostBInitial)"
   ]
  },
  {
   "cell_type": "code",
   "execution_count": 26,
   "metadata": {},
   "outputs": [
    {
     "data": {
      "text/plain": [
       "6×6 Matrix{Float64}:\n",
       " 0.2  0.1  0.1  0.0  0.3  0.2\n",
       " 0.4  0.2  0.0  0.3  0.3  0.2\n",
       " 0.1  0.4  0.2  0.1  0.1  0.2\n",
       " 0.1  0.1  0.4  0.3  0.1  0.2\n",
       " 0.1  0.1  0.1  0.2  0.1  0.1\n",
       " 0.1  0.1  0.2  0.1  0.1  0.1\n",
       "6×6 Matrix{Float64}:\n",
       " 0.4  0.2  0.1  0.1  0.3  0.2\n",
       " 0.2  0.4  0.2  0.2  0.2  0.2\n",
       " 0.1  0.0  0.4  0.1  0.1  0.2\n",
       " 0.0  0.1  0.1  0.4  0.1  0.2\n",
       " 0.2  0.1  0.1  0.1  0.2  0.1\n",
       " 0.1  0.2  0.1  0.1  0.1  0.1\n",
       "6-element Vector{Float64}:\n",
       " 0.3\n",
       " 0.3\n",
       " 0.1\n",
       " 0.1\n",
       " 0.1\n",
       " 0.1"
      ]
     },
     "execution_count": 26,
     "metadata": {},
     "output_type": "execute_result"
    }
   ],
   "source": [
    "funkFillLeftToRight = [0.2e0 0.1e0 0.1e0 0 0.3e0 0.2e0; 0.4e0 0.2e0 0 0.3e0 0.3e0 0.2e0; 0.1e0 0.4e0 0.2e0 0.1e0 0.1e0 0.2e0; 0.1e0 0.1e0 0.4e0 0.3e0 0.1e0 0.2e0; 0.1e0 0.1e0 0.1e0 0.2e0 0.1e0 0.1e0; 0.1e0 0.1e0 0.2e0 0.1e0 0.1e0 0.1e0]\n",
    "\n",
    "funkFillRightToLeft = [0.4e0 0.2e0 0.1e0 0.1e0 0.3e0 0.2e0; 0.2e0 0.4e0 0.2e0 0.2e0 0.2e0 0.2e0; 0.1e0 0 0.4e0 0.1e0 0.1e0 0.2e0; 0 0.1e0 0.1e0 0.4e0 0.1e0 0.2e0; 0.2e0 0.1e0 0.1e0 0.1e0 0.2e0 0.1e0; 0.1e0 0.2e0 0.1e0 0.1e0 0.1e0 0.1e0]\n",
    "\n",
    "\n",
    "funkFillInitial = [0.3e0,0.3e0,0.1e0,0.1e0,0.1e0,0.1e0]\n",
    "\n",
    "funkFill = AugDblMatrix(funkFillLeftToRight, funkFillRightToLeft, funkFillInitial)"
   ]
  },
  {
   "cell_type": "code",
   "execution_count": 27,
   "metadata": {},
   "outputs": [
    {
     "data": {
      "text/plain": [
       "4×4 Matrix{Float64}:\n",
       " 0.0  0.2  0.2  0.2\n",
       " 0.2  0.0  0.4  0.4\n",
       " 0.2  0.2  0.0  0.4\n",
       " 0.6  0.6  0.4  0.0\n",
       "4-element Vector{Float64}:\n",
       " 0.0\n",
       " 0.2\n",
       " 0.4\n",
       " 0.4"
      ]
     },
     "execution_count": 27,
     "metadata": {},
     "output_type": "execute_result"
    }
   ],
   "source": [
    "funkPatMatrix = [\n",
    "    #8  Q   b   +\n",
    "    0   0.2 0.2 0.2 #8 \n",
    "    0.2 0   0.4 0.4   #Q\n",
    "    0.2 0.2 0   0.4 #b\n",
    "    0.6 0.6 0.4 0 #+\n",
    "    ]\n",
    "\n",
    "funkPatInitial = [0; 0.2; 0.4; 0.4]\n",
    "\n",
    "funkPat = AugMatrix(funkPatMatrix, funkPatInitial)"
   ]
  },
  {
   "cell_type": "code",
   "execution_count": 28,
   "metadata": {},
   "outputs": [
    {
     "data": {
      "text/plain": [
       "4×4 Matrix{Float64}:\n",
       " 0.1  0.4  0.4  0.4\n",
       " 0.6  0.1  0.4  0.4\n",
       " 0.2  0.4  0.1  0.2\n",
       " 0.1  0.1  0.1  0.0\n",
       "4-element Vector{Float64}:\n",
       " 0.4\n",
       " 0.4\n",
       " 0.2\n",
       " 0.0"
      ]
     },
     "execution_count": 28,
     "metadata": {},
     "output_type": "execute_result"
    }
   ],
   "source": [
    "funkInstMatrix = [\n",
    "   #HH  RC  RB  ST \n",
    "    0.1 0.4 0.4   0.4   #HH\n",
    "    0.6 0.1 0.4   0.4   #RC\n",
    "    0.2 0.4 0.1   0.2   #RB\n",
    "    0.1 0.1 0.1   0     #ST\n",
    "]\n",
    "\n",
    "funkInstInitial = [0.4; 0.4; 0.2; 0]\n",
    "\n",
    "funkInst = AugMatrix(funkInstMatrix, funkInstInitial)"
   ]
  },
  {
   "cell_type": "code",
   "execution_count": 129,
   "metadata": {},
   "outputs": [
    {
     "name": "stdout",
     "output_type": "stream",
     "text": [
      "%%abc-include percussions-JBH.abh\n",
      "\n",
      "I:linebreak $\n",
      "\n",
      "#ifdef MIDI\n",
      "#define !>! \"[I:volinc 50]\"\n",
      "#define !Q! \"[I:vol 20]\" \n",
      "                %%%ghost\n",
      "#define !U! \"[I:vol 40]\" \n",
      "                %%%unaccent\n",
      "#define !N! \"[I:volinc -25]\" \n",
      "            %%%tenuto for trash hat\n",
      "#else\n",
      "#define !N! \"\\\"^_\\\"\" \n",
      "                %%%tenuto\n",
      "#define !Q! !(.!!).! \n",
      "                %%%ghost\n",
      "#define !U! !anti!  \n",
      "                %%%unaccent\n",
      "#endif\n",
      "\n",
      "X:1\n",
      "T:Computer-generated \\`Etude for Solo Drum Kit\n",
      "C:#abcsolo16patinst16ghost#29/funk\n",
      "O:2021-12-31T17:56:33.722\n",
      "M:4/4\n",
      "L:1/8\n",
      "Q:\"Funk 16th feel\" 1/4=80\n",
      "K:none clef=perc\n",
      "[V:1 clef=perc, stem=up]     % activate abc2xml.py map\n",
      "%%voicemap drummap  % activate abcm2ps/abc2svg map\n",
      "%%MIDI channel 10   % activate abc2midi map\n",
      "%%MIDI program 0\n",
      "%%flatbeams\n",
      "%%propagate-accidentals not\n",
      "%%pos ornament up\n",
      "%%ornament up\n",
      "%%MIDI fermatafixed\n",
      "|:!mp![^e]/2[^eF]/2[^e]/2[_e!Q!c]/2 [^ec]/2[^eF]/2[^e]/2[^eF]/2 [^e]/2[^eF]/2[^e]/2[_eF]/2 [^ecF]/2[^e!Q!c]/2[^e]/2[^eF]/2 |\n",
      "[^eF]/2[^e!Q!c]/2[^eF]/2[_eF]/2 [^ec]/2[^e]/2[^e]/2[^eF]/2 [^e]/2[^e]/2[^e]/2[_e!Q!c]/2 [^ecF]/2[^e]/2[^e]/2[^eF]/2 |\n",
      "[^eF]/2[^e]/2[^e]/2[_eF]/2 [^ecF]/2[^e!Q!c]/2[^eF]/2[^e!Q!c]/2 [^eF]/2[^eF]/2[^e]/2[_e!Q!c]/2 [^ec]/2[^eF]/2[^eF]/2[^e!Q!c]/2 |\n",
      "[1c/2e/2c/2e/2 F/2c/2F/2e/2 e/2e/2e/2A/2 A/2G/2c/2G/2 :|2c/2e/2c/2e/2 F/2c/2F/2e/2 e/2e/2e/2A/2 !<(!A/2G/2!<)!c/2G/2 \n",
      "|:!p![g]/2!U![^gF]/2[g]/2!U![^gF]/2 [gc]/2!U![^g]/2[gF]/2!U![^g]/2 [gF]/2!U![^gF]/2[g]/2!U![^g!Q!c]/2 [gc]/2!U![^g!Q!c]/2[gF]/2!U![^g]/2 |\n",
      "[g]/2!U![^g]/2[g]/2!U![^g!Q!c]/2 [gc]/2!U![^gF]/2[g]/2!U![^g]/2 [g]/2!U![^gF]/2[g]/2!U![^g]/2 [gc]/2!U![^g]/2[gF]/2!U![^gF]/2 |\n",
      "[g]/2!U![^g!Q!c]/2[gF]/2!U![^g!Q!c]/2 [gc]/2!U![^g!Q!c]/2[gF]/2!U![^g]/2 [gF]/2!U![^gF]/2[g]/2!U![^g]/2 [gcF]/2!U![^gF]/2[g]/2!U![^g!Q!c]/2 |\n",
      "[1e/2A/2z/2z/2 G/2A/2A/2z/2 e/2F/2c/2G/2 F/2c/2F/2c/2 :|2e/2A/2z/2z/2 G/2A/2A/2z/2 e/2F/2c/2G/2 !<(!F/2c/2!<)!F/2c/2 \n",
      "|:!f!!N![_eF]/2[F]/2!N![_e]/2[F]/2 !N![_ec]/2[!Q!c]/2!N![_e]/2[!Q!c]/2 !N![_eF]/2[!Q!c]/2!N![_e]/2[F]/2 !N![_ec]/2z/2!N![_eF]/2[F]/2 |\n",
      "!N![_e]/2[!Q!c]/2!N![_e]/2[!Q!c]/2 !N![_ecF]/2z/2!N![_e]/2[F]/2 !N![_e]/2z/2!N![_e]/2[!Q!c]/2 !N![_ecF]/2[!Q!c]/2!N![_eF]/2z/2 |\n",
      "!N![_e]/2[F]/2!N![_e]/2[F]/2 !N![_ec]/2[F]/2!N![_eF]/2z/2 !N![_e]/2[F]/2!N![_eF]/2[!Q!c]/2 !N![_ec]/2[!Q!c]/2!N![_eF]/2[F]/2 |\n",
      "[1c/2A/2z/2F/2 F/2z/2G/2e/2 z/2c/2F/2c/2 A/2A/2F/2e/2 :|2c/2A/2z/2F/2 F/2z/2G/2e/2 z/2c/2F/2c/2 !>(!A/2A/2!>)!F/2e/2 \n",
      "|:!ff![g^DF]/2[gF]/2[^D]/2z/2 [g^Dc]/2[gF]/2[^DF]/2z/2 [g^DF]/2[gF]/2[^D]/2[!Q!c]/2 [g^DcF]/2[g!Q!c]/2[^DF]/2z/2 |\n",
      "[g^DF]/2[g]/2[^D]/2[F]/2 [g^Dc]/2[g!Q!c]/2[^DF]/2[!Q!c]/2 [g^D]/2[gF]/2[^D]/2[F]/2 [g^Dc]/2[g!Q!c]/2[^DF]/2[!Q!c]/2 |\n",
      "[g^DF]/2[g]/2[^DF]/2[F]/2 [g^Dc]/2[gF]/2[^D]/2[F]/2 [g^D]/2[gF]/2[^D]/2[F]/2 [g^DcF]/2[g]/2[^D]/2[F]/2 |\n",
      "[1e/2e/2e/2A/2 e/2A/2z/2c/2 c/2e/2e/2A/2 A/2F/2c/2c/2 :|2e/2e/2e/2A/2 e/2A/2z/2c/2 c/2e/2e/2A/2 !>(!A/2F/2!>)!c/2!fermata!c/2 \n",
      "|]\n"
     ]
    }
   ],
   "source": [
    "funksolo = abcsolo16patinst16ghost(4, funkBass, funkFill, dyn, funkPat, funkInst, \"Funk 16th feel\", variation=\"funk\")\n",
    "print(funksolo)"
   ]
  },
  {
   "cell_type": "code",
   "execution_count": 130,
   "metadata": {},
   "outputs": [
    {
     "name": "stdout",
     "output_type": "stream",
     "text": [
      "abcm2ps-8.14.12 (2021-07-14)\r\n",
      "File funkghosttest-ps.abc\r\n",
      "File percussions-JBH.abh\r\n",
      "Output written on funkghosttest.xhtml (1 page, 1 title, 63563 bytes)\r\n"
     ]
    },
    {
     "name": "stderr",
     "output_type": "stream",
     "text": [
      "funkghosttest-ps.abc:29:28: warning: Line overfull (635pt of 628pt)\r\n"
     ]
    },
    {
     "name": "stdout",
     "output_type": "stream",
     "text": [
      "4.59 June 27 2021 abc2midi\r\n",
      "writing MIDI file funkghosttest.mid\r\n",
      "Warning in line-char 41-0 : Track 1 Bar 19 has 9/2 units instead of 4 in repeat\r\n"
     ]
    },
    {
     "data": {
      "text/plain": [
       "Process(`\u001b[4mcmd\u001b[24m \u001b[4m/C\u001b[24m \u001b[4mstart\u001b[24m \u001b[4mfunkghosttest.xhtml\u001b[24m`, ProcessExited(0))"
      ]
     },
     "execution_count": 130,
     "metadata": {},
     "output_type": "execute_result"
    }
   ],
   "source": [
    "#write a string to a file\n",
    "open(f->print(f, funksolo), \"funkghosttest.abp\", \"w\")\n",
    "\n",
    "#Converts ABP file to score and MIDI and displays/plays it\n",
    "abptest(\"funkghosttest.abp\")"
   ]
  },
  {
   "cell_type": "code",
   "execution_count": 113,
   "metadata": {},
   "outputs": [
    {
     "name": "stdout",
     "output_type": "stream",
     "text": [
      "%%abc-include percussions-JBH.abh\n",
      "\n",
      "I:linebreak $\n",
      "\n",
      "#ifdef MIDI\n",
      "#define !>! \"[I:volinc 50]\"\n",
      "#define !Q! \"[I:vol 20]\" \n",
      "                %%%ghost\n",
      "#define !U! \"[I:volinc -20]\" \n",
      "                %%%unaccent\n",
      "#else\n",
      "#define !N! \"\\\"^_\\\"\" \n",
      "                %%%tenuto\n",
      "#define !Q! !(.!!).! \n",
      "                %%%ghost\n",
      "#define !U! !anti!  \n",
      "                %%%unaccent\n",
      "#endif\n",
      "\n",
      "X:1\n",
      "T:Computer-generated \\`Etude for Solo Drum Kit\n",
      "C:abcsolo16patinst16ghost\n",
      "O:2021-11-22T19:04:01.226\n",
      "M:4/4\n",
      "L:1/8\n",
      "Q:\"Funk 16th feel\" 1/4=80\n",
      "K:none clef=perc\n",
      "[V:1 clef=perc, stem=up]     % activate abc2xml.py map\n",
      "%%voicemap drummap  % activate abcm2ps/abc2svg map\n",
      "%%MIDI channel 10   % activate abc2midi map\n",
      "%%MIDI program 0\n",
      "%%flatbeams\n",
      "%%propagate-accidentals not\n",
      "%%pos ornament up\n",
      "%%ornament up\n",
      "%%MIDI fermatafixed\n",
      "|:!f!!>![^eF]/2!U![^e]/2!>![^eF]/2!U![^e]/2 !>![c^e]/2!U![^e]/2!>![^eF]/2!U![^e]/2 !>![^e]/2!U![^eF]/2!>![^eF]/2!U![^e]/2 !>![c^eF]/2!U![^e]/2!>![^eF]/2!U![^e]/2 |\n",
      "!>![^e]/2!U![^e]/2!>![^eF]/2!U![^e]/2 !>![c^e]/2!U![^eF]/2!>![^e]/2!U![^eF]/2 !>![^eF]/2!U![^e]/2!>![^e]/2!U![^eF]/2 !>![c^e]/2!U![^e]/2!>![^eF]/2!U![^eF]/2 |\n",
      "!>![^e]/2!U![^e]/2!>![^e]/2!U![^eF]/2 !>![c^e]/2!U![^e]/2!>![^eF]/2!U![^eF]/2 !>![^e]/2!U![^e]/2!>![^eF]/2!U![^e]/2 !>![c^e]/2!U![^eF]/2!>![^e]/2!U![^e]/2 |\n",
      "[1G/2F/2F/2e/2 F/2c/2e/2G/2 A/2G/2z/2G/2 c/2e/2e/2e/2 :|2G/2F/2F/2e/2 F/2c/2e/2G/2 A/2G/2z/2G/2 !<(!c/2e/2!<)!e/2e/2 \n",
      "|:!p![^gF]/2[^gF]/2[^g]/2[^g]/2 [c^gF]/2[^gF]/2[^g]/2[^g]/2 [^g]/2[^gF]/2[^gF]/2[^g]/2 [c^gF]/2[^gF]/2[^g]/2[^gF]/2 |\n",
      "[^g]/2[^gF]/2[^g]/2[^g]/2 [c^gF]/2[^g]/2[^gF]/2[^gF]/2 [^g]/2[^g]/2[^gF]/2[^gF]/2 [c^g]/2[^gF]/2[^g]/2[^g]/2 |\n",
      "[^gF]/2[^gF]/2[^g]/2[^g]/2 [c^gF]/2[^g]/2[^gF]/2[^g]/2 [^g]/2[^g]/2[^gF]/2[^g]/2 [c^g]/2[^gF]/2[^g]/2[^gF]/2 |\n",
      "[1e/2A/2A/2G/2 G/2e/2c/2e/2 e/2z/2z/2A/2 A/2c/2e/2A/2 :|2e/2A/2A/2G/2 G/2e/2c/2e/2 e/2z/2z/2A/2 !>(!A/2c/2!>)!e/2A/2 \n",
      "|:!f![gF]/2[^gF]/2[g]/2[^g]/2 [cgF]/2[^g]/2[g]/2[^g]/2 [g]/2[^gF]/2[g]/2[^g]/2 [cgF]/2[^g]/2[gF]/2[^g]/2 |\n",
      "[g]/2[^gF]/2[g]/2[^g]/2 [cgF]/2[^g]/2[g]/2[^gF]/2 [g]/2[^g]/2[g]/2[^gF]/2 [cgF]/2[^g]/2[g]/2[^gF]/2 |\n",
      "[g]/2[^gF]/2[gF]/2[^g]/2 [cgF]/2[^gF]/2[g]/2[^gF]/2 [g]/2[^gF]/2[g]/2[^gF]/2 [cgF]/2[^g]/2[g]/2[^gF]/2 |\n",
      "[1e/2A/2A/2G/2 e/2z/2e/2z/2 e/2e/2z/2c/2 A/2c/2e/2A/2 :|2e/2A/2A/2G/2 e/2z/2e/2z/2 e/2e/2z/2c/2 !<(!A/2c/2!<)!e/2A/2 \n",
      "|:!pp![^g]/2z/2[^g]/2[F]/2 [c^g]/2z/2[^g]/2[F]/2 [^g]/2[F]/2[^g]/2z/2 [c^gF]/2[F]/2[^g]/2z/2 |\n",
      "[^g]/2z/2[^g]/2[F]/2 [c^g]/2[F]/2[^g]/2z/2 [^gF]/2z/2[^g]/2z/2 [c^gF]/2[F]/2[^g]/2z/2 |\n",
      "[^gF]/2[F]/2[^g]/2z/2 [c^gF]/2z/2[^gF]/2[F]/2 [^g]/2[F]/2[^g]/2z/2 [c^g]/2z/2[^gF]/2z/2 |\n",
      "[1F/2e/2F/2c/2 c/2A/2e/2F/2 F/2F/2F/2z/2 e/2c/2e/2z/2 :|2F/2e/2F/2c/2 c/2A/2e/2F/2 F/2F/2F/2z/2 !>(!e/2c/2!>)!!fermata!e/2z/2 \n",
      "|]\n"
     ]
    }
   ],
   "source": [
    "funkNoGhostsolo = abcsolo16patinst16ghost(4, funkNoGhostB, funkFill, dyn, funkPat, funkInst, \"Funk 16th feel\")\n",
    "print(funkNoGhostsolo)"
   ]
  },
  {
   "cell_type": "code",
   "execution_count": 117,
   "metadata": {},
   "outputs": [],
   "source": [
    "#write a string to a file\n",
    "open(f->print(f, funkNoGhostsolo), \"funknoghosttest.abp\", \"w\")"
   ]
  },
  {
   "cell_type": "code",
   "execution_count": 83,
   "metadata": {},
   "outputs": [
    {
     "name": "stdout",
     "output_type": "stream",
     "text": [
      "abcm2ps-8.14.12 (2021-07-14)\r\n",
      "File funknoghosttest-ps.abc\r\n",
      "File percussions-JBH.abh\r\n",
      "Output written on funknoghosttest.xhtml (1 page, 1 title, 58857 bytes)\r\n"
     ]
    },
    {
     "name": "stderr",
     "output_type": "stream",
     "text": [
      "funknoghosttest-ps.abc:29:47: warning: Line overfull (635pt of 628pt)\r\n"
     ]
    },
    {
     "name": "stdout",
     "output_type": "stream",
     "text": [
      "4.59 June 27 2021 abc2midi\r\n",
      "writing MIDI file funknoghosttest.mid\r\n",
      "Warning in line-char 40-0 : Track 1 Bar 19 has 9/2 units instead of 4 in repeat\r\n"
     ]
    },
    {
     "data": {
      "text/plain": [
       "Process(`\u001b[4mcmd\u001b[24m \u001b[4m/C\u001b[24m \u001b[4mstart\u001b[24m \u001b[4mfunknoghosttest.xhtml\u001b[24m`, ProcessExited(0))"
      ]
     },
     "execution_count": 83,
     "metadata": {},
     "output_type": "execute_result"
    }
   ],
   "source": [
    "#Converts ABP file to score and MIDI and displays/plays it\n",
    "abptest(\"funknoghosttest.abp\")"
   ]
  },
  {
   "cell_type": "code",
   "execution_count": 84,
   "metadata": {},
   "outputs": [
    {
     "data": {
      "text/plain": [
       "9×9 Matrix{Float64}:\n",
       " 0.0  0.0  0.0  0.5  0.5  0.0  0.0  0.0  0.0\n",
       " 0.0  0.0  0.0  0.5  0.5  0.0  0.0  0.0  0.0\n",
       " 0.0  0.0  0.0  0.0  0.0  0.0  0.0  0.0  0.0\n",
       " 0.5  1.0  0.0  0.0  0.0  0.0  0.0  0.0  0.0\n",
       " 0.5  0.0  0.0  0.0  0.0  0.0  0.0  0.0  0.0\n",
       " 0.0  0.0  0.0  0.0  0.0  0.0  0.0  0.0  0.0\n",
       " 0.0  0.0  0.0  0.0  0.0  0.0  0.0  0.0  0.0\n",
       " 0.0  0.0  0.0  0.0  0.0  0.0  0.0  0.0  0.0\n",
       " 0.0  0.0  0.0  0.0  0.0  0.0  0.0  0.0  0.0\n",
       "9-element Vector{Float64}:\n",
       " 0.0\n",
       " 0.0\n",
       " 0.0\n",
       " 0.5\n",
       " 0.5\n",
       " 0.0\n",
       " 0.0\n",
       " 0.0\n",
       " 0.0"
      ]
     },
     "execution_count": 84,
     "metadata": {},
     "output_type": "execute_result"
    }
   ],
   "source": [
    "#0 = rest, 1 = bass\n",
    "discoNoGhostBMatrix = \n",
    "    #00   #01  #10      #11\n",
    "    [0    0    0.5   0.5; \n",
    "    0     0    0.5   0.5; \n",
    "    0.5   1    0      0; \n",
    "    0.5   0    0      0]\n",
    "\n",
    "discoNoGhostBInitial = [0, 0, 0, 0.5, 0.5, 0, 0, 0, 0 ]\n",
    "\n",
    "discoNoGhostB = AugMatrix([discoNoGhostBMatrix[1:2, 1:2] zeros(2,1) discoNoGhostBMatrix[1:2, 3:4] zeros(2, 4)\n",
    "    zeros(1, 9)\n",
    "    discoNoGhostBMatrix[3:4, 1:2] zeros(2,1) discoNoGhostBMatrix[3:4, 3:4] zeros(2, 4)\n",
    "    zeros(4, 9)\n",
    "    ],\n",
    "    discoNoGhostBInitial)"
   ]
  },
  {
   "cell_type": "code",
   "execution_count": 85,
   "metadata": {},
   "outputs": [
    {
     "data": {
      "text/plain": [
       "4×4 Matrix{Float64}:\n",
       " 0.0  0.2  0.2  0.2\n",
       " 0.2  0.0  0.4  0.4\n",
       " 0.2  0.2  0.0  0.4\n",
       " 0.6  0.6  0.4  0.0\n",
       "4-element Vector{Float64}:\n",
       " 0.0\n",
       " 0.5\n",
       " 0.5\n",
       " 0.0"
      ]
     },
     "execution_count": 85,
     "metadata": {},
     "output_type": "execute_result"
    }
   ],
   "source": [
    "discoPatMatrix = [\n",
    "    #Q  8   b   +\n",
    "    0   0.2 0.2 0.2 #Q \n",
    "    0.2 0   0.4 0.4   #8\n",
    "    0.2 0.2 0   0.4 #b\n",
    "    0.6 0.6 0.4 0 #+\n",
    "    ]\n",
    "\n",
    "discoPatInitial = [0; 0.5; 0.5; 0]\n",
    "\n",
    "discoPat = AugMatrix(discoPatMatrix, discoPatInitial)"
   ]
  },
  {
   "cell_type": "code",
   "execution_count": 86,
   "metadata": {},
   "outputs": [
    {
     "data": {
      "text/plain": [
       "4×4 Matrix{Float64}:\n",
       " 0.1  0.5  0.6  0.4\n",
       " 0.3  0.1  0.3  0.2\n",
       " 0.6  0.4  0.1  0.4\n",
       " 0.0  0.0  0.0  0.0\n",
       "4-element Vector{Float64}:\n",
       " 0.6\n",
       " 0.2\n",
       " 0.2\n",
       " 0.0"
      ]
     },
     "execution_count": 86,
     "metadata": {},
     "output_type": "execute_result"
    }
   ],
   "source": [
    "discoInstMatrix = [\n",
    "   #HH  RC  RB  ST \n",
    "    0.1 0.5 0.6   0.4   #HH\n",
    "    0.3 0.1 0.3   0.2   #RC\n",
    "    0.6 0.4 0.1   0.4   #RB\n",
    "    0    0  0   0     #ST\n",
    "]\n",
    "\n",
    "discoInstInitial = [0.6; 0.2; 0.2; 0]\n",
    "\n",
    "discoInst = AugMatrix(discoInstMatrix, discoInstInitial)"
   ]
  },
  {
   "cell_type": "code",
   "execution_count": 87,
   "metadata": {},
   "outputs": [
    {
     "data": {
      "text/plain": [
       "6×6 Matrix{Float64}:\n",
       " 0.2  0.1  0.1  0.0  0.3  0.2\n",
       " 0.4  0.2  0.0  0.3  0.3  0.2\n",
       " 0.1  0.4  0.2  0.1  0.1  0.2\n",
       " 0.1  0.1  0.4  0.3  0.1  0.2\n",
       " 0.1  0.1  0.1  0.2  0.1  0.1\n",
       " 0.1  0.1  0.2  0.1  0.1  0.1\n",
       "6×6 Matrix{Float64}:\n",
       " 0.4  0.2  0.1  0.1  0.3  0.2\n",
       " 0.2  0.4  0.2  0.2  0.2  0.2\n",
       " 0.1  0.0  0.4  0.1  0.1  0.2\n",
       " 0.0  0.1  0.1  0.4  0.1  0.2\n",
       " 0.2  0.1  0.1  0.1  0.2  0.1\n",
       " 0.1  0.2  0.1  0.1  0.1  0.1\n",
       "6-element Vector{Float64}:\n",
       " 0.3\n",
       " 0.3\n",
       " 0.1\n",
       " 0.1\n",
       " 0.1\n",
       " 0.1"
      ]
     },
     "execution_count": 87,
     "metadata": {},
     "output_type": "execute_result"
    }
   ],
   "source": [
    "discoFillLeftToRight = [0.2e0 0.1e0 0.1e0 0 0.3e0 0.2e0; 0.4e0 0.2e0 0 0.3e0 0.3e0 0.2e0; 0.1e0 0.4e0 0.2e0 0.1e0 0.1e0 0.2e0; 0.1e0 0.1e0 0.4e0 0.3e0 0.1e0 0.2e0; 0.1e0 0.1e0 0.1e0 0.2e0 0.1e0 0.1e0; 0.1e0 0.1e0 0.2e0 0.1e0 0.1e0 0.1e0]\n",
    "\n",
    "discoFillRightToLeft = [0.4e0 0.2e0 0.1e0 0.1e0 0.3e0 0.2e0; 0.2e0 0.4e0 0.2e0 0.2e0 0.2e0 0.2e0; 0.1e0 0 0.4e0 0.1e0 0.1e0 0.2e0; 0 0.1e0 0.1e0 0.4e0 0.1e0 0.2e0; 0.2e0 0.1e0 0.1e0 0.1e0 0.2e0 0.1e0; 0.1e0 0.2e0 0.1e0 0.1e0 0.1e0 0.1e0]\n",
    "\n",
    "\n",
    "discoFillInitial = [0.3e0,0.3e0,0.1e0,0.1e0,0.1e0,0.1e0]\n",
    "\n",
    "discoFill = AugDblMatrix(discoFillLeftToRight, discoFillRightToLeft, discoFillInitial)"
   ]
  },
  {
   "cell_type": "code",
   "execution_count": 113,
   "metadata": {},
   "outputs": [
    {
     "data": {
      "text/plain": [
       "12×12 Matrix{Float64}:\n",
       " 0.0  0.0  0.2  0.2  0.1  0.1  0.0  0.0  0.0  0.0  0.0  0.0\n",
       " 0.0  0.0  0.2  0.1  0.1  0.1  0.0  0.0  0.0  0.0  0.0  0.0\n",
       " 0.2  0.2  0.0  0.0  0.2  0.1  0.1  0.1  0.1  0.2  0.1  0.2\n",
       " 0.2  0.2  0.0  0.0  0.2  0.1  0.1  0.1  0.2  0.1  0.2  0.1\n",
       " 0.0  0.0  0.1  0.2  0.0  0.0  0.2  0.1  0.0  0.0  0.1  0.2\n",
       " 0.0  0.0  0.2  0.2  0.0  0.0  0.2  0.1  0.0  0.0  0.2  0.1\n",
       " 0.1  0.2  0.0  0.0  0.1  0.2  0.0  0.0  0.2  0.2  0.0  0.0\n",
       " 0.2  0.1  0.0  0.0  0.1  0.2  0.0  0.0  0.2  0.1  0.0  0.0\n",
       " 0.1  0.2  0.1  0.2  0.1  0.1  0.1  0.2  0.0  0.0  0.2  0.2\n",
       " 0.2  0.1  0.2  0.1  0.1  0.1  0.1  0.2  0.0  0.0  0.2  0.2\n",
       " 0.0  0.0  0.0  0.0  0.0  0.0  0.1  0.1  0.1  0.2  0.0  0.0\n",
       " 0.0  0.0  0.0  0.0  0.0  0.0  0.1  0.1  0.2  0.2  0.0  0.0\n",
       "12×12 Matrix{Float64}:\n",
       " 0.0  0.0  0.0  0.0  0.0  0.0  0.0  0.0  0.0  0.0  0.0  0.0\n",
       " 0.0  0.0  0.0  0.0  0.0  0.0  0.0  0.0  0.0  0.0  0.0  0.0\n",
       " 0.0  0.0  0.0  0.0  0.0  0.0  0.0  0.0  0.0  0.0  0.0  0.0\n",
       " 0.0  0.0  0.0  0.0  0.4  0.2  0.4  0.2  0.4  0.3  0.3  0.3\n",
       " 0.0  0.0  0.0  0.0  0.0  0.0  0.0  0.0  0.0  0.0  0.0  0.0\n",
       " 0.0  0.0  0.0  0.0  0.0  0.0  0.0  0.0  0.0  0.0  0.0  0.0\n",
       " 0.0  0.0  0.0  0.0  0.0  0.0  0.0  0.0  0.0  0.0  0.0  0.0\n",
       " 0.0  0.0  0.0  0.0  0.0  0.0  0.0  0.0  0.0  0.0  0.0  0.0\n",
       " 0.2  0.3  0.2  0.3  0.2  0.2  0.2  0.2  0.0  0.0  0.2  0.2\n",
       " 0.3  0.2  0.3  0.2  0.2  0.2  0.2  0.2  0.0  0.0  0.2  0.2\n",
       " 0.2  0.3  0.2  0.3  0.1  0.2  0.1  0.2  0.2  0.4  0.1  0.2\n",
       " 0.3  0.2  0.3  0.2  0.1  0.2  0.1  0.2  0.4  0.3  0.2  0.1\n",
       "12-element Vector{Float64}:\n",
       " 0.0\n",
       " 0.0\n",
       " 0.1\n",
       " 0.1\n",
       " 0.1\n",
       " 0.1\n",
       " 0.1\n",
       " 0.1\n",
       " 0.1\n",
       " 0.1\n",
       " 0.1\n",
       " 0.1"
      ]
     },
     "execution_count": 113,
     "metadata": {},
     "output_type": "execute_result"
    }
   ],
   "source": [
    "dancedynMatrix = [\n",
    "    0 0 0.2e0 0.2e0 0.1e0 0.1e0 0 0 0 0 0 0; \n",
    "    0 0 0.2e0 0.1e0 0.1e0 0.1e0 0 0 0 0 0 0; \n",
    "    0.2e0 0.2e0 0 0 0.2e0 0.1e0 0.1e0 0.1e0 0.1e0 0.2e0 0.1e0 0.2e0; \n",
    "    0.2e0 0.2e0 0 0 0.2e0 0.1e0 0.1e0 0.1e0 0.2e0 0.1e0 0.2e0 0.1e0; \n",
    "    0 0 0.1e0 0.2e0 0 0 0.2e0 0.1e0 0 0 0.1e0 0.2e0; \n",
    "    0 0 0.2e0 0.2e0 0 0 0.2e0 0.1e0 0 0 0.2e0 0.1e0; \n",
    "    0.1e0 0.2e0 0 0 0.1e0 0.2e0 0 0 0.2e0 0.2e0 0 0; \n",
    "    0.2e0 0.1e0 0 0 0.1e0 0.2e0 0 0 0.2e0 0.1e0 0 0; \n",
    "    0.1e0 0.2e0 0.1e0 0.2e0 0.1e0 0.1e0 0.1e0 0.2e0 0 0 0.2e0 0.2e0;\n",
    "    0.2e0 0.1e0 0.2e0 0.1e0 0.1e0 0.1e0 0.1e0 0.2e0 0 0 0.2e0 0.2e0; \n",
    "    0 0 0 0 0 0 0.1e0 0.1e0 0.1e0 0.2e0 0 0; \n",
    "    0 0 0 0 0 0 0.1e0 0.1e0 0.2e0 0.2e0 0 0]\n",
    "\n",
    "\n",
    "dancedynFinal = [\n",
    "    #pp>, pp<, p>, p<, mp>, mp<, mf>, mf<, f>, f<, ff>, ff<\n",
    "    zeros(1, 12); \n",
    "    zeros(1, 12); \n",
    "    0   0   0   0      0   0   0   0      0   0   0   0; \n",
    "    0   0   0   0      0.4 0.2 0.4 0.2    0.4 0.3 0.3 0.3; \n",
    "    zeros(1, 12); \n",
    "    zeros(1, 12);    \n",
    "    zeros(1, 12); \n",
    "    zeros(1, 12); \n",
    "    0.2 0.3 0.2 0.3    0.2 0.2 0.2 0.2    0   0   0.2 0.2; \n",
    "    0.3 0.2 0.3 0.2    0.2 0.2 0.2 0.2    0   0   0.2 0.2; \n",
    "    0.2 0.3 0.2 0.3    0.1 0.2 0.1 0.2    0.2 0.4 0.1 0.2; \n",
    "    0.3 0.2 0.3 0.2    0.1 0.2 0.1 0.2    0.4 0.3 0.2 0.1]\n",
    "\n",
    "\n",
    "dancedynInitial = [0,0,0.1e0,0.1e0,0.1e0,0.1e0,0.1e0,0.1e0,0.1e0,0.1e0,0.1,0.1]\n",
    "#pp>, pp<, p>, p<, mp>, mp<, mf>, mf<, f>, f<, ff>, ff<\n",
    "\n",
    "dancedyn = AugDblMatrix(dancedynMatrix, dancedynFinal, dancedynInitial)"
   ]
  },
  {
   "cell_type": "code",
   "execution_count": 119,
   "metadata": {},
   "outputs": [
    {
     "name": "stdout",
     "output_type": "stream",
     "text": [
      "%%abc-include percussions-JBH.abh\n",
      "\n",
      "I:linebreak $\n",
      "\n",
      "#ifdef MIDI\n",
      "#define !>! \"[I:volinc 50]\"\n",
      "#define !Q! \"[I:vol 20]\" \n",
      "                %%%ghost\n",
      "#define !U! \"[I:vol 40]\" \n",
      "                %%%unaccent\n",
      "#define !N! \"[I:volinc -25]\" \n",
      "            %%%tenuto for trash hat\n",
      "#else\n",
      "#define !N! \"\\\"^_\\\"\" \n",
      "                %%%tenuto\n",
      "#define !Q! !(.!!).! \n",
      "                %%%ghost\n",
      "#define !U! !anti!  \n",
      "                %%%unaccent\n",
      "#endif\n",
      "\n",
      "X:1\n",
      "T:Computer-generated \\`Etude for Solo Drum Kit\n",
      "C:#abcsolo16patinst16ghost#29/disco\n",
      "O:2021-12-31T17:52:28.381\n",
      "M:4/4\n",
      "L:1/8\n",
      "Q:\"Disco 16th feel\" 1/4=80\n",
      "K:none clef=perc\n",
      "[V:1 clef=perc, stem=up]     % activate abc2xml.py map\n",
      "%%voicemap drummap  % activate abcm2ps/abc2svg map\n",
      "%%MIDI channel 10   % activate abc2midi map\n",
      "%%MIDI program 0\n",
      "%%flatbeams\n",
      "%%propagate-accidentals not\n",
      "%%pos ornament up\n",
      "%%ornament up\n",
      "%%MIDI fermatafixed\n",
      "|:!mf!!>![^eF]/2!U![^e]/2!>![^e]/2!U![^e]/2 !>![^ecF]/2!U![^eF]/2!>![^e]/2!U![^eF]/2 !>![^eF]/2!U![^e]/2!>![^e]/2!U![^eF]/2 !>![^ecF]/2!U![^e]/2!>![^e]/2!U![^e]/2 |\n",
      "!>![^eF]/2!U![^e]/2!>![^e]/2!U![^e]/2 !>![^ecF]/2!U![^e]/2!>![^e]/2!U![^eF]/2 !>![^eF]/2!U![^e]/2!>![^e]/2!U![^e]/2 !>![^ecF]/2!U![^e]/2!>![^e]/2!U![^e]/2 |\n",
      "!>![^eF]/2!U![^e]/2!>![^e]/2!U![^e]/2 !>![^ecF]/2!U![^eF]/2!>![^e]/2!U![^eF]/2 !>![^eF]/2!U![^e]/2!>![^e]/2!U![^e]/2 !>![^ecF]/2!U![^e]/2!>![^e]/2!U![^e]/2 |\n",
      "[1z/2c/2F/2e/2 e/2A/2A/2A/2 e/2c/2c/2c/2 A/2z/2e/2A/2 :|2z/2c/2F/2e/2 e/2A/2A/2A/2 e/2c/2c/2c/2 !<(!A/2z/2!<)!e/2A/2 \n",
      "|:!ff![^gF]/2[^gF]/2[^g]/2[^gF]/2 [^gcF]/2[^g]/2[^g]/2[^gF]/2 [^gF]/2[^g]/2[^g]/2[^g]/2 [^gcF]/2[^g]/2[^g]/2[^g]/2 |\n",
      "[^gF]/2[^gF]/2[^g]/2[^gF]/2 [^gcF]/2[^g]/2[^g]/2[^g]/2 [^gF]/2[^gF]/2[^g]/2[^g]/2 [^gcF]/2[^gF]/2[^g]/2[^gF]/2 |\n",
      "[^gF]/2[^g]/2[^g]/2[^g]/2 [^gcF]/2[^g]/2[^g]/2[^gF]/2 [^gF]/2[^g]/2[^g]/2[^g]/2 [^gcF]/2[^g]/2[^g]/2[^g]/2 |\n",
      "[1F/2c/2c/2c/2 F/2A/2A/2G/2 F/2e/2c/2F/2 F/2c/2e/2A/2 :|2F/2c/2c/2c/2 F/2A/2A/2G/2 F/2e/2c/2F/2 !>(!F/2c/2!>)!e/2A/2 \n",
      "|:!f![^eF]/2[^e]/2[_e]/2[^eF]/2 [^ecF]/2[^e]/2[_e]/2[^e]/2 [^eF]/2[^e]/2[_e]/2[^e]/2 [^ecF]/2[^e]/2[_e]/2[^e]/2 |\n",
      "[^eF]/2[^e]/2[_e]/2[^e]/2 [^ecF]/2[^e]/2[_e]/2[^e]/2 [^eF]/2[^eF]/2[_e]/2[^eF]/2 [^ecF]/2[^e]/2[_e]/2[^eF]/2 |\n",
      "[^eF]/2[^e]/2[_e]/2[^e]/2 [^ecF]/2[^e]/2[_e]/2[^e]/2 [^eF]/2[^e]/2[_e]/2[^eF]/2 [^ecF]/2[^e]/2[_e]/2[^eF]/2 |\n",
      "[1e/2F/2e/2A/2 z/2F/2F/2F/2 e/2A/2A/2G/2 c/2c/2A/2G/2 :|2e/2F/2e/2A/2 z/2F/2F/2F/2 e/2A/2A/2G/2 !>(!c/2c/2!>)!A/2G/2 \n",
      "|:!ff![gF]/2[g]/2z/2z/2 [gcF]/2[g]/2z/2[F]/2 [gF]/2[g]/2z/2[F]/2 [gcF]/2[g]/2z/2z/2 |\n",
      "[gF]/2[gF]/2z/2z/2 [gcF]/2[gF]/2z/2z/2 [gF]/2[g]/2z/2z/2 [gcF]/2[g]/2z/2z/2 |\n",
      "[gF]/2[gF]/2z/2z/2 [gcF]/2[gF]/2z/2[F]/2 [gF]/2[g]/2z/2[F]/2 [gcF]/2[g]/2z/2[F]/2 |\n",
      "[1G/2G/2A/2G/2 G/2G/2G/2z/2 c/2c/2c/2G/2 z/2G/2G/2e/2 :|2G/2G/2A/2G/2 G/2G/2G/2z/2 c/2c/2c/2G/2 !>(!z/2G/2!>)!G/2!fermata!e/2 \n",
      "|]\n"
     ]
    }
   ],
   "source": [
    "discoNoGhostsolo = abcsolo16patinst16ghost(4, discoNoGhostB, funkFill, dancedyn, discoPat, discoInst, \"Disco 16th feel\", variation=\"disco\")\n",
    "print(discoNoGhostsolo)"
   ]
  },
  {
   "cell_type": "code",
   "execution_count": 120,
   "metadata": {},
   "outputs": [
    {
     "name": "stdout",
     "output_type": "stream",
     "text": [
      "abcm2ps-8.14.12 (2021-07-14)\r\n",
      "File disconoghosttest-ps.abc\r\n",
      "File percussions-JBH.abh\r\n",
      "Output written on disconoghosttest.xhtml (1 page, 1 title, 59540 bytes)\r\n",
      "4.59 June 27 2021 abc2midi\r\n",
      "writing MIDI file disconoghosttest.mid\r\n",
      "Warning in line-char 41-0 : Track 1 Bar 19 has 9/2 units instead of 4 in repeat\r\n"
     ]
    },
    {
     "name": "stderr",
     "output_type": "stream",
     "text": [
      "disconoghosttest-ps.abc:29:47: warning: Line overfull (635pt of 628pt)\r\n"
     ]
    },
    {
     "data": {
      "text/plain": [
       "Process(`\u001b[4mcmd\u001b[24m \u001b[4m/C\u001b[24m \u001b[4mstart\u001b[24m \u001b[4mdisconoghosttest.xhtml\u001b[24m`, ProcessExited(0))"
      ]
     },
     "execution_count": 120,
     "metadata": {},
     "output_type": "execute_result"
    }
   ],
   "source": [
    "#write a string to a file\n",
    "open(f->print(f, discoNoGhostsolo), \"disconoghosttest.abp\", \"w\")\n",
    "\n",
    "abptest(\"disconoghosttest.abp\")"
   ]
  },
  {
   "cell_type": "code",
   "execution_count": 116,
   "metadata": {
    "scrolled": true
   },
   "outputs": [
    {
     "data": {
      "text/plain": [
       "9×9 Matrix{Float64}:\n",
       " 0.0  0.0  0.0       0.2  0.333333  0.0  0.0  0.0  0.0\n",
       " 0.0  0.0  0.0       0.4  0.333333  0.5  0.0  0.0  0.0\n",
       " 0.0  0.0  0.0       0.4  0.333333  0.5  0.0  0.0  0.0\n",
       " 0.2  0.5  0.333333  0.0  0.0       0.0  0.0  0.0  0.0\n",
       " 0.4  0.0  0.333333  0.0  0.0       0.0  0.0  0.0  0.0\n",
       " 0.4  0.5  0.333333  0.0  0.0       0.0  0.0  0.0  0.0\n",
       " 0.0  0.0  0.0       0.0  0.0       0.0  0.0  0.0  0.0\n",
       " 0.0  0.0  0.0       0.0  0.0       0.0  0.0  0.0  0.0\n",
       " 0.0  0.0  0.0       0.0  0.0       0.0  0.0  0.0  0.0\n",
       "9-element Vector{Rational{Int64}}:\n",
       " 0//1\n",
       " 0//1\n",
       " 0//1\n",
       " 1//3\n",
       " 1//3\n",
       " 1//3\n",
       " 0//1\n",
       " 0//1\n",
       " 0//1"
      ]
     },
     "execution_count": 116,
     "metadata": {},
     "output_type": "execute_result"
    }
   ],
   "source": [
    "#0 = rest, 1 = bass, 2 = LH\n",
    "                #00    #01  #02   #10  #11  #12  #zeros\n",
    "discoBassMatrix = [0   0    0     0.2  1//3 0   0 0 0 #00\n",
    "                    0  0    0     0.4  1//3 0.5    0 0 0  #01\n",
    "                    0  0    0     0.4  1//3 0.5    0 0 0  #02\n",
    "                    0.2 0.5  1//3   0    0    0   0 0 0  #10\n",
    "                    0.4 0    1//3   0    0    0   0 0 0  #11\n",
    "                    0.4 0.5  1//3   0    0    0   0 0 0    #12\n",
    "                    zeros(3,9)]                 #zeros\n",
    "\n",
    "sum(discoBassMatrix, dims=1)\n",
    "\n",
    "discoBassInitial = [0, 0, 0, 1//3, 1//3, 1//3, 0, 0, 0]\n",
    "\n",
    "discoBass = AugMatrix(discoBassMatrix, discoBassInitial)"
   ]
  },
  {
   "cell_type": "code",
   "execution_count": 107,
   "metadata": {},
   "outputs": [
    {
     "ename": "LoadError",
     "evalue": "MethodError: no method matching abctune16patinst16ghost(::Int64, ::Vector{Any}, ::Int64, ::Int64, ::Vector{Any}, ::Int64; variation=\"disco\")\n\u001b[0mClosest candidates are:\n\u001b[0m  abctune16patinst16ghost(::Any, ::Any, ::Any, ::Any, ::Any, ::Any) at In[46]:2\u001b[91m got unsupported keyword argument \"variation\"\u001b[39m",
     "output_type": "error",
     "traceback": [
      "MethodError: no method matching abctune16patinst16ghost(::Int64, ::Vector{Any}, ::Int64, ::Int64, ::Vector{Any}, ::Int64; variation=\"disco\")\n\u001b[0mClosest candidates are:\n\u001b[0m  abctune16patinst16ghost(::Any, ::Any, ::Any, ::Any, ::Any, ::Any) at In[46]:2\u001b[91m got unsupported keyword argument \"variation\"\u001b[39m",
      "",
      "Stacktrace:",
      " [1] abcsolo16patinst16ghost(len::Int64, basstrans::AugMatrix, filltrans::AugDblMatrix, dyntrans::AugDblMatrix, pattrans::AugMatrix, insttrans::AugMatrix, feel::String; variation::String)",
      "   @ Main .\\In[103]:23",
      " [2] top-level scope",
      "   @ In[107]:1",
      " [3] eval",
      "   @ .\\boot.jl:360 [inlined]",
      " [4] include_string(mapexpr::typeof(REPL.softscope), mod::Module, code::String, filename::String)",
      "   @ Base .\\loading.jl:1116"
     ]
    }
   ],
   "source": [
    "discosolo = abcsolo16patinst16ghost(4, discoBass, funkFill, dancedyn, discoPat, discoInst, \"Disco 16th feel\", variation=\"disco\")\n",
    "print(discosolo)"
   ]
  },
  {
   "cell_type": "code",
   "execution_count": 153,
   "metadata": {
    "scrolled": false
   },
   "outputs": [
    {
     "name": "stdout",
     "output_type": "stream",
     "text": [
      "abcm2ps-8.14.12 (2021-07-14)\r\n",
      "File discoghosttest-ps.abc\r\n",
      "File percussions-JBH.abh\r\n",
      "Output written on discoghosttest.xhtml (1 page, 1 title, 55575 bytes)\r\n",
      "4.59 June 27 2021 abc2midi\r\n",
      "writing MIDI file discoghosttest.mid\r\n",
      "Warning in line-char 41-0 : Track 1 Bar 19 has 9/2 units instead of 4 in repeat\r\n"
     ]
    },
    {
     "name": "stderr",
     "output_type": "stream",
     "text": [
      "discoghosttest-ps.abc:29:44: warning: Line overfull (634pt of 628pt)\r\n"
     ]
    },
    {
     "data": {
      "text/plain": [
       "Process(`\u001b[4mcmd\u001b[24m \u001b[4m/C\u001b[24m \u001b[4mstart\u001b[24m \u001b[4mdiscoghosttest.xhtml\u001b[24m`, ProcessExited(0))"
      ]
     },
     "execution_count": 153,
     "metadata": {},
     "output_type": "execute_result"
    }
   ],
   "source": [
    "writetune(\"discoghosttest.abp\", discosolo)\n",
    "\n",
    "abptest(\"discoghosttest.abp\")"
   ]
  },
  {
   "cell_type": "code",
   "execution_count": null,
   "metadata": {},
   "outputs": [],
   "source": []
  }
 ],
 "metadata": {
  "kernelspec": {
   "display_name": "Julia 1.6.3",
   "language": "julia",
   "name": "julia-1.6"
  },
  "language_info": {
   "file_extension": ".jl",
   "mimetype": "application/julia",
   "name": "julia",
   "version": "1.6.3"
  }
 },
 "nbformat": 4,
 "nbformat_minor": 4
}
