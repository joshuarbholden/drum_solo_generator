{
 "cells": [
  {
   "cell_type": "code",
   "execution_count": 1,
   "metadata": {},
   "outputs": [
    {
     "data": {
      "text/plain": [
       "markovrand (generic function with 1 method)"
      ]
     },
     "execution_count": 1,
     "metadata": {},
     "output_type": "execute_result"
    }
   ],
   "source": [
    "#input a vector corresponding to a probability distribution and output an index according to that distribution\n",
    "function markovrand(nextv)\n",
    "    if round(sum(nextv), digits = 6) != 1.0\n",
    "        error(nextv, \" is not a stochastic vector\")\n",
    "    end\n",
    "    maxstates = length(nextv) - 1\n",
    "    r = rand(Float64)\n",
    "    current = maxstates\n",
    "    for i = 0:maxstates\n",
    "        if r <= nextv[i + 1]\n",
    "            current = i\n",
    "            break\n",
    "        else\n",
    "            r = r - nextv[i + 1]\n",
    "        end\n",
    "    end\n",
    "    return(current)\n",
    "end\n"
   ]
  },
  {
   "cell_type": "code",
   "execution_count": 2,
   "metadata": {},
   "outputs": [],
   "source": [
    "struct AugMatrix\n",
    "    mat::Matrix\n",
    "    init::Vector\n",
    "end\n",
    "\n",
    "struct AugDblMatrix\n",
    "    mat1::Matrix\n",
    "    mat2::Matrix\n",
    "    init::Vector\n",
    "end"
   ]
  },
  {
   "cell_type": "code",
   "execution_count": 3,
   "metadata": {},
   "outputs": [
    {
     "data": {
      "text/plain": [
       "bassgen16pairs (generic function with 1 method)"
      ]
     },
     "execution_count": 3,
     "metadata": {},
     "output_type": "execute_result"
    }
   ],
   "source": [
    "#output bass notes in $beats pairs of sixteenth notes\n",
    "function bassgen16pairs(beats::Int, trans::AugMatrix)\n",
    "    transmat = trans.mat\n",
    "    iv = trans.init\n",
    "    nextv = iv\n",
    "    L = []\n",
    "    for j = 1:beats\n",
    "        current = markovrand(nextv)\n",
    "#print(current, \" \")\n",
    "        append!(L, [current])\n",
    "        nextv = transmat[:, current + 1]\n",
    "    end\n",
    "    return(L)\n",
    "end"
   ]
  },
  {
   "cell_type": "code",
   "execution_count": null,
   "metadata": {},
   "outputs": [],
   "source": []
  },
  {
   "cell_type": "code",
   "execution_count": 4,
   "metadata": {},
   "outputs": [
    {
     "data": {
      "text/plain": [
       "4×4 Matrix{Float64}:\n",
       " 0.1   0.333333  0.333333  1.0\n",
       " 0.0   0.333333  0.0       0.0\n",
       " 0.45  0.333333  0.333333  0.0\n",
       " 0.45  0.0       0.333333  0.0"
      ]
     },
     "execution_count": 4,
     "metadata": {},
     "output_type": "execute_result"
    }
   ],
   "source": [
    "rockBassMatrix = [0.1e0 1//3 1//3 1; 0 1//3 0 0; 0.45e0 1//3 1//3 0; 0.45e0 0 1//3 0]"
   ]
  },
  {
   "cell_type": "code",
   "execution_count": 5,
   "metadata": {},
   "outputs": [
    {
     "data": {
      "text/plain": [
       "4-element Vector{Float64}:\n",
       " 0.1\n",
       " 0.0\n",
       " 0.5\n",
       " 0.4"
      ]
     },
     "execution_count": 5,
     "metadata": {},
     "output_type": "execute_result"
    }
   ],
   "source": [
    "rockBassInitial = [0.1e0,0,0.5e0,0.4e0]"
   ]
  },
  {
   "cell_type": "code",
   "execution_count": 6,
   "metadata": {},
   "outputs": [
    {
     "data": {
      "text/plain": [
       "AugMatrix([0.1 0.3333333333333333 0.3333333333333333 1.0; 0.0 0.3333333333333333 0.0 0.0; 0.45 0.3333333333333333 0.3333333333333333 0.0; 0.45 0.0 0.3333333333333333 0.0], [0.1, 0.0, 0.5, 0.4])"
      ]
     },
     "execution_count": 6,
     "metadata": {},
     "output_type": "execute_result"
    }
   ],
   "source": [
    "rockBass = AugMatrix(rockBassMatrix, rockBassInitial)"
   ]
  },
  {
   "cell_type": "code",
   "execution_count": 7,
   "metadata": {},
   "outputs": [
    {
     "data": {
      "text/plain": [
       "4-element Vector{Any}:\n",
       " 2\n",
       " 2\n",
       " 3\n",
       " 0"
      ]
     },
     "execution_count": 7,
     "metadata": {},
     "output_type": "execute_result"
    }
   ],
   "source": [
    "#test\n",
    "bassgen16pairs(4, rockBass)"
   ]
  },
  {
   "cell_type": "code",
   "execution_count": 118,
   "metadata": {},
   "outputs": [
    {
     "data": {
      "text/plain": [
       "lookup8ride (generic function with 2 methods)"
      ]
     },
     "execution_count": 118,
     "metadata": {},
     "output_type": "execute_result"
    }
   ],
   "source": [
    "function lookup8ride()::Matrix\n",
    "    r = Matrix(undef, 4, 4)\n",
    "    r[1,1] = [\"[N^e\",\"[\",\"[cN^e\",\"[\",\"[N^e\",\"[\",\"[cN^e\",\"[\"] #hihat Quarters, trash #2\n",
    "    #NB Windows midi doesn't have a good way of making a trash hat?  N defined as tenuto mark in header.abc\n",
    "    r[2,1] = [\"[^e\",\"[^e\",\"[c^e\",\"[^e\",\"[^e\",\"[^e\",\"[c^e\",\"[^e\"] #hihat 8, #1\n",
    "    r[3,1] = [\"!>![^e\",\"u[^e\",\"!>![c^e\",\"u[^e\",\"!>![^e\",\"u[^e\",\"!>![c^e\",\"u[^e\"] #drive #8\n",
    "    r[4,1] = [\"[^e\",\"[^e\",\"[c^e\",\"[^e\",\"[^e\",\"[^e\",\"[c^e\",\"[_e\"] #slide last and #7\n",
    "#    r[6] = [\"[^e\",\"[_e\",\"[c^e\",\"[_e\",\"[^e\",\"[_e\",\"[c^e\",\"[_e\"] #slide every and #6\n",
    "#    r[7] = [\"[^e\",\"[^e\",\"[c^e\",\"[^e\",\"[^e\",\"[_e\",\"[c^e\",\"[_e\"]  #slide last 2 ands #7\n",
    "#    r[8] = [\"[^e\",\"[^e\",\"[c^e\",\"[^e\",\"[^e\",\"[^e\",\"[c^e\",\"[_e\"] #slide last and #7\n",
    "    r[1,2] = [\"[^g\",\"[\",\"[c^g\",\"[\",\"[^g\",\"[\",\"[c^g\",\"[\"] #ride quarter #2\n",
    "    r[2,2] = [\"[^g\",\"[^g\",\"[c^g\",\"[^g\",\"[^g\",\"[^g\",\"[c^g\",\"[^g\"] #ride 8, #1\n",
    "    r[3,2] = [\"[^g^D\",\"[^g\",\"[c^g^D\",\"[^g\",\"[^g^D\",\"[^g\",\"[c^g^D\",\"[^g\"] #ride 8 with step beats, #3\n",
    "    r[4,2] = [\"[^g\",\"[^g^D\",\"[c^g\",\"[^g^D\",\"[^g\",\"[^g^D\",\"[c^g\",\"[^g^D\"] #ride 8 with step ands, #4\n",
    "    r[1,3] = [\"[g\",\"[\",\"[cg\",\"[\",\"[g\",\"[\",\"[cg\",\"[\"] #bell Q, #2\n",
    "    r[2,3] = [\"[g\",\"[g\",\"[cg\",\"[g\",\"[g\",\"[g\",\"[cg\",\"[g\"] #bell 8, #1\n",
    "    r[3,3] = [\"[=g\",\"[^g\",\"[c=g\",\"[^g\",\"[=g\",\"[^g\",\"[c=g\",\"[^g\"] #bell drive, offbeat ride\n",
    "    r[4,3] = [\"[\",\"[g\",\"[c\",\"[g\",\"[\",\"[g\",\"[c\",\"[g\"] #bell ands, #5\n",
    "    r[1,4] = [\"[^D\",\"[\",\"[c^D\",\"[\",\"[^D\",\"[\",\"[c^D\",\"[\"]  #step Q, #2\n",
    "    r[2,4] = [\"[^D\",\"[^D\",\"[c^D\",\"[^D\",\"[^D\",\"[^D\",\"[c^D\",\"[^D\"] #step 8, #1\n",
    "    r[3,4] = [\"[g^D\",\"[^D\",\"[cg^D\",\"[^D\",\"[g^D\",\"[^D\",\"[cg^D\",\"[^D\"] #step 8 with bell beats, #9\n",
    "    r[4,4] = [\"[^D\",\"[g^D\",\"[c^D\",\"[g^D\",\"[^D\",\"[g^D\",\"[c^D\",\"[g^D\"] #step 8 with bell ands\n",
    "    return(r)\n",
    "end\n"
   ]
  },
  {
   "cell_type": "code",
   "execution_count": 125,
   "metadata": {},
   "outputs": [
    {
     "data": {
      "text/plain": [
       "abctime8patinst16bass (generic function with 1 method)"
      ]
     },
     "execution_count": 125,
     "metadata": {},
     "output_type": "execute_result"
    }
   ],
   "source": [
    "#input a sixteenth note bass rhythm and an 8th note ride pattern, output abc notation\n",
    "function abctime8patinst16bass(L, pattern, instr)\n",
    "    n = length(L)\n",
    "    r = lookup8ride()\n",
    "    c = [\"]y\",\"]/2[F/2]\",\"F]y\",\"F]/2[F/2]\"]\n",
    "    m = [c[L[i] + 1] for i = 1:n]\n",
    "    s = \"\"\n",
    "    for i = 1:n\n",
    "        s = s * r[pattern, instr][(i - 1) % 8 + 1] * m[i]\n",
    "        if i % 4 == 0\n",
    "            s = s * \" \"\n",
    "        end\n",
    "        if i % 8 == 0\n",
    "            s = s * \"|\"\n",
    "        end\n",
    "    end\n",
    "    s = replace(s, \"[]\" => \"z\")\n",
    "    s = replace(s, \"!>!\" => \"!>![I: volinc 50]\")\n",
    "    s = replace(s, \"u\" => \"!anti![I: volinc -20]\")\n",
    "    return(s)\n",
    "end\n"
   ]
  },
  {
   "cell_type": "code",
   "execution_count": 81,
   "metadata": {},
   "outputs": [
    {
     "data": {
      "text/plain": [
       "\"[^D]y[g^DF]y[c^DF]y[g^DF]/2[F/2] [^D]y[g^DF]y[c^DF]/2[F/2][g^D]y |\""
      ]
     },
     "execution_count": 81,
     "metadata": {},
     "output_type": "execute_result"
    }
   ],
   "source": [
    "#test\n",
    "abctime8ride16bass(bassgen16pairs(8, rockBass), 4, 4)"
   ]
  },
  {
   "cell_type": "code",
   "execution_count": null,
   "metadata": {},
   "outputs": [],
   "source": []
  },
  {
   "cell_type": "code",
   "execution_count": 10,
   "metadata": {},
   "outputs": [
    {
     "data": {
      "text/plain": [
       "fill16gen (generic function with 1 method)"
      ]
     },
     "execution_count": 10,
     "metadata": {},
     "output_type": "execute_result"
    }
   ],
   "source": [
    "#output linear fill in $beats number of sixteenth notes\n",
    "function fill16gen(\n",
    "  beats::Int,\n",
    "  trans::AugDblMatrix)\n",
    "    nextv = trans.init\n",
    "    L = []\n",
    "    for j = 1:beats\n",
    "        current = markovrand(nextv)\n",
    "        append!(L,current)\n",
    "        if j % 2 == 1\n",
    "            nextv = trans.mat1[1:6, current + 1]\n",
    "        else\n",
    "            nextv = trans.mat2[1:6, current + 1]\n",
    "        end\n",
    "    end\n",
    "    return(L)\n",
    "end\n"
   ]
  },
  {
   "cell_type": "code",
   "execution_count": 11,
   "metadata": {},
   "outputs": [
    {
     "data": {
      "text/plain": [
       "6×6 Matrix{Float64}:\n",
       " 0.2  0.1  0.2  0.0  0.3  0.2\n",
       " 0.4  0.2  0.0  0.3  0.3  0.2\n",
       " 0.1  0.4  0.2  0.1  0.1  0.2\n",
       " 0.1  0.1  0.4  0.3  0.1  0.2\n",
       " 0.1  0.1  0.2  0.2  0.1  0.2\n",
       " 0.1  0.1  0.0  0.1  0.1  0.0"
      ]
     },
     "execution_count": 11,
     "metadata": {},
     "output_type": "execute_result"
    }
   ],
   "source": [
    "rockFillLeftToRight = [\n",
    "    0.2e0 0.1e0 0.2e0 0 0.3e0 0.2e0; \n",
    "    0.4e0 0.2e0 0 0.3e0 0.3e0 0.2e0; \n",
    "    0.1e0 0.4e0 0.2e0 0.1e0 0.1e0 0.2e0; \n",
    "    0.1e0 0.1e0 0.4e0 0.3e0 0.1e0 0.2e0; \n",
    "    0.1e0 0.1e0 0.2e0 0.2e0 0.1e0 0.2e0; \n",
    "    0.1e0 0.1e0 0 0.1e0 0.1e0 0]"
   ]
  },
  {
   "cell_type": "code",
   "execution_count": 12,
   "metadata": {},
   "outputs": [
    {
     "data": {
      "text/plain": [
       "6×6 Matrix{Float64}:\n",
       " 0.4  0.2  0.1  0.1  0.3  0.0\n",
       " 0.2  0.4  0.2  0.2  0.2  0.0\n",
       " 0.1  0.0  0.4  0.1  0.1  0.0\n",
       " 0.0  0.1  0.1  0.4  0.1  0.0\n",
       " 0.2  0.1  0.1  0.1  0.2  0.0\n",
       " 0.1  0.2  0.1  0.1  0.1  1.0"
      ]
     },
     "execution_count": 12,
     "metadata": {},
     "output_type": "execute_result"
    }
   ],
   "source": [
    "rockFillRightToLeft = [\n",
    "    0.4e0 0.2e0 0.1e0 0.1e0 0.3e0 0\n",
    "    0.2e0 0.4e0 0.2e0 0.2e0 0.2e0 0\n",
    "    0.1e0 0 0.4e0 0.1e0 0.1e0 0\n",
    "    0 0.1e0 0.1e0 0.4e0 0.1e0 0\n",
    "    0.2e0 0.1e0 0.1e0 0.1e0 0.2e0 0\n",
    "    0.1e0 0.2e0 0.1e0 0.1e0 0.1e0 0.10e1]\n"
   ]
  },
  {
   "cell_type": "code",
   "execution_count": 13,
   "metadata": {},
   "outputs": [
    {
     "data": {
      "text/plain": [
       "6-element Vector{Float64}:\n",
       " 0.4\n",
       " 0.4\n",
       " 0.1\n",
       " 0.1\n",
       " 0.0\n",
       " 0.0"
      ]
     },
     "execution_count": 13,
     "metadata": {},
     "output_type": "execute_result"
    }
   ],
   "source": [
    "rockFillInitial = [0.4e0,0.4e0,0.1e0,0.1e0,0,0] #snare, high, mid, low, kick, rest"
   ]
  },
  {
   "cell_type": "code",
   "execution_count": 14,
   "metadata": {},
   "outputs": [
    {
     "data": {
      "text/plain": [
       "AugDblMatrix([0.2 0.1 … 0.3 0.2; 0.4 0.2 … 0.3 0.2; … ; 0.1 0.1 … 0.1 0.2; 0.1 0.1 … 0.1 0.0], [0.4 0.2 … 0.3 0.0; 0.2 0.4 … 0.2 0.0; … ; 0.2 0.1 … 0.2 0.0; 0.1 0.2 … 0.1 1.0], [0.4, 0.4, 0.1, 0.1, 0.0, 0.0])"
      ]
     },
     "execution_count": 14,
     "metadata": {},
     "output_type": "execute_result"
    }
   ],
   "source": [
    "rockFill= AugDblMatrix(rockFillLeftToRight, rockFillRightToLeft, rockFillInitial)"
   ]
  },
  {
   "cell_type": "code",
   "execution_count": 15,
   "metadata": {},
   "outputs": [
    {
     "data": {
      "text/plain": [
       "abcfill16 (generic function with 1 method)"
      ]
     },
     "execution_count": 15,
     "metadata": {},
     "output_type": "execute_result"
    }
   ],
   "source": [
    "#input a sixteenth note fill and a crescendo/descr indicator, output abc notation\n",
    "function abcfill16(L, crdc)\n",
    "    n = length(L)\n",
    "    c = [\"c/2\",\"e/2\",\"A/2\",\"G/2\",\"F/2\",\"z/2\"]\n",
    "    m = [c[L[i] + 1] for i = 1:n]\n",
    "    s = \"\"\n",
    "    for i = 1:n\n",
    "        s = s * m[i]\n",
    "        if i % 4 == 0\n",
    "            s = s * \" \"\n",
    "        end\n",
    "        if i % 16 == 12\n",
    "            if crdc < 0\n",
    "                s = s * \"!>(!\"\n",
    "            elseif 0 < crdc\n",
    "                s = s * \"!<(!\"\n",
    "            end\n",
    "        end\n",
    "        if i % 16 == 14\n",
    "            if crdc < 0\n",
    "                s = s * \"!>)!\"\n",
    "            elseif 0 < crdc\n",
    "                s = s * \"!<)!\"\n",
    "            end\n",
    "        end\n",
    "    end\n",
    "    return(s)\n",
    "end\n"
   ]
  },
  {
   "cell_type": "code",
   "execution_count": 16,
   "metadata": {},
   "outputs": [
    {
     "data": {
      "text/plain": [
       "\"e/2A/2A/2c/2 A/2c/2A/2c/2 F/2z/2z/2G/2 G/2e/2z/2A/2 \""
      ]
     },
     "execution_count": 16,
     "metadata": {},
     "output_type": "execute_result"
    }
   ],
   "source": [
    "#test\n",
    "abcfill16(fill16gen(16, rockFill), 0)"
   ]
  },
  {
   "cell_type": "code",
   "execution_count": 103,
   "metadata": {},
   "outputs": [
    {
     "data": {
      "text/plain": [
       "abctune8patinst16bass (generic function with 2 methods)"
      ]
     },
     "execution_count": 103,
     "metadata": {},
     "output_type": "execute_result"
    }
   ],
   "source": [
    "#output time, fill, time, fill with cresc/decr in abc notation\n",
    "function abctune8patinst16bass(\n",
    "  vol,\n",
    "  bass,\n",
    "  pat,\n",
    "  inst,\n",
    "  fill,\n",
    "  crdc)\n",
    "    fp = [\"!pp!\",\"!p!\",\"!mp!\",\"!mf!\",\"!f!\",\"!ff!\"]\n",
    "    return(\"|:\" * fp[vol] * abctime8patinst16bass(bass, pat, inst) * \"[1\" * abcfill16(fill, 0) * \":|2\" * abcfill16(fill, crdc))\n",
    "end\n"
   ]
  },
  {
   "cell_type": "code",
   "execution_count": 18,
   "metadata": {},
   "outputs": [
    {
     "data": {
      "text/plain": [
       "insert (generic function with 1 method)"
      ]
     },
     "execution_count": 18,
     "metadata": {},
     "output_type": "execute_result"
    }
   ],
   "source": [
    "#utility function, insert one string into another\n",
    "function insert(\n",
    "    s::String,\n",
    "    pos::Integer,\n",
    "    sub::String)\n",
    "    return s[1:pos] * sub * s[pos+1:end]\n",
    "end\n",
    "    "
   ]
  },
  {
   "cell_type": "code",
   "execution_count": 19,
   "metadata": {},
   "outputs": [
    {
     "data": {
      "text/plain": [
       "\"abcdxefg\""
      ]
     },
     "execution_count": 19,
     "metadata": {},
     "output_type": "execute_result"
    }
   ],
   "source": [
    "#test\n",
    "insert(\"abcdefg\", 4, \"x\")"
   ]
  },
  {
   "cell_type": "code",
   "execution_count": 99,
   "metadata": {},
   "outputs": [
    {
     "data": {
      "text/plain": [
       "abcsolo8patinst16bass (generic function with 1 method)"
      ]
     },
     "execution_count": 99,
     "metadata": {},
     "output_type": "execute_result"
    }
   ],
   "source": [
    "#put it all together, output abc notation\n",
    "function abcsolo8patinst16bass(\n",
    "  len::Int,\n",
    "  basstrans::AugMatrix,\n",
    "  filltrans::AugDblMatrix,\n",
    "  dyntrans::AugDblMatrix,\n",
    "  pattrans::AugMatrix,\n",
    "  insttrans::AugMatrix\n",
    "    )\n",
    "    s = \"\"\n",
    "    curdyn = markovrand(dyn.init)\n",
    "    curpat = markovrand(pattrans.init)\n",
    "    curinst = markovrand(insttrans.init)\n",
    "    for i = 1:len\n",
    "        vol = div(curdyn, 2) + 1\n",
    "        bass = bassgen16pairs(24, basstrans)\n",
    "        pat = curpat + 1\n",
    "        inst = curinst + 1\n",
    "        fill = fill16gen(16, filltrans)\n",
    "        crdc = 2 * mod(curdyn, 2) - 1\n",
    "        s = s * abctune8patinst16bass(vol, bass, pat, inst, fill, crdc)\n",
    "        if i + 1 < len\n",
    "            curdyn = markovrand(dyntrans.mat1[:, curdyn + 1])\n",
    "        else\n",
    "            curdyn = markovrand(dyntrans.mat2[:, curdyn + 1])\n",
    "        end\n",
    "        curpat = markovrand(pattrans.mat[:, curpat + 1])\n",
    "        curinst = markovrand(insttrans.mat[:, curinst + 1])\n",
    "    end\n",
    "    s = insert(s, findlast(occursin(\"acbdefgABCDEFG\"), s)-1, \"H\")\n",
    "    s = s * \"|]\"\n",
    "    return(s)\n",
    "end\n"
   ]
  },
  {
   "cell_type": "code",
   "execution_count": 21,
   "metadata": {},
   "outputs": [
    {
     "data": {
      "text/plain": [
       "writetune (generic function with 1 method)"
      ]
     },
     "execution_count": 21,
     "metadata": {},
     "output_type": "execute_result"
    }
   ],
   "source": [
    "#write a string s of abc notation to a file fname\n",
    "function writetune(fname, s)\n",
    "    h = open(\"header.abc\", \"r\")\n",
    "    f = open(fname, \"w\")\n",
    "    for header in eachline(h)\n",
    "        print(f, header * \"\\n\")\n",
    "    end\n",
    "    close(h)\n",
    "    print(f, s * \"\\n\")\n",
    "    return(close(f))\n",
    "end\n"
   ]
  },
  {
   "cell_type": "code",
   "execution_count": null,
   "metadata": {},
   "outputs": [],
   "source": []
  },
  {
   "cell_type": "code",
   "execution_count": 22,
   "metadata": {},
   "outputs": [
    {
     "data": {
      "text/plain": [
       "12×12 Matrix{Float64}:\n",
       " 0.0  0.0  0.2  0.2  0.1  0.1  0.0  0.0  0.0  0.0  0.0  0.0\n",
       " 0.0  0.0  0.2  0.1  0.1  0.1  0.0  0.0  0.0  0.0  0.0  0.0\n",
       " 0.2  0.2  0.0  0.0  0.2  0.1  0.1  0.1  0.1  0.2  0.1  0.2\n",
       " 0.2  0.2  0.0  0.0  0.2  0.1  0.1  0.1  0.2  0.1  0.2  0.1\n",
       " 0.0  0.0  0.1  0.2  0.0  0.0  0.2  0.1  0.0  0.0  0.1  0.2\n",
       " 0.0  0.0  0.2  0.2  0.0  0.0  0.2  0.1  0.0  0.0  0.2  0.1\n",
       " 0.1  0.2  0.0  0.0  0.1  0.2  0.0  0.0  0.2  0.2  0.0  0.0\n",
       " 0.2  0.1  0.0  0.0  0.1  0.2  0.0  0.0  0.2  0.1  0.0  0.0\n",
       " 0.1  0.2  0.1  0.2  0.1  0.1  0.1  0.2  0.0  0.0  0.2  0.2\n",
       " 0.2  0.1  0.2  0.1  0.1  0.1  0.1  0.2  0.0  0.0  0.2  0.2\n",
       " 0.0  0.0  0.0  0.0  0.0  0.0  0.1  0.1  0.1  0.2  0.0  0.0\n",
       " 0.0  0.0  0.0  0.0  0.0  0.0  0.1  0.1  0.2  0.2  0.0  0.0"
      ]
     },
     "execution_count": 22,
     "metadata": {},
     "output_type": "execute_result"
    }
   ],
   "source": [
    "dynMatrix = [\n",
    "    0 0 0.2e0 0.2e0 0.1e0 0.1e0 0 0 0 0 0 0; \n",
    "    0 0 0.2e0 0.1e0 0.1e0 0.1e0 0 0 0 0 0 0; \n",
    "    0.2e0 0.2e0 0 0 0.2e0 0.1e0 0.1e0 0.1e0 0.1e0 0.2e0 0.1e0 0.2e0; \n",
    "    0.2e0 0.2e0 0 0 0.2e0 0.1e0 0.1e0 0.1e0 0.2e0 0.1e0 0.2e0 0.1e0; \n",
    "    0 0 0.1e0 0.2e0 0 0 0.2e0 0.1e0 0 0 0.1e0 0.2e0; \n",
    "    0 0 0.2e0 0.2e0 0 0 0.2e0 0.1e0 0 0 0.2e0 0.1e0; \n",
    "    0.1e0 0.2e0 0 0 0.1e0 0.2e0 0 0 0.2e0 0.2e0 0 0; \n",
    "    0.2e0 0.1e0 0 0 0.1e0 0.2e0 0 0 0.2e0 0.1e0 0 0; \n",
    "    0.1e0 0.2e0 0.1e0 0.2e0 0.1e0 0.1e0 0.1e0 0.2e0 0 0 0.2e0 0.2e0;\n",
    "    0.2e0 0.1e0 0.2e0 0.1e0 0.1e0 0.1e0 0.1e0 0.2e0 0 0 0.2e0 0.2e0; \n",
    "    0 0 0 0 0 0 0.1e0 0.1e0 0.1e0 0.2e0 0 0; \n",
    "    0 0 0 0 0 0 0.1e0 0.1e0 0.2e0 0.2e0 0 0]\n"
   ]
  },
  {
   "cell_type": "code",
   "execution_count": 23,
   "metadata": {},
   "outputs": [
    {
     "data": {
      "text/plain": [
       "12×12 Matrix{Float64}:\n",
       " 0.1  0.2  0.2  0.2  0.1  0.1  0.1  0.1  0.1  0.2  0.0  0.0\n",
       " 0.2  0.1  0.2  0.1  0.1  0.1  0.1  0.1  0.2  0.1  0.0  0.0\n",
       " 0.2  0.2  0.0  0.0  0.2  0.1  0.2  0.1  0.2  0.2  0.1  0.2\n",
       " 0.2  0.2  0.0  0.0  0.2  0.1  0.2  0.1  0.2  0.1  0.2  0.1\n",
       " 0.0  0.0  0.0  0.0  0.0  0.0  0.0  0.0  0.0  0.0  0.0  0.0\n",
       " 0.0  0.0  0.0  0.0  0.0  0.0  0.0  0.0  0.0  0.0  0.0  0.0\n",
       " 0.0  0.0  0.0  0.0  0.0  0.0  0.0  0.0  0.0  0.0  0.0  0.0\n",
       " 0.0  0.0  0.0  0.0  0.0  0.0  0.0  0.0  0.0  0.0  0.0  0.0\n",
       " 0.1  0.2  0.1  0.2  0.1  0.2  0.1  0.2  0.0  0.0  0.2  0.2\n",
       " 0.2  0.1  0.2  0.2  0.1  0.2  0.1  0.2  0.0  0.0  0.2  0.2\n",
       " 0.0  0.0  0.1  0.2  0.1  0.1  0.1  0.1  0.1  0.2  0.1  0.2\n",
       " 0.0  0.0  0.2  0.1  0.1  0.1  0.1  0.1  0.2  0.2  0.2  0.1"
      ]
     },
     "execution_count": 23,
     "metadata": {},
     "output_type": "execute_result"
    }
   ],
   "source": [
    "dynFinal = [\n",
    "    0.1e0 0.2e0 0.2e0 0.2e0 0.1e0 0.1e0 0.1e0 0.1e0 0.1e0 0.2e0 0 0; \n",
    "    0.2e0 0.1e0 0.2e0 0.1e0 0.1e0 0.1e0 0.1e0 0.1e0 0.2e0 0.1e0 0 0; \n",
    "    0.2e0 0.2e0 0 0 0.2e0 0.1e0 0.2e0 0.1e0 0.2e0 0.2e0 0.1e0 0.2e0; \n",
    "    0.2e0 0.2e0 0 0 0.2e0 0.1e0 0.2e0 0.1e0 0.2e0 0.1e0 0.2e0 0.1e0; \n",
    "    0 0 0 0 0 0 0 0 0 0 0 0; \n",
    "    0 0 0 0 0 0 0 0 0 0 0 0; \n",
    "    0 0 0 0 0 0 0 0 0 0 0 0; \n",
    "    0 0 0 0 0 0 0 0 0 0 0 0; \n",
    "    0.1e0 0.2e0 0.1e0 0.2e0 0.1e0 0.2e0 0.1e0 0.2e0 0 0 0.2e0 0.2e0; \n",
    "    0.2e0 0.1e0 0.2e0 0.2e0 0.1e0 0.2e0 0.1e0 0.2e0 0 0 0.2e0 0.2e0; \n",
    "    0 0 0.1e0 0.2e0 0.1e0 0.1e0 0.1e0 0.1e0 0.1e0 0.2e0 0.1e0 0.2e0; \n",
    "    0 0 0.2e0 0.1e0 0.1e0 0.1e0 0.1e0 0.1e0 0.2e0 0.2e0 0.2e0 0.1e0]\n"
   ]
  },
  {
   "cell_type": "code",
   "execution_count": 24,
   "metadata": {},
   "outputs": [
    {
     "data": {
      "text/plain": [
       "12-element Vector{Float64}:\n",
       " 0.05\n",
       " 0.05\n",
       " 0.1\n",
       " 0.1\n",
       " 0.1\n",
       " 0.1\n",
       " 0.1\n",
       " 0.1\n",
       " 0.1\n",
       " 0.1\n",
       " 0.05\n",
       " 0.05"
      ]
     },
     "execution_count": 24,
     "metadata": {},
     "output_type": "execute_result"
    }
   ],
   "source": [
    "dynInitial = [0.5e-1,0.5e-1,0.1e0,0.1e0,0.1e0,0.1e0,0.1e0,0.1e0,0.1e0,0.1e0,0.5e-1,0.5e-1]\n",
    "#pp>, pp<, p>, p<, mp>, mp<, mf>, mf<, f>, f<, ff>, ff<"
   ]
  },
  {
   "cell_type": "code",
   "execution_count": 25,
   "metadata": {},
   "outputs": [
    {
     "data": {
      "text/plain": [
       "AugDblMatrix([0.0 0.0 … 0.0 0.0; 0.0 0.0 … 0.0 0.0; … ; 0.0 0.0 … 0.0 0.0; 0.0 0.0 … 0.0 0.0], [0.1 0.2 … 0.0 0.0; 0.2 0.1 … 0.0 0.0; … ; 0.0 0.0 … 0.1 0.2; 0.0 0.0 … 0.2 0.1], [0.05, 0.05, 0.1, 0.1, 0.1, 0.1, 0.1, 0.1, 0.1, 0.1, 0.05, 0.05])"
      ]
     },
     "execution_count": 25,
     "metadata": {},
     "output_type": "execute_result"
    }
   ],
   "source": [
    "dyn = AugDblMatrix(dynMatrix, dynFinal, dynInitial)"
   ]
  },
  {
   "cell_type": "code",
   "execution_count": 85,
   "metadata": {},
   "outputs": [
    {
     "data": {
      "text/plain": [
       "4×4 Matrix{Float64}:\n",
       " 0.0  0.4  0.4  0.4\n",
       " 0.4  0.0  0.2  0.2\n",
       " 0.2  0.2  0.0  0.4\n",
       " 0.4  0.4  0.4  0.0"
      ]
     },
     "execution_count": 85,
     "metadata": {},
     "output_type": "execute_result"
    }
   ],
   "source": [
    "rockPatMatrix = [\n",
    "    #8  Q   b   +\n",
    "    0   0.4 0.4 0.4 #8 \n",
    "    0.4 0   0.2 0.2   #Q\n",
    "    0.2 0.2 0   0.4 #b\n",
    "    0.4 0.4 0.4 0 #+\n",
    "    ]\n",
    "\n"
   ]
  },
  {
   "cell_type": "code",
   "execution_count": 87,
   "metadata": {},
   "outputs": [
    {
     "data": {
      "text/plain": [
       "1×4 Matrix{Float64}:\n",
       " 1.0  1.0  1.0  1.0"
      ]
     },
     "execution_count": 87,
     "metadata": {},
     "output_type": "execute_result"
    }
   ],
   "source": [
    "sum(rockPatMatrix, dims=1)"
   ]
  },
  {
   "cell_type": "code",
   "execution_count": 96,
   "metadata": {},
   "outputs": [
    {
     "data": {
      "text/plain": [
       "4-element Vector{Float64}:\n",
       " 0.4\n",
       " 0.4\n",
       " 0.2\n",
       " 0.0"
      ]
     },
     "execution_count": 96,
     "metadata": {},
     "output_type": "execute_result"
    }
   ],
   "source": [
    "rockPatInitial = [0.4; 0.4; 0.2; 0]"
   ]
  },
  {
   "cell_type": "code",
   "execution_count": 97,
   "metadata": {},
   "outputs": [
    {
     "data": {
      "text/plain": [
       "AugMatrix([0.0 0.4 0.4 0.4; 0.4 0.0 0.2 0.2; 0.2 0.2 0.0 0.4; 0.4 0.4 0.4 0.0], [0.4, 0.4, 0.2, 0.0])"
      ]
     },
     "execution_count": 97,
     "metadata": {},
     "output_type": "execute_result"
    }
   ],
   "source": [
    "rockPat = AugMatrix(rockPatMatrix, rockPatInitial)"
   ]
  },
  {
   "cell_type": "code",
   "execution_count": 90,
   "metadata": {},
   "outputs": [
    {
     "data": {
      "text/plain": [
       "4×4 Matrix{Float64}:\n",
       " 0.1  0.4  0.4  0.4\n",
       " 0.6  0.1  0.4  0.4\n",
       " 0.2  0.4  0.1  0.2\n",
       " 0.1  0.1  0.1  0.0"
      ]
     },
     "execution_count": 90,
     "metadata": {},
     "output_type": "execute_result"
    }
   ],
   "source": [
    "rockInstMatrix = [\n",
    "   #HH  RC  RB  ST \n",
    "    0.1 0.4 0.4   0.4   #HH\n",
    "    0.6 0.1 0.4   0.4   #RC\n",
    "    0.2 0.4 0.1   0.2   #RB\n",
    "    0.1 0.1 0.1   0     #ST\n",
    "]"
   ]
  },
  {
   "cell_type": "code",
   "execution_count": 91,
   "metadata": {},
   "outputs": [
    {
     "data": {
      "text/plain": [
       "1×4 Matrix{Float64}:\n",
       " 1.0  1.0  1.0  1.0"
      ]
     },
     "execution_count": 91,
     "metadata": {},
     "output_type": "execute_result"
    }
   ],
   "source": [
    "sum(rockInstMatrix, dims=1)"
   ]
  },
  {
   "cell_type": "code",
   "execution_count": 94,
   "metadata": {},
   "outputs": [
    {
     "data": {
      "text/plain": [
       "4-element Vector{Float64}:\n",
       " 0.5\n",
       " 0.3\n",
       " 0.0\n",
       " 0.2"
      ]
     },
     "execution_count": 94,
     "metadata": {},
     "output_type": "execute_result"
    }
   ],
   "source": [
    "rockInstInitial = [0.5; 0.3; 0; 0.2]"
   ]
  },
  {
   "cell_type": "code",
   "execution_count": 95,
   "metadata": {},
   "outputs": [
    {
     "data": {
      "text/plain": [
       "AugMatrix([0.1 0.4 0.4 0.4; 0.6 0.1 0.4 0.4; 0.2 0.4 0.1 0.2; 0.1 0.1 0.1 0.0], [0.5, 0.3, 0.0, 0.2])"
      ]
     },
     "execution_count": 95,
     "metadata": {},
     "output_type": "execute_result"
    }
   ],
   "source": [
    "rockInst = AugMatrix(rockInstMatrix, rockInstInitial)"
   ]
  },
  {
   "cell_type": "code",
   "execution_count": 122,
   "metadata": {},
   "outputs": [
    {
     "data": {
      "text/plain": [
       "\"|:!ff![N^eF]yzy[cN^eF]/2[F/2]zy [N^eF]y[F]y[cN^eF]/2[F/2]zy |[N^eF]yzy[cN^eF]y[F]y [N^eF]y[F]/2[F/2][cN^e]y[F]y |[N^eF]y[F]y[cN^eF]y[F]y [N^eF]y[F]/2[F/2][cN^e]y[F]/2[F/2] |[1c/2F/2A/2G/2 c/2e/2e/2e/2 c/2e/2G/2e/2 c/2e/2F/2e/2 :|2c/2F/2A/2G/2 c/2e/2e/2e/2 c/2e/2G/2e/2 !>(!c/2e/2!>)!F/2e/2 |:!f![^DF]y[g^DF]y[c^DF]y[g^DF]/2[F/2] [^D]y[g^DF]/2[F/2][c^D]y[g^DF]y |[^DF]/2[F/2][g^D]y[c^DF]y[g^DF]y [^D]y[g^DF]/2[F/2][c^D]y[g^DF]y |[^D]y[g^D]y[c^DF]/2[F/2][g^D]y [^DF]y[g^DF]y[c^D]y[g^DF]/2[F/2] |[1c/2G/2G/2z/2 z/2F/2G/2z/2 z/2G/2G/2G/2 e/2e/2z/2e/2 :|2c/2G/2G/2z/2 z/2F/2G/2z/2 z/2G/2G/2G/2 !>(!e/2e/2!>)!z/2e/2 |:!p![gF]y[^gF]/2[F/2][cg]y[^gF]y [gF]/2[F/2][^g]y[cgF]y[^g]y |[gF]/2[F/2][^g]y[cgF]/2[F/2][^g]y [gF]y[^gF]/2[F/2][cg]y[^g]y |[gF]/2[F/2][^g]y[cgF]/2[F/2][^g]y [gF]y[^g]y[cgF]y[^gF]/2[F/2] |[1e/2A/2F/2e/2 G/2e/2e/2A/2 A/2F/2z/2A/2 c/2c/2F/2c/2 :|2e/2A/2F/2e/2 G/2e/2e/2A/2 A/2F/2z/2A/2 !<(!c/2c/2!<)!F/2c/2 |:!ff![^eF]/2[F/2][^e]y[c^eF]/2[F/2][^e]y [^eF]/2[F/2][^e]y[c^eF]y[_e]y |[^eF]y[^e]y[c^eF]y[^e]y [^eF]/2[F/2][^e]y[c^eF]y[_e]y |[^eF]/2[F/2][^e]y[c^eF]y[^eF]/2[F/2] [^e]y[^eF]/2[F/2][c^e]y[_eF]y |[1G/2e/2e/2z/2 z/2F/2z/2G/2 z/2F/2F/2G/2 e/2e/2F/2z/2 :|2G/2e/2e/2z/2 z/2F/2z/2G/2 z/2F/2F/2G/2 !<(!e/2e/2!<)!HF/2z/2 |]\""
      ]
     },
     "execution_count": 122,
     "metadata": {},
     "output_type": "execute_result"
    }
   ],
   "source": [
    "solo = abcsolo8patinst16bass(4, rockBass, rockFill, dyn, rockPat, rockInst)"
   ]
  },
  {
   "cell_type": "code",
   "execution_count": 123,
   "metadata": {},
   "outputs": [],
   "source": [
    "writetune(\"rocktest.abc\", solo)"
   ]
  },
  {
   "cell_type": "code",
   "execution_count": 145,
   "metadata": {},
   "outputs": [
    {
     "name": "stdout",
     "output_type": "stream",
     "text": [
      "\r\n",
      "(base) C:\\Users\\holden\\Documents\\GitHub\\drum_solo_generator>abcm2ps.exe -X rocktest.abc -O rocktest.xhtml \r\n",
      "abcm2ps-8.14.12 (2021-07-14)\r\n",
      "File rocktest.abc\r\n",
      "File percussions-JBH.abh\r\n",
      "Output written on rocktest.xhtml (1 page, 1 title, 46468 bytes)\r\n",
      "\r\n",
      "(base) C:\\Users\\holden\\Documents\\GitHub\\drum_solo_generator>abc2midi.exe rocktest.abc -o rocktest.mid \r\n",
      "4.59 June 27 2021 abc2midi\r\n",
      "Warning in line-char 16-6 : instruction !>! ignored\r\n",
      "Warning in line-char 16-15 : instruction !>! ignored\r\n",
      "Warning in line-char 16-32 : instruction !>! ignored\r\n",
      "Warning in line-char 16-43 : instruction !>! ignored\r\n",
      "Warning in line-char 16-61 : instruction !>! ignored\r\n",
      "Warning in line-char 16-70 : instruction !>! ignored\r\n",
      "Warning in line-char 16-83 : instruction !>! ignored\r\n",
      "Warning in line-char 16-100 : instruction !>! ignored\r\n",
      "Warning in line-char 16-113 : instruction !>! ignored\r\n",
      "Warning in line-char 16-124 : instruction !>! ignored\r\n",
      "Warning in line-char 16-137 : instruction !>! ignored\r\n",
      "Warning in line-char 16-154 : instruction !>! ignored\r\n",
      "Error in line-char 17-1243 : File open failed\r\n",
      "\r\n",
      "(base) C:\\Users\\holden\\Documents\\GitHub\\drum_solo_generator>start rocktest.mid \r\n"
     ]
    },
    {
     "name": "stderr",
     "output_type": "stream",
     "text": [
      "rocktest.abc:16:214: warning: Line overfull (636pt of 628pt)\r\n"
     ]
    },
    {
     "name": "stdout",
     "output_type": "stream",
     "text": [
      "\r\n",
      "(base) C:\\Users\\holden\\Documents\\GitHub\\drum_solo_generator>start rocktest.xhtml \r\n"
     ]
    },
    {
     "data": {
      "text/plain": [
       "Process(`\u001b[4mabctest.bat\u001b[24m \u001b[4mrocktest.abc\u001b[24m`, ProcessExited(0))"
      ]
     },
     "execution_count": 145,
     "metadata": {},
     "output_type": "execute_result"
    }
   ],
   "source": [
    "run(`abctest.bat rocktest.abc`)"
   ]
  },
  {
   "cell_type": "code",
   "execution_count": 37,
   "metadata": {},
   "outputs": [
    {
     "data": {
      "text/plain": [
       "4×4 Matrix{Float64}:\n",
       " 0.1  0.333333  0.25  0.5\n",
       " 0.3  0.333333  0.25  0.5\n",
       " 0.3  0.333333  0.25  0.0\n",
       " 0.3  0.0       0.25  0.0"
      ]
     },
     "execution_count": 37,
     "metadata": {},
     "output_type": "execute_result"
    }
   ],
   "source": [
    "funkBassMatrix = [0.1e0 1//3 0.25e0 0.5e0; 0.3e0 1//3 0.25e0 0.5e0; 0.3e0 1//3 0.25e0 0; 0.3e0 0 0.25e0 0]"
   ]
  },
  {
   "cell_type": "code",
   "execution_count": 38,
   "metadata": {},
   "outputs": [
    {
     "data": {
      "text/plain": [
       "4-element Vector{Float64}:\n",
       " 0.1\n",
       " 0.1\n",
       " 0.4\n",
       " 0.4"
      ]
     },
     "execution_count": 38,
     "metadata": {},
     "output_type": "execute_result"
    }
   ],
   "source": [
    "funkBassInitial = [0.1e0,0.1e0,0.4e0,0.4e0]"
   ]
  },
  {
   "cell_type": "code",
   "execution_count": 39,
   "metadata": {},
   "outputs": [
    {
     "data": {
      "text/plain": [
       "AugMatrix([0.1 0.3333333333333333 0.25 0.5; 0.3 0.3333333333333333 0.25 0.5; 0.3 0.3333333333333333 0.25 0.0; 0.3 0.0 0.25 0.0], [0.1, 0.1, 0.4, 0.4])"
      ]
     },
     "execution_count": 39,
     "metadata": {},
     "output_type": "execute_result"
    }
   ],
   "source": [
    "funkBass = AugMatrix(funkBassMatrix, funkBassInitial)"
   ]
  },
  {
   "cell_type": "code",
   "execution_count": 40,
   "metadata": {},
   "outputs": [
    {
     "data": {
      "text/plain": [
       "6×6 Matrix{Float64}:\n",
       " 0.2  0.1  0.1  0.0  0.3  0.2\n",
       " 0.4  0.2  0.0  0.3  0.3  0.2\n",
       " 0.1  0.4  0.2  0.1  0.1  0.2\n",
       " 0.1  0.1  0.4  0.3  0.1  0.2\n",
       " 0.1  0.1  0.1  0.2  0.1  0.1\n",
       " 0.1  0.1  0.2  0.1  0.1  0.1"
      ]
     },
     "execution_count": 40,
     "metadata": {},
     "output_type": "execute_result"
    }
   ],
   "source": [
    "funkFillLeftToRight = [0.2e0 0.1e0 0.1e0 0 0.3e0 0.2e0; 0.4e0 0.2e0 0 0.3e0 0.3e0 0.2e0; 0.1e0 0.4e0 0.2e0 0.1e0 0.1e0 0.2e0; 0.1e0 0.1e0 0.4e0 0.3e0 0.1e0 0.2e0; 0.1e0 0.1e0 0.1e0 0.2e0 0.1e0 0.1e0; 0.1e0 0.1e0 0.2e0 0.1e0 0.1e0 0.1e0]"
   ]
  },
  {
   "cell_type": "code",
   "execution_count": 41,
   "metadata": {},
   "outputs": [
    {
     "data": {
      "text/plain": [
       "6×6 Matrix{Float64}:\n",
       " 0.4  0.2  0.1  0.1  0.3  0.2\n",
       " 0.2  0.4  0.2  0.2  0.2  0.2\n",
       " 0.1  0.0  0.4  0.1  0.1  0.2\n",
       " 0.0  0.1  0.1  0.4  0.1  0.2\n",
       " 0.2  0.1  0.1  0.1  0.2  0.1\n",
       " 0.1  0.2  0.1  0.1  0.1  0.1"
      ]
     },
     "execution_count": 41,
     "metadata": {},
     "output_type": "execute_result"
    }
   ],
   "source": [
    "funkFillRightToLeft = [0.4e0 0.2e0 0.1e0 0.1e0 0.3e0 0.2e0; 0.2e0 0.4e0 0.2e0 0.2e0 0.2e0 0.2e0; 0.1e0 0 0.4e0 0.1e0 0.1e0 0.2e0; 0 0.1e0 0.1e0 0.4e0 0.1e0 0.2e0; 0.2e0 0.1e0 0.1e0 0.1e0 0.2e0 0.1e0; 0.1e0 0.2e0 0.1e0 0.1e0 0.1e0 0.1e0]\n"
   ]
  },
  {
   "cell_type": "code",
   "execution_count": 42,
   "metadata": {},
   "outputs": [
    {
     "data": {
      "text/plain": [
       "6-element Vector{Float64}:\n",
       " 0.3\n",
       " 0.3\n",
       " 0.1\n",
       " 0.1\n",
       " 0.1\n",
       " 0.1"
      ]
     },
     "execution_count": 42,
     "metadata": {},
     "output_type": "execute_result"
    }
   ],
   "source": [
    "funkFillInitial = [0.3e0,0.3e0,0.1e0,0.1e0,0.1e0,0.1e0]"
   ]
  },
  {
   "cell_type": "code",
   "execution_count": 43,
   "metadata": {},
   "outputs": [
    {
     "data": {
      "text/plain": [
       "AugDblMatrix([0.2 0.1 … 0.3 0.2; 0.4 0.2 … 0.3 0.2; … ; 0.1 0.1 … 0.1 0.1; 0.1 0.1 … 0.1 0.1], [0.4 0.2 … 0.3 0.2; 0.2 0.4 … 0.2 0.2; … ; 0.2 0.1 … 0.2 0.1; 0.1 0.2 … 0.1 0.1], [0.3, 0.3, 0.1, 0.1, 0.1, 0.1])"
      ]
     },
     "execution_count": 43,
     "metadata": {},
     "output_type": "execute_result"
    }
   ],
   "source": [
    "funkFill = AugDblMatrix(funkFillLeftToRight, funkFillRightToLeft, funkFillInitial)"
   ]
  },
  {
   "cell_type": "code",
   "execution_count": 44,
   "metadata": {},
   "outputs": [
    {
     "data": {
      "text/plain": [
       "10×10 Matrix{Float64}:\n",
       " 0.0  0.1  0.1  0.1  0.2  0.2  0.2  0.2  0.0  0.2\n",
       " 0.2  0.0  0.2  0.2  0.1  0.2  0.2  0.2  0.2  0.1\n",
       " 0.1  0.1  0.0  0.0  0.1  0.1  0.1  0.1  0.1  0.1\n",
       " 0.1  0.1  0.0  0.0  0.1  0.1  0.1  0.1  0.1  0.1\n",
       " 0.2  0.2  0.2  0.2  0.0  0.1  0.1  0.1  0.2  0.0\n",
       " 0.1  0.1  0.1  0.1  0.1  0.0  0.1  0.1  0.1  0.1\n",
       " 0.1  0.1  0.1  0.1  0.1  0.0  0.0  0.0  0.1  0.1\n",
       " 0.1  0.1  0.1  0.1  0.1  0.0  0.0  0.0  0.1  0.1\n",
       " 0.0  0.1  0.1  0.1  0.2  0.1  0.1  0.1  0.0  0.2\n",
       " 0.1  0.1  0.1  0.1  0.0  0.2  0.1  0.1  0.1  0.0"
      ]
     },
     "execution_count": 44,
     "metadata": {},
     "output_type": "execute_result"
    }
   ],
   "source": [
    "funkRideMatrix = [0 0.1e0 0.1e0 0.1e0 0.2e0 0.2e0 0.2e0 0.2e0 0 0.2e0; 0.2e0 0 0.2e0 0.2e0 0.1e0 0.2e0 0.2e0 0.2e0 0.2e0 0.1e0; 0.1e0 0.1e0 0 0 0.1e0 0.1e0 0.1e0 0.1e0 0.1e0 0.1e0; 0.1e0 0.1e0 0 0 0.1e0 0.1e0 0.1e0 0.1e0 0.1e0 0.1e0; 0.2e0 0.2e0 0.2e0 0.2e0 0 0.1e0 0.1e0 0.1e0 0.2e0 0; 0.1e0 0.1e0 0.1e0 0.1e0 0.1e0 0 0.1e0 0.1e0 0.1e0 0.1e0; 0.1e0 0.1e0 0.1e0 0.1e0 0.1e0 0 0 0 0.1e0 0.1e0; 0.1e0 0.1e0 0.1e0 0.1e0 0.1e0 0 0 0 0.1e0 0.1e0; 0 0.1e0 0.1e0 0.1e0 0.2e0 0.1e0 0.1e0 0.1e0 0 0.2e0; 0.1e0 0.1e0 0.1e0 0.1e0 0 0.2e0 0.1e0 0.1e0 0.1e0 0]\n"
   ]
  },
  {
   "cell_type": "code",
   "execution_count": 45,
   "metadata": {},
   "outputs": [
    {
     "data": {
      "text/plain": [
       "10-element Vector{Float64}:\n",
       " 0.2\n",
       " 0.2\n",
       " 0.0\n",
       " 0.0\n",
       " 0.1\n",
       " 0.1\n",
       " 0.1\n",
       " 0.1\n",
       " 0.2\n",
       " 0.0"
      ]
     },
     "execution_count": 45,
     "metadata": {},
     "output_type": "execute_result"
    }
   ],
   "source": [
    "funkRideInitial = [0.2e0,0.2e0,0,0,0.1e0,0.1e0,0.1e0,0.1e0,0.2e0,0]"
   ]
  },
  {
   "cell_type": "code",
   "execution_count": 46,
   "metadata": {},
   "outputs": [
    {
     "data": {
      "text/plain": [
       "AugMatrix([0.0 0.1 … 0.0 0.2; 0.2 0.0 … 0.2 0.1; … ; 0.0 0.1 … 0.0 0.2; 0.1 0.1 … 0.1 0.0], [0.2, 0.2, 0.0, 0.0, 0.1, 0.1, 0.1, 0.1, 0.2, 0.0])"
      ]
     },
     "execution_count": 46,
     "metadata": {},
     "output_type": "execute_result"
    }
   ],
   "source": [
    "funkRide = AugMatrix(funkRideMatrix, funkRideInitial)"
   ]
  },
  {
   "cell_type": "code",
   "execution_count": 48,
   "metadata": {},
   "outputs": [
    {
     "data": {
      "text/plain": [
       "\"|:!p!!>![I: volinc 50][^e]/2[F/2]!anti![I: volinc -20][^e]y!>![I: volinc 50][c^e]y!anti![I: volinc -20][^eF]/2[F/2] !>![I: volinc 50][^e]/2[F/2]!anti![I: volinc -20][^e]/2[F/2]!>![I: volinc 50][c^e]y!anti![I: volinc -20][^eF]/2[F/2] |!>![I: volinc 50][^e]y!anti![I: volinc -20][^eF]/2[F/2]!>![I: volinc 50][c^e]/2[F/2]!anti![I: volinc -20][^e]y !>![I: volinc 50][^e]/2[F/2]!anti![I: volinc -20][^e]/2[F/2]!>![I: volinc 50][c^eF]y!anti![I: volinc -20][^eF]y |!>![I: volinc 50][^eF]y!anti![I: volinc -20][^eF]/2[F/2]!>![I: volinc 50][c^e]/2[F/2]!anti![I: volinc -20][^eF]y !>![I: volinc 50][^e]y!anti![I: volinc -20][^e]/2[F/2]!>![I: volinc 50][c^e]/2[F/2]!anti![I: volinc -20][^e]y |[1e/2A/2e/2c/2 c/2F/2c/2z/2 c/2G/2G/2e/2 c/2c/2c/2G/2 :|2e/2A/2e/2c/2 c/2F/2c/2z/2 c/2G/2G/2e/2 !>(!c/2c/2!>)!c/2G/2 |:!f![^gF]yz/2[F/2][c^g]/2[F/2]z/2[F/2] [^g]y[F]/2[F/2][c^g]yz/2[F/2] |[^gF]y[F]y[c^gF]/2[F/2]zy [^gF]y[F]y[c^gF]yz/2[F/2] |[^g]/2[F/2]z/2[F/2][c^gF]yz/2[F/2] [^gF]yz/2[F/2][c^g]yz/2[F/2] |[1c/2F/2e/2e/2 z/2F/2F/2c/2 e/2A/2z/2G/2 G/2A/2e/2z/2 :|2c/2F/2e/2e/2 z/2F/2F/2c/2 e/2A/2z/2G/2 !<(!G/2A/2!<)!e/2z/2 |:!mf!!>![I: volinc 50][^eF]/2[F/2]!anti![I: volinc -20][^e]y!>![I: volinc 50][c^eF]/2[F/2]!anti![I: volinc -20][^e]y !>![I: volinc 50][^eF]y!anti![I: volinc -20][^eF]/2[F/2]!>![I: volinc 50][c^e]y!anti![I: volinc -20][^eF]/2[F/2] |!>![I: volinc 50][^e]/2[F/2]!anti![I: volinc -20][^e]y!>![I: volinc 50][c^eF]/2[F/2]!anti![I: volinc -20][^e]y !>![I: volinc 50][^eF]y!anti![I: volinc -20][^eF]/2[F/2]!>![I: volinc 50][c^e]/2[F/2]!anti![I: volinc -20][^e]/2[F/2] |!>![I: volinc 50][^eF]y!anti![I: volinc -20][^e]y!>![I: volinc 50][c^eF]/2[F/2]!anti![I: volinc -20][^e]/2[F/2] !>![I: volinc 50][^e]/2[F/2]!anti![I: volinc -20][^e]y!>![I: volinc 50][c^e]/2[F/2]!anti![I: volinc -20][^e]/2[F/2] |[1c/2c/2c/2e/2 e/2A/2z/2e/2 e/2G/2c/2F/2 G/2F/2z/2A/2 :|2c/2c/2c/2e/2 e/2A/2z/2e/2 e/2G/2c/2F/2 !>(!G/2F/2!>)!z/2A/2 |:!p![^eF]y[^e]y[c^e]/2[F/2][^eF]y [^e]/2[F/2][_e]y[c^eF]y[_eF]y |[^e]y[^eF]/2[F/2][c^e]y[^eF]y [^e]/2[F/2][_e]/2[F/2][c^e]y[_e]/2[F/2] |[^eF]y[^e]y[c^eF]y[^eF]y [^e]y[_eF]y[c^e]y[_e]/2[F/2] |[1F/2e/2F/2z/2 G/2F/2F/2A/2 c/2z/2c/2F/2 z/2c/2c/2c/2 :|2F/2e/2F/2z/2 G/2F/2F/2A/2 c/2z/2c/2F/2 !>(!z/2c/2!>)!c/2Hc/2 |]\""
      ]
     },
     "execution_count": 48,
     "metadata": {},
     "output_type": "execute_result"
    }
   ],
   "source": [
    "funksolo = abcsolo8ride16bass(4, funkBass, funkFill, dyn, funkRide)"
   ]
  },
  {
   "cell_type": "code",
   "execution_count": 49,
   "metadata": {},
   "outputs": [],
   "source": [
    "writetune(\"funktest.abc\", funksolo)"
   ]
  },
  {
   "cell_type": "code",
   "execution_count": 50,
   "metadata": {},
   "outputs": [
    {
     "name": "stdout",
     "output_type": "stream",
     "text": [
      "\r\n",
      "(base) C:\\Users\\holden\\Documents\\GitHub\\drum_solo_generator>abcm2ps.exe -X funktest.abc -O funktest.xhtml \r\n",
      "abcm2ps-8.14.12 (2021-07-14)\r\n",
      "File funktest.abc\r\n",
      "File percussions-JBH.abh\r\n",
      "Output written on funktest.xhtml (1 page, 1 title, 49701 bytes)\r\n",
      "\r\n",
      "(base) C:\\Users\\holden\\Documents\\GitHub\\drum_solo_generator>abc2midi.exe funktest.abc -o funktest.mid \r\n",
      "4.59 June 27 2021 abc2midi\r\n",
      "Warning in line-char 15-5 : instruction !>! ignored\r\n",
      "Warning in line-char 15-33 : instruction !anti! ignored\r\n",
      "Warning in line-char 15-59 : instruction !>! ignored\r\n",
      "Warning in line-char 15-82 : instruction !anti! ignored\r\n",
      "Warning in line-char 15-116 : instruction !>! ignored\r\n",
      "Warning in line-char 15-144 : instruction !anti! ignored\r\n",
      "Warning in line-char 15-176 : instruction !>! ignored\r\n",
      "Warning in line-char 15-199 : instruction !anti! ignored\r\n",
      "Warning in line-char 15-234 : instruction !>! ignored\r\n",
      "Warning in line-char 15-256 : instruction !anti! ignored\r\n",
      "Warning in line-char 15-289 : instruction !>! ignored\r\n",
      "Warning in line-char 15-318 : instruction !anti! ignored\r\n",
      "Warning in line-char 15-345 : instruction !>! ignored\r\n",
      "Warning in line-char 15-373 : instruction !anti! ignored\r\n",
      "Warning in line-char 15-405 : instruction !>! ignored\r\n",
      "Warning in line-char 15-429 : instruction !anti! ignored\r\n",
      "Warning in line-char 15-458 : instruction !>! ignored\r\n",
      "Warning in line-char 15-481 : instruction !anti! ignored\r\n",
      "Warning in line-char 15-514 : instruction !>! ignored\r\n",
      "Warning in line-char 15-543 : instruction !anti! ignored\r\n",
      "Warning in line-char 15-571 : instruction !>! ignored\r\n",
      "Warning in line-char 15-593 : instruction !anti! ignored\r\n",
      "Warning in line-char 15-625 : instruction !>! ignored\r\n",
      "Warning in line-char 15-654 : instruction !anti! ignored\r\n",
      "Warning in line-char 15-1111 : instruction !>! ignored\r\n",
      "Warning in line-char 15-1140 : instruction !anti! ignored\r\n",
      "Warning in line-char 15-1166 : instruction !>! ignored\r\n",
      "Warning in line-char 15-1196 : instruction !anti! ignored\r\n",
      "Warning in line-char 15-1223 : instruction !>! ignored\r\n",
      "Warning in line-char 15-1246 : instruction !anti! ignored\r\n",
      "Warning in line-char 15-1279 : instruction !>! ignored\r\n",
      "Warning in line-char 15-1302 : instruction !anti! ignored\r\n",
      "Warning in line-char 15-1337 : instruction !>! ignored\r\n",
      "Warning in line-char 15-1365 : instruction !anti! ignored\r\n",
      "Warning in line-char 15-1391 : instruction !>! ignored\r\n",
      "Warning in line-char 15-1421 : instruction !anti! ignored\r\n",
      "Warning in line-char 15-1448 : instruction !>! ignored\r\n",
      "Warning in line-char 15-1471 : instruction !anti! ignored\r\n",
      "Warning in line-char 15-1504 : instruction !>! ignored\r\n",
      "Warning in line-char 15-1533 : instruction !anti! ignored\r\n",
      "Warning in line-char 15-1567 : instruction !>! ignored\r\n",
      "Warning in line-char 15-1590 : instruction !anti! ignored\r\n",
      "Warning in line-char 15-1616 : instruction !>! ignored\r\n",
      "Warning in line-char 15-1646 : instruction !anti! ignored\r\n",
      "Warning in line-char 15-1679 : instruction !>! ignored\r\n",
      "Warning in line-char 15-1707 : instruction !anti! ignored\r\n",
      "Warning in line-char 15-1733 : instruction !>! ignored\r\n",
      "Warning in line-char 15-1762 : instruction !anti! ignored\r\n",
      "writing MIDI file funktest.mid\r\n",
      "Warning in line-char 15-2223 : Track 1 Bar 19 has 9/2 units instead of 4 in repeat\r\n",
      "\r\n",
      "(base) C:\\Users\\holden\\Documents\\GitHub\\drum_solo_generator>start funktest.mid \r\n"
     ]
    },
    {
     "name": "stderr",
     "output_type": "stream",
     "text": [
      "funktest.abc:15:726: warning: Line overfull (637pt of 628pt)\r\n"
     ]
    },
    {
     "name": "stdout",
     "output_type": "stream",
     "text": [
      "\r\n",
      "(base) C:\\Users\\holden\\Documents\\GitHub\\drum_solo_generator>start funktest.xhtml \r\n"
     ]
    },
    {
     "data": {
      "text/plain": [
       "Process(`\u001b[4mabctest.bat\u001b[24m \u001b[4mfunktest.abc\u001b[24m`, ProcessExited(0))"
      ]
     },
     "execution_count": 50,
     "metadata": {},
     "output_type": "execute_result"
    }
   ],
   "source": [
    "run(`abctest.bat funktest.abc`)"
   ]
  },
  {
   "cell_type": "code",
   "execution_count": null,
   "metadata": {},
   "outputs": [],
   "source": []
  }
 ],
 "metadata": {
  "kernelspec": {
   "display_name": "Julia 1.6.3",
   "language": "julia",
   "name": "julia-1.6"
  },
  "language_info": {
   "file_extension": ".jl",
   "mimetype": "application/julia",
   "name": "julia",
   "version": "1.6.3"
  }
 },
 "nbformat": 4,
 "nbformat_minor": 4
}
