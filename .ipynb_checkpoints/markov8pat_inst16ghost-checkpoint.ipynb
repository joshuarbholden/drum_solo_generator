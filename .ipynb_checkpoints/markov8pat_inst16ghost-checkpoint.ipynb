{
 "cells": [
  {
   "cell_type": "code",
   "execution_count": 1,
   "metadata": {},
   "outputs": [
    {
     "data": {
      "text/plain": [
       "markovrand (generic function with 1 method)"
      ]
     },
     "execution_count": 1,
     "metadata": {},
     "output_type": "execute_result"
    }
   ],
   "source": [
    "#input a vector corresponding to a probability distribution and output an index according to that distribution\n",
    "function markovrand(nextv)\n",
    "    if round(sum(nextv), digits = 6) != 1.0\n",
    "        error(nextv, \" is not a stochastic vector\")\n",
    "    end\n",
    "    maxstates = length(nextv) - 1\n",
    "    r = rand(Float64)\n",
    "    current = maxstates\n",
    "    for i = 0:maxstates\n",
    "        if r <= nextv[i + 1]\n",
    "            current = i\n",
    "            break\n",
    "        else\n",
    "            r = r - nextv[i + 1]\n",
    "        end\n",
    "    end\n",
    "    return(current)\n",
    "end\n"
   ]
  },
  {
   "cell_type": "code",
   "execution_count": 2,
   "metadata": {},
   "outputs": [],
   "source": [
    "struct AugMatrix\n",
    "    mat::Matrix\n",
    "    init::Vector\n",
    "end\n",
    "\n",
    "struct AugDblMatrix\n",
    "    mat1::Matrix\n",
    "    mat2::Matrix\n",
    "    init::Vector\n",
    "end"
   ]
  },
  {
   "cell_type": "code",
   "execution_count": 4,
   "metadata": {},
   "outputs": [
    {
     "data": {
      "text/plain": [
       "ghostbassgen16pairs (generic function with 1 method)"
      ]
     },
     "execution_count": 4,
     "metadata": {},
     "output_type": "execute_result"
    }
   ],
   "source": [
    "#output bass notes in $beats pairs of sixteenth notes\n",
    "function ghostbassgen16pairs(beats::Int, trans::AugMatrix)\n",
    "    transmat = trans.mat\n",
    "    iv = trans.init\n",
    "    nextv = iv\n",
    "    L = []\n",
    "    for j = 1:beats\n",
    "        current = markovrand(nextv)\n",
    "#print(current, \" \")\n",
    "        append!(L, [current])\n",
    "        nextv = transmat[:, current + 1]\n",
    "    end\n",
    "    return(L)\n",
    "end"
   ]
  },
  {
   "cell_type": "code",
   "execution_count": 5,
   "metadata": {},
   "outputs": [
    {
     "data": {
      "text/plain": [
       "9×9 Matrix{Float64}:\n",
       " 0.1  0.2  0.2  0.2   0.8  0.1  0.0  0.0  0.0\n",
       " 0.0  0.2  0.0  0.0   0.0  0.0  0.0  0.0  0.0\n",
       " 0.0  0.2  0.2  0.1   0.2  0.0  0.0  0.0  0.0\n",
       " 0.3  0.2  0.1  0.25  0.0  0.2  0.0  0.0  0.0\n",
       " 0.3  0.0  0.1  0.25  0.0  0.2  0.0  0.0  0.0\n",
       " 0.3  0.2  0.4  0.2   0.0  0.5  0.0  0.0  0.0\n",
       " 0.0  0.0  0.0  0.0   0.0  0.0  0.0  0.0  0.0\n",
       " 0.0  0.0  0.0  0.0   0.0  0.0  0.0  0.0  0.0\n",
       " 0.0  0.0  0.0  0.0   0.0  0.0  0.0  0.0  0.0"
      ]
     },
     "execution_count": 5,
     "metadata": {},
     "output_type": "execute_result"
    }
   ],
   "source": [
    "#0 = rest, 1 = bass, 2 = LH\n",
    "                #00    #01  #02   #10  #11  #12  #zeros\n",
    "rockBassMatrix = [0.1e0 0.2  0.2   0.2  0.8    0.1 0 0 0 #00\n",
    "                    0   0.2  0     0    0    0    0 0 0  #01\n",
    "                    0   0.2  0.2   0.1  0.2    0    0 0 0  #02\n",
    "                    0.3 0.2  0.1   0.25 0    0.2 0 0 0  #10\n",
    "                    0.3 0    0.1   0.25 0    0.2 0 0 0  #11\n",
    "                    0.3 0.2  0.4   0.2 0    0.5 0 0 0    #12\n",
    "                    zeros(3,9)]                 #zeros"
   ]
  },
  {
   "cell_type": "code",
   "execution_count": 6,
   "metadata": {},
   "outputs": [
    {
     "data": {
      "text/plain": [
       "9-element Vector{Float64}:\n",
       " 0.1\n",
       " 0.0\n",
       " 0.0\n",
       " 0.3\n",
       " 0.3\n",
       " 0.3\n",
       " 0.0\n",
       " 0.0\n",
       " 0.0"
      ]
     },
     "execution_count": 6,
     "metadata": {},
     "output_type": "execute_result"
    }
   ],
   "source": [
    "rockBassInitial = [0.1,0,0, 0.3,0.3, 0.3, 0, 0, 0]"
   ]
  },
  {
   "cell_type": "code",
   "execution_count": 7,
   "metadata": {},
   "outputs": [
    {
     "data": {
      "text/plain": [
       "AugMatrix([0.1 0.2 … 0.0 0.0; 0.0 0.2 … 0.0 0.0; … ; 0.0 0.0 … 0.0 0.0; 0.0 0.0 … 0.0 0.0], [0.1, 0.0, 0.0, 0.3, 0.3, 0.3, 0.0, 0.0, 0.0])"
      ]
     },
     "execution_count": 7,
     "metadata": {},
     "output_type": "execute_result"
    }
   ],
   "source": [
    "rockBass = AugMatrix(rockBassMatrix, rockBassInitial)"
   ]
  },
  {
   "cell_type": "code",
   "execution_count": 8,
   "metadata": {},
   "outputs": [
    {
     "data": {
      "text/plain": [
       "8-element Vector{Any}:\n",
       " 4\n",
       " 2\n",
       " 3\n",
       " 0\n",
       " 3\n",
       " 0\n",
       " 5\n",
       " 3"
      ]
     },
     "execution_count": 8,
     "metadata": {},
     "output_type": "execute_result"
    }
   ],
   "source": [
    "#test\n",
    "ghostbassgen16pairs(8, rockBass)"
   ]
  },
  {
   "cell_type": "code",
   "execution_count": 72,
   "metadata": {},
   "outputs": [
    {
     "data": {
      "text/plain": [
       "lookup8ride (generic function with 1 method)"
      ]
     },
     "execution_count": 72,
     "metadata": {},
     "output_type": "execute_result"
    }
   ],
   "source": [
    "function lookup8ride()::Matrix\n",
    "    r = Matrix(undef, 4, 4)\n",
    "    r[1,1] = [\"!N![^e\",\"[\",\"!N![c^e\",\"[\",\"!N![^e\",\"[\",\"!N![c^e\",\"[\"] #hihat Quarters, trash #2\n",
    "    #NB Windows midi doesn't have a good way of making a trash hat?  !N! defined as tenuto mark in header.abc\n",
    "    r[2,1] = [\"[^e\",\"[^e\",\"[c^e\",\"[^e\",\"[^e\",\"[^e\",\"[c^e\",\"[^e\"] #hihat 8, #1\n",
    "    r[3,1] = [\"!>![^e\",\"!U![^e\",\"!>![c^e\",\"!U![^e\",\"!>![^e\",\"!U![^e\",\"!>![c^e\",\"!U![^e\"] #drive #8, !U! defined as antiaccent mark\n",
    "    r[4,1] = [\"[^e\",\"[^e\",\"[c^e\",\"[^e\",\"[^e\",\"[^e\",\"[c^e\",\"[_e\"] #slide last and #7\n",
    "#    r[6] = [\"[^e\",\"[_e\",\"[c^e\",\"[_e\",\"[^e\",\"[_e\",\"[c^e\",\"[_e\"] #slide every and #6\n",
    "#    r[7] = [\"[^e\",\"[^e\",\"[c^e\",\"[^e\",\"[^e\",\"[_e\",\"[c^e\",\"[_e\"]  #slide last 2 ands #7\n",
    "#    r[8] = [\"[^e\",\"[^e\",\"[c^e\",\"[^e\",\"[^e\",\"[^e\",\"[c^e\",\"[_e\"] #slide last and #7\n",
    "    r[1,2] = [\"[^g\",\"[\",\"[c^g\",\"[\",\"[^g\",\"[\",\"[c^g\",\"[\"] #ride quarter #2\n",
    "    r[2,2] = [\"[^g\",\"[^g\",\"[c^g\",\"[^g\",\"[^g\",\"[^g\",\"[c^g\",\"[^g\"] #ride 8, #1\n",
    "    r[3,2] = [\"[^g^D\",\"[^g\",\"[c^g^D\",\"[^g\",\"[^g^D\",\"[^g\",\"[c^g^D\",\"[^g\"] #ride 8 with step beats, #3\n",
    "    r[4,2] = [\"[^g\",\"[^g^D\",\"[c^g\",\"[^g^D\",\"[^g\",\"[^g^D\",\"[c^g\",\"[^g^D\"] #ride 8 with step ands, #4\n",
    "    r[1,3] = [\"[g\",\"[\",\"[cg\",\"[\",\"[g\",\"[\",\"[cg\",\"[\"] #bell Q, #2\n",
    "    r[2,3] = [\"[g\",\"[g\",\"[cg\",\"[g\",\"[g\",\"[g\",\"[cg\",\"[g\"] #bell 8, #1\n",
    "    r[3,3] = [\"[g\",\"[^g\",\"[cg\",\"[^g\",\"[g\",\"[^g\",\"[cg\",\"[^g\"] #bell drive, offbeat ride\n",
    "    r[4,3] = [\"[\",\"[g\",\"[c\",\"[g\",\"[\",\"[g\",\"[c\",\"[g\"] #bell ands, #5\n",
    "    r[1,4] = [\"[^D\",\"[\",\"[c^D\",\"[\",\"[^D\",\"[\",\"[c^D\",\"[\"]  #step Q, #2\n",
    "    r[2,4] = [\"[^D\",\"[^D\",\"[c^D\",\"[^D\",\"[^D\",\"[^D\",\"[c^D\",\"[^D\"] #step 8, #1\n",
    "    r[3,4] = [\"[g^D\",\"[^D\",\"[cg^D\",\"[^D\",\"[g^D\",\"[^D\",\"[cg^D\",\"[^D\"] #step 8 with bell beats, #9\n",
    "    r[4,4] = [\"[^D\",\"[g^D\",\"[c^D\",\"[g^D\",\"[^D\",\"[g^D\",\"[c^D\",\"[g^D\"] #step 8 with bell ands\n",
    "    return(r)\n",
    "end\n"
   ]
  },
  {
   "cell_type": "code",
   "execution_count": 23,
   "metadata": {},
   "outputs": [
    {
     "data": {
      "text/plain": [
       "abctime8patinst16ghost (generic function with 1 method)"
      ]
     },
     "execution_count": 23,
     "metadata": {},
     "output_type": "execute_result"
    }
   ],
   "source": [
    "#input a sixteenth note bass rhythm and an 8th note ride pattern, output abc notation\n",
    "function abctime8patinst16ghost(L, pattern, instr)\n",
    "    n = length(L)\n",
    "    r = lookup8ride()\n",
    "    c = [\"]y\", \"]/2[F/2]\", \"]/2[!Q!c/2]\", \"F]y\", \"F]/2[F/2]\", \"F]/2[!Q!c/2]\"] #nothing, rest-kick, rest-ghost snare, kick-rest, kick-kick, kick-ghost\n",
    " #should never try to index more than 6 elements of c!\n",
    "    m = [c[L[i] + 1] for i = 1:n]\n",
    "    s = \"\"\n",
    "    for i = 1:n\n",
    "        s = s * r[pattern, instr][(i - 1) % 8 + 1] * m[i]\n",
    "        if i % 4 == 0\n",
    "            s = s * \" \"\n",
    "        end\n",
    "        if i % 8 == 0\n",
    "            s = s * \"|\\n\"\n",
    "        end\n",
    "    end\n",
    "    return(s)\n",
    "end\n"
   ]
  },
  {
   "cell_type": "code",
   "execution_count": 24,
   "metadata": {},
   "outputs": [
    {
     "data": {
      "text/plain": [
       "\"!N![^eF]/2[!Q!c/2][F]y!N![c^eF]/2[F/2][]y !N![^eF]y[F]/2[!Q!c/2]!N![c^eF]y[]y |\\n\""
      ]
     },
     "execution_count": 24,
     "metadata": {},
     "output_type": "execute_result"
    }
   ],
   "source": [
    "#test\n",
    "abctime8patinst16ghost(bassgen16pairs(8, rockBass), 1, 1)"
   ]
  },
  {
   "cell_type": "code",
   "execution_count": 25,
   "metadata": {},
   "outputs": [
    {
     "data": {
      "text/plain": [
       "fill16gen (generic function with 1 method)"
      ]
     },
     "execution_count": 25,
     "metadata": {},
     "output_type": "execute_result"
    }
   ],
   "source": [
    "#output linear fill in $beats number of sixteenth notes\n",
    "function fill16gen(\n",
    "  beats::Int,\n",
    "  trans::AugDblMatrix)\n",
    "    nextv = trans.init\n",
    "    L = []\n",
    "    for j = 1:beats\n",
    "        current = markovrand(nextv)\n",
    "        append!(L,current)\n",
    "        if j % 2 == 1\n",
    "            nextv = trans.mat1[1:6, current + 1]\n",
    "        else\n",
    "            nextv = trans.mat2[1:6, current + 1]\n",
    "        end\n",
    "    end\n",
    "    return(L)\n",
    "end\n"
   ]
  },
  {
   "cell_type": "code",
   "execution_count": 26,
   "metadata": {},
   "outputs": [
    {
     "data": {
      "text/plain": [
       "6×6 Matrix{Float64}:\n",
       " 0.2  0.1  0.2  0.0  0.3  0.2\n",
       " 0.4  0.2  0.0  0.3  0.3  0.2\n",
       " 0.1  0.4  0.2  0.1  0.1  0.2\n",
       " 0.1  0.1  0.4  0.3  0.1  0.2\n",
       " 0.1  0.1  0.2  0.2  0.1  0.2\n",
       " 0.1  0.1  0.0  0.1  0.1  0.0"
      ]
     },
     "execution_count": 26,
     "metadata": {},
     "output_type": "execute_result"
    }
   ],
   "source": [
    "rockFillLeftToRight = [\n",
    "    0.2e0 0.1e0 0.2e0 0 0.3e0 0.2e0; \n",
    "    0.4e0 0.2e0 0 0.3e0 0.3e0 0.2e0; \n",
    "    0.1e0 0.4e0 0.2e0 0.1e0 0.1e0 0.2e0; \n",
    "    0.1e0 0.1e0 0.4e0 0.3e0 0.1e0 0.2e0; \n",
    "    0.1e0 0.1e0 0.2e0 0.2e0 0.1e0 0.2e0; \n",
    "    0.1e0 0.1e0 0 0.1e0 0.1e0 0]"
   ]
  },
  {
   "cell_type": "code",
   "execution_count": 27,
   "metadata": {},
   "outputs": [
    {
     "data": {
      "text/plain": [
       "6×6 Matrix{Float64}:\n",
       " 0.4  0.2  0.1  0.1  0.3  0.0\n",
       " 0.2  0.4  0.2  0.2  0.2  0.0\n",
       " 0.1  0.0  0.4  0.1  0.1  0.0\n",
       " 0.0  0.1  0.1  0.4  0.1  0.0\n",
       " 0.2  0.1  0.1  0.1  0.2  0.0\n",
       " 0.1  0.2  0.1  0.1  0.1  1.0"
      ]
     },
     "execution_count": 27,
     "metadata": {},
     "output_type": "execute_result"
    }
   ],
   "source": [
    "rockFillRightToLeft = [\n",
    "    0.4e0 0.2e0 0.1e0 0.1e0 0.3e0 0\n",
    "    0.2e0 0.4e0 0.2e0 0.2e0 0.2e0 0\n",
    "    0.1e0 0 0.4e0 0.1e0 0.1e0 0\n",
    "    0 0.1e0 0.1e0 0.4e0 0.1e0 0\n",
    "    0.2e0 0.1e0 0.1e0 0.1e0 0.2e0 0\n",
    "    0.1e0 0.2e0 0.1e0 0.1e0 0.1e0 0.10e1]\n"
   ]
  },
  {
   "cell_type": "code",
   "execution_count": 28,
   "metadata": {},
   "outputs": [
    {
     "data": {
      "text/plain": [
       "6-element Vector{Float64}:\n",
       " 0.4\n",
       " 0.4\n",
       " 0.1\n",
       " 0.1\n",
       " 0.0\n",
       " 0.0"
      ]
     },
     "execution_count": 28,
     "metadata": {},
     "output_type": "execute_result"
    }
   ],
   "source": [
    "rockFillInitial = [0.4e0,0.4e0,0.1e0,0.1e0,0,0] #snare, high, mid, low, kick, rest"
   ]
  },
  {
   "cell_type": "code",
   "execution_count": 29,
   "metadata": {},
   "outputs": [
    {
     "data": {
      "text/plain": [
       "AugDblMatrix([0.2 0.1 … 0.3 0.2; 0.4 0.2 … 0.3 0.2; … ; 0.1 0.1 … 0.1 0.2; 0.1 0.1 … 0.1 0.0], [0.4 0.2 … 0.3 0.0; 0.2 0.4 … 0.2 0.0; … ; 0.2 0.1 … 0.2 0.0; 0.1 0.2 … 0.1 1.0], [0.4, 0.4, 0.1, 0.1, 0.0, 0.0])"
      ]
     },
     "execution_count": 29,
     "metadata": {},
     "output_type": "execute_result"
    }
   ],
   "source": [
    "rockFill= AugDblMatrix(rockFillLeftToRight, rockFillRightToLeft, rockFillInitial)"
   ]
  },
  {
   "cell_type": "code",
   "execution_count": 30,
   "metadata": {},
   "outputs": [
    {
     "data": {
      "text/plain": [
       "abcfill16 (generic function with 1 method)"
      ]
     },
     "execution_count": 30,
     "metadata": {},
     "output_type": "execute_result"
    }
   ],
   "source": [
    "#input a sixteenth note fill and a crescendo/descr indicator, output abc notation\n",
    "function abcfill16(L, crdc)\n",
    "    n = length(L)\n",
    "    c = [\"c/2\",\"e/2\",\"A/2\",\"G/2\",\"F/2\",\"z/2\"]\n",
    "    m = [c[L[i] + 1] for i = 1:n]\n",
    "    s = \"\"\n",
    "    for i = 1:n\n",
    "        s = s * m[i]\n",
    "        if i % 4 == 0\n",
    "            s = s * \" \"\n",
    "        end\n",
    "        if i % 16 == 12\n",
    "            if crdc < 0\n",
    "                s = s * \"!>(!\"\n",
    "            elseif 0 < crdc\n",
    "                s = s * \"!<(!\"\n",
    "            end\n",
    "        end\n",
    "        if i % 16 == 14\n",
    "            if crdc < 0\n",
    "                s = s * \"!>)!\"\n",
    "            elseif 0 < crdc\n",
    "                s = s * \"!<)!\"\n",
    "            end\n",
    "        end\n",
    "    end\n",
    "    return(s)\n",
    "end\n"
   ]
  },
  {
   "cell_type": "code",
   "execution_count": 31,
   "metadata": {},
   "outputs": [
    {
     "data": {
      "text/plain": [
       "\"c/2e/2c/2A/2 A/2G/2e/2A/2 G/2e/2c/2e/2 e/2F/2c/2F/2 \""
      ]
     },
     "execution_count": 31,
     "metadata": {},
     "output_type": "execute_result"
    }
   ],
   "source": [
    "#test\n",
    "abcfill16(fill16gen(16, rockFill), 0)"
   ]
  },
  {
   "cell_type": "code",
   "execution_count": 32,
   "metadata": {},
   "outputs": [
    {
     "data": {
      "text/plain": [
       "abctune8patinst16ghost (generic function with 1 method)"
      ]
     },
     "execution_count": 32,
     "metadata": {},
     "output_type": "execute_result"
    }
   ],
   "source": [
    "#output time, fill, time, fill with cresc/decr in abc notation\n",
    "function abctune8patinst16ghost(\n",
    "  vol,\n",
    "  bass,\n",
    "  pat,\n",
    "  inst,\n",
    "  fill,\n",
    "  crdc)\n",
    "    fp = [\"!pp!\",\"!p!\",\"!mp!\",\"!mf!\",\"!f!\",\"!ff!\"]\n",
    "    return(\"|:\" * fp[vol] * abctime8patinst16ghost(bass, pat, inst) * \"[1\" * abcfill16(fill, 0) * \":|2\" * abcfill16(fill, crdc) * \"\\n\")\n",
    "end\n"
   ]
  },
  {
   "cell_type": "code",
   "execution_count": 33,
   "metadata": {},
   "outputs": [
    {
     "data": {
      "text/plain": [
       "insert (generic function with 1 method)"
      ]
     },
     "execution_count": 33,
     "metadata": {},
     "output_type": "execute_result"
    }
   ],
   "source": [
    "#utility function, insert one string into another\n",
    "function insert(\n",
    "    s::String,\n",
    "    pos::Integer,\n",
    "    sub::String)\n",
    "    return s[1:pos] * sub * s[pos+1:end]\n",
    "end\n",
    "    "
   ]
  },
  {
   "cell_type": "code",
   "execution_count": 35,
   "metadata": {},
   "outputs": [
    {
     "data": {
      "text/plain": [
       "@functionName (macro with 1 method)"
      ]
     },
     "execution_count": 35,
     "metadata": {},
     "output_type": "execute_result"
    }
   ],
   "source": [
    "macro functionName()\n",
    "    return quote\n",
    "        st = stacktrace(backtrace())\n",
    "        myf = \"\"\n",
    "        for frm in st\n",
    "            funcname = frm.func\n",
    "            if frm.func != :backtrace && frm.func!= Symbol(\"macro expansion\")\n",
    "                myf = frm.func\n",
    "                break\n",
    "            end\n",
    "        end\n",
    "        #println(\"Running function $(myf)\")\n",
    "        String(myf)\n",
    "    end\n",
    "end\n"
   ]
  },
  {
   "cell_type": "code",
   "execution_count": 56,
   "metadata": {},
   "outputs": [
    {
     "data": {
      "text/plain": [
       "abcsolo8patinst16ghost (generic function with 1 method)"
      ]
     },
     "execution_count": 56,
     "metadata": {},
     "output_type": "execute_result"
    }
   ],
   "source": [
    "#put it all together, output abc notation\n",
    "import Dates\n",
    "function abcsolo8patinst16ghost(\n",
    "  len::Int,\n",
    "  basstrans::AugMatrix,\n",
    "  filltrans::AugDblMatrix,\n",
    "  dyntrans::AugDblMatrix,\n",
    "  pattrans::AugMatrix,\n",
    "  insttrans::AugMatrix,\n",
    "  feel::String,\n",
    "    )\n",
    "    s = \"\"\n",
    "    curdyn = markovrand(dyn.init)\n",
    "    curpat = markovrand(pattrans.init)\n",
    "    curinst = markovrand(insttrans.init)\n",
    "    for i = 1:len\n",
    "        vol = div(curdyn, 2) + 1\n",
    "        bass = ghostbassgen16pairs(24, basstrans)\n",
    "        pat = curpat + 1\n",
    "        inst = curinst + 1\n",
    "        fill = fill16gen(16, filltrans)\n",
    "        crdc = 2 * mod(curdyn, 2) - 1\n",
    "        s = s * abctune8patinst16ghost(vol, bass, pat, inst, fill, crdc)\n",
    "        if i + 1 < len\n",
    "            curdyn = markovrand(dyntrans.mat1[:, curdyn + 1])\n",
    "        else\n",
    "            curdyn = markovrand(dyntrans.mat2[:, curdyn + 1])\n",
    "        end\n",
    "        curpat = markovrand(pattrans.mat[:, curpat + 1])\n",
    "        curinst = markovrand(insttrans.mat[:, curinst + 1])\n",
    "    end\n",
    "    s = insert(s, findlast(occursin(\"acbdefgABCDEFG\"), s)-1, \"!fermata!\") #final fermata\n",
    "    s = replace(s, \"[]\" => \"z\") #rest\n",
    "    s = makeppheader(\"Computer-generated \\\\`Etude for Solo Drum Kit\", String(@functionName), \"$(Dates.now())\", \"4/4\", feel, 80) * s * \"|]\\n\"\n",
    "    return(s)\n",
    "end\n"
   ]
  },
  {
   "cell_type": "code",
   "execution_count": 97,
   "metadata": {
    "scrolled": true
   },
   "outputs": [
    {
     "data": {
      "text/plain": [
       "makeppheader (generic function with 1 method)"
      ]
     },
     "execution_count": 97,
     "metadata": {},
     "output_type": "execute_result"
    }
   ],
   "source": [
    "function makeppheader(title::String, composer::String, date::String, meter::String, feel::String, tempo::Int)\n",
    "    s = \"\"\"%%abc-include percussions-JBH.abh\n",
    "    \n",
    "    I:linebreak \\$\n",
    "  \n",
    "    #ifdef MIDI\n",
    "    #define !>! \\\"[I:volinc 50]\\\"\n",
    "    #define !Q! \\\"[I:vol 20]\\\" \n",
    "                    %%%ghost\n",
    "    #define !U! \\\"[I:volinc -20]\\\" \n",
    "                    %%%unaccent\n",
    "    #else\n",
    "    #define !N! \"\\\\\\\"^_\\\\\\\"\" \n",
    "                    %%%tenuto\n",
    "    #define !Q! !(.!!).! \n",
    "                    %%%ghost\n",
    "    #define !U! !anti!  \n",
    "                    %%%unaccent\n",
    "    #endif\n",
    "    \n",
    "    X:1\n",
    "    T:$title\n",
    "    C:$composer\n",
    "    O:$date\n",
    "    M:$meter\n",
    "    L:1/8\n",
    "    Q:\\\"$feel\\\" 1/4=$tempo\n",
    "    K:none clef=perc\n",
    "    [V:1 clef=perc, stem=up]     % activate abc2xml.py map\n",
    "    %%voicemap drummap  % activate abcm2ps/abc2svg map\n",
    "    %%MIDI channel 10   % activate abc2midi map\n",
    "    %%MIDI program 0\n",
    "    %%flatbeams\n",
    "    %%propagate-accidentals not\n",
    "    %%pos ornament up\n",
    "    %%ornament up\n",
    "    %%MIDI fermatafixed\n",
    "    \"\"\"\n",
    "    return(s)\n",
    "end"
   ]
  },
  {
   "cell_type": "code",
   "execution_count": 39,
   "metadata": {},
   "outputs": [
    {
     "name": "stdout",
     "output_type": "stream",
     "text": [
      "%%abc-include percussions-JBH.abh\n",
      "\n",
      "I:linebreak $\n",
      "%%flatbeams\n",
      "%%propagate-accidentals not\n",
      "%%pos ornament up\n",
      "%%ornament up\n",
      "%%MIDI fermatafixed\n",
      "\n",
      "#ifdef MIDI\n",
      "#define !>! \"[I:volinc 50]\"\n",
      "#define !Q! \"[I:volinc -30]\" \n",
      "                %%%ghost\n",
      "#define !U! \"[I:volinc -20]\" \n",
      "                %%%unaccent\n",
      "#else\n",
      "#define !N! \"\\\"^_\\\"\" \n",
      "                %%%tenuto\n",
      "#define !Q! !(.!!).! \n",
      "                %%%ghost\n",
      "#define !U! !anti!  \n",
      "                %%%unaccent\n",
      "#endif\n",
      "\n",
      "X:1\n",
      "T:Computer-generated \\`Etude for Solo Drum Kit\n",
      "C:top-level scope\n",
      "O:2021-11-20T17:48:31.855\n",
      "M:4/4\n",
      "L:1/8\n",
      "Q:\"Rock 16th feel\" 1/4=80\n",
      "K:none clef=perc\n",
      "[V:1 clef=perc, stem=up]     % activate abc2xml.py map\n",
      "%%voicemap drummap  % activate abcm2ps/abc2svg map\n",
      "%%MIDI channel 10   % activate abc2midi map\n",
      "%%MIDI program 0\n"
     ]
    }
   ],
   "source": [
    "#test\n",
    "print(makeppheader(\"Computer-generated \\\\`Etude for Solo Drum Kit\", String(@functionName), \"$(Dates.now())\", \"4/4\", \"Rock 16th feel\", 80))"
   ]
  },
  {
   "cell_type": "code",
   "execution_count": 40,
   "metadata": {},
   "outputs": [
    {
     "data": {
      "text/plain": [
       "writetune (generic function with 1 method)"
      ]
     },
     "execution_count": 40,
     "metadata": {},
     "output_type": "execute_result"
    }
   ],
   "source": [
    "#write a string s of abc notation to a file fname\n",
    "function writetune(fname, s)\n",
    "    #h = open(\"header.abc\", \"r\")\n",
    "    f = open(fname, \"w\")\n",
    "    #for header in eachline(h)\n",
    "    #    print(f, header * \"\\n\")\n",
    "    #end\n",
    "    #close(h)\n",
    "    #print(f, makeheader(\"Computer-generated \\\\`Etude for Solo Drum Kit\", \"4/4\", \"Rock 16th feel\", 80))\n",
    "    print(f, s)\n",
    "    return(close(f))\n",
    "end\n"
   ]
  },
  {
   "cell_type": "code",
   "execution_count": 41,
   "metadata": {},
   "outputs": [
    {
     "data": {
      "text/plain": [
       "12×12 Matrix{Float64}:\n",
       " 0.0  0.0  0.2  0.2  0.1  0.1  0.0  0.0  0.0  0.0  0.0  0.0\n",
       " 0.0  0.0  0.2  0.1  0.1  0.1  0.0  0.0  0.0  0.0  0.0  0.0\n",
       " 0.2  0.2  0.0  0.0  0.2  0.1  0.1  0.1  0.1  0.2  0.1  0.2\n",
       " 0.2  0.2  0.0  0.0  0.2  0.1  0.1  0.1  0.2  0.1  0.2  0.1\n",
       " 0.0  0.0  0.1  0.2  0.0  0.0  0.2  0.1  0.0  0.0  0.1  0.2\n",
       " 0.0  0.0  0.2  0.2  0.0  0.0  0.2  0.1  0.0  0.0  0.2  0.1\n",
       " 0.1  0.2  0.0  0.0  0.1  0.2  0.0  0.0  0.2  0.2  0.0  0.0\n",
       " 0.2  0.1  0.0  0.0  0.1  0.2  0.0  0.0  0.2  0.1  0.0  0.0\n",
       " 0.1  0.2  0.1  0.2  0.1  0.1  0.1  0.2  0.0  0.0  0.2  0.2\n",
       " 0.2  0.1  0.2  0.1  0.1  0.1  0.1  0.2  0.0  0.0  0.2  0.2\n",
       " 0.0  0.0  0.0  0.0  0.0  0.0  0.1  0.1  0.1  0.2  0.0  0.0\n",
       " 0.0  0.0  0.0  0.0  0.0  0.0  0.1  0.1  0.2  0.2  0.0  0.0"
      ]
     },
     "execution_count": 41,
     "metadata": {},
     "output_type": "execute_result"
    }
   ],
   "source": [
    "dynMatrix = [\n",
    "    0 0 0.2e0 0.2e0 0.1e0 0.1e0 0 0 0 0 0 0; \n",
    "    0 0 0.2e0 0.1e0 0.1e0 0.1e0 0 0 0 0 0 0; \n",
    "    0.2e0 0.2e0 0 0 0.2e0 0.1e0 0.1e0 0.1e0 0.1e0 0.2e0 0.1e0 0.2e0; \n",
    "    0.2e0 0.2e0 0 0 0.2e0 0.1e0 0.1e0 0.1e0 0.2e0 0.1e0 0.2e0 0.1e0; \n",
    "    0 0 0.1e0 0.2e0 0 0 0.2e0 0.1e0 0 0 0.1e0 0.2e0; \n",
    "    0 0 0.2e0 0.2e0 0 0 0.2e0 0.1e0 0 0 0.2e0 0.1e0; \n",
    "    0.1e0 0.2e0 0 0 0.1e0 0.2e0 0 0 0.2e0 0.2e0 0 0; \n",
    "    0.2e0 0.1e0 0 0 0.1e0 0.2e0 0 0 0.2e0 0.1e0 0 0; \n",
    "    0.1e0 0.2e0 0.1e0 0.2e0 0.1e0 0.1e0 0.1e0 0.2e0 0 0 0.2e0 0.2e0;\n",
    "    0.2e0 0.1e0 0.2e0 0.1e0 0.1e0 0.1e0 0.1e0 0.2e0 0 0 0.2e0 0.2e0; \n",
    "    0 0 0 0 0 0 0.1e0 0.1e0 0.1e0 0.2e0 0 0; \n",
    "    0 0 0 0 0 0 0.1e0 0.1e0 0.2e0 0.2e0 0 0]\n"
   ]
  },
  {
   "cell_type": "code",
   "execution_count": 42,
   "metadata": {},
   "outputs": [
    {
     "data": {
      "text/plain": [
       "12×12 Matrix{Float64}:\n",
       " 0.1  0.2  0.2  0.2  0.1  0.1  0.1  0.1  0.1  0.2  0.0  0.0\n",
       " 0.2  0.1  0.2  0.1  0.1  0.1  0.1  0.1  0.2  0.1  0.0  0.0\n",
       " 0.2  0.2  0.0  0.0  0.2  0.1  0.2  0.1  0.2  0.2  0.1  0.2\n",
       " 0.2  0.2  0.0  0.0  0.2  0.1  0.2  0.1  0.2  0.1  0.2  0.1\n",
       " 0.0  0.0  0.0  0.0  0.0  0.0  0.0  0.0  0.0  0.0  0.0  0.0\n",
       " 0.0  0.0  0.0  0.0  0.0  0.0  0.0  0.0  0.0  0.0  0.0  0.0\n",
       " 0.0  0.0  0.0  0.0  0.0  0.0  0.0  0.0  0.0  0.0  0.0  0.0\n",
       " 0.0  0.0  0.0  0.0  0.0  0.0  0.0  0.0  0.0  0.0  0.0  0.0\n",
       " 0.1  0.2  0.1  0.2  0.1  0.2  0.1  0.2  0.0  0.0  0.2  0.2\n",
       " 0.2  0.1  0.2  0.2  0.1  0.2  0.1  0.2  0.0  0.0  0.2  0.2\n",
       " 0.0  0.0  0.1  0.2  0.1  0.1  0.1  0.1  0.1  0.2  0.1  0.2\n",
       " 0.0  0.0  0.2  0.1  0.1  0.1  0.1  0.1  0.2  0.2  0.2  0.1"
      ]
     },
     "execution_count": 42,
     "metadata": {},
     "output_type": "execute_result"
    }
   ],
   "source": [
    "dynFinal = [\n",
    "    0.1e0 0.2e0 0.2e0 0.2e0 0.1e0 0.1e0 0.1e0 0.1e0 0.1e0 0.2e0 0 0; \n",
    "    0.2e0 0.1e0 0.2e0 0.1e0 0.1e0 0.1e0 0.1e0 0.1e0 0.2e0 0.1e0 0 0; \n",
    "    0.2e0 0.2e0 0 0 0.2e0 0.1e0 0.2e0 0.1e0 0.2e0 0.2e0 0.1e0 0.2e0; \n",
    "    0.2e0 0.2e0 0 0 0.2e0 0.1e0 0.2e0 0.1e0 0.2e0 0.1e0 0.2e0 0.1e0; \n",
    "    0 0 0 0 0 0 0 0 0 0 0 0; \n",
    "    0 0 0 0 0 0 0 0 0 0 0 0; \n",
    "    0 0 0 0 0 0 0 0 0 0 0 0; \n",
    "    0 0 0 0 0 0 0 0 0 0 0 0; \n",
    "    0.1e0 0.2e0 0.1e0 0.2e0 0.1e0 0.2e0 0.1e0 0.2e0 0 0 0.2e0 0.2e0; \n",
    "    0.2e0 0.1e0 0.2e0 0.2e0 0.1e0 0.2e0 0.1e0 0.2e0 0 0 0.2e0 0.2e0; \n",
    "    0 0 0.1e0 0.2e0 0.1e0 0.1e0 0.1e0 0.1e0 0.1e0 0.2e0 0.1e0 0.2e0; \n",
    "    0 0 0.2e0 0.1e0 0.1e0 0.1e0 0.1e0 0.1e0 0.2e0 0.2e0 0.2e0 0.1e0]\n"
   ]
  },
  {
   "cell_type": "code",
   "execution_count": 43,
   "metadata": {},
   "outputs": [
    {
     "data": {
      "text/plain": [
       "12-element Vector{Float64}:\n",
       " 0.05\n",
       " 0.05\n",
       " 0.1\n",
       " 0.1\n",
       " 0.1\n",
       " 0.1\n",
       " 0.1\n",
       " 0.1\n",
       " 0.1\n",
       " 0.1\n",
       " 0.05\n",
       " 0.05"
      ]
     },
     "execution_count": 43,
     "metadata": {},
     "output_type": "execute_result"
    }
   ],
   "source": [
    "dynInitial = [0.5e-1,0.5e-1,0.1e0,0.1e0,0.1e0,0.1e0,0.1e0,0.1e0,0.1e0,0.1e0,0.5e-1,0.5e-1]\n",
    "#pp>, pp<, p>, p<, mp>, mp<, mf>, mf<, f>, f<, ff>, ff<"
   ]
  },
  {
   "cell_type": "code",
   "execution_count": 44,
   "metadata": {},
   "outputs": [
    {
     "data": {
      "text/plain": [
       "AugDblMatrix([0.0 0.0 … 0.0 0.0; 0.0 0.0 … 0.0 0.0; … ; 0.0 0.0 … 0.0 0.0; 0.0 0.0 … 0.0 0.0], [0.1 0.2 … 0.0 0.0; 0.2 0.1 … 0.0 0.0; … ; 0.0 0.0 … 0.1 0.2; 0.0 0.0 … 0.2 0.1], [0.05, 0.05, 0.1, 0.1, 0.1, 0.1, 0.1, 0.1, 0.1, 0.1, 0.05, 0.05])"
      ]
     },
     "execution_count": 44,
     "metadata": {},
     "output_type": "execute_result"
    }
   ],
   "source": [
    "dyn = AugDblMatrix(dynMatrix, dynFinal, dynInitial)"
   ]
  },
  {
   "cell_type": "code",
   "execution_count": 45,
   "metadata": {},
   "outputs": [
    {
     "data": {
      "text/plain": [
       "4×4 Matrix{Float64}:\n",
       " 0.0  0.4  0.4  0.4\n",
       " 0.4  0.0  0.2  0.2\n",
       " 0.2  0.2  0.0  0.4\n",
       " 0.4  0.4  0.4  0.0"
      ]
     },
     "execution_count": 45,
     "metadata": {},
     "output_type": "execute_result"
    }
   ],
   "source": [
    "rockPatMatrix = [\n",
    "    #8  Q   b   +\n",
    "    0   0.4 0.4 0.4 #8 \n",
    "    0.4 0   0.2 0.2   #Q\n",
    "    0.2 0.2 0   0.4 #b\n",
    "    0.4 0.4 0.4 0 #+\n",
    "    ]\n",
    "\n"
   ]
  },
  {
   "cell_type": "code",
   "execution_count": 46,
   "metadata": {},
   "outputs": [
    {
     "data": {
      "text/plain": [
       "1×4 Matrix{Float64}:\n",
       " 1.0  1.0  1.0  1.0"
      ]
     },
     "execution_count": 46,
     "metadata": {},
     "output_type": "execute_result"
    }
   ],
   "source": [
    "sum(rockPatMatrix, dims=1)"
   ]
  },
  {
   "cell_type": "code",
   "execution_count": 47,
   "metadata": {},
   "outputs": [
    {
     "data": {
      "text/plain": [
       "4-element Vector{Float64}:\n",
       " 0.4\n",
       " 0.4\n",
       " 0.2\n",
       " 0.0"
      ]
     },
     "execution_count": 47,
     "metadata": {},
     "output_type": "execute_result"
    }
   ],
   "source": [
    "rockPatInitial = [0.4; 0.4; 0.2; 0]"
   ]
  },
  {
   "cell_type": "code",
   "execution_count": 48,
   "metadata": {},
   "outputs": [
    {
     "data": {
      "text/plain": [
       "AugMatrix([0.0 0.4 0.4 0.4; 0.4 0.0 0.2 0.2; 0.2 0.2 0.0 0.4; 0.4 0.4 0.4 0.0], [0.4, 0.4, 0.2, 0.0])"
      ]
     },
     "execution_count": 48,
     "metadata": {},
     "output_type": "execute_result"
    }
   ],
   "source": [
    "rockPat = AugMatrix(rockPatMatrix, rockPatInitial)"
   ]
  },
  {
   "cell_type": "code",
   "execution_count": 49,
   "metadata": {},
   "outputs": [
    {
     "data": {
      "text/plain": [
       "4×4 Matrix{Float64}:\n",
       " 0.1  0.4  0.4  0.4\n",
       " 0.6  0.1  0.4  0.4\n",
       " 0.2  0.4  0.1  0.2\n",
       " 0.1  0.1  0.1  0.0"
      ]
     },
     "execution_count": 49,
     "metadata": {},
     "output_type": "execute_result"
    }
   ],
   "source": [
    "rockInstMatrix = [\n",
    "   #HH  RC  RB  ST \n",
    "    0.1 0.4 0.4   0.4   #HH\n",
    "    0.6 0.1 0.4   0.4   #RC\n",
    "    0.2 0.4 0.1   0.2   #RB\n",
    "    0.1 0.1 0.1   0     #ST\n",
    "]"
   ]
  },
  {
   "cell_type": "code",
   "execution_count": 50,
   "metadata": {},
   "outputs": [
    {
     "data": {
      "text/plain": [
       "1×4 Matrix{Float64}:\n",
       " 1.0  1.0  1.0  1.0"
      ]
     },
     "execution_count": 50,
     "metadata": {},
     "output_type": "execute_result"
    }
   ],
   "source": [
    "sum(rockInstMatrix, dims=1)"
   ]
  },
  {
   "cell_type": "code",
   "execution_count": 51,
   "metadata": {},
   "outputs": [
    {
     "data": {
      "text/plain": [
       "4-element Vector{Float64}:\n",
       " 0.5\n",
       " 0.3\n",
       " 0.0\n",
       " 0.2"
      ]
     },
     "execution_count": 51,
     "metadata": {},
     "output_type": "execute_result"
    }
   ],
   "source": [
    "rockInstInitial = [0.5; 0.3; 0; 0.2]"
   ]
  },
  {
   "cell_type": "code",
   "execution_count": 52,
   "metadata": {},
   "outputs": [
    {
     "data": {
      "text/plain": [
       "AugMatrix([0.1 0.4 0.4 0.4; 0.6 0.1 0.4 0.4; 0.2 0.4 0.1 0.2; 0.1 0.1 0.1 0.0], [0.5, 0.3, 0.0, 0.2])"
      ]
     },
     "execution_count": 52,
     "metadata": {},
     "output_type": "execute_result"
    }
   ],
   "source": [
    "rockInst = AugMatrix(rockInstMatrix, rockInstInitial)"
   ]
  },
  {
   "cell_type": "code",
   "execution_count": 73,
   "metadata": {},
   "outputs": [
    {
     "name": "stdout",
     "output_type": "stream",
     "text": [
      "%%abc-include percussions-JBH.abh\n",
      "\n",
      "I:linebreak $\n",
      "%%flatbeams\n",
      "%%propagate-accidentals not\n",
      "%%pos ornament up\n",
      "%%ornament up\n",
      "%%MIDI fermatafixed\n",
      "\n",
      "#ifdef MIDI\n",
      "#define !>! \"[I:volinc 50]\"\n",
      "#define !Q! \"[I:volinc -30]\" \n",
      "                %%%ghost\n",
      "#define !U! \"[I:volinc -20]\" \n",
      "                %%%unaccent\n",
      "#else\n",
      "#define !N! \"\\\"^_\\\"\" \n",
      "                %%%tenuto\n",
      "#define !Q! !(.!!).! \n",
      "                %%%ghost\n",
      "#define !U! !anti!  \n",
      "                %%%unaccent\n",
      "#endif\n",
      "\n",
      "X:1\n",
      "T:Computer-generated \\`Etude for Solo Drum Kit\n",
      "C:abcsolo8patinst16ghost\n",
      "O:2021-11-20T17:57:21.315\n",
      "M:4/4\n",
      "L:1/8\n",
      "Q:\"Rock 16th feel\" 1/4=80\n",
      "K:none clef=perc\n",
      "[V:1 clef=perc, stem=up]     % activate abc2xml.py map\n",
      "%%voicemap drummap  % activate abcm2ps/abc2svg map\n",
      "%%MIDI channel 10   % activate abc2midi map\n",
      "%%MIDI program 0\n",
      "|:!p!!N![^eF]y[F]/2[!Q!c/2]!N![c^eF]y[F]/2[F/2] !N![^e]/2[!Q!c/2][F]/2[!Q!c/2]!N![c^eF]/2[!Q!c/2]zy |\n",
      "!N![^eF]/2[!Q!c/2][F]/2[F/2]!N![c^e]y[F]y !N![^eF]y[F]/2[!Q!c/2]!N![c^eF]/2[F/2]zy |\n",
      "!N![^eF]/2[!Q!c/2][F]/2[!Q!c/2]!N![c^e]yzy !N![^eF]y[F]/2[!Q!c/2]!N![c^eF]y[F]/2[F/2] |\n",
      "[1e/2F/2z/2e/2 G/2G/2G/2e/2 F/2e/2e/2A/2 z/2F/2c/2e/2 :|2e/2F/2z/2e/2 G/2G/2G/2e/2 F/2e/2e/2A/2 !<(!z/2F/2!<)!c/2e/2 \n",
      "|:!mp![^g]y[^gF]/2[!Q!c/2][c^gF]/2[!Q!c/2][^gF]/2[!Q!c/2] [^gF]y[^gF]y[c^gF]/2[!Q!c/2][^gF]/2[!Q!c/2] |\n",
      "[^gF]y[^g]y[c^gF]y[^gF]y [^g]y[^gF]/2[F/2][c^g]/2[!Q!c/2][^gF]/2[!Q!c/2] |\n",
      "[^gF]/2[F/2][^g]y[c^gF]y[^gF]y [^gF]/2[!Q!c/2][^gF]/2[!Q!c/2][c^gF]/2[!Q!c/2][^gF]/2[!Q!c/2] |\n",
      "[1G/2e/2F/2F/2 c/2F/2F/2e/2 c/2e/2z/2G/2 e/2A/2e/2A/2 :|2G/2e/2F/2F/2 c/2F/2F/2e/2 c/2e/2z/2G/2 !<(!e/2A/2!<)!e/2A/2 \n",
      "|:!p!!>![^eF]y!U![^eF]/2[F/2]!>![c^e]y!U![^eF]y !>![^e]/2[!Q!c/2]!U![^eF]/2[!Q!c/2]!>![c^eF]/2[!Q!c/2]!U![^eF]/2[F/2] |\n",
      "!>![^e]/2[!Q!c/2]!U![^eF]/2[F/2]!>![c^e]y!U![^eF]/2[F/2] !>![^e]/2[!Q!c/2]!U![^e]/2[!Q!c/2]!>![c^eF]/2[F/2]!U![^e]/2[!Q!c/2] |\n",
      "!>![^e]/2[!Q!c/2]!U![^eF]/2[!Q!c/2]!>![c^eF]y!U![^eF]/2[!Q!c/2] !>![^eF]/2[!Q!c/2]!U![^eF]/2[!Q!c/2]!>![c^eF]/2[F/2]!U![^e]y |\n",
      "[1c/2e/2G/2G/2 G/2e/2e/2A/2 c/2e/2z/2G/2 z/2A/2A/2A/2 :|2c/2e/2G/2G/2 G/2e/2e/2A/2 c/2e/2z/2G/2 !>(!z/2A/2!>)!A/2A/2 \n",
      "|:!f![^gF]/2[F/2]z/2[!Q!c/2][c^g]/2[!Q!c/2][F]/2[!Q!c/2] [^gF]/2[!Q!c/2]zy[c^g]y[F]/2[F/2] |\n",
      "[^g]yzy[c^gF]/2[F/2]zy [^gF]/2[!Q!c/2][F]y[c^gF]/2[!Q!c/2][F]/2[F/2] |\n",
      "[^g]y[F]/2[F/2][c^g]/2[!Q!c/2]z/2[!Q!c/2] [^g]y[F]/2[F/2][c^g]y[F]/2[F/2] |\n",
      "[1e/2A/2A/2F/2 F/2G/2z/2A/2 G/2A/2e/2e/2 c/2e/2e/2A/2 :|2e/2A/2A/2F/2 F/2G/2z/2A/2 G/2A/2e/2e/2 !>(!c/2e/2!>)!e/2!fermata!A/2 \n",
      "|]\n"
     ]
    }
   ],
   "source": [
    "solo = abcsolo8patinst16ghost(4, rockBass, rockFill, dyn, rockPat, rockInst, \"Rock 16th feel\")\n",
    "print(solo)"
   ]
  },
  {
   "cell_type": "code",
   "execution_count": 74,
   "metadata": {},
   "outputs": [],
   "source": [
    "writetune(\"rockghosttest.abp\", solo)"
   ]
  },
  {
   "cell_type": "code",
   "execution_count": 75,
   "metadata": {},
   "outputs": [
    {
     "name": "stdout",
     "output_type": "stream",
     "text": [
      "%%abc-include percussions-JBH.abh\n",
      "\n",
      "I:linebreak $\n",
      "%%flatbeams\n",
      "%%propagate-accidentals not\n",
      "%%pos ornament up\n",
      "%%ornament up\n",
      "%%MIDI fermatafixed\n",
      "\n",
      "#ifdef MIDI\n",
      "#define !>! \"[I:volinc 50]\"\n",
      "#define !Q! \"[I:volinc -30]\" \n",
      "                %%%ghost\n",
      "#define !U! \"[I:volinc -20]\" \n",
      "                %%%unaccent\n",
      "#else\n",
      "#define !N! \"\\\"^_\\\"\" \n",
      "                %%%tenuto\n",
      "#define !Q! !(.!!).! \n",
      "                %%%ghost\n",
      "#define !U! !anti!  \n",
      "                %%%unaccent\n",
      "#endif\n",
      "\n",
      "X:1\n",
      "T:Computer-generated \\`Etude for Solo Drum Kit\n",
      "C:abcsolo8patinst16ghost\n",
      "O:2021-11-20T17:57:21.315\n",
      "M:4/4\n",
      "L:1/8\n",
      "Q:\"Rock 16th feel\" 1/4=80\n",
      "K:none clef=perc\n",
      "[V:1 clef=perc, stem=up]     % activate abc2xml.py map\n",
      "%%voicemap drummap  % activate abcm2ps/abc2svg map\n",
      "%%MIDI channel 10   % activate abc2midi map\n",
      "%%MIDI program 0\n",
      "|:!p!!N![^eF]y[F]/2[!Q!c/2]!N![c^eF]y[F]/2[F/2] !N![^e]/2[!Q!c/2][F]/2[!Q!c/2]!N![c^eF]/2[!Q!c/2]zy |\n",
      "!N![^eF]/2[!Q!c/2][F]/2[F/2]!N![c^e]y[F]y !N![^eF]y[F]/2[!Q!c/2]!N![c^eF]/2[F/2]zy |\n",
      "!N![^eF]/2[!Q!c/2][F]/2[!Q!c/2]!N![c^e]yzy !N![^eF]y[F]/2[!Q!c/2]!N![c^eF]y[F]/2[F/2] |\n",
      "[1e/2F/2z/2e/2 G/2G/2G/2e/2 F/2e/2e/2A/2 z/2F/2c/2e/2 :|2e/2F/2z/2e/2 G/2G/2G/2e/2 F/2e/2e/2A/2 !<(!z/2F/2!<)!c/2e/2 \n",
      "|:!mp![^g]y[^gF]/2[!Q!c/2][c^gF]/2[!Q!c/2][^gF]/2[!Q!c/2] [^gF]y[^gF]y[c^gF]/2[!Q!c/2][^gF]/2[!Q!c/2] |\n",
      "[^gF]y[^g]y[c^gF]y[^gF]y [^g]y[^gF]/2[F/2][c^g]/2[!Q!c/2][^gF]/2[!Q!c/2] |\n",
      "[^gF]/2[F/2][^g]y[c^gF]y[^gF]y [^gF]/2[!Q!c/2][^gF]/2[!Q!c/2][c^gF]/2[!Q!c/2][^gF]/2[!Q!c/2] |\n",
      "[1G/2e/2F/2F/2 c/2F/2F/2e/2 c/2e/2z/2G/2 e/2A/2e/2A/2 :|2G/2e/2F/2F/2 c/2F/2F/2e/2 c/2e/2z/2G/2 !<(!e/2A/2!<)!e/2A/2 \n",
      "|:!p!!>![^eF]y!U![^eF]/2[F/2]!>![c^e]y!U![^eF]y !>![^e]/2[!Q!c/2]!U![^eF]/2[!Q!c/2]!>![c^eF]/2[!Q!c/2]!U![^eF]/2[F/2] |\n",
      "!>![^e]/2[!Q!c/2]!U![^eF]/2[F/2]!>![c^e]y!U![^eF]/2[F/2] !>![^e]/2[!Q!c/2]!U![^e]/2[!Q!c/2]!>![c^eF]/2[F/2]!U![^e]/2[!Q!c/2] |\n",
      "!>![^e]/2[!Q!c/2]!U![^eF]/2[!Q!c/2]!>![c^eF]y!U![^eF]/2[!Q!c/2] !>![^eF]/2[!Q!c/2]!U![^eF]/2[!Q!c/2]!>![c^eF]/2[F/2]!U![^e]y |\n",
      "[1c/2e/2G/2G/2 G/2e/2e/2A/2 c/2e/2z/2G/2 z/2A/2A/2A/2 :|2c/2e/2G/2G/2 G/2e/2e/2A/2 c/2e/2z/2G/2 !>(!z/2A/2!>)!A/2A/2 \n",
      "|:!f![^gF]/2[F/2]z/2[!Q!c/2][c^g]/2[!Q!c/2][F]/2[!Q!c/2] [^gF]/2[!Q!c/2]zy[c^g]y[F]/2[F/2] |\n",
      "[^g]yzy[c^gF]/2[F/2]zy [^gF]/2[!Q!c/2][F]y[c^gF]/2[!Q!c/2][F]/2[F/2] |\n",
      "[^g]y[F]/2[F/2][c^g]/2[!Q!c/2]z/2[!Q!c/2] [^g]y[F]/2[F/2][c^g]y[F]/2[F/2] |\n",
      "[1e/2A/2A/2F/2 F/2G/2z/2A/2 G/2A/2e/2e/2 c/2e/2e/2A/2 :|2e/2A/2A/2F/2 F/2G/2z/2A/2 G/2A/2e/2e/2 !>(!c/2e/2!>)!e/2!fermata!A/2 \n",
      "|]\n"
     ]
    },
    {
     "data": {
      "text/plain": [
       "Process(`\u001b[4mcat\u001b[24m \u001b[4mrockghosttest.abp\u001b[24m`, ProcessExited(0))"
      ]
     },
     "execution_count": 75,
     "metadata": {},
     "output_type": "execute_result"
    }
   ],
   "source": [
    "run(`cat rockghosttest.abp`)"
   ]
  },
  {
   "cell_type": "code",
   "execution_count": 76,
   "metadata": {},
   "outputs": [
    {
     "name": "stdout",
     "output_type": "stream",
     "text": [
      "\r\n",
      "(base) C:\\Users\\holden\\Documents\\GitHub\\drum_solo_generator>abcpp rockghosttest.abp rockghosttest-ps.abc \r\n",
      "\r\n",
      "(base) C:\\Users\\holden\\Documents\\GitHub\\drum_solo_generator>abcm2ps.exe -X rockghosttest-ps.abc -O rockghosttest.xhtml \r\n",
      "abcm2ps-8.14.12 (2021-07-14)\r\n",
      "File rockghosttest-ps.abc\r\n",
      "File percussions-JBH.abh\r\n",
      "Output written on rockghosttest.xhtml (1 page, 1 title, 54375 bytes)\r\n",
      "\r\n",
      "(base) C:\\Users\\holden\\Documents\\GitHub\\drum_solo_generator>abcpp -MIDI rockghosttest.abp rockghosttest-midi.abc \r\n",
      "\r\n",
      "(base) C:\\Users\\holden\\Documents\\GitHub\\drum_solo_generator>abc2midi.exe rockghosttest-midi.abc -o rockghosttest.mid \r\n",
      "4.59 June 27 2021 abc2midi\r\n",
      "Warning in line-char 24-5 : instruction !N! ignored\r\n",
      "Warning in line-char 24-38 : instruction !N! ignored\r\n",
      "Warning in line-char 24-59 : instruction !N! ignored\r\n",
      "Warning in line-char 24-111 : instruction !N! ignored\r\n",
      "Warning in line-char 25-0 : instruction !N! ignored\r\n",
      "Warning in line-char 25-39 : instruction !N! ignored\r\n",
      "Warning in line-char 25-53 : instruction !N! ignored\r\n",
      "Warning in line-char 25-86 : instruction !N! ignored\r\n",
      "Warning in line-char 26-0 : instruction !N! ignored\r\n",
      "Warning in line-char 26-53 : instruction !N! ignored\r\n",
      "Warning in line-char 26-65 : instruction !N! ignored\r\n",
      "Warning in line-char 26-98 : instruction !N! ignored\r\n",
      "writing MIDI file rockghosttest.mid\r\n",
      "Warning in line-char 40-0 : Track 1 Bar 19 has 9/2 units instead of 4 in repeat\r\n",
      "\r\n",
      "(base) C:\\Users\\holden\\Documents\\GitHub\\drum_solo_generator>start rockghosttest.mid \r\n"
     ]
    },
    {
     "name": "stderr",
     "output_type": "stream",
     "text": [
      "rockghosttest-ps.abc:29:44: warning: Line overfull (637pt of 628pt)\r\n"
     ]
    },
    {
     "name": "stdout",
     "output_type": "stream",
     "text": [
      "\r\n",
      "(base) C:\\Users\\holden\\Documents\\GitHub\\drum_solo_generator>start rockghosttest.xhtml \r\n"
     ]
    },
    {
     "data": {
      "text/plain": [
       "Process(`\u001b[4mabptest.bat\u001b[24m \u001b[4mrockghosttest.abp\u001b[24m`, ProcessExited(0))"
      ]
     },
     "execution_count": 76,
     "metadata": {},
     "output_type": "execute_result"
    }
   ],
   "source": [
    "run(`abptest.bat rockghosttest.abp`)"
   ]
  },
  {
   "cell_type": "code",
   "execution_count": 77,
   "metadata": {},
   "outputs": [
    {
     "data": {
      "text/plain": [
       "9×9 Matrix{Float64}:\n",
       " 0.1  0.2  0.0  0.1  0.333333  0.0  0.0  0.0  0.0\n",
       " 0.2  0.2  0.2  0.2  0.333333  0.1  0.0  0.0  0.0\n",
       " 0.2  0.2  0.2  0.2  0.333333  0.1  0.0  0.0  0.0\n",
       " 0.1  0.2  0.2  0.1  0.0       0.3  0.0  0.0  0.0\n",
       " 0.2  0.0  0.2  0.2  0.0       0.2  0.0  0.0  0.0\n",
       " 0.2  0.2  0.2  0.2  0.0       0.3  0.0  0.0  0.0\n",
       " 0.0  0.0  0.0  0.0  0.0       0.0  0.0  0.0  0.0\n",
       " 0.0  0.0  0.0  0.0  0.0       0.0  0.0  0.0  0.0\n",
       " 0.0  0.0  0.0  0.0  0.0       0.0  0.0  0.0  0.0"
      ]
     },
     "execution_count": 77,
     "metadata": {},
     "output_type": "execute_result"
    }
   ],
   "source": [
    "#0 = rest, 1 = bass, 2 = LH\n",
    "                #00    #01  #02   #10  #11   #12  #zeros\n",
    "funkBassMatrix = [0.1e0 0.2  0     0.1  1//3 0   0 0 0 #00\n",
    "                    0.2 0.2  0.2   0.2  1//3 0.1    0 0 0  #01\n",
    "                    0.2 0.2  0.2   0.2  1//3 0.1    0 0 0  #02\n",
    "                    0.1 0.2  0.2   0.1  0    0.3 0 0 0  #10\n",
    "                    0.2 0    0.2   0.2  0    0.2 0 0 0  #11\n",
    "                    0.2 0.2  0.2   0.2  0    0.3 0 0 0    #12\n",
    "                    zeros(3,9)]                 #zeros"
   ]
  },
  {
   "cell_type": "code",
   "execution_count": 78,
   "metadata": {},
   "outputs": [
    {
     "data": {
      "text/plain": [
       "9-element Vector{Float64}:\n",
       " 0.1\n",
       " 0.2\n",
       " 0.1\n",
       " 0.2\n",
       " 0.2\n",
       " 0.2\n",
       " 0.0\n",
       " 0.0\n",
       " 0.0"
      ]
     },
     "execution_count": 78,
     "metadata": {},
     "output_type": "execute_result"
    }
   ],
   "source": [
    "funkBassInitial = [0.1, 0.2, 0.1, 0.2, 0.2, 0.2, 0, 0, 0]"
   ]
  },
  {
   "cell_type": "code",
   "execution_count": 79,
   "metadata": {},
   "outputs": [
    {
     "data": {
      "text/plain": [
       "AugMatrix([0.1 0.2 … 0.0 0.0; 0.2 0.2 … 0.0 0.0; … ; 0.0 0.0 … 0.0 0.0; 0.0 0.0 … 0.0 0.0], [0.1, 0.2, 0.1, 0.2, 0.2, 0.2, 0.0, 0.0, 0.0])"
      ]
     },
     "execution_count": 79,
     "metadata": {},
     "output_type": "execute_result"
    }
   ],
   "source": [
    "funkBass = AugMatrix(funkBassMatrix, funkBassInitial)"
   ]
  },
  {
   "cell_type": "code",
   "execution_count": 80,
   "metadata": {},
   "outputs": [
    {
     "data": {
      "text/plain": [
       "6×6 Matrix{Float64}:\n",
       " 0.2  0.1  0.1  0.0  0.3  0.2\n",
       " 0.4  0.2  0.0  0.3  0.3  0.2\n",
       " 0.1  0.4  0.2  0.1  0.1  0.2\n",
       " 0.1  0.1  0.4  0.3  0.1  0.2\n",
       " 0.1  0.1  0.1  0.2  0.1  0.1\n",
       " 0.1  0.1  0.2  0.1  0.1  0.1"
      ]
     },
     "execution_count": 80,
     "metadata": {},
     "output_type": "execute_result"
    }
   ],
   "source": [
    "funkFillLeftToRight = [0.2e0 0.1e0 0.1e0 0 0.3e0 0.2e0; 0.4e0 0.2e0 0 0.3e0 0.3e0 0.2e0; 0.1e0 0.4e0 0.2e0 0.1e0 0.1e0 0.2e0; 0.1e0 0.1e0 0.4e0 0.3e0 0.1e0 0.2e0; 0.1e0 0.1e0 0.1e0 0.2e0 0.1e0 0.1e0; 0.1e0 0.1e0 0.2e0 0.1e0 0.1e0 0.1e0]"
   ]
  },
  {
   "cell_type": "code",
   "execution_count": 81,
   "metadata": {},
   "outputs": [
    {
     "data": {
      "text/plain": [
       "6×6 Matrix{Float64}:\n",
       " 0.4  0.2  0.1  0.1  0.3  0.2\n",
       " 0.2  0.4  0.2  0.2  0.2  0.2\n",
       " 0.1  0.0  0.4  0.1  0.1  0.2\n",
       " 0.0  0.1  0.1  0.4  0.1  0.2\n",
       " 0.2  0.1  0.1  0.1  0.2  0.1\n",
       " 0.1  0.2  0.1  0.1  0.1  0.1"
      ]
     },
     "execution_count": 81,
     "metadata": {},
     "output_type": "execute_result"
    }
   ],
   "source": [
    "funkFillRightToLeft = [0.4e0 0.2e0 0.1e0 0.1e0 0.3e0 0.2e0; 0.2e0 0.4e0 0.2e0 0.2e0 0.2e0 0.2e0; 0.1e0 0 0.4e0 0.1e0 0.1e0 0.2e0; 0 0.1e0 0.1e0 0.4e0 0.1e0 0.2e0; 0.2e0 0.1e0 0.1e0 0.1e0 0.2e0 0.1e0; 0.1e0 0.2e0 0.1e0 0.1e0 0.1e0 0.1e0]\n"
   ]
  },
  {
   "cell_type": "code",
   "execution_count": 82,
   "metadata": {},
   "outputs": [
    {
     "data": {
      "text/plain": [
       "6-element Vector{Float64}:\n",
       " 0.3\n",
       " 0.3\n",
       " 0.1\n",
       " 0.1\n",
       " 0.1\n",
       " 0.1"
      ]
     },
     "execution_count": 82,
     "metadata": {},
     "output_type": "execute_result"
    }
   ],
   "source": [
    "funkFillInitial = [0.3e0,0.3e0,0.1e0,0.1e0,0.1e0,0.1e0]"
   ]
  },
  {
   "cell_type": "code",
   "execution_count": 83,
   "metadata": {},
   "outputs": [
    {
     "data": {
      "text/plain": [
       "AugDblMatrix([0.2 0.1 … 0.3 0.2; 0.4 0.2 … 0.3 0.2; … ; 0.1 0.1 … 0.1 0.1; 0.1 0.1 … 0.1 0.1], [0.4 0.2 … 0.3 0.2; 0.2 0.4 … 0.2 0.2; … ; 0.2 0.1 … 0.2 0.1; 0.1 0.2 … 0.1 0.1], [0.3, 0.3, 0.1, 0.1, 0.1, 0.1])"
      ]
     },
     "execution_count": 83,
     "metadata": {},
     "output_type": "execute_result"
    }
   ],
   "source": [
    "funkFill = AugDblMatrix(funkFillLeftToRight, funkFillRightToLeft, funkFillInitial)"
   ]
  },
  {
   "cell_type": "code",
   "execution_count": 84,
   "metadata": {},
   "outputs": [
    {
     "data": {
      "text/plain": [
       "4×4 Matrix{Float64}:\n",
       " 0.0  0.2  0.2  0.2\n",
       " 0.2  0.0  0.4  0.4\n",
       " 0.2  0.2  0.0  0.4\n",
       " 0.6  0.6  0.4  0.0"
      ]
     },
     "execution_count": 84,
     "metadata": {},
     "output_type": "execute_result"
    }
   ],
   "source": [
    "funkPatMatrix = [\n",
    "    #8  Q   b   +\n",
    "    0   0.2 0.2 0.2 #8 \n",
    "    0.2 0   0.4 0.4   #Q\n",
    "    0.2 0.2 0   0.4 #b\n",
    "    0.6 0.6 0.4 0 #+\n",
    "    ]"
   ]
  },
  {
   "cell_type": "code",
   "execution_count": 85,
   "metadata": {},
   "outputs": [
    {
     "data": {
      "text/plain": [
       "1×4 Matrix{Float64}:\n",
       " 1.0  1.0  1.0  1.0"
      ]
     },
     "execution_count": 85,
     "metadata": {},
     "output_type": "execute_result"
    }
   ],
   "source": [
    "sum(funkPatMatrix, dims=1)"
   ]
  },
  {
   "cell_type": "code",
   "execution_count": 86,
   "metadata": {},
   "outputs": [
    {
     "data": {
      "text/plain": [
       "4-element Vector{Float64}:\n",
       " 0.0\n",
       " 0.2\n",
       " 0.4\n",
       " 0.4"
      ]
     },
     "execution_count": 86,
     "metadata": {},
     "output_type": "execute_result"
    }
   ],
   "source": [
    "funkPatInitial = [0; 0.2; 0.4; 0.4]"
   ]
  },
  {
   "cell_type": "code",
   "execution_count": 87,
   "metadata": {},
   "outputs": [
    {
     "data": {
      "text/plain": [
       "AugMatrix([0.0 0.2 0.2 0.2; 0.2 0.0 0.4 0.4; 0.2 0.2 0.0 0.4; 0.6 0.6 0.4 0.0], [0.0, 0.2, 0.4, 0.4])"
      ]
     },
     "execution_count": 87,
     "metadata": {},
     "output_type": "execute_result"
    }
   ],
   "source": [
    "funkPat = AugMatrix(funkPatMatrix, funkPatInitial)"
   ]
  },
  {
   "cell_type": "code",
   "execution_count": 88,
   "metadata": {},
   "outputs": [
    {
     "data": {
      "text/plain": [
       "4×4 Matrix{Float64}:\n",
       " 0.1  0.4  0.4  0.4\n",
       " 0.6  0.1  0.4  0.4\n",
       " 0.2  0.4  0.1  0.2\n",
       " 0.1  0.1  0.1  0.0"
      ]
     },
     "execution_count": 88,
     "metadata": {},
     "output_type": "execute_result"
    }
   ],
   "source": [
    "funkInstMatrix = [\n",
    "   #HH  RC  RB  ST \n",
    "    0.1 0.4 0.4   0.4   #HH\n",
    "    0.6 0.1 0.4   0.4   #RC\n",
    "    0.2 0.4 0.1   0.2   #RB\n",
    "    0.1 0.1 0.1   0     #ST\n",
    "]"
   ]
  },
  {
   "cell_type": "code",
   "execution_count": 89,
   "metadata": {},
   "outputs": [
    {
     "data": {
      "text/plain": [
       "4-element Vector{Float64}:\n",
       " 0.4\n",
       " 0.4\n",
       " 0.2\n",
       " 0.0"
      ]
     },
     "execution_count": 89,
     "metadata": {},
     "output_type": "execute_result"
    }
   ],
   "source": [
    "funkInstInitial = [0.4; 0.4; 0.2; 0]"
   ]
  },
  {
   "cell_type": "code",
   "execution_count": 90,
   "metadata": {},
   "outputs": [
    {
     "data": {
      "text/plain": [
       "AugMatrix([0.1 0.4 0.4 0.4; 0.6 0.1 0.4 0.4; 0.2 0.4 0.1 0.2; 0.1 0.1 0.1 0.0], [0.4, 0.4, 0.2, 0.0])"
      ]
     },
     "execution_count": 90,
     "metadata": {},
     "output_type": "execute_result"
    }
   ],
   "source": [
    "funkInst = AugMatrix(funkInstMatrix, funkInstInitial)"
   ]
  },
  {
   "cell_type": "code",
   "execution_count": 102,
   "metadata": {},
   "outputs": [
    {
     "name": "stdout",
     "output_type": "stream",
     "text": [
      "%%abc-include percussions-JBH.abh\n",
      "\n",
      "I:linebreak $\n",
      "%%flatbeams\n",
      "%%propagate-accidentals not\n",
      "%%pos ornament up\n",
      "%%ornament up\n",
      "%%MIDI fermatafixed\n",
      "\n",
      "#ifdef MIDI\n",
      "#define !>! \"[I:volinc 50]\"\n",
      "#define !Q! \"[I:vol 20]\" \n",
      "                %%%ghost\n",
      "#define !U! \"[I:volinc -20]\" \n",
      "                %%%unaccent\n",
      "#else\n",
      "#define !N! \"\\\"^_\\\"\" \n",
      "                %%%tenuto\n",
      "#define !Q! !(.!!).! \n",
      "                %%%ghost\n",
      "#define !U! !anti!  \n",
      "                %%%unaccent\n",
      "#endif\n",
      "\n",
      "X:1\n",
      "T:Computer-generated \\`Etude for Solo Drum Kit\n",
      "C:abcsolo8patinst16ghost\n",
      "O:2021-11-21T19:43:48.644\n",
      "M:4/4\n",
      "L:1/8\n",
      "Q:\"Funk 16th feel\" 1/4=80\n",
      "K:none clef=perc\n",
      "[V:1 clef=perc, stem=up]     % activate abc2xml.py map\n",
      "%%voicemap drummap  % activate abcm2ps/abc2svg map\n",
      "%%MIDI channel 10   % activate abc2midi map\n",
      "%%MIDI program 0\n",
      "|:!f![^g]/2[F/2][^gF]y[c^g]/2[!Q!c/2][^gF]/2[F/2] [^g]/2[!Q!c/2][^g]/2[!Q!c/2][c^g]/2[F/2][^gF]/2[!Q!c/2] |\n",
      "[^gF]y[^g]y[c^gF]y[^g]y [^g]y[^g]y[c^g]/2[F/2][^g]y |\n",
      "[^gF]/2[F/2][^g]y[c^gF]y[^g]/2[!Q!c/2] [^gF]/2[F/2][^g]/2[F/2][c^gF]/2[!Q!c/2][^g]/2[F/2] |\n",
      "[1c/2e/2e/2e/2 z/2A/2z/2c/2 z/2c/2F/2G/2 G/2z/2G/2G/2 :|2c/2e/2e/2e/2 z/2A/2z/2c/2 z/2c/2F/2G/2 !<(!G/2z/2!<)!G/2G/2 \n",
      "|:!ff!!N![^eF]/2[F/2]z/2[!Q!c/2]!N![c^eF]/2[!Q!c/2][F]y !N![^e]/2[!Q!c/2]z/2[F/2]!N![c^e]/2[F/2]z/2[F/2] |\n",
      "!N![^e]/2[F/2]z/2[!Q!c/2]!N![c^e]/2[F/2]z/2[!Q!c/2] !N![^eF]yz/2[F/2]!N![c^eF]y[F]/2[!Q!c/2] |\n",
      "!N![^eF]y[F]/2[F/2]!N![c^e]/2[!Q!c/2][F]y !N![^eF]/2[!Q!c/2][F]/2[!Q!c/2]!N![c^e]/2[F/2][F]y |\n",
      "[1c/2z/2G/2z/2 c/2z/2A/2G/2 G/2G/2A/2c/2 c/2G/2F/2e/2 :|2c/2z/2G/2z/2 c/2z/2A/2G/2 G/2G/2A/2c/2 !<(!c/2G/2!<)!F/2e/2 \n",
      "|:!f![F]/2[F/2][g]/2[!Q!c/2][cF]/2[!Q!c/2][gF]/2[F/2] z/2[F/2][gF]y[cF]/2[!Q!c/2][gF]/2[F/2] |\n",
      "z/2[!Q!c/2][g]/2[!Q!c/2][cF]/2[F/2][g]/2[F/2] [F]/2[!Q!c/2][gF]y[c]/2[F/2][gF]/2[!Q!c/2] |\n",
      "[F]/2[!Q!c/2][gF]y[c]y[gF]/2[!Q!c/2] z/2[!Q!c/2][g]/2[F/2][c]/2[F/2][g]y |\n",
      "[1A/2c/2e/2c/2 c/2e/2z/2G/2 G/2e/2e/2A/2 A/2A/2e/2F/2 :|2A/2c/2e/2c/2 c/2e/2z/2G/2 G/2e/2e/2A/2 !<(!A/2A/2!<)!e/2F/2 \n",
      "|:!p![g]y[^gF]/2[!Q!c/2][cgF]/2[!Q!c/2][^gF]y [g]/2[F/2][^g]y[cgF]/2[!Q!c/2][^gF]/2[!Q!c/2] |\n",
      "[gF]/2[F/2][^g]y[cgF]/2[F/2][^g]/2[!Q!c/2] [g]/2[!Q!c/2][^gF]y[cgF]y[^gF]y |\n",
      "[g]/2[F/2][^g]/2[F/2][cg]y[^gF]/2[!Q!c/2] [g]/2[F/2][^g]/2[F/2][cgF]/2[!Q!c/2][^g]/2[F/2] |\n",
      "[1F/2c/2F/2c/2 A/2z/2F/2F/2 e/2A/2A/2A/2 A/2F/2z/2e/2 :|2F/2c/2F/2c/2 A/2z/2F/2F/2 e/2A/2A/2A/2 !>(!A/2F/2!>)!z/2!fermata!e/2 \n",
      "|]\n"
     ]
    }
   ],
   "source": [
    "funksolo = abcsolo8patinst16ghost(4, funkBass, funkFill, dyn, funkPat, funkInst, \"Funk 16th feel\")\n",
    "print(funksolo)"
   ]
  },
  {
   "cell_type": "code",
   "execution_count": 103,
   "metadata": {},
   "outputs": [],
   "source": [
    "writetune(\"funkghosttest.abp\", funksolo)"
   ]
  },
  {
   "cell_type": "code",
   "execution_count": 104,
   "metadata": {},
   "outputs": [
    {
     "name": "stdout",
     "output_type": "stream",
     "text": [
      "%%abc-include percussions-JBH.abh\n",
      "\n",
      "I:linebreak $\n",
      "%%flatbeams\n",
      "%%propagate-accidentals not\n",
      "%%pos ornament up\n",
      "%%ornament up\n",
      "%%MIDI fermatafixed\n",
      "\n",
      "#ifdef MIDI\n",
      "#define !>! \"[I:volinc 50]\"\n",
      "#define !Q! \"[I:vol 20]\" \n",
      "                %%%ghost\n",
      "#define !U! \"[I:volinc -20]\" \n",
      "                %%%unaccent\n",
      "#else\n",
      "#define !N! \"\\\"^_\\\"\" \n",
      "                %%%tenuto\n",
      "#define !Q! !(.!!).! \n",
      "                %%%ghost\n",
      "#define !U! !anti!  \n",
      "                %%%unaccent\n",
      "#endif\n",
      "\n",
      "X:1\n",
      "T:Computer-generated \\`Etude for Solo Drum Kit\n",
      "C:abcsolo8patinst16ghost\n",
      "O:2021-11-21T19:43:48.644\n",
      "M:4/4\n",
      "L:1/8\n",
      "Q:\"Funk 16th feel\" 1/4=80\n",
      "K:none clef=perc\n",
      "[V:1 clef=perc, stem=up]     % activate abc2xml.py map\n",
      "%%voicemap drummap  % activate abcm2ps/abc2svg map\n",
      "%%MIDI channel 10   % activate abc2midi map\n",
      "%%MIDI program 0\n",
      "|:!f![^g]/2[F/2][^gF]y[c^g]/2[!Q!c/2][^gF]/2[F/2] [^g]/2[!Q!c/2][^g]/2[!Q!c/2][c^g]/2[F/2][^gF]/2[!Q!c/2] |\n",
      "[^gF]y[^g]y[c^gF]y[^g]y [^g]y[^g]y[c^g]/2[F/2][^g]y |\n",
      "[^gF]/2[F/2][^g]y[c^gF]y[^g]/2[!Q!c/2] [^gF]/2[F/2][^g]/2[F/2][c^gF]/2[!Q!c/2][^g]/2[F/2] |\n",
      "[1c/2e/2e/2e/2 z/2A/2z/2c/2 z/2c/2F/2G/2 G/2z/2G/2G/2 :|2c/2e/2e/2e/2 z/2A/2z/2c/2 z/2c/2F/2G/2 !<(!G/2z/2!<)!G/2G/2 \n",
      "|:!ff!!N![^eF]/2[F/2]z/2[!Q!c/2]!N![c^eF]/2[!Q!c/2][F]y !N![^e]/2[!Q!c/2]z/2[F/2]!N![c^e]/2[F/2]z/2[F/2] |\n",
      "!N![^e]/2[F/2]z/2[!Q!c/2]!N![c^e]/2[F/2]z/2[!Q!c/2] !N![^eF]yz/2[F/2]!N![c^eF]y[F]/2[!Q!c/2] |\n",
      "!N![^eF]y[F]/2[F/2]!N![c^e]/2[!Q!c/2][F]y !N![^eF]/2[!Q!c/2][F]/2[!Q!c/2]!N![c^e]/2[F/2][F]y |\n",
      "[1c/2z/2G/2z/2 c/2z/2A/2G/2 G/2G/2A/2c/2 c/2G/2F/2e/2 :|2c/2z/2G/2z/2 c/2z/2A/2G/2 G/2G/2A/2c/2 !<(!c/2G/2!<)!F/2e/2 \n",
      "|:!f![F]/2[F/2][g]/2[!Q!c/2][cF]/2[!Q!c/2][gF]/2[F/2] z/2[F/2][gF]y[cF]/2[!Q!c/2][gF]/2[F/2] |\n",
      "z/2[!Q!c/2][g]/2[!Q!c/2][cF]/2[F/2][g]/2[F/2] [F]/2[!Q!c/2][gF]y[c]/2[F/2][gF]/2[!Q!c/2] |\n",
      "[F]/2[!Q!c/2][gF]y[c]y[gF]/2[!Q!c/2] z/2[!Q!c/2][g]/2[F/2][c]/2[F/2][g]y |\n",
      "[1A/2c/2e/2c/2 c/2e/2z/2G/2 G/2e/2e/2A/2 A/2A/2e/2F/2 :|2A/2c/2e/2c/2 c/2e/2z/2G/2 G/2e/2e/2A/2 !<(!A/2A/2!<)!e/2F/2 \n",
      "|:!p![g]y[^gF]/2[!Q!c/2][cgF]/2[!Q!c/2][^gF]y [g]/2[F/2][^g]y[cgF]/2[!Q!c/2][^gF]/2[!Q!c/2] |\n",
      "[gF]/2[F/2][^g]y[cgF]/2[F/2][^g]/2[!Q!c/2] [g]/2[!Q!c/2][^gF]y[cgF]y[^gF]y |\n",
      "[g]/2[F/2][^g]/2[F/2][cg]y[^gF]/2[!Q!c/2] [g]/2[F/2][^g]/2[F/2][cgF]/2[!Q!c/2][^g]/2[F/2] |\n",
      "[1F/2c/2F/2c/2 A/2z/2F/2F/2 e/2A/2A/2A/2 A/2F/2z/2e/2 :|2F/2c/2F/2c/2 A/2z/2F/2F/2 e/2A/2A/2A/2 !>(!A/2F/2!>)!z/2!fermata!e/2 \n",
      "|]\n"
     ]
    },
    {
     "data": {
      "text/plain": [
       "Process(`\u001b[4mcat\u001b[24m \u001b[4mfunkghosttest.abp\u001b[24m`, ProcessExited(0))"
      ]
     },
     "execution_count": 104,
     "metadata": {},
     "output_type": "execute_result"
    }
   ],
   "source": [
    "run(`cat funkghosttest.abp`)"
   ]
  },
  {
   "cell_type": "code",
   "execution_count": 105,
   "metadata": {},
   "outputs": [
    {
     "name": "stdout",
     "output_type": "stream",
     "text": [
      "\r\n",
      "(base) C:\\Users\\holden\\Documents\\GitHub\\drum_solo_generator>abcpp funkghosttest.abp funkghosttest-ps.abc \r\n",
      "\r\n",
      "(base) C:\\Users\\holden\\Documents\\GitHub\\drum_solo_generator>abcm2ps.exe -X funkghosttest-ps.abc -O funkghosttest.xhtml \r\n",
      "abcm2ps-8.14.12 (2021-07-14)\r\n",
      "File funkghosttest-ps.abc\r\n",
      "File percussions-JBH.abh\r\n",
      "Output written on funkghosttest.xhtml (1 page, 1 title, 51772 bytes)\r\n",
      "\r\n",
      "(base) C:\\Users\\holden\\Documents\\GitHub\\drum_solo_generator>abcpp -MIDI funkghosttest.abp funkghosttest-midi.abc \r\n"
     ]
    },
    {
     "name": "stderr",
     "output_type": "stream",
     "text": [
      "funkghosttest-ps.abc:29:44: warning: Line overfull (636pt of 628pt)\r\n"
     ]
    },
    {
     "name": "stdout",
     "output_type": "stream",
     "text": [
      "\n",
      "(base) C:\\Users\\holden\\Documents\\GitHub\\drum_solo_generator>abc2midi.exe funkghosttest-midi.abc -o funkghosttest.mid \n",
      "4.59 June 27 2021 abc2midi\n",
      "Warning in line-char 28-6 : instruction !N! ignored\n",
      "Warning in line-char 28-39 : instruction !N! ignored\n",
      "Warning in line-char 28-70 : instruction !N! ignored\n",
      "Warning in line-char 28-102 : instruction !N! ignored\n",
      "Warning in line-char 29-0 : instruction !N! ignored\n",
      "Warning in line-char 29-32 : instruction !N! ignored\n",
      "Warning in line-char 29-66 : instruction !N! ignored\n",
      "Warning in line-char 29-83 : instruction !N! ignored\n",
      "Warning in line-char 30-0 : instruction !N! ignored\n",
      "Warning in line-char 30-19 : instruction !N! ignored\n",
      "Warning in line-char 30-49 : instruction !N! ignored\n",
      "Warning in line-char 30-94 : instruction !N! ignored\n",
      "writing MIDI file funkghosttest.mid\n",
      "Warning in line-char 40-0 : Track 1 Bar 19 has 9/2 units instead of 4 in repeat\n",
      "\n",
      "(base) C:\\Users\\holden\\Documents\\GitHub\\drum_solo_generator>start funkghosttest.mid \n",
      "\n",
      "(base) C:\\Users\\holden\\Documents\\GitHub\\drum_solo_generator>start funkghosttest.xhtml \n"
     ]
    },
    {
     "data": {
      "text/plain": [
       "Process(`\u001b[4mabptest.bat\u001b[24m \u001b[4mfunkghosttest.abp\u001b[24m`, ProcessExited(0))"
      ]
     },
     "execution_count": 105,
     "metadata": {},
     "output_type": "execute_result"
    }
   ],
   "source": [
    "run(`abptest.bat funkghosttest.abp`)"
   ]
  },
  {
   "cell_type": "code",
   "execution_count": null,
   "metadata": {},
   "outputs": [],
   "source": []
  },
  {
   "cell_type": "code",
   "execution_count": null,
   "metadata": {},
   "outputs": [],
   "source": []
  }
 ],
 "metadata": {
  "kernelspec": {
   "display_name": "Julia 1.6.3",
   "language": "julia",
   "name": "julia-1.6"
  },
  "language_info": {
   "file_extension": ".jl",
   "mimetype": "application/julia",
   "name": "julia",
   "version": "1.6.3"
  }
 },
 "nbformat": 4,
 "nbformat_minor": 4
}
