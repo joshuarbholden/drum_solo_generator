{
 "cells": [
  {
   "cell_type": "code",
   "execution_count": 1,
   "metadata": {},
   "outputs": [
    {
     "data": {
      "text/plain": [
       "markovrand (generic function with 1 method)"
      ]
     },
     "execution_count": 1,
     "metadata": {},
     "output_type": "execute_result"
    }
   ],
   "source": [
    "#input a vector corresponding to a probability distribution and output an index according to that distribution\n",
    "function markovrand(nextv)\n",
    "    if round(sum(nextv), digits = 6) != 1.0\n",
    "        error(nextv, \" is not a stochastic vector\")\n",
    "    end\n",
    "    maxstates = length(nextv) - 1\n",
    "    r = rand(Float64)\n",
    "    current = maxstates\n",
    "    for i = 0:maxstates\n",
    "        if r <= nextv[i + 1]\n",
    "            current = i\n",
    "            break\n",
    "        else\n",
    "            r = r - nextv[i + 1]\n",
    "        end\n",
    "    end\n",
    "    return(current)\n",
    "end\n"
   ]
  },
  {
   "cell_type": "code",
   "execution_count": 2,
   "metadata": {},
   "outputs": [
    {
     "data": {
      "text/plain": [
       "bassgen16pairs (generic function with 1 method)"
      ]
     },
     "execution_count": 2,
     "metadata": {},
     "output_type": "execute_result"
    }
   ],
   "source": [
    "#output bass notes in $beats pairs of sixteenth notes\n",
    "function bassgen16pairs(beats, transmat, iv)\n",
    "    nextv = iv\n",
    "    L = []\n",
    "    for j = 1:beats\n",
    "        current = markovrand(nextv)\n",
    "#print(current, \" \")\n",
    "        append!(L, [current])\n",
    "        nextv = transmat[:, current + 1]\n",
    "    end\n",
    "    return(L)\n",
    "end"
   ]
  },
  {
   "cell_type": "code",
   "execution_count": 3,
   "metadata": {},
   "outputs": [
    {
     "data": {
      "text/plain": [
       "bassgen16pairs (generic function with 1 method)"
      ]
     },
     "execution_count": 3,
     "metadata": {},
     "output_type": "execute_result"
    }
   ],
   "source": [
    "#output bass notes in 2*$beats sixteenth notes\n",
    "function bassgen16pairs(beats, transmat, iv)\n",
    "    nextv = iv\n",
    "    L = []\n",
    "    for j = 1:beats\n",
    "        current = markovrand(nextv)\n",
    "#print(current, \" \")\n",
    "        bincurrent = digits(current, base = 2, pad = 2)\n",
    "#print(bincurrent, \"\\n\")\n",
    "        append!(L, [bincurrent[2], bincurrent[1]])\n",
    "        nextv = transmat[:, current + 1]\n",
    "    end\n",
    "    return(L)\n",
    "end\n"
   ]
  },
  {
   "cell_type": "code",
   "execution_count": 4,
   "metadata": {},
   "outputs": [
    {
     "data": {
      "text/plain": [
       "4×4 Matrix{Float64}:\n",
       " 0.1   0.333333  0.333333  1.0\n",
       " 0.0   0.333333  0.0       0.0\n",
       " 0.45  0.333333  0.333333  0.0\n",
       " 0.45  0.0       0.333333  0.0"
      ]
     },
     "execution_count": 4,
     "metadata": {},
     "output_type": "execute_result"
    }
   ],
   "source": [
    "rockBassMatrix = [0.1e0 1//3 1//3 1; 0 1//3 0 0; 0.45e0 1//3 1//3 0; 0.45e0 0 1//3 0]"
   ]
  },
  {
   "cell_type": "code",
   "execution_count": 5,
   "metadata": {},
   "outputs": [
    {
     "data": {
      "text/plain": [
       "4-element Vector{Float64}:\n",
       " 0.1\n",
       " 0.0\n",
       " 0.5\n",
       " 0.4"
      ]
     },
     "execution_count": 5,
     "metadata": {},
     "output_type": "execute_result"
    }
   ],
   "source": [
    "rockBassInitial = [0.1e0,0,0.5e0,0.4e0]"
   ]
  },
  {
   "cell_type": "code",
   "execution_count": 6,
   "metadata": {},
   "outputs": [
    {
     "data": {
      "text/plain": [
       "8-element Vector{Any}:\n",
       " 1\n",
       " 1\n",
       " 0\n",
       " 0\n",
       " 1\n",
       " 0\n",
       " 1\n",
       " 0"
      ]
     },
     "execution_count": 6,
     "metadata": {},
     "output_type": "execute_result"
    }
   ],
   "source": [
    "#test\n",
    "bassgen16pairs(4, rockBassMatrix, rockBassInitial)"
   ]
  },
  {
   "cell_type": "code",
   "execution_count": 42,
   "metadata": {},
   "outputs": [
    {
     "data": {
      "text/plain": [
       "abctime8ride16bass (generic function with 1 method)"
      ]
     },
     "execution_count": 42,
     "metadata": {},
     "output_type": "execute_result"
    }
   ],
   "source": [
    "#input a sixteenth note bass rhythm and an 8th note ride pattern, output abc notation\n",
    "function abctime8ride16bass(L, pattern)\n",
    "    n = length(L)\n",
    "    r = Vector(undef, 10)\n",
    "    r[1] = [\"[^e\",\"[^e\",\"[c^e\",\"[^e\",\"[^e\",\"[^e\",\"[c^e\",\"[^e\"]\n",
    "    r[2] = [\"[^g\",\"[\",\"[c^g\",\"[\",\"[^g\",\"[\",\"[c^g\",\"[\"]\n",
    "    r[3] = [\"[^g^D\",\"[^g\",\"[c^g^D\",\"[^g\",\"[^g^D\",\"[^g\",\"[c^g^D\",\"[^g\"]\n",
    "    r[4] = [\"[^g\",\"[^g^D\",\"[c^g\",\"[^g^D\",\"[^g\",\"[^g^D\",\"[c^g\",\"[^g^D\"]\n",
    "    r[5] = [\"[\",\"[g\",\"[c\",\"[g\",\"[\",\"[g\",\"[c\",\"[g\"]\n",
    "    r[6] = [\"[^e\",\"[_e\",\"[c^e\",\"[_e\",\"[^e\",\"[_e\",\"[c^e\",\"[_e\"]\n",
    "    r[7] = [\"[^e\",\"[^e\",\"[c^e\",\"[^e\",\"[^e\",\"[_e\",\"[c^e\",\"[_e\"]\n",
    "    r[8] = [\"[^e\",\"[^e\",\"[c^e\",\"[^e\",\"[^e\",\"[^e\",\"[c^e\",\"[_e\"]\n",
    "    r[9] = [\"!>![^e\",\"u[^e\",\"!>![c^e\",\"u[^e\",\"!>![^e\",\"u[^e\",\"!>![c^e\",\"u[^e\"]\n",
    "    r[10] = [\"[g^D\",\"[^D\",\"[cg^D\",\"[^D\",\"[g^D\",\"[^D\",\"[cg^D\",\"[^D\"]\n",
    "    c = [\"]y\",\"]/2[F/2]\",\"F]y\",\"F]/2[F/2]\"]\n",
    "    m = [c[L[i] + 1] for i = 1:n]\n",
    "    s = \"\"\n",
    "    for i = 1:n\n",
    "        s = s * r[pattern][(i - 1) % 8 + 1] * m[i]\n",
    "        if i % 4 == 0\n",
    "            s = s * \" \"\n",
    "        end\n",
    "        if i % 8 == 0\n",
    "            s = s * \"|\"\n",
    "        end\n",
    "    end\n",
    "    s = replace(s, \"[]\" => \"z\")\n",
    "    s = replace(s, \"!>!\" => \"!>![I: volinc 50]\")\n",
    "    s = replace(s, \"u\" => \"!anti![I: volinc -20]\")\n",
    "    return(s)\n",
    "end\n"
   ]
  },
  {
   "cell_type": "code",
   "execution_count": 43,
   "metadata": {},
   "outputs": [
    {
     "data": {
      "text/plain": [
       "\"[^g]/2[F/2][^g^D]/2[F/2][c^g]y[^g^D]y [^g]/2[F/2][^g^D]y[c^g]y[^g^D]y |\""
      ]
     },
     "execution_count": 43,
     "metadata": {},
     "output_type": "execute_result"
    }
   ],
   "source": [
    "#test\n",
    "abctime8ride16bass(bassgen16pairs(4, rockBassMatrix, rockBassInitial), 4)"
   ]
  },
  {
   "cell_type": "code",
   "execution_count": 44,
   "metadata": {},
   "outputs": [
    {
     "data": {
      "text/plain": [
       "fill16gen (generic function with 1 method)"
      ]
     },
     "execution_count": 44,
     "metadata": {},
     "output_type": "execute_result"
    }
   ],
   "source": [
    "#output linear fill in $beats number of sixteenth notes\n",
    "function fill16gen(\n",
    "  beats,\n",
    "  transmat1,\n",
    "  transmat2,\n",
    "  iv)\n",
    "    nextv = iv\n",
    "    L = []\n",
    "    for j = 1:beats\n",
    "        current = markovrand(nextv)\n",
    "        append!(L,current)\n",
    "        if j % 2 == 1\n",
    "            nextv = transmat1[1:6, current + 1]\n",
    "        else\n",
    "            nextv = transmat2[1:6, current + 1]\n",
    "        end\n",
    "    end\n",
    "    return(L)\n",
    "end\n"
   ]
  },
  {
   "cell_type": "code",
   "execution_count": 10,
   "metadata": {},
   "outputs": [
    {
     "data": {
      "text/plain": [
       "6×6 Matrix{Float64}:\n",
       " 0.2  0.1  0.2  0.0  0.3  0.2\n",
       " 0.4  0.2  0.0  0.3  0.3  0.2\n",
       " 0.1  0.4  0.2  0.1  0.1  0.2\n",
       " 0.1  0.1  0.4  0.3  0.1  0.2\n",
       " 0.1  0.1  0.2  0.2  0.1  0.2\n",
       " 0.1  0.1  0.0  0.1  0.1  0.0"
      ]
     },
     "execution_count": 10,
     "metadata": {},
     "output_type": "execute_result"
    }
   ],
   "source": [
    "rockFillLeftToRight = [0.2e0 0.1e0 0.2e0 0 0.3e0 0.2e0; 0.4e0 0.2e0 0 0.3e0 0.3e0 0.2e0; 0.1e0 0.4e0 0.2e0 0.1e0 0.1e0 0.2e0; 0.1e0 0.1e0 0.4e0 0.3e0 0.1e0 0.2e0; 0.1e0 0.1e0 0.2e0 0.2e0 0.1e0 0.2e0; 0.1e0 0.1e0 0 0.1e0 0.1e0 0]"
   ]
  },
  {
   "cell_type": "code",
   "execution_count": 11,
   "metadata": {},
   "outputs": [
    {
     "data": {
      "text/plain": [
       "6×6 Matrix{Float64}:\n",
       " 0.4  0.2  0.1  0.1  0.3  0.0\n",
       " 0.2  0.4  0.2  0.2  0.2  0.0\n",
       " 0.1  0.0  0.4  0.1  0.1  0.0\n",
       " 0.0  0.1  0.1  0.4  0.1  0.0\n",
       " 0.2  0.1  0.1  0.1  0.2  0.0\n",
       " 0.1  0.2  0.1  0.1  0.1  1.0"
      ]
     },
     "execution_count": 11,
     "metadata": {},
     "output_type": "execute_result"
    }
   ],
   "source": [
    "rockFillRightToLeft = [0.4e0 0.2e0 0.1e0 0.1e0 0.3e0 0; 0.2e0 0.4e0 0.2e0 0.2e0 0.2e0 0; 0.1e0 0 0.4e0 0.1e0 0.1e0 0; 0 0.1e0 0.1e0 0.4e0 0.1e0 0; 0.2e0 0.1e0 0.1e0 0.1e0 0.2e0 0; 0.1e0 0.2e0 0.1e0 0.1e0 0.1e0 0.10e1]\n"
   ]
  },
  {
   "cell_type": "code",
   "execution_count": 12,
   "metadata": {},
   "outputs": [
    {
     "data": {
      "text/plain": [
       "6-element Vector{Float64}:\n",
       " 0.4\n",
       " 0.4\n",
       " 0.1\n",
       " 0.1\n",
       " 0.0\n",
       " 0.0"
      ]
     },
     "execution_count": 12,
     "metadata": {},
     "output_type": "execute_result"
    }
   ],
   "source": [
    "rockFillInitial = [0.4e0,0.4e0,0.1e0,0.1e0,0,0] #snare, high, mid, low, kick, rest"
   ]
  },
  {
   "cell_type": "code",
   "execution_count": 45,
   "metadata": {},
   "outputs": [
    {
     "data": {
      "text/plain": [
       "abcfill16 (generic function with 1 method)"
      ]
     },
     "execution_count": 45,
     "metadata": {},
     "output_type": "execute_result"
    }
   ],
   "source": [
    "#input a sixteenth note fill and a crescendo/descr indicator, output abc notation\n",
    "function abcfill16(L, crdc)\n",
    "    n = length(L)\n",
    "    c = [\"c/2\",\"e/2\",\"A/2\",\"G/2\",\"F/2\",\"z/2\"]\n",
    "    m = [c[L[i] + 1] for i = 1:n]\n",
    "    s = \"\"\n",
    "    for i = 1:n\n",
    "        s = s * m[i]\n",
    "        if i % 4 == 0\n",
    "            s = s * \" \"\n",
    "        end\n",
    "        if i % 16 == 12\n",
    "            if crdc < 0\n",
    "                s = s * \"!>(!\"\n",
    "            elseif 0 < crdc\n",
    "                s = s * \"!<(!\"\n",
    "            end\n",
    "        end\n",
    "        if i % 16 == 14\n",
    "            if crdc < 0\n",
    "                s = s * \"!>)!\"\n",
    "            elseif 0 < crdc\n",
    "                s = s * \"!<)!\"\n",
    "            end\n",
    "        end\n",
    "    end\n",
    "    return(s)\n",
    "end\n"
   ]
  },
  {
   "cell_type": "code",
   "execution_count": 46,
   "metadata": {},
   "outputs": [
    {
     "data": {
      "text/plain": [
       "\"e/2e/2e/2e/2 e/2G/2A/2A/2 e/2G/2e/2F/2 A/2F/2F/2c/2 \""
      ]
     },
     "execution_count": 46,
     "metadata": {},
     "output_type": "execute_result"
    }
   ],
   "source": [
    "#test\n",
    "abcfill16(fill16gen(16, rockFillLeftToRight, rockFillRightToLeft, rockFillInitial), 0)"
   ]
  },
  {
   "cell_type": "code",
   "execution_count": 47,
   "metadata": {},
   "outputs": [
    {
     "data": {
      "text/plain": [
       "abctune8ride16bass (generic function with 1 method)"
      ]
     },
     "execution_count": 47,
     "metadata": {},
     "output_type": "execute_result"
    }
   ],
   "source": [
    "#output time, fill, time, fill with cresc/decr in abc notation\n",
    "function abctune8ride16bass(\n",
    "  vol,\n",
    "  bass,\n",
    "  time,\n",
    "  fill,\n",
    "  crdc)\n",
    "    fp = [\"!pp!\",\"!p!\",\"!mp!\",\"!mf!\",\"!f!\",\"!ff!\"]\n",
    "    return(\"|:\" * fp[vol] * abctime8ride16bass(bass, time) * \"[1\" * abcfill16(fill, 0) * \":|2\" * abcfill16(fill, crdc))\n",
    "end\n"
   ]
  },
  {
   "cell_type": "code",
   "execution_count": 16,
   "metadata": {},
   "outputs": [
    {
     "data": {
      "text/plain": [
       "insert (generic function with 1 method)"
      ]
     },
     "execution_count": 16,
     "metadata": {},
     "output_type": "execute_result"
    }
   ],
   "source": [
    "#utility function, insert one string into another\n",
    "function insert(\n",
    "    s::String,\n",
    "    pos::Integer,\n",
    "    sub::String)\n",
    "    return s[1:pos] * sub * s[pos+1:end]\n",
    "end\n",
    "    "
   ]
  },
  {
   "cell_type": "code",
   "execution_count": 41,
   "metadata": {},
   "outputs": [
    {
     "data": {
      "text/plain": [
       "\"abcdxefg\""
      ]
     },
     "execution_count": 41,
     "metadata": {},
     "output_type": "execute_result"
    }
   ],
   "source": [
    "#test\n",
    "insert(\"abcdefg\", 4, \"x\")"
   ]
  },
  {
   "cell_type": "code",
   "execution_count": 48,
   "metadata": {},
   "outputs": [
    {
     "data": {
      "text/plain": [
       "abcsolo8ride16bass (generic function with 1 method)"
      ]
     },
     "execution_count": 48,
     "metadata": {},
     "output_type": "execute_result"
    }
   ],
   "source": [
    "#put it all together, output abc notation\n",
    "function abcsolo8ride16bass(\n",
    "  len::Int64,\n",
    "  bassmatrix::Matrix{Float64},\n",
    "  bassinitial::Vector{Float64},\n",
    "  fillRightToLeft::Matrix{Float64},\n",
    "  fillLeftToRight::Matrix{Float64},\n",
    "  fillInitial::Vector{Float64},\n",
    "  dynmatrix::Matrix{Float64},\n",
    "  dynfinal::Matrix{Float64},\n",
    "  dyninitial::Vector{Float64},\n",
    "  timematrix::Matrix{Float64},\n",
    "  timeinitial::Vector{Float64})\n",
    "    s = \"\"\n",
    "    curdyn = markovrand(dyninitial)\n",
    "    curtime = markovrand(timeinitial)\n",
    "    for i = 1:len\n",
    "        vol = div(curdyn, 2) + 1\n",
    "        bass = bassgen16pairs(24, bassmatrix, bassinitial)\n",
    "        time = curtime + 1\n",
    "        fill = fill16gen(16, fillRightToLeft, fillLeftToRight, fillInitial)\n",
    "        crdc = 2 * mod(curdyn, 2) - 1\n",
    "        s = s * abctune8ride16bass(vol, bass, time, fill, crdc)\n",
    "        if i + 1 < len\n",
    "            curdyn = markovrand(dynmatrix[:, curdyn + 1])\n",
    "        else\n",
    "            curdyn = markovrand(dynfinal[:, curdyn + 1])\n",
    "        end\n",
    "        curtime = markovrand(timematrix[:, curtime + 1])\n",
    "    end\n",
    "    s = insert(s, length(s) - 1, \"-|\")\n",
    "    s = s * s[end-5] * \"8|]\"\n",
    "    return(s)\n",
    "end\n"
   ]
  },
  {
   "cell_type": "code",
   "execution_count": 49,
   "metadata": {},
   "outputs": [
    {
     "data": {
      "text/plain": [
       "writetune (generic function with 1 method)"
      ]
     },
     "execution_count": 49,
     "metadata": {},
     "output_type": "execute_result"
    }
   ],
   "source": [
    "#write a string s of abc notation to a file fname\n",
    "function writetune(fname, s)\n",
    "    h = open(\"header.abc\", \"r\")\n",
    "    f = open(fname, \"w\")\n",
    "    for header in eachline(h)\n",
    "        print(f, header * \"\\n\")\n",
    "    end\n",
    "    close(h)\n",
    "    print(f, s * \"\\n\")\n",
    "    return(close(f))\n",
    "end\n"
   ]
  },
  {
   "cell_type": "code",
   "execution_count": null,
   "metadata": {},
   "outputs": [],
   "source": []
  },
  {
   "cell_type": "code",
   "execution_count": 20,
   "metadata": {},
   "outputs": [
    {
     "data": {
      "text/plain": [
       "12×12 Matrix{Float64}:\n",
       " 0.0  0.0  0.2  0.2  0.1  0.1  0.0  0.0  0.0  0.0  0.0  0.0\n",
       " 0.0  0.0  0.2  0.1  0.1  0.1  0.0  0.0  0.0  0.0  0.0  0.0\n",
       " 0.2  0.2  0.0  0.0  0.2  0.1  0.1  0.1  0.1  0.2  0.1  0.2\n",
       " 0.2  0.2  0.0  0.0  0.2  0.1  0.1  0.1  0.2  0.1  0.2  0.1\n",
       " 0.0  0.0  0.1  0.2  0.0  0.0  0.2  0.1  0.0  0.0  0.1  0.2\n",
       " 0.0  0.0  0.2  0.2  0.0  0.0  0.2  0.1  0.0  0.0  0.2  0.1\n",
       " 0.1  0.2  0.0  0.0  0.1  0.2  0.0  0.0  0.2  0.2  0.0  0.0\n",
       " 0.2  0.1  0.0  0.0  0.1  0.2  0.0  0.0  0.2  0.1  0.0  0.0\n",
       " 0.1  0.2  0.1  0.2  0.1  0.1  0.1  0.2  0.0  0.0  0.2  0.2\n",
       " 0.2  0.1  0.2  0.1  0.1  0.1  0.1  0.2  0.0  0.0  0.2  0.2\n",
       " 0.0  0.0  0.0  0.0  0.0  0.0  0.1  0.1  0.1  0.2  0.0  0.0\n",
       " 0.0  0.0  0.0  0.0  0.0  0.0  0.1  0.1  0.2  0.2  0.0  0.0"
      ]
     },
     "execution_count": 20,
     "metadata": {},
     "output_type": "execute_result"
    }
   ],
   "source": [
    "dynMatrix = [0 0 0.2e0 0.2e0 0.1e0 0.1e0 0 0 0 0 0 0; 0 0 0.2e0 0.1e0 0.1e0 0.1e0 0 0 0 0 0 0; 0.2e0 0.2e0 0 0 0.2e0 0.1e0 0.1e0 0.1e0 0.1e0 0.2e0 0.1e0 0.2e0; 0.2e0 0.2e0 0 0 0.2e0 0.1e0 0.1e0 0.1e0 0.2e0 0.1e0 0.2e0 0.1e0; 0 0 0.1e0 0.2e0 0 0 0.2e0 0.1e0 0 0 0.1e0 0.2e0; 0 0 0.2e0 0.2e0 0 0 0.2e0 0.1e0 0 0 0.2e0 0.1e0; 0.1e0 0.2e0 0 0 0.1e0 0.2e0 0 0 0.2e0 0.2e0 0 0; 0.2e0 0.1e0 0 0 0.1e0 0.2e0 0 0 0.2e0 0.1e0 0 0; 0.1e0 0.2e0 0.1e0 0.2e0 0.1e0 0.1e0 0.1e0 0.2e0 0 0 0.2e0 0.2e0; 0.2e0 0.1e0 0.2e0 0.1e0 0.1e0 0.1e0 0.1e0 0.2e0 0 0 0.2e0 0.2e0; 0 0 0 0 0 0 0.1e0 0.1e0 0.1e0 0.2e0 0 0; 0 0 0 0 0 0 0.1e0 0.1e0 0.2e0 0.2e0 0 0]\n"
   ]
  },
  {
   "cell_type": "code",
   "execution_count": 21,
   "metadata": {},
   "outputs": [
    {
     "data": {
      "text/plain": [
       "12×12 Matrix{Float64}:\n",
       " 0.1  0.2  0.2  0.2  0.1  0.1  0.1  0.1  0.1  0.2  0.0  0.0\n",
       " 0.2  0.1  0.2  0.1  0.1  0.1  0.1  0.1  0.2  0.1  0.0  0.0\n",
       " 0.2  0.2  0.0  0.0  0.2  0.1  0.2  0.1  0.2  0.2  0.1  0.2\n",
       " 0.2  0.2  0.0  0.0  0.2  0.1  0.2  0.1  0.2  0.1  0.2  0.1\n",
       " 0.0  0.0  0.0  0.0  0.0  0.0  0.0  0.0  0.0  0.0  0.0  0.0\n",
       " 0.0  0.0  0.0  0.0  0.0  0.0  0.0  0.0  0.0  0.0  0.0  0.0\n",
       " 0.0  0.0  0.0  0.0  0.0  0.0  0.0  0.0  0.0  0.0  0.0  0.0\n",
       " 0.0  0.0  0.0  0.0  0.0  0.0  0.0  0.0  0.0  0.0  0.0  0.0\n",
       " 0.1  0.2  0.1  0.2  0.1  0.2  0.1  0.2  0.0  0.0  0.2  0.2\n",
       " 0.2  0.1  0.2  0.2  0.1  0.2  0.1  0.2  0.0  0.0  0.2  0.2\n",
       " 0.0  0.0  0.1  0.2  0.1  0.1  0.1  0.1  0.1  0.2  0.1  0.2\n",
       " 0.0  0.0  0.2  0.1  0.1  0.1  0.1  0.1  0.2  0.2  0.2  0.1"
      ]
     },
     "execution_count": 21,
     "metadata": {},
     "output_type": "execute_result"
    }
   ],
   "source": [
    "dynFinal = [0.1e0 0.2e0 0.2e0 0.2e0 0.1e0 0.1e0 0.1e0 0.1e0 0.1e0 0.2e0 0 0; 0.2e0 0.1e0 0.2e0 0.1e0 0.1e0 0.1e0 0.1e0 0.1e0 0.2e0 0.1e0 0 0; 0.2e0 0.2e0 0 0 0.2e0 0.1e0 0.2e0 0.1e0 0.2e0 0.2e0 0.1e0 0.2e0; 0.2e0 0.2e0 0 0 0.2e0 0.1e0 0.2e0 0.1e0 0.2e0 0.1e0 0.2e0 0.1e0; 0 0 0 0 0 0 0 0 0 0 0 0; 0 0 0 0 0 0 0 0 0 0 0 0; 0 0 0 0 0 0 0 0 0 0 0 0; 0 0 0 0 0 0 0 0 0 0 0 0; 0.1e0 0.2e0 0.1e0 0.2e0 0.1e0 0.2e0 0.1e0 0.2e0 0 0 0.2e0 0.2e0; 0.2e0 0.1e0 0.2e0 0.2e0 0.1e0 0.2e0 0.1e0 0.2e0 0 0 0.2e0 0.2e0; 0 0 0.1e0 0.2e0 0.1e0 0.1e0 0.1e0 0.1e0 0.1e0 0.2e0 0.1e0 0.2e0; 0 0 0.2e0 0.1e0 0.1e0 0.1e0 0.1e0 0.1e0 0.2e0 0.2e0 0.2e0 0.1e0]\n"
   ]
  },
  {
   "cell_type": "code",
   "execution_count": 22,
   "metadata": {},
   "outputs": [
    {
     "data": {
      "text/plain": [
       "12-element Vector{Float64}:\n",
       " 0.05\n",
       " 0.05\n",
       " 0.1\n",
       " 0.1\n",
       " 0.1\n",
       " 0.1\n",
       " 0.1\n",
       " 0.1\n",
       " 0.1\n",
       " 0.1\n",
       " 0.05\n",
       " 0.05"
      ]
     },
     "execution_count": 22,
     "metadata": {},
     "output_type": "execute_result"
    }
   ],
   "source": [
    "dynInitial = [0.5e-1,0.5e-1,0.1e0,0.1e0,0.1e0,0.1e0,0.1e0,0.1e0,0.1e0,0.1e0,0.5e-1,0.5e-1]\n",
    "#pp>, pp<, p>, p<, mp>, mp<, mf>, mf<, f>, f<, ff>, ff<"
   ]
  },
  {
   "cell_type": "code",
   "execution_count": 23,
   "metadata": {},
   "outputs": [
    {
     "data": {
      "text/plain": [
       "10×10 Matrix{Float64}:\n",
       " 0.0  0.1  0.1  0.1  0.2  0.2  0.2  0.2  0.0  0.2\n",
       " 0.2  0.0  0.2  0.2  0.1  0.2  0.2  0.2  0.2  0.1\n",
       " 0.1  0.1  0.0  0.0  0.1  0.1  0.1  0.1  0.1  0.1\n",
       " 0.1  0.1  0.0  0.0  0.1  0.1  0.1  0.1  0.1  0.1\n",
       " 0.2  0.2  0.2  0.2  0.0  0.1  0.1  0.1  0.2  0.0\n",
       " 0.0  0.0  0.0  0.0  0.0  0.0  0.0  0.0  0.0  0.0\n",
       " 0.0  0.0  0.0  0.0  0.0  0.0  0.0  0.0  0.0  0.0\n",
       " 0.3  0.3  0.3  0.3  0.3  0.0  0.1  0.1  0.3  0.3\n",
       " 0.0  0.1  0.1  0.1  0.2  0.1  0.1  0.1  0.0  0.2\n",
       " 0.1  0.1  0.1  0.1  0.0  0.2  0.1  0.1  0.1  0.0"
      ]
     },
     "execution_count": 23,
     "metadata": {},
     "output_type": "execute_result"
    }
   ],
   "source": [
    "rockRideMatrix = [0 0.1e0 0.1e0 0.1e0 0.2e0 0.2e0 0.2e0 0.2e0 0 0.2e0; 0.2e0 0 0.2e0 0.2e0 0.1e0 0.2e0 0.2e0 0.2e0 0.2e0 0.1e0; 0.1e0 0.1e0 0 0 0.1e0 0.1e0 0.1e0 0.1e0 0.1e0 0.1e0; 0.1e0 0.1e0 0 0 0.1e0 0.1e0 0.1e0 0.1e0 0.1e0 0.1e0; 0.2e0 0.2e0 0.2e0 0.2e0 0 0.1e0 0.1e0 0.1e0 0.2e0 0; 0 0 0 0 0 0 0 0 0 0; 0 0 0 0 0 0 0 0 0 0; 0.3e0 0.3e0 0.3e0 0.3e0 0.3e0 0 0.1e0 0.1e0 0.3e0 0.3e0; 0 0.1e0 0.1e0 0.1e0 0.2e0 0.1e0 0.1e0 0.1e0 0 0.2e0; 0.1e0 0.1e0 0.1e0 0.1e0 0 0.2e0 0.1e0 0.1e0 0.1e0 0]\n"
   ]
  },
  {
   "cell_type": "code",
   "execution_count": 24,
   "metadata": {},
   "outputs": [
    {
     "data": {
      "text/plain": [
       "10-element Vector{Float64}:\n",
       " 0.2\n",
       " 0.2\n",
       " 0.0\n",
       " 0.0\n",
       " 0.1\n",
       " 0.0\n",
       " 0.0\n",
       " 0.3\n",
       " 0.2\n",
       " 0.0"
      ]
     },
     "execution_count": 24,
     "metadata": {},
     "output_type": "execute_result"
    }
   ],
   "source": [
    "rockRideInitial = [0.2e0,0.2e0,0,0,0.1e0,0,0,0.3e0,0.2e0,0]\n"
   ]
  },
  {
   "cell_type": "code",
   "execution_count": 50,
   "metadata": {},
   "outputs": [
    {
     "data": {
      "text/plain": [
       "\"|:!f![^e]/2[F/2][^e]y[c^e]/2[F/2][^e]y [^e]/2[F/2][^e]y[c^e]/2[F/2][^e]y |[^e]y[^e]y[c^e]/2[F/2][^e]y [^e]y[^e]y[c^e]/2[F/2][^e]/2[F/2] |[^e]y[^e]y[c^e]/2[F/2][^e]/2[F/2] [^e]y[^e]y[c^e]/2[F/2][^e]/2[F/2] |[^e]y[^e]y[c^e]y[^e]y [^e]/2[F/2][^e]/2[F/2][c^e]y[^e]y |[^e]/2[F/2][^e]y[c^e]/2[F/2][^e]/2[F/2] [^e]y[^e]y[c^e]y[^e]y |[^e]/2[F/2][^e]y[c^e]/2[F/2][^e]y [^e]y[^e]y[c^e]/2[F/2][^e]y |[1c/2e/2c/2e/2 e/2e/2e/2e/2 z/2z/2c/2F/2 F/2A/2c/2F/2 :|2c/2e/2c/2e/2 e/2e/2e/2e/2 z/2z/2c/2F/2 !>(!F/2A/2!>)!c/2F/2 |:!ff!z/2[F/2][g]y[c]/2[F/2][g]y z/2[F/2][g]/2[F/2][c]y[g]y |z/2[F/2][g]/2[F/2][c]y[g]y z/2[F/2][g]/2[F/2][c]y[g]y |z/2[F/2][g]/2[F/2][c]y[g]y z/2[F/2][g]/2[F/2][c]y[g]y |z/2[F/2][g]/2[F/2][c]y[g]y z/2[F/2][g]/2[F/2][c]y[g]y |z/2[F/2][g]y[c]/2[F/2][g]y z/2[F/2][g]y[c]y[g]y |z/2[F/2][g]/2[F/2][c]y[g]y z/2[F/2][g]y[c]/2[F/2][g]/2[F/2] |[1e/2F/2e/2z/2 c/2c/2z/2z/2 G/2G/2e/2e/2 z/2z/2G/2F/2 :|2e/2F/2e/2z/2 c/2c/2z/2z/2 G/2G/2e/2e/2 !<(!z/2z/2!<)!G/2F/2 |:!p![^e]/2[F/2][^e]/2[F/2][c^e]y[^e]y [^e]/2[F/2][^e]/2[F/2][c^e]y[^e]y |[^e]/2[F/2][^e]/2[F/2][c^e]y[^e]y [^e]/2[F/2][^e]y[c^e]y[^e]y |[^e]/2[F/2][^e]y[c^e]/2[F/2][^e]y [^e]/2[F/2][^e]y[c^e]y[^e]y |[^e]/2[F/2][^e]y[c^e]/2[F/2][^e]/2[F/2] [^e]y[^e]y[c^e]/2[F/2][^e]y |[^e]/2[F/2][^e]y[c^e]/2[F/2][^e]/2[F/2] [^e]y[^e]y[c^e]y[^e]y |[^e]/2[F/2][^e]y[c^e]y[^e]y [^e]/2[F/2][^e]/2[F/2][c^e]y[^e]y |[1c/2e/2e/2G/2 e/2G/2G/2A/2 G/2e/2c/2c/2 e/2e/2A/2e/2 :|2c/2e/2e/2G/2 e/2G/2G/2A/2 G/2e/2c/2c/2 !>(!e/2e/2!>)!A/2e/2 |:!f![^g]/2[F/2][^g^D]y[c^g]y[^g^D]y [^g]/2[F/2][^g^D]y[c^g]/2[F/2][^g^D]y |[^g]/2[F/2][^g^D]y[c^g]/2[F/2][^g^D]y [^g]/2[F/2][^g^D]y[c^g]/2[F/2][^g^D]/2[F/2] |[^g]y[^g^D]y[c^g]/2[F/2][^g^D]y [^g]/2[F/2][^g^D]y[c^g]/2[F/2][^g^D]y |[^g]/2[F/2][^g^D]y[c^g]/2[F/2][^g^D]y [^g]y[^g^D]y[c^g]/2[F/2][^g^D]/2[F/2] |[^g]y[^g^D]y[c^g]/2[F/2][^g^D]/2[F/2] [^g]y[^g^D]y[c^g]/2[F/2][^g^D]/2[F/2] |[^g]y[^g^D]y[c^g]y[^g^D]y [^g]/2[F/2][^g^D]y[c^g]/2[F/2][^g^D]/2[F/2] |[1A/2F/2G/2e/2 e/2F/2c/2F/2 A/2z/2e/2z/2 A/2e/2F/2F/2 :|2A/2F/2G/2e/2 e/2F/2c/2F/2 A/2z/2e/2z/2 !<(!A/2e/2!<)!F/2F/2-| F8|]\""
      ]
     },
     "execution_count": 50,
     "metadata": {},
     "output_type": "execute_result"
    }
   ],
   "source": [
    "solo = abcsolo8ride16bass(4, rockBassMatrix, rockBassInitial, rockFillRightToLeft, rockFillLeftToRight, rockFillInitial, dynMatrix, dynFinal, dynInitial, rockRideMatrix, rockRideInitial)"
   ]
  },
  {
   "cell_type": "code",
   "execution_count": 26,
   "metadata": {},
   "outputs": [
    {
     "ename": "LoadError",
     "evalue": "SystemError: opening file \"header.abc\": No such file or directory",
     "output_type": "error",
     "traceback": [
      "SystemError: opening file \"header.abc\": No such file or directory",
      "",
      "Stacktrace:",
      "  [1] systemerror(p::String, errno::Int32; extrainfo::Nothing)",
      "    @ Base .\\error.jl:168",
      "  [2] #systemerror#62",
      "    @ .\\error.jl:167 [inlined]",
      "  [3] systemerror",
      "    @ .\\error.jl:167 [inlined]",
      "  [4] open(fname::String; lock::Bool, read::Bool, write::Nothing, create::Nothing, truncate::Nothing, append::Nothing)",
      "    @ Base .\\iostream.jl:293",
      "  [5] open(fname::String, mode::String; lock::Bool)",
      "    @ Base .\\iostream.jl:355",
      "  [6] open",
      "    @ .\\iostream.jl:355 [inlined]",
      "  [7] writetune(fname::String, s::String)",
      "    @ Main .\\In[19]:3",
      "  [8] top-level scope",
      "    @ In[26]:1",
      "  [9] eval",
      "    @ .\\boot.jl:360 [inlined]",
      " [10] include_string(mapexpr::typeof(REPL.softscope), mod::Module, code::String, filename::String)",
      "    @ Base .\\loading.jl:1116"
     ]
    }
   ],
   "source": [
    "writetune(\"rocktest.abc\", solo)"
   ]
  },
  {
   "cell_type": "code",
   "execution_count": 27,
   "metadata": {},
   "outputs": [
    {
     "name": "stdout",
     "output_type": "stream",
     "text": [
      "\n",
      "(base) C:\\Users\\holden\\Documents\\GitHub\\drum_solo_generator>abcm2ps.exe -X rocktest.abc -O rocktest.xhtml \n",
      "abcm2ps-8.14.12 (2021-07-14)\n",
      "\n",
      "(base) C:\\Users\\holden\\Documents\\GitHub\\drum_solo_generator>abc2midi.exe rocktest.abc -o rocktest.mid \n"
     ]
    },
    {
     "name": "stderr",
     "output_type": "stream",
     "text": [
      "error: Cannot read the input file 'rocktest.abc'\r\n",
      "error: Nothing to generate!\r\n"
     ]
    },
    {
     "name": "stdout",
     "output_type": "stream",
     "text": [
      "4.59 June 27 2021 abc2midi\n",
      "Failed to open file rocktest.abc\n",
      "\n",
      "(base) C:\\Users\\holden\\Documents\\GitHub\\drum_solo_generator>start rocktest.mid \n",
      "\n",
      "(base) C:\\Users\\holden\\Documents\\GitHub\\drum_solo_generator>start rocktest.xhtml \n"
     ]
    },
    {
     "name": "stderr",
     "output_type": "stream",
     "text": [
      "The system cannot find the file rocktest.mid.\n",
      "The system cannot find the file rocktest.xhtml.\n"
     ]
    },
    {
     "ename": "LoadError",
     "evalue": "failed process: Process(`\u001b[4mabctest.bat\u001b[24m \u001b[4mrocktest.abc\u001b[24m`, ProcessExited(1)) [1]\n",
     "output_type": "error",
     "traceback": [
      "failed process: Process(`\u001b[4mabctest.bat\u001b[24m \u001b[4mrocktest.abc\u001b[24m`, ProcessExited(1)) [1]\n",
      "",
      "Stacktrace:",
      " [1] pipeline_error",
      "   @ .\\process.jl:525 [inlined]",
      " [2] run(::Cmd; wait::Bool)",
      "   @ Base .\\process.jl:440",
      " [3] run(::Cmd)",
      "   @ Base .\\process.jl:438",
      " [4] top-level scope",
      "   @ In[27]:1",
      " [5] eval",
      "   @ .\\boot.jl:360 [inlined]",
      " [6] include_string(mapexpr::typeof(REPL.softscope), mod::Module, code::String, filename::String)",
      "   @ Base .\\loading.jl:1116"
     ]
    }
   ],
   "source": [
    "run(`abctest.bat rocktest.abc`)"
   ]
  },
  {
   "cell_type": "code",
   "execution_count": 28,
   "metadata": {},
   "outputs": [
    {
     "data": {
      "text/plain": [
       "4×4 Matrix{Float64}:\n",
       " 0.1  0.333333  0.25  0.5\n",
       " 0.3  0.333333  0.25  0.5\n",
       " 0.3  0.333333  0.25  0.0\n",
       " 0.3  0.0       0.25  0.0"
      ]
     },
     "execution_count": 28,
     "metadata": {},
     "output_type": "execute_result"
    }
   ],
   "source": [
    "funkBassMatrix = [0.1e0 1//3 0.25e0 0.5e0; 0.3e0 1//3 0.25e0 0.5e0; 0.3e0 1//3 0.25e0 0; 0.3e0 0 0.25e0 0]"
   ]
  },
  {
   "cell_type": "code",
   "execution_count": 29,
   "metadata": {},
   "outputs": [
    {
     "data": {
      "text/plain": [
       "4-element Vector{Float64}:\n",
       " 0.1\n",
       " 0.1\n",
       " 0.4\n",
       " 0.4"
      ]
     },
     "execution_count": 29,
     "metadata": {},
     "output_type": "execute_result"
    }
   ],
   "source": [
    "funkBassInitial = [0.1e0,0.1e0,0.4e0,0.4e0]"
   ]
  },
  {
   "cell_type": "code",
   "execution_count": 30,
   "metadata": {},
   "outputs": [
    {
     "data": {
      "text/plain": [
       "6×6 Matrix{Float64}:\n",
       " 0.2  0.1  0.1  0.0  0.3  0.2\n",
       " 0.4  0.2  0.0  0.3  0.3  0.2\n",
       " 0.1  0.4  0.2  0.1  0.1  0.2\n",
       " 0.1  0.1  0.4  0.3  0.1  0.2\n",
       " 0.1  0.1  0.1  0.2  0.1  0.1\n",
       " 0.1  0.1  0.2  0.1  0.1  0.1"
      ]
     },
     "execution_count": 30,
     "metadata": {},
     "output_type": "execute_result"
    }
   ],
   "source": [
    "funkFillLeftToRight = [0.2e0 0.1e0 0.1e0 0 0.3e0 0.2e0; 0.4e0 0.2e0 0 0.3e0 0.3e0 0.2e0; 0.1e0 0.4e0 0.2e0 0.1e0 0.1e0 0.2e0; 0.1e0 0.1e0 0.4e0 0.3e0 0.1e0 0.2e0; 0.1e0 0.1e0 0.1e0 0.2e0 0.1e0 0.1e0; 0.1e0 0.1e0 0.2e0 0.1e0 0.1e0 0.1e0]"
   ]
  },
  {
   "cell_type": "code",
   "execution_count": 31,
   "metadata": {},
   "outputs": [
    {
     "data": {
      "text/plain": [
       "6×6 Matrix{Float64}:\n",
       " 0.4  0.2  0.1  0.1  0.3  0.2\n",
       " 0.2  0.4  0.2  0.2  0.2  0.2\n",
       " 0.1  0.0  0.4  0.1  0.1  0.2\n",
       " 0.0  0.1  0.1  0.4  0.1  0.2\n",
       " 0.2  0.1  0.1  0.1  0.2  0.1\n",
       " 0.1  0.2  0.1  0.1  0.1  0.1"
      ]
     },
     "execution_count": 31,
     "metadata": {},
     "output_type": "execute_result"
    }
   ],
   "source": [
    "funkFillRightToLeft = [0.4e0 0.2e0 0.1e0 0.1e0 0.3e0 0.2e0; 0.2e0 0.4e0 0.2e0 0.2e0 0.2e0 0.2e0; 0.1e0 0 0.4e0 0.1e0 0.1e0 0.2e0; 0 0.1e0 0.1e0 0.4e0 0.1e0 0.2e0; 0.2e0 0.1e0 0.1e0 0.1e0 0.2e0 0.1e0; 0.1e0 0.2e0 0.1e0 0.1e0 0.1e0 0.1e0]\n"
   ]
  },
  {
   "cell_type": "code",
   "execution_count": 32,
   "metadata": {},
   "outputs": [
    {
     "data": {
      "text/plain": [
       "6-element Vector{Float64}:\n",
       " 0.3\n",
       " 0.3\n",
       " 0.1\n",
       " 0.1\n",
       " 0.1\n",
       " 0.1"
      ]
     },
     "execution_count": 32,
     "metadata": {},
     "output_type": "execute_result"
    }
   ],
   "source": [
    "funkFillInitial = [0.3e0,0.3e0,0.1e0,0.1e0,0.1e0,0.1e0]"
   ]
  },
  {
   "cell_type": "code",
   "execution_count": 33,
   "metadata": {},
   "outputs": [
    {
     "data": {
      "text/plain": [
       "10×10 Matrix{Float64}:\n",
       " 0.0  0.1  0.1  0.1  0.2  0.2  0.2  0.2  0.0  0.2\n",
       " 0.2  0.0  0.2  0.2  0.1  0.2  0.2  0.2  0.2  0.1\n",
       " 0.1  0.1  0.0  0.0  0.1  0.1  0.1  0.1  0.1  0.1\n",
       " 0.1  0.1  0.0  0.0  0.1  0.1  0.1  0.1  0.1  0.1\n",
       " 0.2  0.2  0.2  0.2  0.0  0.1  0.1  0.1  0.2  0.0\n",
       " 0.1  0.1  0.1  0.1  0.1  0.0  0.1  0.1  0.1  0.1\n",
       " 0.1  0.1  0.1  0.1  0.1  0.0  0.0  0.0  0.1  0.1\n",
       " 0.1  0.1  0.1  0.1  0.1  0.0  0.0  0.0  0.1  0.1\n",
       " 0.0  0.1  0.1  0.1  0.2  0.1  0.1  0.1  0.0  0.2\n",
       " 0.1  0.1  0.1  0.1  0.0  0.2  0.1  0.1  0.1  0.0"
      ]
     },
     "execution_count": 33,
     "metadata": {},
     "output_type": "execute_result"
    }
   ],
   "source": [
    "funkRideMatrix = [0 0.1e0 0.1e0 0.1e0 0.2e0 0.2e0 0.2e0 0.2e0 0 0.2e0; 0.2e0 0 0.2e0 0.2e0 0.1e0 0.2e0 0.2e0 0.2e0 0.2e0 0.1e0; 0.1e0 0.1e0 0 0 0.1e0 0.1e0 0.1e0 0.1e0 0.1e0 0.1e0; 0.1e0 0.1e0 0 0 0.1e0 0.1e0 0.1e0 0.1e0 0.1e0 0.1e0; 0.2e0 0.2e0 0.2e0 0.2e0 0 0.1e0 0.1e0 0.1e0 0.2e0 0; 0.1e0 0.1e0 0.1e0 0.1e0 0.1e0 0 0.1e0 0.1e0 0.1e0 0.1e0; 0.1e0 0.1e0 0.1e0 0.1e0 0.1e0 0 0 0 0.1e0 0.1e0; 0.1e0 0.1e0 0.1e0 0.1e0 0.1e0 0 0 0 0.1e0 0.1e0; 0 0.1e0 0.1e0 0.1e0 0.2e0 0.1e0 0.1e0 0.1e0 0 0.2e0; 0.1e0 0.1e0 0.1e0 0.1e0 0 0.2e0 0.1e0 0.1e0 0.1e0 0]\n"
   ]
  },
  {
   "cell_type": "code",
   "execution_count": 34,
   "metadata": {},
   "outputs": [
    {
     "data": {
      "text/plain": [
       "10-element Vector{Float64}:\n",
       " 0.2\n",
       " 0.2\n",
       " 0.0\n",
       " 0.0\n",
       " 0.1\n",
       " 0.1\n",
       " 0.1\n",
       " 0.1\n",
       " 0.2\n",
       " 0.0"
      ]
     },
     "execution_count": 34,
     "metadata": {},
     "output_type": "execute_result"
    }
   ],
   "source": [
    "funkRideInitial = [0.2e0,0.2e0,0,0,0.1e0,0.1e0,0.1e0,0.1e0,0.2e0,0]"
   ]
  },
  {
   "cell_type": "code",
   "execution_count": 35,
   "metadata": {},
   "outputs": [
    {
     "data": {
      "text/plain": [
       "\"|:!pp![^e]/2[F/2][^e]/2[F/2][c^e]y[^e]/2[F/2] [^e]y[^e]/2[F/2][c^e]y[^e]/2[F/2] |[^e]/2[F/2][^e]y[c^e]/2[F/2][^e]y [^e]y[^e]y[c^e]y[^e]y |[^e]/2[F/2][^e]y[c^e]y[^e]/2[F/2] [^e]y[^e]y[c^e]/2[F/2][^e]y |[^e]y[^e]y[c^e]y[^e]y [^e]y[^e]/2[F/2][c^e]y[^e]y |[^e]y[^e]/2[F/2][c^e]y[^e]y [^e]/2[F/2][^e]y[c^e]/2[F/2][^e]/2[F/2] |[^e]y[^e]/2[F/2][c^e]/2[F/2][^e]y [^e]/2[F/2][^e]y[c^e]/2[F/2][^e]/2[F/2] |[1z/2e/2c/2e/2 e/2e/2F/2c/2 e/2c/2e/2z/2 G/2F/2e/2z/2 :|2z/2e/2c/2e/2 e/2e/2F/2c/2 e/2c/2e/2z/2 !>(!G/2F/2!>)!e/2z/2 |:!f![^g]/2[F/2]z/2[F/2][c^g]yzy [^g]/2[F/2]z/2[F/2][c^g]yzy |[^g]/2[F/2]zy[c^g]/2[F/2]zy [^g]/2[F/2]z/2[F/2][c^g]yzy |[^g]/2[F/2]zy[c^g]yzy [^g]yz/2[F/2][c^g]yzy |[^g]/2[F/2]z/2[F/2][c^g]yz/2[F/2] [^g]/2[F/2]zy[c^g]/2[F/2]z/2[F/2] |[^g]yzy[c^g]/2[F/2]z/2[F/2] [^g]yzy[c^g]yz/2[F/2] |[^g]yzy[c^g]/2[F/2]zy [^g]yzy[c^g]/2[F/2]zy |[1c/2c/2e/2c/2 e/2c/2e/2G/2 G/2F/2e/2e/2 e/2z/2A/2A/2 :|2c/2c/2e/2c/2 e/2c/2e/2G/2 G/2F/2e/2e/2 !>(!e/2z/2!>)!A/2A/2 |:!p![^g^D]y[^g]/2[F/2][c^g^D]y[^g]/2[F/2] [^g^D]y[^g]/2[F/2][c^g^D]y[^g]y |[^g^D]y[^g]/2[F/2][c^g^D]y[^g]/2[F/2] [^g^D]/2[F/2][^g]y[c^g^D]/2[F/2][^g]y |[^g^D]/2[F/2][^g]/2[F/2][c^g^D]y[^g]y [^g^D]/2[F/2][^g]/2[F/2][c^g^D]y[^g]/2[F/2] |[^g^D]y[^g]y[c^g^D]y[^g]y [^g^D]/2[F/2][^g]y[c^g^D]/2[F/2][^g]y |[^g^D]y[^g]/2[F/2][c^g^D]y[^g]/2[F/2] [^g^D]y[^g]y[c^g^D]y[^g]/2[F/2] |[^g^D]/2[F/2][^g]y[c^g^D]y[^g]y [^g^D]/2[F/2][^g]y[c^g^D]y[^g]/2[F/2] |[1e/2F/2A/2z/2 e/2e/2F/2e/2 A/2F/2c/2c/2 G/2G/2G/2G/2 :|2e/2F/2A/2z/2 e/2e/2F/2e/2 A/2F/2c/2c/2 !>(!G/2G/2!>)!G/2G/2 |:!pp![g^D]/2[F/2][^D]/2[F/2][cg^D]y[^D]y [g^D]/2[F/2][^D]/2[F/2][cg^D]y[^D]y |[g^D]y[^D]/2[F/2][cg^D]/2[F/2][^D]y [g^D]y[^D]/2[F/2][cg^D]y[^D]y |[g^D]/2[F/2][^D]y[cg^D]y[^D]/2[F/2] [g^D]y[^D]y[cg^D]y[^D]/2[F/2] |[g^D]/2[F/2][^D]y[cg^D]y[^D]y [g^D]y[^D]y[cg^D]y[^D]y |[g^D]/2[F/2][^D]y[cg^D]/2[F/2][^D]/2[F/2] [g^D]y[^D]/2[F/2][cg^D]/2[F/2][^D]y |[g^D]y[^D]y[cg^D]y[^D]y [g^D]/2[F/2][^D]y[cg^D]/2[F/2][^D]y |[1G/2G/2e/2e/2 z/2z/2A/2G/2 z/2A/2z/2z/2 A/2e/2F/2c/2 :|2G/2G/2e/2e/2 z/2z/2A/2G/2 z/2A/2z/2z/2 !>(!A/2e/2!>)!F/2c/2-| c8|]\""
      ]
     },
     "execution_count": 35,
     "metadata": {},
     "output_type": "execute_result"
    }
   ],
   "source": [
    "funksolo = abcsolo(4, funkBassMatrix, funkBassInitial, funkFillRightToLeft, funkFillLeftToRight, funkFillInitial, dynMatrix, dynFinal, dynInitial, funkRideMatrix, funkRideInitial)"
   ]
  },
  {
   "cell_type": "code",
   "execution_count": 36,
   "metadata": {},
   "outputs": [
    {
     "ename": "LoadError",
     "evalue": "SystemError: opening file \"header.abc\": No such file or directory",
     "output_type": "error",
     "traceback": [
      "SystemError: opening file \"header.abc\": No such file or directory",
      "",
      "Stacktrace:",
      "  [1] systemerror(p::String, errno::Int32; extrainfo::Nothing)",
      "    @ Base .\\error.jl:168",
      "  [2] #systemerror#62",
      "    @ .\\error.jl:167 [inlined]",
      "  [3] systemerror",
      "    @ .\\error.jl:167 [inlined]",
      "  [4] open(fname::String; lock::Bool, read::Bool, write::Nothing, create::Nothing, truncate::Nothing, append::Nothing)",
      "    @ Base .\\iostream.jl:293",
      "  [5] open(fname::String, mode::String; lock::Bool)",
      "    @ Base .\\iostream.jl:355",
      "  [6] open",
      "    @ .\\iostream.jl:355 [inlined]",
      "  [7] writetune(fname::String, s::String)",
      "    @ Main .\\In[19]:3",
      "  [8] top-level scope",
      "    @ In[36]:1",
      "  [9] eval",
      "    @ .\\boot.jl:360 [inlined]",
      " [10] include_string(mapexpr::typeof(REPL.softscope), mod::Module, code::String, filename::String)",
      "    @ Base .\\loading.jl:1116"
     ]
    }
   ],
   "source": [
    "writetune(\"funktest.abc\", funksolo)"
   ]
  },
  {
   "cell_type": "code",
   "execution_count": 37,
   "metadata": {},
   "outputs": [
    {
     "name": "stdout",
     "output_type": "stream",
     "text": [
      "\r\n",
      "(base) C:\\Users\\holden\\Documents\\GitHub\\drum_solo_generator>abcm2ps.exe -X funktest.abc -O funktest.xhtml \r\n",
      "abcm2ps-8.14.12 (2021-07-14)\r\n"
     ]
    },
    {
     "name": "stderr",
     "output_type": "stream",
     "text": [
      "error: Cannot read the input file 'funktest.abc'\r\n",
      "error: Nothing to generate!\r\n"
     ]
    },
    {
     "name": "stdout",
     "output_type": "stream",
     "text": [
      "\n",
      "(base) C:\\Users\\holden\\Documents\\GitHub\\drum_solo_generator>abc2midi.exe funktest.abc -o funktest.mid \n",
      "4.59 June 27 2021 abc2midi\n",
      "Failed to open file funktest.abc\n",
      "\n",
      "(base) C:\\Users\\holden\\Documents\\GitHub\\drum_solo_generator>start funktest.mid \n",
      "\n",
      "(base) C:\\Users\\holden\\Documents\\GitHub\\drum_solo_generator>start funktest.xhtml \n"
     ]
    },
    {
     "name": "stderr",
     "output_type": "stream",
     "text": [
      "The system cannot find the file funktest.mid.\n",
      "The system cannot find the file funktest.xhtml.\n"
     ]
    },
    {
     "ename": "LoadError",
     "evalue": "failed process: Process(`\u001b[4mabctest.bat\u001b[24m \u001b[4mfunktest.abc\u001b[24m`, ProcessExited(1)) [1]\n",
     "output_type": "error",
     "traceback": [
      "failed process: Process(`\u001b[4mabctest.bat\u001b[24m \u001b[4mfunktest.abc\u001b[24m`, ProcessExited(1)) [1]\n",
      "",
      "Stacktrace:",
      " [1] pipeline_error",
      "   @ .\\process.jl:525 [inlined]",
      " [2] run(::Cmd; wait::Bool)",
      "   @ Base .\\process.jl:440",
      " [3] run(::Cmd)",
      "   @ Base .\\process.jl:438",
      " [4] top-level scope",
      "   @ In[37]:1",
      " [5] eval",
      "   @ .\\boot.jl:360 [inlined]",
      " [6] include_string(mapexpr::typeof(REPL.softscope), mod::Module, code::String, filename::String)",
      "   @ Base .\\loading.jl:1116"
     ]
    }
   ],
   "source": [
    "run(`abctest.bat funktest.abc`)"
   ]
  },
  {
   "cell_type": "code",
   "execution_count": null,
   "metadata": {},
   "outputs": [],
   "source": []
  }
 ],
 "metadata": {
  "kernelspec": {
   "display_name": "Julia 1.6.3",
   "language": "julia",
   "name": "julia-1.6"
  },
  "language_info": {
   "file_extension": ".jl",
   "mimetype": "application/julia",
   "name": "julia",
   "version": "1.6.3"
  }
 },
 "nbformat": 4,
 "nbformat_minor": 4
}
