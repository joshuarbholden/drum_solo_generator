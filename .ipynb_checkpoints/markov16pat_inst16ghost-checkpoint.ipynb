{
 "cells": [
  {
   "cell_type": "code",
   "execution_count": 10,
   "metadata": {},
   "outputs": [
    {
     "data": {
      "text/plain": [
       "markovrand (generic function with 1 method)"
      ]
     },
     "execution_count": 10,
     "metadata": {},
     "output_type": "execute_result"
    }
   ],
   "source": [
    "#input a vector corresponding to a probability distribution and output an index according to that distribution\n",
    "function markovrand(nextv)\n",
    "    if round(sum(nextv), digits = 6) != 1.0\n",
    "        error(nextv, \" is not a stochastic vector\")\n",
    "    end\n",
    "    maxstates = length(nextv) - 1\n",
    "    r = rand(Float64)\n",
    "    current = maxstates\n",
    "    for i = 0:maxstates\n",
    "        if r <= nextv[i + 1]\n",
    "            current = i\n",
    "            break\n",
    "        else\n",
    "            r = r - nextv[i + 1]\n",
    "        end\n",
    "    end\n",
    "    return(current)\n",
    "end\n"
   ]
  },
  {
   "cell_type": "code",
   "execution_count": 11,
   "metadata": {},
   "outputs": [],
   "source": [
    "struct AugMatrix\n",
    "    mat::Matrix\n",
    "    init::Vector\n",
    "end\n",
    "\n",
    "struct AugDblMatrix\n",
    "    mat1::Matrix\n",
    "    mat2::Matrix\n",
    "    init::Vector\n",
    "end"
   ]
  },
  {
   "cell_type": "code",
   "execution_count": 12,
   "metadata": {},
   "outputs": [
    {
     "data": {
      "text/plain": [
       "ghostbassgen (generic function with 1 method)"
      ]
     },
     "execution_count": 12,
     "metadata": {},
     "output_type": "execute_result"
    }
   ],
   "source": [
    "#output bass notes in 2*$beats notes\n",
    "function ghostbassgen(beats::Int, trans::AugMatrix)\n",
    "    transmat = trans.mat\n",
    "    iv = trans.init\n",
    "    nextv = iv\n",
    "    L = []\n",
    "    for j = 1:beats\n",
    "        current = markovrand(nextv)\n",
    "#print(current, \" \")\n",
    "        bincurrent = digits(current, base = 3, pad = 2)\n",
    "#print(bincurrent, \"\\n\")\n",
    "        append!(L, [bincurrent[2], bincurrent[1]])\n",
    "        nextv = transmat[:, current + 1]\n",
    "    end\n",
    "    return(L)\n",
    "end"
   ]
  },
  {
   "cell_type": "code",
   "execution_count": 13,
   "metadata": {},
   "outputs": [
    {
     "data": {
      "text/plain": [
       "9×9 Matrix{Float64}:\n",
       " 0.1  0.2  0.2  0.2   0.8  0.1  0.0  0.0  0.0\n",
       " 0.0  0.2  0.0  0.0   0.0  0.0  0.0  0.0  0.0\n",
       " 0.0  0.2  0.2  0.1   0.2  0.0  0.0  0.0  0.0\n",
       " 0.3  0.2  0.1  0.25  0.0  0.2  0.0  0.0  0.0\n",
       " 0.3  0.0  0.1  0.25  0.0  0.2  0.0  0.0  0.0\n",
       " 0.3  0.2  0.4  0.2   0.0  0.5  0.0  0.0  0.0\n",
       " 0.0  0.0  0.0  0.0   0.0  0.0  0.0  0.0  0.0\n",
       " 0.0  0.0  0.0  0.0   0.0  0.0  0.0  0.0  0.0\n",
       " 0.0  0.0  0.0  0.0   0.0  0.0  0.0  0.0  0.0"
      ]
     },
     "execution_count": 13,
     "metadata": {},
     "output_type": "execute_result"
    }
   ],
   "source": [
    "#0 = rest, 1 = bass, 2 = LH\n",
    "                #00    #01  #02   #10  #11  #12  #zeros\n",
    "rockBassMatrix = [0.1e0 0.2  0.2   0.2  0.8    0.1 0 0 0 #00\n",
    "                    0   0.2  0     0    0    0    0 0 0  #01\n",
    "                    0   0.2  0.2   0.1  0.2    0    0 0 0  #02\n",
    "                    0.3 0.2  0.1   0.25 0    0.2 0 0 0  #10\n",
    "                    0.3 0    0.1   0.25 0    0.2 0 0 0  #11\n",
    "                    0.3 0.2  0.4   0.2 0    0.5 0 0 0    #12\n",
    "                    zeros(3,9)]                 #zeros"
   ]
  },
  {
   "cell_type": "code",
   "execution_count": 14,
   "metadata": {},
   "outputs": [
    {
     "data": {
      "text/plain": [
       "1×9 Matrix{Float64}:\n",
       " 1.0  1.0  1.0  1.0  1.0  1.0  0.0  0.0  0.0"
      ]
     },
     "execution_count": 14,
     "metadata": {},
     "output_type": "execute_result"
    }
   ],
   "source": [
    "sum(rockBassMatrix, dims=1)"
   ]
  },
  {
   "cell_type": "code",
   "execution_count": 15,
   "metadata": {},
   "outputs": [
    {
     "data": {
      "text/plain": [
       "9-element Vector{Float64}:\n",
       " 0.1\n",
       " 0.0\n",
       " 0.0\n",
       " 0.3\n",
       " 0.3\n",
       " 0.3\n",
       " 0.0\n",
       " 0.0\n",
       " 0.0"
      ]
     },
     "execution_count": 15,
     "metadata": {},
     "output_type": "execute_result"
    }
   ],
   "source": [
    "rockBassInitial = [0.1,0,0, 0.3,0.3, 0.3, 0, 0, 0]"
   ]
  },
  {
   "cell_type": "code",
   "execution_count": 16,
   "metadata": {},
   "outputs": [
    {
     "data": {
      "text/plain": [
       "AugMatrix([0.1 0.2 … 0.0 0.0; 0.0 0.2 … 0.0 0.0; … ; 0.0 0.0 … 0.0 0.0; 0.0 0.0 … 0.0 0.0], [0.1, 0.0, 0.0, 0.3, 0.3, 0.3, 0.0, 0.0, 0.0])"
      ]
     },
     "execution_count": 16,
     "metadata": {},
     "output_type": "execute_result"
    }
   ],
   "source": [
    "rockBass = AugMatrix(rockBassMatrix, rockBassInitial)"
   ]
  },
  {
   "cell_type": "code",
   "execution_count": 17,
   "metadata": {},
   "outputs": [
    {
     "data": {
      "text/plain": [
       "8-element Vector{Any}:\n",
       " 1\n",
       " 1\n",
       " 0\n",
       " 0\n",
       " 1\n",
       " 1\n",
       " 0\n",
       " 0"
      ]
     },
     "execution_count": 17,
     "metadata": {},
     "output_type": "execute_result"
    }
   ],
   "source": [
    "#test\n",
    "ghostbassgen(4, rockBass)"
   ]
  },
  {
   "cell_type": "code",
   "execution_count": 18,
   "metadata": {},
   "outputs": [
    {
     "data": {
      "text/plain": [
       "lookup16ride (generic function with 1 method)"
      ]
     },
     "execution_count": 18,
     "metadata": {},
     "output_type": "execute_result"
    }
   ],
   "source": [
    "function lookup16ride()::Matrix\n",
    "    r = Matrix(undef, 4, 4)\n",
    "    r[1,1] = [\"!N![^e\",\"[\",\"!N![^e\",\"[\",\"!N![c^e\",\"[\",\"!N![^e\",\"[\",\"!N![^e\",\"[\",\"!N![^e\",\"[\",\"!N![c^e\",\"[\",\"!N![^e\",\"[\"] #hihat eighths, trash\n",
    "    #NB Windows midi doesn't have a good way of making a trash hat?  !N! defined as tenuto mark in header.abc\n",
    "    r[2,1] = [\"[^e\", \"[^e\", \"[^e\", \"[^e\", \"[c^e\", \"[^e\", \"[^e\", \"[^e\", \"[^e\", \"[^e\", \"[^e\", \"[^e\", \"[c^e\", \"[^e\", \"[^e\", \"[^e\"]; #hihat 16\n",
    "    r[3,1] = [\"!>![^e\", \"!U![^e\", \"!>![^e\", \"!U![^e\", \"!>![c^e\", \"!U![^e\",\"!>![^e\", \"!U![^e\",\"!>![^e\", \"!U![^e\", \"!>![^e\", \"!U![^e\", \"!>![c^e\", \"!U![^e\", \"!>![^e\", \"!U![^e\"]; #drive 16\n",
    "    r[4,1] = [\"[^e\", \"[^e\", \"[^e\", \"[^e\", \"[c^e\", \"[^e\", \"[^e\", \"[^e\", \"[^e\", \"[^e\", \"[^e\", \"[^e\", \"[c^e\", \"[^e\", \"[^e\", \"[_e\"];  #one slide 16\n",
    "    r[1,2] = [\"[^g\",\"[\",\"[^g\",\"[\",\"[c^g\",\"[\",\"[^g\",\"[\",\"[^g\",\"[\",\"[^g\",\"[\",\"[c^g\",\"[\",\"[^g\",\"[\"] #ride quarter\n",
    "    r[2,2] = [\"[^g\", \"[^g\", \"[^g\", \"[^g\", \"[c^g\", \"[^g\", \"[^g\", \"[^g\", \"[^g\", \"[^g\", \"[^g\", \"[^g\", \"[c^g\", \"[^g\", \"[^g\", \"[^g\"]; #ride 16 \n",
    "    r[3,2] = [\"[^g^D\", \"[^g\", \"[^g\", \"[^g\", \"[c^g^D\", \"[^g\", \"[^g\", \"[^g\", \"[^g^D\", \"[^g\", \"[^g\", \"[^g\", \"[c^g^D\", \"[^g\", \"[^g\", \"[^g\"]; #ride 16 with step beats\n",
    "    r[4,2] = [\"[^g\", \"[^g\", \"[^g^D\", \"[^g\", \"[c^g\", \"[^g\", \"[^g^D\", \"[^g\", \"[^g\", \"[^g\", \"[^g^D\", \"[^g\", \"[c^g\", \"[^g\", \"[^g^D\", \"[^g\" ]; #ride 16 with step ands\n",
    "    r[1,3] = [\"[g\",\"[\",\"[g\",\"[\",\"[cg\",\"[\",\"[g\",\"[\",\"[g\",\"[\",\"[g\",\"[\",\"[cg\",\"[\",\"[g\",\"[\"] #bell 8\n",
    "    r[2,3] = [\"[g\",\"[g\",\"[\",\"[\",\"[cg\",\"[g\",\"[\",\"[\",\"[g\",\"[g\",\"[\",\"[\",\"[cg\",\"[g\",\"[\",\"[\"] #bell 16th pairs on beat\n",
    "    r[3,3] = [\"[g\",\"[^g\",\"[g\",\"[^g\",\"[cg\",\"[^g\",\"[g\",\"[^g\",\"[g\",\"[^g\",\"[g\",\"[^g\",\"[cg\",\"[^g\",\"[g\",\"[^g\"] #bell drive, offbeat ride\n",
    "    r[4,3] = [\"[\",\"[\",\"[g\",\"[g\",\"[c\",\"[\",\"[g\",\"[g\",\"[\",\"[\",\"[g\",\"[g\",\"[c\",\"[\",\"[g\",\"[g\"] #bell pairs on and\n",
    "    r[1,4] = [\"[^D\",\"[\",\"[\",\"[\",\"[c^D\",\"[\",\"[\",\"[\",\"[^D\",\"[\",\"[\",\"[\",\"[c^D\",\"[\",\"[\",\"[\"]  #step Q\n",
    "    r[2,4] = [\"[^D\",\"[\",\"[^D\",\"[\",\"[c^D\",\"[\",\"[^D\",\"[\",\"[^D\",\"[\",\"[^D\",\"[\",\"[c^D\",\"[\",\"[^D\",\"[\"] #step 8\n",
    "    r[3,4] = [\"[g^D\",\"[g\",\"[^D\",\"[\",\"[cg^D\",\"[g\",\"[^D\",\"[\",\"[g^D\",\"[g\",\"[^D\",\"[\",\"[cg^D\",\"[g\",\"[^D\",\"[\"] #step 8 with bell beat pair\n",
    "    r[4,4] = [\"[^D\",\"[\",\"[g^D\",\"[g\",\"[c^D\",\"[\",\"[g^D\",\"[g\",\"[^D\",\"[\",\"[g^D\",\"[g\",\"[c^D\",\"[\",\"[g^D\",\"[g\"] #step 8 with bell and pair\n",
    "    return(r)\n",
    "end\n"
   ]
  },
  {
   "cell_type": "code",
   "execution_count": 19,
   "metadata": {},
   "outputs": [
    {
     "data": {
      "text/plain": [
       "abctime16patinst16ghost (generic function with 1 method)"
      ]
     },
     "execution_count": 19,
     "metadata": {},
     "output_type": "execute_result"
    }
   ],
   "source": [
    "#input a sixteenth note bass rhythm and an 16th note ride pattern, output abc notation\n",
    "function abctime16patinst16ghost(L, pattern, instr)\n",
    "    n = length(L)\n",
    "    r = lookup16ride()\n",
    "    c = [\"]/2\", \"F]/2\", \"!Q!c]/2\"] #nothing, kick, ghost snare\n",
    "    m = [c[L[i] + 1] for i = 1:n]\n",
    "    s = \"\"\n",
    "    for i = 1:n\n",
    "        s = s * r[pattern, instr][(i - 1) % 16 + 1] * m[i]\n",
    "        if i % 4 == 0\n",
    "            s = s * \" \"\n",
    "        end\n",
    "        if i % 16 == 0\n",
    "            s = s * \"|\\n\"\n",
    "        end\n",
    "    end\n",
    "    return(s)\n",
    "end\n"
   ]
  },
  {
   "cell_type": "code",
   "execution_count": 20,
   "metadata": {},
   "outputs": [
    {
     "data": {
      "text/plain": [
       "\"!N![^eF]/2[!Q!c]/2!N![^eF]/2[]/2 !N![c^eF]/2[]/2!N![^e]/2[]/2 !N![^eF]/2[F]/2!N![^e]/2[!Q!c]/2 !N![c^eF]/2[F]/2!N![^e]/2[]/2 |\\n\""
      ]
     },
     "execution_count": 20,
     "metadata": {},
     "output_type": "execute_result"
    }
   ],
   "source": [
    "#test\n",
    "abctime16patinst16ghost(ghostbassgen(8, rockBass), 1, 1)"
   ]
  },
  {
   "cell_type": "code",
   "execution_count": 21,
   "metadata": {},
   "outputs": [
    {
     "data": {
      "text/plain": [
       "fill16gen (generic function with 1 method)"
      ]
     },
     "execution_count": 21,
     "metadata": {},
     "output_type": "execute_result"
    }
   ],
   "source": [
    "#output linear fill in $beats number of sixteenth notes\n",
    "function fill16gen(\n",
    "  beats::Int,\n",
    "  trans::AugDblMatrix)\n",
    "    nextv = trans.init\n",
    "    L = []\n",
    "    for j = 1:beats\n",
    "        current = markovrand(nextv)\n",
    "        append!(L,current)\n",
    "        if j % 2 == 1\n",
    "            nextv = trans.mat1[1:6, current + 1]\n",
    "        else\n",
    "            nextv = trans.mat2[1:6, current + 1]\n",
    "        end\n",
    "    end\n",
    "    return(L)\n",
    "end\n"
   ]
  },
  {
   "cell_type": "code",
   "execution_count": 22,
   "metadata": {},
   "outputs": [
    {
     "data": {
      "text/plain": [
       "6×6 Matrix{Float64}:\n",
       " 0.2  0.1  0.2  0.0  0.3  0.2\n",
       " 0.4  0.2  0.0  0.3  0.3  0.2\n",
       " 0.1  0.4  0.2  0.1  0.1  0.2\n",
       " 0.1  0.1  0.4  0.3  0.1  0.2\n",
       " 0.1  0.1  0.2  0.2  0.1  0.2\n",
       " 0.1  0.1  0.0  0.1  0.1  0.0"
      ]
     },
     "execution_count": 22,
     "metadata": {},
     "output_type": "execute_result"
    }
   ],
   "source": [
    "rockFillLeftToRight = [\n",
    "    0.2e0 0.1e0 0.2e0 0 0.3e0 0.2e0; \n",
    "    0.4e0 0.2e0 0 0.3e0 0.3e0 0.2e0; \n",
    "    0.1e0 0.4e0 0.2e0 0.1e0 0.1e0 0.2e0; \n",
    "    0.1e0 0.1e0 0.4e0 0.3e0 0.1e0 0.2e0; \n",
    "    0.1e0 0.1e0 0.2e0 0.2e0 0.1e0 0.2e0; \n",
    "    0.1e0 0.1e0 0 0.1e0 0.1e0 0]"
   ]
  },
  {
   "cell_type": "code",
   "execution_count": 23,
   "metadata": {},
   "outputs": [
    {
     "data": {
      "text/plain": [
       "6×6 Matrix{Float64}:\n",
       " 0.4  0.2  0.1  0.1  0.3  0.0\n",
       " 0.2  0.4  0.2  0.2  0.2  0.0\n",
       " 0.1  0.0  0.4  0.1  0.1  0.0\n",
       " 0.0  0.1  0.1  0.4  0.1  0.0\n",
       " 0.2  0.1  0.1  0.1  0.2  0.0\n",
       " 0.1  0.2  0.1  0.1  0.1  1.0"
      ]
     },
     "execution_count": 23,
     "metadata": {},
     "output_type": "execute_result"
    }
   ],
   "source": [
    "rockFillRightToLeft = [\n",
    "    0.4e0 0.2e0 0.1e0 0.1e0 0.3e0 0\n",
    "    0.2e0 0.4e0 0.2e0 0.2e0 0.2e0 0\n",
    "    0.1e0 0 0.4e0 0.1e0 0.1e0 0\n",
    "    0 0.1e0 0.1e0 0.4e0 0.1e0 0\n",
    "    0.2e0 0.1e0 0.1e0 0.1e0 0.2e0 0\n",
    "    0.1e0 0.2e0 0.1e0 0.1e0 0.1e0 0.10e1]\n"
   ]
  },
  {
   "cell_type": "code",
   "execution_count": 24,
   "metadata": {},
   "outputs": [
    {
     "data": {
      "text/plain": [
       "6-element Vector{Float64}:\n",
       " 0.4\n",
       " 0.4\n",
       " 0.1\n",
       " 0.1\n",
       " 0.0\n",
       " 0.0"
      ]
     },
     "execution_count": 24,
     "metadata": {},
     "output_type": "execute_result"
    }
   ],
   "source": [
    "rockFillInitial = [0.4e0,0.4e0,0.1e0,0.1e0,0,0] #snare, high, mid, low, kick, rest"
   ]
  },
  {
   "cell_type": "code",
   "execution_count": 25,
   "metadata": {},
   "outputs": [
    {
     "data": {
      "text/plain": [
       "AugDblMatrix([0.2 0.1 … 0.3 0.2; 0.4 0.2 … 0.3 0.2; … ; 0.1 0.1 … 0.1 0.2; 0.1 0.1 … 0.1 0.0], [0.4 0.2 … 0.3 0.0; 0.2 0.4 … 0.2 0.0; … ; 0.2 0.1 … 0.2 0.0; 0.1 0.2 … 0.1 1.0], [0.4, 0.4, 0.1, 0.1, 0.0, 0.0])"
      ]
     },
     "execution_count": 25,
     "metadata": {},
     "output_type": "execute_result"
    }
   ],
   "source": [
    "rockFill= AugDblMatrix(rockFillLeftToRight, rockFillRightToLeft, rockFillInitial)"
   ]
  },
  {
   "cell_type": "code",
   "execution_count": 26,
   "metadata": {},
   "outputs": [
    {
     "data": {
      "text/plain": [
       "abcfill16 (generic function with 1 method)"
      ]
     },
     "execution_count": 26,
     "metadata": {},
     "output_type": "execute_result"
    }
   ],
   "source": [
    "#input a sixteenth note fill and a crescendo/descr indicator, output abc notation\n",
    "function abcfill16(L, crdc)\n",
    "    n = length(L)\n",
    "    c = [\"c/2\",\"e/2\",\"A/2\",\"G/2\",\"F/2\",\"z/2\"]\n",
    "    m = [c[L[i] + 1] for i = 1:n]\n",
    "    s = \"\"\n",
    "    for i = 1:n\n",
    "        s = s * m[i]\n",
    "        if i % 4 == 0\n",
    "            s = s * \" \"\n",
    "        end\n",
    "        if i % 16 == 12\n",
    "            if crdc < 0\n",
    "                s = s * \"!>(!\"\n",
    "            elseif 0 < crdc\n",
    "                s = s * \"!<(!\"\n",
    "            end\n",
    "        end\n",
    "        if i % 16 == 14\n",
    "            if crdc < 0\n",
    "                s = s * \"!>)!\"\n",
    "            elseif 0 < crdc\n",
    "                s = s * \"!<)!\"\n",
    "            end\n",
    "        end\n",
    "    end\n",
    "    return(s)\n",
    "end\n"
   ]
  },
  {
   "cell_type": "code",
   "execution_count": 27,
   "metadata": {},
   "outputs": [
    {
     "data": {
      "text/plain": [
       "\"e/2A/2c/2A/2 e/2G/2c/2e/2 e/2A/2A/2A/2 c/2z/2z/2F/2 \""
      ]
     },
     "execution_count": 27,
     "metadata": {},
     "output_type": "execute_result"
    }
   ],
   "source": [
    "#test\n",
    "abcfill16(fill16gen(16, rockFill), 0)"
   ]
  },
  {
   "cell_type": "code",
   "execution_count": 28,
   "metadata": {},
   "outputs": [
    {
     "data": {
      "text/plain": [
       "12×12 Matrix{Float64}:\n",
       " 0.0  0.0  0.2  0.2  0.1  0.1  0.0  0.0  0.0  0.0  0.0  0.0\n",
       " 0.0  0.0  0.2  0.1  0.1  0.1  0.0  0.0  0.0  0.0  0.0  0.0\n",
       " 0.2  0.2  0.0  0.0  0.2  0.1  0.1  0.1  0.1  0.2  0.1  0.2\n",
       " 0.2  0.2  0.0  0.0  0.2  0.1  0.1  0.1  0.2  0.1  0.2  0.1\n",
       " 0.0  0.0  0.1  0.2  0.0  0.0  0.2  0.1  0.0  0.0  0.1  0.2\n",
       " 0.0  0.0  0.2  0.2  0.0  0.0  0.2  0.1  0.0  0.0  0.2  0.1\n",
       " 0.1  0.2  0.0  0.0  0.1  0.2  0.0  0.0  0.2  0.2  0.0  0.0\n",
       " 0.2  0.1  0.0  0.0  0.1  0.2  0.0  0.0  0.2  0.1  0.0  0.0\n",
       " 0.1  0.2  0.1  0.2  0.1  0.1  0.1  0.2  0.0  0.0  0.2  0.2\n",
       " 0.2  0.1  0.2  0.1  0.1  0.1  0.1  0.2  0.0  0.0  0.2  0.2\n",
       " 0.0  0.0  0.0  0.0  0.0  0.0  0.1  0.1  0.1  0.2  0.0  0.0\n",
       " 0.0  0.0  0.0  0.0  0.0  0.0  0.1  0.1  0.2  0.2  0.0  0.0"
      ]
     },
     "execution_count": 28,
     "metadata": {},
     "output_type": "execute_result"
    }
   ],
   "source": [
    "dynMatrix = [\n",
    "    0 0 0.2e0 0.2e0 0.1e0 0.1e0 0 0 0 0 0 0; \n",
    "    0 0 0.2e0 0.1e0 0.1e0 0.1e0 0 0 0 0 0 0; \n",
    "    0.2e0 0.2e0 0 0 0.2e0 0.1e0 0.1e0 0.1e0 0.1e0 0.2e0 0.1e0 0.2e0; \n",
    "    0.2e0 0.2e0 0 0 0.2e0 0.1e0 0.1e0 0.1e0 0.2e0 0.1e0 0.2e0 0.1e0; \n",
    "    0 0 0.1e0 0.2e0 0 0 0.2e0 0.1e0 0 0 0.1e0 0.2e0; \n",
    "    0 0 0.2e0 0.2e0 0 0 0.2e0 0.1e0 0 0 0.2e0 0.1e0; \n",
    "    0.1e0 0.2e0 0 0 0.1e0 0.2e0 0 0 0.2e0 0.2e0 0 0; \n",
    "    0.2e0 0.1e0 0 0 0.1e0 0.2e0 0 0 0.2e0 0.1e0 0 0; \n",
    "    0.1e0 0.2e0 0.1e0 0.2e0 0.1e0 0.1e0 0.1e0 0.2e0 0 0 0.2e0 0.2e0;\n",
    "    0.2e0 0.1e0 0.2e0 0.1e0 0.1e0 0.1e0 0.1e0 0.2e0 0 0 0.2e0 0.2e0; \n",
    "    0 0 0 0 0 0 0.1e0 0.1e0 0.1e0 0.2e0 0 0; \n",
    "    0 0 0 0 0 0 0.1e0 0.1e0 0.2e0 0.2e0 0 0]\n"
   ]
  },
  {
   "cell_type": "code",
   "execution_count": 29,
   "metadata": {},
   "outputs": [
    {
     "data": {
      "text/plain": [
       "12×12 Matrix{Float64}:\n",
       " 0.1  0.2  0.2  0.2  0.1  0.1  0.1  0.1  0.1  0.2  0.0  0.0\n",
       " 0.2  0.1  0.2  0.1  0.1  0.1  0.1  0.1  0.2  0.1  0.0  0.0\n",
       " 0.2  0.2  0.0  0.0  0.2  0.1  0.2  0.1  0.2  0.2  0.1  0.2\n",
       " 0.2  0.2  0.0  0.0  0.2  0.1  0.2  0.1  0.2  0.1  0.2  0.1\n",
       " 0.0  0.0  0.0  0.0  0.0  0.0  0.0  0.0  0.0  0.0  0.0  0.0\n",
       " 0.0  0.0  0.0  0.0  0.0  0.0  0.0  0.0  0.0  0.0  0.0  0.0\n",
       " 0.0  0.0  0.0  0.0  0.0  0.0  0.0  0.0  0.0  0.0  0.0  0.0\n",
       " 0.0  0.0  0.0  0.0  0.0  0.0  0.0  0.0  0.0  0.0  0.0  0.0\n",
       " 0.1  0.2  0.1  0.2  0.1  0.2  0.1  0.2  0.0  0.0  0.2  0.2\n",
       " 0.2  0.1  0.2  0.2  0.1  0.2  0.1  0.2  0.0  0.0  0.2  0.2\n",
       " 0.0  0.0  0.1  0.2  0.1  0.1  0.1  0.1  0.1  0.2  0.1  0.2\n",
       " 0.0  0.0  0.2  0.1  0.1  0.1  0.1  0.1  0.2  0.2  0.2  0.1"
      ]
     },
     "execution_count": 29,
     "metadata": {},
     "output_type": "execute_result"
    }
   ],
   "source": [
    "dynFinal = [\n",
    "    0.1e0 0.2e0 0.2e0 0.2e0 0.1e0 0.1e0 0.1e0 0.1e0 0.1e0 0.2e0 0 0; \n",
    "    0.2e0 0.1e0 0.2e0 0.1e0 0.1e0 0.1e0 0.1e0 0.1e0 0.2e0 0.1e0 0 0; \n",
    "    0.2e0 0.2e0 0 0 0.2e0 0.1e0 0.2e0 0.1e0 0.2e0 0.2e0 0.1e0 0.2e0; \n",
    "    0.2e0 0.2e0 0 0 0.2e0 0.1e0 0.2e0 0.1e0 0.2e0 0.1e0 0.2e0 0.1e0; \n",
    "    0 0 0 0 0 0 0 0 0 0 0 0; \n",
    "    0 0 0 0 0 0 0 0 0 0 0 0; \n",
    "    0 0 0 0 0 0 0 0 0 0 0 0; \n",
    "    0 0 0 0 0 0 0 0 0 0 0 0; \n",
    "    0.1e0 0.2e0 0.1e0 0.2e0 0.1e0 0.2e0 0.1e0 0.2e0 0 0 0.2e0 0.2e0; \n",
    "    0.2e0 0.1e0 0.2e0 0.2e0 0.1e0 0.2e0 0.1e0 0.2e0 0 0 0.2e0 0.2e0; \n",
    "    0 0 0.1e0 0.2e0 0.1e0 0.1e0 0.1e0 0.1e0 0.1e0 0.2e0 0.1e0 0.2e0; \n",
    "    0 0 0.2e0 0.1e0 0.1e0 0.1e0 0.1e0 0.1e0 0.2e0 0.2e0 0.2e0 0.1e0]\n"
   ]
  },
  {
   "cell_type": "code",
   "execution_count": 30,
   "metadata": {},
   "outputs": [
    {
     "data": {
      "text/plain": [
       "12-element Vector{Float64}:\n",
       " 0.05\n",
       " 0.05\n",
       " 0.1\n",
       " 0.1\n",
       " 0.1\n",
       " 0.1\n",
       " 0.1\n",
       " 0.1\n",
       " 0.1\n",
       " 0.1\n",
       " 0.05\n",
       " 0.05"
      ]
     },
     "execution_count": 30,
     "metadata": {},
     "output_type": "execute_result"
    }
   ],
   "source": [
    "dynInitial = [0.5e-1,0.5e-1,0.1e0,0.1e0,0.1e0,0.1e0,0.1e0,0.1e0,0.1e0,0.1e0,0.5e-1,0.5e-1]\n",
    "#pp>, pp<, p>, p<, mp>, mp<, mf>, mf<, f>, f<, ff>, ff<"
   ]
  },
  {
   "cell_type": "code",
   "execution_count": 31,
   "metadata": {},
   "outputs": [
    {
     "data": {
      "text/plain": [
       "AugDblMatrix([0.0 0.0 … 0.0 0.0; 0.0 0.0 … 0.0 0.0; … ; 0.0 0.0 … 0.0 0.0; 0.0 0.0 … 0.0 0.0], [0.1 0.2 … 0.0 0.0; 0.2 0.1 … 0.0 0.0; … ; 0.0 0.0 … 0.1 0.2; 0.0 0.0 … 0.2 0.1], [0.05, 0.05, 0.1, 0.1, 0.1, 0.1, 0.1, 0.1, 0.1, 0.1, 0.05, 0.05])"
      ]
     },
     "execution_count": 31,
     "metadata": {},
     "output_type": "execute_result"
    }
   ],
   "source": [
    "dyn = AugDblMatrix(dynMatrix, dynFinal, dynInitial)"
   ]
  },
  {
   "cell_type": "code",
   "execution_count": 32,
   "metadata": {},
   "outputs": [
    {
     "data": {
      "text/plain": [
       "4×4 Matrix{Float64}:\n",
       " 0.0  0.4  0.4  0.4\n",
       " 0.4  0.0  0.2  0.2\n",
       " 0.2  0.2  0.0  0.4\n",
       " 0.4  0.4  0.4  0.0"
      ]
     },
     "execution_count": 32,
     "metadata": {},
     "output_type": "execute_result"
    }
   ],
   "source": [
    "rockPatMatrix = [\n",
    "    #8  Q   b   +\n",
    "    0   0.4 0.4 0.4 #8 \n",
    "    0.4 0   0.2 0.2   #Q\n",
    "    0.2 0.2 0   0.4 #b\n",
    "    0.4 0.4 0.4 0 #+\n",
    "    ]\n",
    "\n"
   ]
  },
  {
   "cell_type": "code",
   "execution_count": 33,
   "metadata": {},
   "outputs": [
    {
     "data": {
      "text/plain": [
       "1×4 Matrix{Float64}:\n",
       " 1.0  1.0  1.0  1.0"
      ]
     },
     "execution_count": 33,
     "metadata": {},
     "output_type": "execute_result"
    }
   ],
   "source": [
    "sum(rockPatMatrix, dims=1)"
   ]
  },
  {
   "cell_type": "code",
   "execution_count": 34,
   "metadata": {},
   "outputs": [
    {
     "data": {
      "text/plain": [
       "4-element Vector{Float64}:\n",
       " 0.4\n",
       " 0.4\n",
       " 0.2\n",
       " 0.0"
      ]
     },
     "execution_count": 34,
     "metadata": {},
     "output_type": "execute_result"
    }
   ],
   "source": [
    "rockPatInitial = [0.4; 0.4; 0.2; 0]"
   ]
  },
  {
   "cell_type": "code",
   "execution_count": 35,
   "metadata": {},
   "outputs": [
    {
     "data": {
      "text/plain": [
       "AugMatrix([0.0 0.4 0.4 0.4; 0.4 0.0 0.2 0.2; 0.2 0.2 0.0 0.4; 0.4 0.4 0.4 0.0], [0.4, 0.4, 0.2, 0.0])"
      ]
     },
     "execution_count": 35,
     "metadata": {},
     "output_type": "execute_result"
    }
   ],
   "source": [
    "rockPat = AugMatrix(rockPatMatrix, rockPatInitial)"
   ]
  },
  {
   "cell_type": "code",
   "execution_count": 36,
   "metadata": {},
   "outputs": [
    {
     "data": {
      "text/plain": [
       "4×4 Matrix{Float64}:\n",
       " 0.1  0.4  0.4  0.4\n",
       " 0.6  0.1  0.4  0.4\n",
       " 0.2  0.4  0.1  0.2\n",
       " 0.1  0.1  0.1  0.0"
      ]
     },
     "execution_count": 36,
     "metadata": {},
     "output_type": "execute_result"
    }
   ],
   "source": [
    "rockInstMatrix = [\n",
    "   #HH  RC  RB  ST \n",
    "    0.1 0.4 0.4   0.4   #HH\n",
    "    0.6 0.1 0.4   0.4   #RC\n",
    "    0.2 0.4 0.1   0.2   #RB\n",
    "    0.1 0.1 0.1   0     #ST\n",
    "]"
   ]
  },
  {
   "cell_type": "code",
   "execution_count": 37,
   "metadata": {},
   "outputs": [
    {
     "data": {
      "text/plain": [
       "1×4 Matrix{Float64}:\n",
       " 1.0  1.0  1.0  1.0"
      ]
     },
     "execution_count": 37,
     "metadata": {},
     "output_type": "execute_result"
    }
   ],
   "source": [
    "sum(rockInstMatrix, dims=1)"
   ]
  },
  {
   "cell_type": "code",
   "execution_count": 38,
   "metadata": {},
   "outputs": [
    {
     "data": {
      "text/plain": [
       "4-element Vector{Float64}:\n",
       " 0.5\n",
       " 0.3\n",
       " 0.0\n",
       " 0.2"
      ]
     },
     "execution_count": 38,
     "metadata": {},
     "output_type": "execute_result"
    }
   ],
   "source": [
    "rockInstInitial = [0.5; 0.3; 0; 0.2]"
   ]
  },
  {
   "cell_type": "code",
   "execution_count": 39,
   "metadata": {
    "scrolled": true
   },
   "outputs": [
    {
     "data": {
      "text/plain": [
       "AugMatrix([0.1 0.4 0.4 0.4; 0.6 0.1 0.4 0.4; 0.2 0.4 0.1 0.2; 0.1 0.1 0.1 0.0], [0.5, 0.3, 0.0, 0.2])"
      ]
     },
     "execution_count": 39,
     "metadata": {},
     "output_type": "execute_result"
    }
   ],
   "source": [
    "rockInst = AugMatrix(rockInstMatrix, rockInstInitial)"
   ]
  },
  {
   "cell_type": "code",
   "execution_count": 40,
   "metadata": {},
   "outputs": [
    {
     "data": {
      "text/plain": [
       "abctune16patinst16ghost (generic function with 1 method)"
      ]
     },
     "execution_count": 40,
     "metadata": {},
     "output_type": "execute_result"
    }
   ],
   "source": [
    "#output time, fill, time, fill with cresc/decr in abc notation\n",
    "function abctune16patinst16ghost(\n",
    "  vol,\n",
    "  bass,\n",
    "  pat,\n",
    "  inst,\n",
    "  fill,\n",
    "  crdc)\n",
    "    fp = [\"!pp!\",\"!p!\",\"!mp!\",\"!mf!\",\"!f!\",\"!ff!\"]\n",
    "    return(\"|:\" * fp[vol] * abctime16patinst16ghost(bass, pat, inst) * \"[1\" * abcfill16(fill, 0) * \":|2\" * abcfill16(fill, crdc)* \"\\n\")\n",
    "end\n"
   ]
  },
  {
   "cell_type": "code",
   "execution_count": 41,
   "metadata": {},
   "outputs": [
    {
     "data": {
      "text/plain": [
       "insert (generic function with 1 method)"
      ]
     },
     "execution_count": 41,
     "metadata": {},
     "output_type": "execute_result"
    }
   ],
   "source": [
    "#utility function, insert one string into another\n",
    "function insert(\n",
    "    s::String,\n",
    "    pos::Integer,\n",
    "    sub::String)\n",
    "    return s[1:pos] * sub * s[pos+1:end]\n",
    "end\n",
    "    "
   ]
  },
  {
   "cell_type": "code",
   "execution_count": 42,
   "metadata": {},
   "outputs": [
    {
     "data": {
      "text/plain": [
       "@functionName (macro with 1 method)"
      ]
     },
     "execution_count": 42,
     "metadata": {},
     "output_type": "execute_result"
    }
   ],
   "source": [
    "macro functionName()\n",
    "    return quote\n",
    "        st = stacktrace(backtrace())\n",
    "        myf = \"\"\n",
    "        for frm in st\n",
    "            funcname = frm.func\n",
    "            if frm.func != :backtrace && frm.func!= Symbol(\"macro expansion\")\n",
    "                myf = frm.func\n",
    "                break\n",
    "            end\n",
    "        end\n",
    "        #println(\"Running function $(myf)\")\n",
    "        String(myf)\n",
    "    end\n",
    "end\n"
   ]
  },
  {
   "cell_type": "code",
   "execution_count": 43,
   "metadata": {},
   "outputs": [
    {
     "data": {
      "text/plain": [
       "abcsolo16patinst16ghost (generic function with 1 method)"
      ]
     },
     "execution_count": 43,
     "metadata": {},
     "output_type": "execute_result"
    }
   ],
   "source": [
    "#put it all together, output abc notation\n",
    "import Dates\n",
    "function abcsolo16patinst16ghost(\n",
    "  len::Int,\n",
    "  basstrans::AugMatrix,\n",
    "  filltrans::AugDblMatrix,\n",
    "  dyntrans::AugDblMatrix,\n",
    "  pattrans::AugMatrix,\n",
    "  insttrans::AugMatrix,\n",
    "  feel::String,\n",
    "    )\n",
    "    s = \"\"\n",
    "    curdyn = markovrand(dyn.init)\n",
    "    curpat = markovrand(pattrans.init)\n",
    "    curinst = markovrand(insttrans.init)\n",
    "    for i = 1:len\n",
    "        vol = div(curdyn, 2) + 1\n",
    "        bass = ghostbassgen(24, basstrans)\n",
    "        pat = curpat + 1\n",
    "        inst = curinst + 1\n",
    "        fill = fill16gen(16, filltrans)\n",
    "        crdc = 2 * mod(curdyn, 2) - 1\n",
    "        s = s * abctune16patinst16ghost(vol, bass, pat, inst, fill, crdc)\n",
    "        if i + 1 < len\n",
    "            curdyn = markovrand(dyntrans.mat1[:, curdyn + 1])\n",
    "        else\n",
    "            curdyn = markovrand(dyntrans.mat2[:, curdyn + 1])\n",
    "        end\n",
    "        curpat = markovrand(pattrans.mat[:, curpat + 1])\n",
    "        curinst = markovrand(insttrans.mat[:, curinst + 1])\n",
    "    end\n",
    "    s = insert(s, findlast(occursin(\"acbdefgABCDEFG\"), s)-1, \"!fermata!\") #final fermata\n",
    "    s = replace(s, \"[]\" => \"z\") #rest\n",
    "    s = makeppheader(\"Computer-generated \\\\`Etude for Solo Drum Kit\", String(@functionName), \"$(Dates.now())\", \"4/4\", feel, 80) * s * \"|]\\n\"\n",
    "    return(s)\n",
    "end\n"
   ]
  },
  {
   "cell_type": "code",
   "execution_count": 44,
   "metadata": {
    "scrolled": true
   },
   "outputs": [
    {
     "data": {
      "text/plain": [
       "makeppheader (generic function with 1 method)"
      ]
     },
     "execution_count": 44,
     "metadata": {},
     "output_type": "execute_result"
    }
   ],
   "source": [
    "function makeppheader(title::String, composer::String, date::String, meter::String, feel::String, tempo::Int)\n",
    "    s = \"\"\"%%abc-include percussions-JBH.abh\n",
    "    \n",
    "    I:linebreak \\$\n",
    "    %%flatbeams\n",
    "    %%propagate-accidentals not\n",
    "    %%pos ornament up\n",
    "    %%ornament up\n",
    "    %%MIDI fermatafixed\n",
    "    \n",
    "    #ifdef MIDI\n",
    "    #define !>! \\\"[I:volinc 50]\\\"\n",
    "    #define !Q! \\\"[I:volinc -30]\\\" \n",
    "                    %%%ghost\n",
    "    #define !U! \\\"[I:volinc -20]\\\" \n",
    "                    %%%unaccent\n",
    "    #else\n",
    "    #define !N! \"\\\\\\\"^_\\\\\\\"\" \n",
    "                    %%%tenuto\n",
    "    #define !Q! !(.!!).! \n",
    "                    %%%ghost\n",
    "    #define !U! !anti!  \n",
    "                    %%%unaccent\n",
    "    #endif\n",
    "    \n",
    "    X:1\n",
    "    T:$title\n",
    "    C:$composer\n",
    "    O:$date\n",
    "    M:$meter\n",
    "    L:1/8\n",
    "    Q:\\\"$feel\\\" 1/4=$tempo\n",
    "    K:none clef=perc\n",
    "    [V:1 clef=perc, stem=up]     % activate abc2xml.py map\n",
    "    %%voicemap drummap  % activate abcm2ps/abc2svg map\n",
    "    %%MIDI channel 10   % activate abc2midi map\n",
    "    %%MIDI program 0\n",
    "    \"\"\"\n",
    "    return(s)\n",
    "end"
   ]
  },
  {
   "cell_type": "code",
   "execution_count": null,
   "metadata": {},
   "outputs": [],
   "source": [
    "#test\n",
    "print(makeppheader(\"Computer-generated \\\\`Etude for Solo Drum Kit\", String(@functionName), \"$(Dates.now())\", \"4/4\", \"Rock 16th feel\", 80))"
   ]
  },
  {
   "cell_type": "code",
   "execution_count": 45,
   "metadata": {},
   "outputs": [
    {
     "data": {
      "text/plain": [
       "writetune (generic function with 1 method)"
      ]
     },
     "execution_count": 45,
     "metadata": {},
     "output_type": "execute_result"
    }
   ],
   "source": [
    "#write a string s of abc notation to a file fname\n",
    "function writetune(fname, s)\n",
    "    #h = open(\"header.abc\", \"r\")\n",
    "    f = open(fname, \"w\")\n",
    "    #for header in eachline(h)\n",
    "    #    print(f, header * \"\\n\")\n",
    "    #end\n",
    "    #close(h)\n",
    "    #print(f, makeheader(\"Computer-generated \\\\`Etude for Solo Drum Kit\", \"4/4\", \"Rock 16th feel\", 80))\n",
    "    print(f, s)\n",
    "    return(close(f))\n",
    "end\n"
   ]
  },
  {
   "cell_type": "code",
   "execution_count": null,
   "metadata": {},
   "outputs": [],
   "source": []
  },
  {
   "cell_type": "code",
   "execution_count": 125,
   "metadata": {},
   "outputs": [
    {
     "name": "stdout",
     "output_type": "stream",
     "text": [
      "%%abc-include percussions-JBH.abh\n",
      "\n",
      "I:linebreak $\n",
      "%%flatbeams\n",
      "%%propagate-accidentals not\n",
      "%%pos ornament up\n",
      "%%ornament up\n",
      "%%MIDI fermatafixed\n",
      "\n",
      "#ifdef MIDI\n",
      "#define !>! \"[I:volinc 50]\"\n",
      "#define !Q! \"[I:volinc -30]\" \n",
      "                %%%ghost\n",
      "#define !U! \"[I:volinc -20]\" \n",
      "                %%%unaccent\n",
      "#else\n",
      "#define !N! \"\\\"^_\\\"\" \n",
      "                %%%tenuto\n",
      "#define !Q! !(.!!).! \n",
      "                %%%ghost\n",
      "#define !U! !anti!  \n",
      "                %%%unaccent\n",
      "#endif\n",
      "\n",
      "X:1\n",
      "T:Computer-generated \\`Etude for Solo Drum Kit\n",
      "C:abcsolo16patinst16ghost\n",
      "O:2021-11-13T22:41:46.846\n",
      "M:4/4\n",
      "L:1/8\n",
      "Q:\"Rock 16th feel\" 1/4=80\n",
      "K:none clef=perc\n",
      "[V:1 clef=perc, stem=up]     % activate abc2xml.py map\n",
      "%%voicemap drummap  % activate abcm2ps/abc2svg map\n",
      "%%MIDI channel 10   % activate abc2midi map\n",
      "%%MIDI program 0\n",
      "|:!mp![^g^DF]/2[^g]/2[^gF]/2[^g]/2 [c^g^DF]/2[^gF]/2[^g]/2[^g]/2 [^g^DF]/2[^g!Q!c]/2[^gF]/2[^gF]/2 [c^g^D]/2[^g]/2[^gF]/2[^g!Q!c]/2 |\n",
      "[^g^DF]/2[^g]/2[^gF]/2[^g!Q!c]/2 [c^g^DF]/2[^g]/2[^g]/2[^g]/2 [^g^DF]/2[^g!Q!c]/2[^gF]/2[^gF]/2 [c^g^D]/2[^g]/2[^gF]/2[^gF]/2 |\n",
      "[^g^D]/2[^g]/2[^gF]/2[^g]/2 [c^g^DF]/2[^gF]/2[^g]/2[^g]/2 [^g^DF]/2[^g]/2[^g]/2[^g]/2 [c^g^DF]/2[^g!Q!c]/2[^g]/2[^g]/2 |\n",
      "[1e/2G/2G/2e/2 z/2F/2G/2G/2 A/2c/2c/2c/2 e/2A/2z/2c/2 :|2e/2G/2G/2e/2 z/2F/2G/2G/2 A/2c/2c/2c/2 !<(!e/2A/2!<)!z/2c/2 \n",
      "|:!pp![^g]/2z/2[^gF]/2[F]/2 [c^g]/2z/2[^gF]/2[!Q!c]/2 [^gF]/2[F]/2[^g]/2z/2 [c^gF]/2[F]/2[^g]/2z/2 |\n",
      "[^gF]/2z/2[^gF]/2[!Q!c]/2 [c^gF]/2[F]/2[^g]/2z/2 [^gF]/2[!Q!c]/2[^gF]/2[F]/2 [c^g]/2z/2[^g]/2z/2 |\n",
      "[^gF]/2z/2[^g]/2z/2 [c^gF]/2[!Q!c]/2[^g]/2z/2 [^g]/2z/2[^gF]/2z/2 [c^gF]/2[F]/2[^g]/2z/2 |\n",
      "[1e/2F/2c/2e/2 e/2A/2z/2c/2 e/2z/2z/2A/2 A/2G/2G/2e/2 :|2e/2F/2c/2e/2 e/2A/2z/2c/2 e/2z/2z/2A/2 !<(!A/2G/2!<)!G/2e/2 \n",
      "|:!mf![^gF]/2[^g]/2[^gF]/2[^g!Q!c]/2 [c^gF]/2[^g]/2[^gF]/2[^g!Q!c]/2 [^gF]/2[^g!Q!c]/2[^gF]/2[^g!Q!c]/2 [c^gF]/2[^g!Q!c]/2[^g]/2[^g]/2 |\n",
      "[^gF]/2[^g]/2[^g]/2[^g]/2 [c^gF]/2[^g]/2[^g]/2[^g]/2 [^gF]/2[^gF]/2[^g]/2[^g]/2 [c^gF]/2[^g!Q!c]/2[^gF]/2[^g!Q!c]/2 |\n",
      "[^gF]/2[^g]/2[^g]/2[^g]/2 [c^gF]/2[^g!Q!c]/2[^gF]/2[^gF]/2 [^g]/2[^g]/2[^gF]/2[^g]/2 [c^gF]/2[^g!Q!c]/2[^gF]/2[^gF]/2 |\n",
      "[1A/2A/2c/2G/2 G/2e/2e/2A/2 A/2F/2c/2z/2 z/2A/2c/2e/2 :|2A/2A/2c/2G/2 G/2e/2e/2A/2 A/2F/2c/2z/2 !>(!z/2A/2!>)!c/2e/2 \n",
      "|:!p![^DF]/2z/2[g^DF]/2[gF]/2 [c^D]/2z/2[g^DF]/2[g!Q!c]/2 [^DF]/2z/2[g^D]/2[g]/2 [c^DF]/2[!Q!c]/2[g^D]/2[g]/2 |\n",
      "[^DF]/2z/2[g^DF]/2[gF]/2 [c^D]/2z/2[g^DF]/2[g]/2 [^DF]/2[F]/2[g^D]/2[g]/2 [c^DF]/2z/2[g^DF]/2[gF]/2 |\n",
      "[^D]/2z/2[g^DF]/2[g]/2 [c^DF]/2[F]/2[g^D]/2[g]/2 [^DF]/2[F]/2[g^D]/2[g]/2 [c^DF]/2z/2[g^D]/2[g]/2 |\n",
      "[1e/2c/2z/2F/2 e/2A/2A/2G/2 F/2e/2F/2e/2 F/2e/2c/2e/2 :|2e/2c/2z/2F/2 e/2A/2A/2G/2 F/2e/2F/2e/2 !>(!F/2e/2!>)!c/2He/2 \n",
      "|]\n"
     ]
    }
   ],
   "source": [
    "solo = abcsolo16patinst16ghost(4, rockBass, rockFill, dyn, rockPat, rockInst, \"Rock 16th feel\")\n",
    "print(solo)"
   ]
  },
  {
   "cell_type": "code",
   "execution_count": 126,
   "metadata": {},
   "outputs": [],
   "source": [
    "writetune(\"rockghosttest.abp\", solo)"
   ]
  },
  {
   "cell_type": "code",
   "execution_count": null,
   "metadata": {},
   "outputs": [],
   "source": [
    "run(`cat rockghosttest.abp`)"
   ]
  },
  {
   "cell_type": "code",
   "execution_count": 129,
   "metadata": {
    "scrolled": true
   },
   "outputs": [
    {
     "name": "stdout",
     "output_type": "stream",
     "text": [
      "\n",
      "(base) C:\\Users\\holden\\Documents\\GitHub\\drum_solo_generator>abcpp rocktest.abp rocktest-ps.abc \n",
      "\n",
      "(base) C:\\Users\\holden\\Documents\\GitHub\\drum_solo_generator>abcm2ps.exe -X rocktest-ps.abc -O rocktest.xhtml \n",
      "abcm2ps-8.14.12 (2021-07-14)\n",
      "File rocktest-ps.abc\n",
      "File percussions-JBH.abh\n",
      "Output written on rocktest.xhtml (1 page, 1 title, 59262 bytes)\n",
      "\n",
      "(base) C:\\Users\\holden\\Documents\\GitHub\\drum_solo_generator>abcpp -MIDI rocktest.abp rocktest-midi.abc \n",
      "\n",
      "(base) C:\\Users\\holden\\Documents\\GitHub\\drum_solo_generator>abc2midi.exe rocktest-midi.abc -o rocktest.mid \n",
      "4.59 June 27 2021 abc2midi\n",
      "writing MIDI file rocktest.mid\n",
      "Warning in line-char 40-0 : Track 1 Bar 19 has 9/2 units instead of 4 in repeat\n",
      "\n",
      "(base) C:\\Users\\holden\\Documents\\GitHub\\drum_solo_generator>start rocktest.mid \n"
     ]
    },
    {
     "name": "stderr",
     "output_type": "stream",
     "text": [
      "rocktest-ps.abc:29:47: warning: Line overfull (635pt of 628pt)\r\n"
     ]
    },
    {
     "name": "stdout",
     "output_type": "stream",
     "text": [
      "\r\n",
      "(base) C:\\Users\\holden\\Documents\\GitHub\\drum_solo_generator>start rocktest.xhtml \r\n"
     ]
    },
    {
     "data": {
      "text/plain": [
       "Process(`\u001b[4mabptest.bat\u001b[24m \u001b[4mrocktest.abp\u001b[24m`, ProcessExited(0))"
      ]
     },
     "execution_count": 129,
     "metadata": {},
     "output_type": "execute_result"
    }
   ],
   "source": [
    "run(`abptest.bat rockghosttest.abp`)"
   ]
  },
  {
   "cell_type": "code",
   "execution_count": 68,
   "metadata": {},
   "outputs": [
    {
     "data": {
      "text/plain": [
       "9×9 Matrix{Float64}:\n",
       " 0.1  0.2  0.0  0.1  0.333333  0.0  0.0  0.0  0.0\n",
       " 0.2  0.2  0.2  0.2  0.333333  0.1  0.0  0.0  0.0\n",
       " 0.2  0.2  0.2  0.2  0.333333  0.1  0.0  0.0  0.0\n",
       " 0.1  0.2  0.2  0.1  0.0       0.3  0.0  0.0  0.0\n",
       " 0.2  0.0  0.2  0.2  0.0       0.2  0.0  0.0  0.0\n",
       " 0.2  0.2  0.2  0.2  0.0       0.3  0.0  0.0  0.0\n",
       " 0.0  0.0  0.0  0.0  0.0       0.0  0.0  0.0  0.0\n",
       " 0.0  0.0  0.0  0.0  0.0       0.0  0.0  0.0  0.0\n",
       " 0.0  0.0  0.0  0.0  0.0       0.0  0.0  0.0  0.0"
      ]
     },
     "execution_count": 68,
     "metadata": {},
     "output_type": "execute_result"
    }
   ],
   "source": [
    "#0 = rest, 1 = bass, 2 = LH\n",
    "                #00    #01  #02   #10  #11   #12  #zeros\n",
    "funkBassMatrix = [0.1e0 0.2  0     0.1  1//3 0   0 0 0 #00\n",
    "                    0.2 0.2  0.2   0.2  1//3 0.1    0 0 0  #01\n",
    "                    0.2 0.2  0.2   0.2  1//3 0.1    0 0 0  #02\n",
    "                    0.1 0.2  0.2   0.1  0    0.3 0 0 0  #10\n",
    "                    0.2 0    0.2   0.2  0    0.2 0 0 0  #11\n",
    "                    0.2 0.2  0.2   0.2  0    0.3 0 0 0    #12\n",
    "                    zeros(3,9)]                 #zeros"
   ]
  },
  {
   "cell_type": "code",
   "execution_count": 69,
   "metadata": {},
   "outputs": [
    {
     "data": {
      "text/plain": [
       "1×9 Matrix{Float64}:\n",
       " 1.0  1.0  1.0  1.0  1.0  1.0  0.0  0.0  0.0"
      ]
     },
     "execution_count": 69,
     "metadata": {},
     "output_type": "execute_result"
    }
   ],
   "source": [
    "sum(funkBassMatrix, dims=1)"
   ]
  },
  {
   "cell_type": "code",
   "execution_count": 7,
   "metadata": {},
   "outputs": [
    {
     "data": {
      "text/plain": [
       "9-element Vector{Float64}:\n",
       " 0.1\n",
       " 0.2\n",
       " 0.1\n",
       " 0.2\n",
       " 0.2\n",
       " 0.2\n",
       " 0.0\n",
       " 0.0\n",
       " 0.0"
      ]
     },
     "execution_count": 7,
     "metadata": {},
     "output_type": "execute_result"
    }
   ],
   "source": [
    "funkBassInitial = [0.1, 0.2, 0.1, 0.2, 0.2, 0.2, 0, 0, 0]\n"
   ]
  },
  {
   "cell_type": "code",
   "execution_count": 8,
   "metadata": {},
   "outputs": [
    {
     "data": {
      "text/plain": [
       "1-element Vector{Float64}:\n",
       " 1.0"
      ]
     },
     "execution_count": 8,
     "metadata": {},
     "output_type": "execute_result"
    }
   ],
   "source": [
    "sum(funkBassInitial, dims=1)"
   ]
  },
  {
   "cell_type": "code",
   "execution_count": 46,
   "metadata": {},
   "outputs": [
    {
     "data": {
      "text/plain": [
       "AugMatrix([0.1 0.2 … 0.0 0.0; 0.2 0.2 … 0.0 0.0; … ; 0.0 0.0 … 0.0 0.0; 0.0 0.0 … 0.0 0.0], [0.1, 0.2, 0.1, 0.2, 0.2, 0.2, 0.0, 0.0, 0.0])"
      ]
     },
     "execution_count": 46,
     "metadata": {},
     "output_type": "execute_result"
    }
   ],
   "source": [
    "funkBass = AugMatrix(funkBassMatrix, funkBassInitial)"
   ]
  },
  {
   "cell_type": "code",
   "execution_count": 47,
   "metadata": {},
   "outputs": [
    {
     "data": {
      "text/plain": [
       "6×6 Matrix{Float64}:\n",
       " 0.2  0.1  0.1  0.0  0.3  0.2\n",
       " 0.4  0.2  0.0  0.3  0.3  0.2\n",
       " 0.1  0.4  0.2  0.1  0.1  0.2\n",
       " 0.1  0.1  0.4  0.3  0.1  0.2\n",
       " 0.1  0.1  0.1  0.2  0.1  0.1\n",
       " 0.1  0.1  0.2  0.1  0.1  0.1"
      ]
     },
     "execution_count": 47,
     "metadata": {},
     "output_type": "execute_result"
    }
   ],
   "source": [
    "funkFillLeftToRight = [0.2e0 0.1e0 0.1e0 0 0.3e0 0.2e0; 0.4e0 0.2e0 0 0.3e0 0.3e0 0.2e0; 0.1e0 0.4e0 0.2e0 0.1e0 0.1e0 0.2e0; 0.1e0 0.1e0 0.4e0 0.3e0 0.1e0 0.2e0; 0.1e0 0.1e0 0.1e0 0.2e0 0.1e0 0.1e0; 0.1e0 0.1e0 0.2e0 0.1e0 0.1e0 0.1e0]"
   ]
  },
  {
   "cell_type": "code",
   "execution_count": 48,
   "metadata": {},
   "outputs": [
    {
     "data": {
      "text/plain": [
       "6×6 Matrix{Float64}:\n",
       " 0.4  0.2  0.1  0.1  0.3  0.2\n",
       " 0.2  0.4  0.2  0.2  0.2  0.2\n",
       " 0.1  0.0  0.4  0.1  0.1  0.2\n",
       " 0.0  0.1  0.1  0.4  0.1  0.2\n",
       " 0.2  0.1  0.1  0.1  0.2  0.1\n",
       " 0.1  0.2  0.1  0.1  0.1  0.1"
      ]
     },
     "execution_count": 48,
     "metadata": {},
     "output_type": "execute_result"
    }
   ],
   "source": [
    "funkFillRightToLeft = [0.4e0 0.2e0 0.1e0 0.1e0 0.3e0 0.2e0; 0.2e0 0.4e0 0.2e0 0.2e0 0.2e0 0.2e0; 0.1e0 0 0.4e0 0.1e0 0.1e0 0.2e0; 0 0.1e0 0.1e0 0.4e0 0.1e0 0.2e0; 0.2e0 0.1e0 0.1e0 0.1e0 0.2e0 0.1e0; 0.1e0 0.2e0 0.1e0 0.1e0 0.1e0 0.1e0]\n"
   ]
  },
  {
   "cell_type": "code",
   "execution_count": 49,
   "metadata": {},
   "outputs": [
    {
     "data": {
      "text/plain": [
       "6-element Vector{Float64}:\n",
       " 0.3\n",
       " 0.3\n",
       " 0.1\n",
       " 0.1\n",
       " 0.1\n",
       " 0.1"
      ]
     },
     "execution_count": 49,
     "metadata": {},
     "output_type": "execute_result"
    }
   ],
   "source": [
    "funkFillInitial = [0.3e0,0.3e0,0.1e0,0.1e0,0.1e0,0.1e0]"
   ]
  },
  {
   "cell_type": "code",
   "execution_count": 50,
   "metadata": {},
   "outputs": [
    {
     "data": {
      "text/plain": [
       "AugDblMatrix([0.2 0.1 … 0.3 0.2; 0.4 0.2 … 0.3 0.2; … ; 0.1 0.1 … 0.1 0.1; 0.1 0.1 … 0.1 0.1], [0.4 0.2 … 0.3 0.2; 0.2 0.4 … 0.2 0.2; … ; 0.2 0.1 … 0.2 0.1; 0.1 0.2 … 0.1 0.1], [0.3, 0.3, 0.1, 0.1, 0.1, 0.1])"
      ]
     },
     "execution_count": 50,
     "metadata": {},
     "output_type": "execute_result"
    }
   ],
   "source": [
    "funkFill = AugDblMatrix(funkFillLeftToRight, funkFillRightToLeft, funkFillInitial)"
   ]
  },
  {
   "cell_type": "code",
   "execution_count": 51,
   "metadata": {},
   "outputs": [
    {
     "data": {
      "text/plain": [
       "10×10 Matrix{Float64}:\n",
       " 0.0  0.1  0.1  0.1  0.2  0.2  0.2  0.2  0.0  0.2\n",
       " 0.2  0.0  0.2  0.2  0.1  0.2  0.2  0.2  0.2  0.1\n",
       " 0.1  0.1  0.0  0.0  0.1  0.1  0.1  0.1  0.1  0.1\n",
       " 0.1  0.1  0.0  0.0  0.1  0.1  0.1  0.1  0.1  0.1\n",
       " 0.2  0.2  0.2  0.2  0.0  0.1  0.1  0.1  0.2  0.0\n",
       " 0.1  0.1  0.1  0.1  0.1  0.0  0.1  0.1  0.1  0.1\n",
       " 0.1  0.1  0.1  0.1  0.1  0.0  0.0  0.0  0.1  0.1\n",
       " 0.1  0.1  0.1  0.1  0.1  0.0  0.0  0.0  0.1  0.1\n",
       " 0.0  0.1  0.1  0.1  0.2  0.1  0.1  0.1  0.0  0.2\n",
       " 0.1  0.1  0.1  0.1  0.0  0.2  0.1  0.1  0.1  0.0"
      ]
     },
     "execution_count": 51,
     "metadata": {},
     "output_type": "execute_result"
    }
   ],
   "source": [
    "funkRideMatrix = [\n",
    "     #HH8 #RQ    #R8sB #R8sA #beA  #sl4A #sl2A #sl1A #HHdr8 #s8beB\n",
    "    0 0.1e0 0.1e0 0.1e0 0.2e0 0.2e0 0.2e0 0.2e0 0 0.2e0; #HH8 \n",
    "    0.2e0 0 0.2e0 0.2e0 0.1e0 0.2e0 0.2e0 0.2e0 0.2e0 0.1e0; #RQ   \n",
    "    0.1e0 0.1e0 0 0 0.1e0 0.1e0 0.1e0 0.1e0 0.1e0 0.1e0;   #R8sB \n",
    "    0.1e0 0.1e0 0 0 0.1e0 0.1e0 0.1e0 0.1e0 0.1e0 0.1e0;  #R8sA \n",
    "    0.2e0 0.2e0 0.2e0 0.2e0 0 0.1e0 0.1e0 0.1e0 0.2e0 0; #beA \n",
    "    0.1e0 0.1e0 0.1e0 0.1e0 0.1e0 0 0.1e0 0.1e0 0.1e0 0.1e0;  #sl4A\n",
    "    0.1e0 0.1e0 0.1e0 0.1e0 0.1e0 0 0 0 0.1e0 0.1e0; #sl2A\n",
    "    0.1e0 0.1e0 0.1e0 0.1e0 0.1e0 0 0 0 0.1e0 0.1e0; #sl1A\n",
    "    0 0.1e0 0.1e0 0.1e0 0.2e0 0.1e0 0.1e0 0.1e0 0 0.2e0; #HHdr8\n",
    "    0.1e0 0.1e0 0.1e0 0.1e0 0 0.2e0 0.1e0 0.1e0 0.1e0 0 #s8beB\n",
    "]\n"
   ]
  },
  {
   "cell_type": "code",
   "execution_count": 144,
   "metadata": {},
   "outputs": [
    {
     "data": {
      "text/plain": [
       "10-element Vector{Float64}:\n",
       " 0.2\n",
       " 0.2\n",
       " 0.0\n",
       " 0.0\n",
       " 0.1\n",
       " 0.1\n",
       " 0.1\n",
       " 0.1\n",
       " 0.2\n",
       " 0.0"
      ]
     },
     "execution_count": 144,
     "metadata": {},
     "output_type": "execute_result"
    }
   ],
   "source": [
    "funkRideInitial = [0.2e0,0.2e0,0,0,0.1e0,0.1e0,0.1e0,0.1e0,0.2e0,0]"
   ]
  },
  {
   "cell_type": "code",
   "execution_count": 145,
   "metadata": {},
   "outputs": [
    {
     "data": {
      "text/plain": [
       "AugMatrix([0.0 0.1 … 0.0 0.2; 0.2 0.0 … 0.2 0.1; … ; 0.0 0.1 … 0.0 0.2; 0.1 0.1 … 0.1 0.0], [0.2, 0.2, 0.0, 0.0, 0.1, 0.1, 0.1, 0.1, 0.2, 0.0])"
      ]
     },
     "execution_count": 145,
     "metadata": {},
     "output_type": "execute_result"
    }
   ],
   "source": [
    "funkRide = AugMatrix(funkRideMatrix, funkRideInitial)"
   ]
  },
  {
   "cell_type": "code",
   "execution_count": 52,
   "metadata": {},
   "outputs": [
    {
     "data": {
      "text/plain": [
       "4×4 Matrix{Float64}:\n",
       " 0.0  0.2  0.2  0.2\n",
       " 0.2  0.0  0.4  0.4\n",
       " 0.2  0.2  0.0  0.4\n",
       " 0.6  0.6  0.4  0.0"
      ]
     },
     "execution_count": 52,
     "metadata": {},
     "output_type": "execute_result"
    }
   ],
   "source": [
    "funkPatMatrix = [\n",
    "    #8  Q   b   +\n",
    "    0   0.2 0.2 0.2 #8 \n",
    "    0.2 0   0.4 0.4   #Q\n",
    "    0.2 0.2 0   0.4 #b\n",
    "    0.6 0.6 0.4 0 #+\n",
    "    ]"
   ]
  },
  {
   "cell_type": "code",
   "execution_count": 53,
   "metadata": {},
   "outputs": [
    {
     "data": {
      "text/plain": [
       "1×4 Matrix{Float64}:\n",
       " 1.0  1.0  1.0  1.0"
      ]
     },
     "execution_count": 53,
     "metadata": {},
     "output_type": "execute_result"
    }
   ],
   "source": [
    "sum(funkPatMatrix, dims=1)"
   ]
  },
  {
   "cell_type": "code",
   "execution_count": 54,
   "metadata": {},
   "outputs": [
    {
     "data": {
      "text/plain": [
       "4-element Vector{Float64}:\n",
       " 0.0\n",
       " 0.2\n",
       " 0.4\n",
       " 0.4"
      ]
     },
     "execution_count": 54,
     "metadata": {},
     "output_type": "execute_result"
    }
   ],
   "source": [
    "funkPatInitial = [0; 0.2; 0.4; 0.4]"
   ]
  },
  {
   "cell_type": "code",
   "execution_count": 55,
   "metadata": {},
   "outputs": [
    {
     "data": {
      "text/plain": [
       "AugMatrix([0.0 0.2 0.2 0.2; 0.2 0.0 0.4 0.4; 0.2 0.2 0.0 0.4; 0.6 0.6 0.4 0.0], [0.0, 0.2, 0.4, 0.4])"
      ]
     },
     "execution_count": 55,
     "metadata": {},
     "output_type": "execute_result"
    }
   ],
   "source": [
    "funkPat = AugMatrix(funkPatMatrix, funkPatInitial)"
   ]
  },
  {
   "cell_type": "code",
   "execution_count": 56,
   "metadata": {},
   "outputs": [
    {
     "data": {
      "text/plain": [
       "4×4 Matrix{Float64}:\n",
       " 0.1  0.4  0.4  0.4\n",
       " 0.6  0.1  0.4  0.4\n",
       " 0.2  0.4  0.1  0.2\n",
       " 0.1  0.1  0.1  0.0"
      ]
     },
     "execution_count": 56,
     "metadata": {},
     "output_type": "execute_result"
    }
   ],
   "source": [
    "funkInstMatrix = [\n",
    "   #HH  RC  RB  ST \n",
    "    0.1 0.4 0.4   0.4   #HH\n",
    "    0.6 0.1 0.4   0.4   #RC\n",
    "    0.2 0.4 0.1   0.2   #RB\n",
    "    0.1 0.1 0.1   0     #ST\n",
    "]"
   ]
  },
  {
   "cell_type": "code",
   "execution_count": 57,
   "metadata": {},
   "outputs": [
    {
     "data": {
      "text/plain": [
       "4-element Vector{Float64}:\n",
       " 0.4\n",
       " 0.4\n",
       " 0.2\n",
       " 0.0"
      ]
     },
     "execution_count": 57,
     "metadata": {},
     "output_type": "execute_result"
    }
   ],
   "source": [
    "funkInstInitial = [0.4; 0.4; 0.2; 0]"
   ]
  },
  {
   "cell_type": "code",
   "execution_count": 58,
   "metadata": {},
   "outputs": [
    {
     "data": {
      "text/plain": [
       "AugMatrix([0.1 0.4 0.4 0.4; 0.6 0.1 0.4 0.4; 0.2 0.4 0.1 0.2; 0.1 0.1 0.1 0.0], [0.4, 0.4, 0.2, 0.0])"
      ]
     },
     "execution_count": 58,
     "metadata": {},
     "output_type": "execute_result"
    }
   ],
   "source": [
    "funkInst = AugMatrix(funkInstMatrix, funkInstInitial)"
   ]
  },
  {
   "cell_type": "code",
   "execution_count": 61,
   "metadata": {},
   "outputs": [
    {
     "name": "stdout",
     "output_type": "stream",
     "text": [
      "%%abc-include percussions-JBH.abh\n",
      "\n",
      "I:linebreak $\n",
      "%%flatbeams\n",
      "%%propagate-accidentals not\n",
      "%%pos ornament up\n",
      "%%ornament up\n",
      "%%MIDI fermatafixed\n",
      "\n",
      "#ifdef MIDI\n",
      "#define !>! \"[I:volinc 50]\"\n",
      "#define !Q! \"[I:volinc -30]\" \n",
      "                %%%ghost\n",
      "#define !U! \"[I:volinc -20]\" \n",
      "                %%%unaccent\n",
      "#else\n",
      "#define !N! \"\\\"^_\\\"\" \n",
      "                %%%tenuto\n",
      "#define !Q! !(.!!).! \n",
      "                %%%ghost\n",
      "#define !U! !anti!  \n",
      "                %%%unaccent\n",
      "#endif\n",
      "\n",
      "X:1\n",
      "T:Computer-generated \\`Etude for Solo Drum Kit\n",
      "C:abcsolo16patinst16ghost\n",
      "O:2021-11-19T20:27:36.886\n",
      "M:4/4\n",
      "L:1/8\n",
      "Q:\"Funk 16th feel\" 1/4=80\n",
      "K:none clef=perc\n",
      "[V:1 clef=perc, stem=up]     % activate abc2xml.py map\n",
      "%%voicemap drummap  % activate abcm2ps/abc2svg map\n",
      "%%MIDI channel 10   % activate abc2midi map\n",
      "%%MIDI program 0\n",
      "|:!p![^g^DF]/2[^g!Q!c]/2[^gF]/2[^g!Q!c]/2 [c^g^D]/2[^gF]/2[^gF]/2[^g]/2 [^g^DF]/2[^g!Q!c]/2[^g]/2[^gF]/2 [c^g^D]/2[^g!Q!c]/2[^gF]/2[^g]/2 |\n",
      "[^g^DF]/2[^g]/2[^gF]/2[^g!Q!c]/2 [c^g^D]/2[^g!Q!c]/2[^g]/2[^gF]/2 [^g^D]/2[^g!Q!c]/2[^gF]/2[^gF]/2 [c^g^D]/2[^gF]/2[^g]/2[^g!Q!c]/2 |\n",
      "[^g^D]/2[^gF]/2[^gF]/2[^g!Q!c]/2 [c^g^DF]/2[^gF]/2[^g]/2[^g]/2 [^g^D]/2[^g!Q!c]/2[^gF]/2[^gF]/2 [c^g^D]/2[^gF]/2[^g]/2[^gF]/2 |\n",
      "[1e/2F/2e/2e/2 c/2e/2c/2G/2 z/2e/2e/2A/2 z/2c/2F/2F/2 :|2e/2F/2e/2e/2 c/2e/2c/2G/2 z/2e/2e/2A/2 !<(!z/2c/2!<)!F/2F/2 \n",
      "|:!pp!!N![^eF]/2z/2!N![^e]/2[!Q!c]/2 !N![c^eF]/2z/2!N![^eF]/2[F]/2 !N![^e]/2[!Q!c]/2!N![^e]/2[!Q!c]/2 !N![c^eF]/2[!Q!c]/2!N![^e]/2[!Q!c]/2 |\n",
      "!N![^eF]/2[F]/2!N![^e]/2z/2 !N![c^eF]/2[F]/2!N![^e]/2z/2 !N![^eF]/2z/2!N![^eF]/2z/2 !N![c^e]/2[F]/2!N![^eF]/2[!Q!c]/2 |\n",
      "!N![^eF]/2z/2!N![^eF]/2[F]/2 !N![c^e]/2[F]/2!N![^e]/2[!Q!c]/2 !N![^eF]/2[!Q!c]/2!N![^e]/2[!Q!c]/2 !N![c^eF]/2[!Q!c]/2!N![^e]/2[F]/2 |\n",
      "[1c/2G/2G/2G/2 z/2F/2e/2A/2 A/2G/2G/2G/2 e/2e/2c/2e/2 :|2c/2G/2G/2G/2 z/2F/2e/2A/2 A/2G/2G/2G/2 !<(!e/2e/2!<)!c/2e/2 \n",
      "|:!mf![^g]/2[^g]/2[^g]/2[^g]/2 [c^gF]/2[^g]/2[^g]/2[^g]/2 [^g]/2[^g!Q!c]/2[^g]/2[^gF]/2 [c^g]/2[^gF]/2[^g]/2[^gF]/2 |\n",
      "[^g]/2[^g]/2[^gF]/2[^g!Q!c]/2 [c^gF]/2[^gF]/2[^g]/2[^g!Q!c]/2 [^g]/2[^gF]/2[^gF]/2[^g!Q!c]/2 [c^gF]/2[^gF]/2[^g]/2[^gF]/2 |\n",
      "[^g]/2[^g!Q!c]/2[^gF]/2[^gF]/2 [c^g]/2[^gF]/2[^g]/2[^g!Q!c]/2 [^g]/2[^gF]/2[^g]/2[^gF]/2 [c^gF]/2[^g]/2[^g]/2[^gF]/2 |\n",
      "[1e/2A/2A/2z/2 c/2A/2G/2F/2 F/2e/2e/2A/2 F/2c/2A/2G/2 :|2e/2A/2A/2z/2 c/2A/2G/2F/2 F/2e/2e/2A/2 !<(!F/2c/2!<)!A/2G/2 \n",
      "|:!f![^DF]/2z/2[g^DF]/2[g]/2 [c^D]/2[F]/2[g^DF]/2[g]/2 [^D]/2[!Q!c]/2[g^DF]/2[gF]/2 [c^D]/2z/2[g^D]/2[g!Q!c]/2 |\n",
      "[^D]/2[!Q!c]/2[g^D]/2[gF]/2 [c^D]/2[!Q!c]/2[g^DF]/2[g!Q!c]/2 [^DF]/2[F]/2[g^D]/2[g!Q!c]/2 [c^DF]/2[F]/2[g^D]/2[g]/2 |\n",
      "[^D]/2[!Q!c]/2[g^DF]/2[gF]/2 [c^D]/2[!Q!c]/2[g^DF]/2[g]/2 [^DF]/2z/2[g^DF]/2[gF]/2 [c^D]/2[F]/2[g^DF]/2[g!Q!c]/2 |\n",
      "[1G/2e/2z/2F/2 G/2F/2c/2G/2 G/2F/2e/2A/2 F/2e/2c/2c/2 :|2G/2e/2z/2F/2 G/2F/2c/2G/2 G/2F/2e/2A/2 !>(!F/2e/2!>)!c/2!fermata!c/2 \n",
      "|]\n"
     ]
    }
   ],
   "source": [
    "funksolo = abcsolo16patinst16ghost(4, funkBass, funkFill, dyn, funkPat, funkInst, \"Funk 16th feel\")\n",
    "print(funksolo)"
   ]
  },
  {
   "cell_type": "code",
   "execution_count": 64,
   "metadata": {},
   "outputs": [],
   "source": [
    "writetune(\"funkghosttest.abp\", funksolo)"
   ]
  },
  {
   "cell_type": "code",
   "execution_count": 65,
   "metadata": {},
   "outputs": [
    {
     "name": "stdout",
     "output_type": "stream",
     "text": [
      "%%abc-include percussions-JBH.abh\n",
      "\n",
      "I:linebreak $\n",
      "%%flatbeams\n",
      "%%propagate-accidentals not\n",
      "%%pos ornament up\n",
      "%%ornament up\n",
      "%%MIDI fermatafixed\n",
      "\n",
      "#ifdef MIDI\n",
      "#define !>! \"[I:volinc 50]\"\n",
      "#define !Q! \"[I:volinc -30]\" \n",
      "                %%%ghost\n",
      "#define !U! \"[I:volinc -20]\" \n",
      "                %%%unaccent\n",
      "#else\n",
      "#define !N! \"\\\"^_\\\"\" \n",
      "                %%%tenuto\n",
      "#define !Q! !(.!!).! \n",
      "                %%%ghost\n",
      "#define !U! !anti!  \n",
      "                %%%unaccent\n",
      "#endif\n",
      "\n",
      "X:1\n",
      "T:Computer-generated \\`Etude for Solo Drum Kit\n",
      "C:abcsolo16patinst16ghost\n",
      "O:2021-11-19T20:27:36.886\n",
      "M:4/4\n",
      "L:1/8\n",
      "Q:\"Funk 16th feel\" 1/4=80\n",
      "K:none clef=perc\n",
      "[V:1 clef=perc, stem=up]     % activate abc2xml.py map\n",
      "%%voicemap drummap  % activate abcm2ps/abc2svg map\n",
      "%%MIDI channel 10   % activate abc2midi map\n",
      "%%MIDI program 0\n",
      "|:!p![^g^DF]/2[^g!Q!c]/2[^gF]/2[^g!Q!c]/2 [c^g^D]/2[^gF]/2[^gF]/2[^g]/2 [^g^DF]/2[^g!Q!c]/2[^g]/2[^gF]/2 [c^g^D]/2[^g!Q!c]/2[^gF]/2[^g]/2 |\n",
      "[^g^DF]/2[^g]/2[^gF]/2[^g!Q!c]/2 [c^g^D]/2[^g!Q!c]/2[^g]/2[^gF]/2 [^g^D]/2[^g!Q!c]/2[^gF]/2[^gF]/2 [c^g^D]/2[^gF]/2[^g]/2[^g!Q!c]/2 |\n",
      "[^g^D]/2[^gF]/2[^gF]/2[^g!Q!c]/2 [c^g^DF]/2[^gF]/2[^g]/2[^g]/2 [^g^D]/2[^g!Q!c]/2[^gF]/2[^gF]/2 [c^g^D]/2[^gF]/2[^g]/2[^gF]/2 |\n",
      "[1e/2F/2e/2e/2 c/2e/2c/2G/2 z/2e/2e/2A/2 z/2c/2F/2F/2 :|2e/2F/2e/2e/2 c/2e/2c/2G/2 z/2e/2e/2A/2 !<(!z/2c/2!<)!F/2F/2 \n",
      "|:!pp!!N![^eF]/2z/2!N![^e]/2[!Q!c]/2 !N![c^eF]/2z/2!N![^eF]/2[F]/2 !N![^e]/2[!Q!c]/2!N![^e]/2[!Q!c]/2 !N![c^eF]/2[!Q!c]/2!N![^e]/2[!Q!c]/2 |\n",
      "!N![^eF]/2[F]/2!N![^e]/2z/2 !N![c^eF]/2[F]/2!N![^e]/2z/2 !N![^eF]/2z/2!N![^eF]/2z/2 !N![c^e]/2[F]/2!N![^eF]/2[!Q!c]/2 |\n",
      "!N![^eF]/2z/2!N![^eF]/2[F]/2 !N![c^e]/2[F]/2!N![^e]/2[!Q!c]/2 !N![^eF]/2[!Q!c]/2!N![^e]/2[!Q!c]/2 !N![c^eF]/2[!Q!c]/2!N![^e]/2[F]/2 |\n",
      "[1c/2G/2G/2G/2 z/2F/2e/2A/2 A/2G/2G/2G/2 e/2e/2c/2e/2 :|2c/2G/2G/2G/2 z/2F/2e/2A/2 A/2G/2G/2G/2 !<(!e/2e/2!<)!c/2e/2 \n",
      "|:!mf![^g]/2[^g]/2[^g]/2[^g]/2 [c^gF]/2[^g]/2[^g]/2[^g]/2 [^g]/2[^g!Q!c]/2[^g]/2[^gF]/2 [c^g]/2[^gF]/2[^g]/2[^gF]/2 |\n",
      "[^g]/2[^g]/2[^gF]/2[^g!Q!c]/2 [c^gF]/2[^gF]/2[^g]/2[^g!Q!c]/2 [^g]/2[^gF]/2[^gF]/2[^g!Q!c]/2 [c^gF]/2[^gF]/2[^g]/2[^gF]/2 |\n",
      "[^g]/2[^g!Q!c]/2[^gF]/2[^gF]/2 [c^g]/2[^gF]/2[^g]/2[^g!Q!c]/2 [^g]/2[^gF]/2[^g]/2[^gF]/2 [c^gF]/2[^g]/2[^g]/2[^gF]/2 |\n",
      "[1e/2A/2A/2z/2 c/2A/2G/2F/2 F/2e/2e/2A/2 F/2c/2A/2G/2 :|2e/2A/2A/2z/2 c/2A/2G/2F/2 F/2e/2e/2A/2 !<(!F/2c/2!<)!A/2G/2 \n",
      "|:!f![^DF]/2z/2[g^DF]/2[g]/2 [c^D]/2[F]/2[g^DF]/2[g]/2 [^D]/2[!Q!c]/2[g^DF]/2[gF]/2 [c^D]/2z/2[g^D]/2[g!Q!c]/2 |\n",
      "[^D]/2[!Q!c]/2[g^D]/2[gF]/2 [c^D]/2[!Q!c]/2[g^DF]/2[g!Q!c]/2 [^DF]/2[F]/2[g^D]/2[g!Q!c]/2 [c^DF]/2[F]/2[g^D]/2[g]/2 |\n",
      "[^D]/2[!Q!c]/2[g^DF]/2[gF]/2 [c^D]/2[!Q!c]/2[g^DF]/2[g]/2 [^DF]/2z/2[g^DF]/2[gF]/2 [c^D]/2[F]/2[g^DF]/2[g!Q!c]/2 |\n",
      "[1G/2e/2z/2F/2 G/2F/2c/2G/2 G/2F/2e/2A/2 F/2e/2c/2c/2 :|2G/2e/2z/2F/2 G/2F/2c/2G/2 G/2F/2e/2A/2 !>(!F/2e/2!>)!c/2!fermata!c/2 \n",
      "|]\n"
     ]
    },
    {
     "data": {
      "text/plain": [
       "Process(`\u001b[4mcat\u001b[24m \u001b[4mfunkghosttest.abp\u001b[24m`, ProcessExited(0))"
      ]
     },
     "execution_count": 65,
     "metadata": {},
     "output_type": "execute_result"
    }
   ],
   "source": [
    "run(`cat funkghosttest.abp`)"
   ]
  },
  {
   "cell_type": "code",
   "execution_count": 67,
   "metadata": {},
   "outputs": [
    {
     "name": "stdout",
     "output_type": "stream",
     "text": [
      "\n",
      "(base) C:\\Users\\holden\\Documents\\GitHub\\drum_solo_generator>abcpp funkghosttest.abp funkghosttest-ps.abc \n",
      "\n",
      "(base) C:\\Users\\holden\\Documents\\GitHub\\drum_solo_generator>abcm2ps.exe -X funkghosttest-ps.abc -O funkghosttest.xhtml \n",
      "abcm2ps-8.14.12 (2021-07-14)\n",
      "File funkghosttest-ps.abc\n",
      "File percussions-JBH.abh\n",
      "Output written on funkghosttest.xhtml (1 page, 1 title, 62376 bytes)\n",
      "\n",
      "(base) C:\\Users\\holden\\Documents\\GitHub\\drum_solo_generator>abcpp -MIDI funkghosttest.abp funkghosttest-midi.abc \n",
      "\n",
      "(base) C:\\Users\\holden\\Documents\\GitHub\\drum_solo_generator>abc2midi.exe funkghosttest-midi.abc -o funkghosttest.mid \n",
      "4.59 June 27 2021 abc2midi\n",
      "Warning in line-char 28-6 : instruction !N! ignored\n",
      "Warning in line-char 28-19 : instruction !N! ignored\n",
      "Warning in line-char 28-48 : instruction !N! ignored\n",
      "Warning in line-char 28-62 : instruction !N! ignored\n",
      "Warning in line-char 28-78 : instruction !N! ignored\n",
      "Warning in line-char 28-106 : instruction !N! ignored\n",
      "Warning in line-char 28-135 : instruction !N! ignored\n",
      "Warning in line-char 28-165 : instruction !N! ignored\n",
      "Warning in line-char 29-0 : instruction !N! ignored\n",
      "Warning in line-char 29-15 : instruction !N! ignored\n",
      "Warning in line-char 29-28 : instruction !N! ignored\n",
      "Warning in line-char 29-44 : instruction !N! ignored\n",
      "Warning in line-char 29-57 : instruction !N! ignored\n",
      "Warning in line-char 29-70 : instruction !N! ignored\n",
      "Warning in line-char 29-84 : instruction !N! ignored\n",
      "Warning in line-char 29-99 : instruction !N! ignored\n",
      "Warning in line-char 30-0 : instruction !N! ignored\n",
      "Warning in line-char 30-13 : instruction !N! ignored\n",
      "Warning in line-char 30-29 : instruction !N! ignored\n",
      "Warning in line-char 30-44 : instruction !N! ignored\n",
      "Warning in line-char 30-73 : instruction !N! ignored\n",
      "Warning in line-char 30-102 : instruction !N! ignored\n",
      "Warning in line-char 30-131 : instruction !N! ignored\n",
      "Warning in line-char 30-161 : instruction !N! ignored\n",
      "writing MIDI file funkghosttest.mid\n",
      "Warning in line-char 40-0 : Track 1 Bar 19 has 9/2 units instead of 4 in repeat\n",
      "\n",
      "(base) C:\\Users\\holden\\Documents\\GitHub\\drum_solo_generator>start funkghosttest.mid \n"
     ]
    },
    {
     "name": "stderr",
     "output_type": "stream",
     "text": [
      "funkghosttest-ps.abc:29:47: warning: Line overfull (635pt of 628pt)\r\n"
     ]
    },
    {
     "name": "stdout",
     "output_type": "stream",
     "text": [
      "\r\n",
      "(base) C:\\Users\\holden\\Documents\\GitHub\\drum_solo_generator>start funkghosttest.xhtml \r\n"
     ]
    },
    {
     "data": {
      "text/plain": [
       "Process(`\u001b[4mabptest.bat\u001b[24m \u001b[4mfunkghosttest.abp\u001b[24m`, ProcessExited(0))"
      ]
     },
     "execution_count": 67,
     "metadata": {},
     "output_type": "execute_result"
    }
   ],
   "source": [
    "run(`abptest.bat funkghosttest.abp`)"
   ]
  },
  {
   "cell_type": "code",
   "execution_count": null,
   "metadata": {},
   "outputs": [],
   "source": []
  }
 ],
 "metadata": {
  "kernelspec": {
   "display_name": "Julia 1.6.3",
   "language": "julia",
   "name": "julia-1.6"
  },
  "language_info": {
   "file_extension": ".jl",
   "mimetype": "application/julia",
   "name": "julia",
   "version": "1.6.3"
  }
 },
 "nbformat": 4,
 "nbformat_minor": 4
}
