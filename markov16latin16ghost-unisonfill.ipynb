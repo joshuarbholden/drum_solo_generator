{
 "cells": [
  {
   "cell_type": "code",
   "execution_count": null,
   "metadata": {},
   "outputs": [],
   "source": [
    "#input a vector corresponding to a probability distribution and output an index according to that distribution\n",
    "function markovrand(nextv)\n",
    "    if round(sum(nextv), digits = 6) != 1.0\n",
    "        error(nextv, \" is not a stochastic vector\")\n",
    "    end\n",
    "    maxstates = length(nextv) - 1\n",
    "    r = rand(Float64)\n",
    "    current = maxstates\n",
    "    for i = 0:maxstates\n",
    "        if r <= nextv[i + 1]\n",
    "            current = i\n",
    "            break\n",
    "        else\n",
    "            r = r - nextv[i + 1]\n",
    "        end\n",
    "    end\n",
    "    return(current)\n",
    "end\n"
   ]
  },
  {
   "cell_type": "code",
   "execution_count": null,
   "metadata": {},
   "outputs": [],
   "source": [
    "struct AugMatrix\n",
    "    mat::Matrix\n",
    "    init::Vector\n",
    "end\n",
    "\n",
    "struct AugDblMatrix\n",
    "    mat1::Matrix\n",
    "    mat2::Matrix\n",
    "    init::Vector\n",
    "end"
   ]
  },
  {
   "cell_type": "code",
   "execution_count": null,
   "metadata": {},
   "outputs": [],
   "source": [
    "#output bass notes in 2*$beats notes\n",
    "function ghostbassgen(beats::Int, trans::AugMatrix)\n",
    "    transmat = trans.mat\n",
    "    iv = trans.init\n",
    "    nextv = iv\n",
    "    L = []\n",
    "    for j = 1:beats\n",
    "        current = markovrand(nextv)\n",
    "#print(current, \" \")\n",
    "        bincurrent = digits(current, base = 3, pad = 2)\n",
    "#print(bincurrent, \"\\n\")\n",
    "        append!(L, [bincurrent[2], bincurrent[1]])\n",
    "        nextv = transmat[:, current + 1]\n",
    "    end\n",
    "    return(L)\n",
    "end"
   ]
  },
  {
   "cell_type": "code",
   "execution_count": null,
   "metadata": {},
   "outputs": [],
   "source": [
    "#0 = rest, 1 = bass, 2 = LH\n",
    "                #00    #01  #02   #10  #11  #12  #zeros\n",
    "rockBassMatrix = [0.1e0 1//6  0   1//6  0.5    0 0 0 0 #00\n",
    "                    0   1//3  0     0    0    0  0 0 0  #01\n",
    "                    0   1//6  0.1   1//6  0.5   0 0 0 0  #02\n",
    "                    0.45 1//3  0.45  1//3 0    0 0 0 0  #10\n",
    "                    0.45 0    0.45  1//3  0    0 0 0 0  #11\n",
    "                    0.0  0    0      0   0    0 0 0 0    #12\n",
    "                    zeros(3,9)]                 #zeros"
   ]
  },
  {
   "cell_type": "code",
   "execution_count": null,
   "metadata": {},
   "outputs": [],
   "source": [
    "sum(rockBassMatrix, dims=1)"
   ]
  },
  {
   "cell_type": "code",
   "execution_count": null,
   "metadata": {},
   "outputs": [],
   "source": [
    "rockBassInitial = [0.1,0, 0.1, 0.4, 0.4, 0, 0, 0, 0]"
   ]
  },
  {
   "cell_type": "code",
   "execution_count": null,
   "metadata": {},
   "outputs": [],
   "source": [
    "rockBass = AugMatrix(rockBassMatrix, rockBassInitial)"
   ]
  },
  {
   "cell_type": "code",
   "execution_count": null,
   "metadata": {},
   "outputs": [],
   "source": [
    "#test\n",
    "ghostbassgen(4, rockBass)"
   ]
  },
  {
   "cell_type": "code",
   "execution_count": null,
   "metadata": {},
   "outputs": [],
   "source": [
    "latinNoGhostBMatrix = [0.1e0 0.2e0 0.2e0 0.5e0; #rest rest, rest bass, bass rest, bass bass\n",
    "    0.4e0 0.2e0 0.6e0 0.5e0; \n",
    "    0.4e0 0.6e0 0 0; \n",
    "    0.1e0 0 0.2e0 0]"
   ]
  },
  {
   "cell_type": "code",
   "execution_count": null,
   "metadata": {},
   "outputs": [],
   "source": [
    "latinNoGhostBInitial = [0, 0, 0, 1, 0, 0, 0, 0, 0] "
   ]
  },
  {
   "cell_type": "code",
   "execution_count": null,
   "metadata": {},
   "outputs": [],
   "source": [
    "latinNoGhostB = AugMatrix([latinNoGhostBMatrix[1:2, 1:2] zeros(2,1) latinNoGhostBMatrix[1:2, 3:4] zeros(2, 4)\n",
    "    zeros(1, 9)\n",
    "    latinNoGhostBMatrix[3:4, 1:2] zeros(2,1) latinNoGhostBMatrix[3:4, 3:4] zeros(2, 4)\n",
    "    zeros(4, 9)\n",
    "    ],\n",
    "    latinNoGhostBInitial)"
   ]
  },
  {
   "cell_type": "code",
   "execution_count": 190,
   "metadata": {},
   "outputs": [
    {
     "data": {
      "text/plain": [
       "lookuplatinride (generic function with 1 method)"
      ]
     },
     "execution_count": 190,
     "metadata": {},
     "output_type": "execute_result"
    }
   ],
   "source": [
    "function lookuplatinride()::Matrix\n",
    "    r = Matrix(undef, 4, 4)\n",
    "    r[1,1] = [\"!N![^e\",\"[\",\"!N![^e\",\"[\",\"!N![c^e\",\"[\",\"!N![^e\",\"[\",\"!N![^e\",\"[\",\"!N![^e\",\"[\",\"!N![c^e\",\"[\",\"!N![^e\",\"[\"] #hihat eighths, trash\n",
    "    #NB Windows midi doesn't have a good way of making a trash hat?  !N! defined as tenuto mark in header.abc\n",
    "    r[2,1] = [\"!>![^e\", \"[^e\", \"[^e\", \"!>![^e\", \"!>![c^e\", \"[^e\", \"[^e\", \"!>![^e\", \"!>![^e\", \"[^e\", \"[^e\", \"!>![^e\", \"!>![c^e\", \"[^e\", \"[^e\", \"!>![^e\"]; #hihat 16\n",
    "    r[3,1] = [\"[^e\", \"[^e\", \"[_e\", \"[\", \"[c^e\", \"[^e\", \"[_e\", \"[\", \"[^e\", \"[^e\", \"[_e\", \"[\", \"[c^e\", \"[^e\", \"[_e\", \"[\" ];  #open ands latin\n",
    "    r[4,1] = [\"[_e\", \"[\", \"[^e\", \"[^e\", \"[c_e\", \"[\", \"[^e\", \"[^e\", \"[_e\", \"[\", \"[^e\", \"[^e\", \"[c_e\", \"[\", \"[^e\", \"[^e\"];  #open beats latin\n",
    "    r[1,2] = [\"[^g\",\"[\",\"[^g\",\"[\",\"[c^g\",\"[\",\"[^g\",\"[\",\"[^g\",\"[\",\"[^g\",\"[\",\"[c^g\",\"[\",\"[^g\",\"[\"] #ride eighth\n",
    "    r[2,2] = [\"!>![^g\", \"[^g\", \"[^g\", \"!>![^g\", \"!>![c^g\", \"[^g\", \"[^g\", \"!>![^g\", \"!>![^g\", \"[^g\", \"[^g\", \"!>![^g\", \"!>![c^g\", \"[^g\", \"[^g\", \"!>![^g\"]; #ride 16 \n",
    "    r[3,2] = [\"[^g^D\", \"[^g\", \"[^g\", \"[\",\"[c^g^D\", \"[^g\", \"[^g\", \"[\",  \"[^g^D\", \"[^g\", \"[^g\", \"[\", \"[c^g^D\",  \"[^g\", \"[^g\", \"[\"]; #step beats latin (one e and) \n",
    "    r[4,2] = [\"[^g\", \"[\", \"[^g^D\", \"[^g\", \"[c^g\", \"[\", \"[^g^D\", \"[^g\",\"[^g\", \"[\", \"[^g^D\", \"[^g\", \"[c^g\", \"[\", \"[^g^D\", \"[^g\" ]; #step ands latin (and a one)\n",
    "    r[1,3] = [\"[g\",\"[\",\"[\",\"[\",\"[cg\",\"[\",\"[\",\"[\",\"[g\",\"[\",\"[\",\"[\",\"[cg\",\"[\",\"[\",\"[\"] #bell quarters\n",
    "    r[2,3] = [\"[\",\"[\",\"[g\",\"[\",\"[c\",\"[\",\"[g\",\"[\",\"[\",\"[\",\"[g\",\"[\",\"[c\",\"[\",\"[g\",\"[\"] #bell ands\n",
    "    r[3,3] = [\"[g^D\",  \"[g\", \"[g\", \"[\",\"[cg^D\", \"[g\", \"[g\", \"[\",  \"[g^D\", \"[g\", \"[g\", \"[\", \"[cg^D\",  \"[g\", \"[g\", \"[\"];  #bell and step beats latin\n",
    "    r[4,3] = [\"[g\", \"[\", \"[g^D\", \"[g\", \"[cg\", \"[\", \"[g^D\", \"[g\",\"[g\", \"[\", \"[g^D\", \"[g\", \"[cg\", \"[\", \"[g^D\", \"[g\" ]; #step ands bell latin \n",
    "    r[1,4] = [\"[^D\",\"[\",\"[\",\"[\",\"[c^D\",\"[\",\"[\",\"[\",\"[^D\",\"[\",\"[\",\"[\",\"[c^D\",\"[\",\"[\",\"[\"]  #step Q\n",
    "    r[2,4] = [\"[\",\"[\",\"[^D\",\"[\",\"[c\",\"[\",\"[^D\",\"[\",\"[\",\"[\",\"[^D\",\"[\",\"[c\",\"[\",\"[^D\",\"[\"] #step ands\n",
    "    r[3,4] = [\"[^g^D\", \"[^g\", \"[^g^D\", \"[\",\"[c^g^D\", \"[^g\", \"[^g^D\", \"[\",  \"[^g^D\", \"[^g\", \"[^g^D\", \"[\", \"[c^g^D\",  \"[^g\", \"[^g^D\", \"[\"]; #step 8ths latin (one e and) \n",
    "    r[4,4] = [\"[^g^D\", \"[\", \"[^g^D\", \"[^g\", \"[c^g^D\", \"[\", \"[^g^D\", \"[^g\", \"[^g^D\", \"[\", \"[^g^D\", \"[^g\", \"[c^g^D\", \"[\", \"[^g^D\", \"[^g\" ]; #step ands latin (and a one)\n",
    "    return(r)\n",
    "end\n"
   ]
  },
  {
   "cell_type": "code",
   "execution_count": 70,
   "metadata": {},
   "outputs": [
    {
     "data": {
      "text/plain": [
       "abctime16latin16ghost (generic function with 1 method)"
      ]
     },
     "execution_count": 70,
     "metadata": {},
     "output_type": "execute_result"
    }
   ],
   "source": [
    "#input a sixteenth note bass rhythm and an 16th note ride pattern, output abc notation\n",
    "function abctime16latin16ghost(L, pattern, instr)\n",
    "    n = length(L)\n",
    "    r = lookuplatinride()\n",
    "    c = [\"]/2\", \"F]/2\", \"!Q!c]/2\"] #nothing, kick, ghost snare\n",
    "    m = [c[L[i] + 1] for i = 1:n]\n",
    "    s = \"\"\n",
    "    for i = 1:n\n",
    "        s = s * r[pattern, instr][(i - 1) % 16 + 1] * m[i]\n",
    "        if i % 4 == 0\n",
    "            s = s * \" \"\n",
    "        end\n",
    "        if i % 16 == 0\n",
    "            s = s * \"|\\n\"\n",
    "        end\n",
    "    end\n",
    "    return(s)\n",
    "end\n"
   ]
  },
  {
   "cell_type": "code",
   "execution_count": 71,
   "metadata": {},
   "outputs": [
    {
     "data": {
      "text/plain": [
       "\"!N![^eF]/2[]/2!N![^eF]/2[F]/2 !N![c^e]/2[F]/2!N![^eF]/2[]/2 !N![^e]/2[F]/2!N![^e]/2[]/2 !N![c^e]/2[F]/2!N![^e]/2[F]/2 |\\n\""
      ]
     },
     "execution_count": 71,
     "metadata": {},
     "output_type": "execute_result"
    }
   ],
   "source": [
    "#test\n",
    "abctime16latin16ghost(ghostbassgen(8, latinNoGhostB), 1, 1)"
   ]
  },
  {
   "cell_type": "code",
   "execution_count": null,
   "metadata": {},
   "outputs": [],
   "source": [
    "latinUnisonMatrix = [0 0.2e0 0.2e0 0.2e0 0.2e0 0.2e0;\n",
    "    0.2e0 0 0.2e0 0.2e0 0.2e0 0.2e0;\n",
    "    0.2e0 0.2e0 0 0.2e0 0.2e0 0.2e0;\n",
    "    0.2e0 0.2e0 0.2e0 0 0.2e0 0.2e0;\n",
    "    0.2e0 0.2e0 0.2e0 0.2e0 0 0.2e0;\n",
    "    0.2e0 0.2e0 0.2e0 0.2e0 0.2e0 0]"
   ]
  },
  {
   "cell_type": "code",
   "execution_count": null,
   "metadata": {},
   "outputs": [],
   "source": [
    "latinUnisonInitial = [1//6,1//6,1//6,1//6,1//6,1//6]"
   ]
  },
  {
   "cell_type": "code",
   "execution_count": null,
   "metadata": {},
   "outputs": [],
   "source": [
    "latinUnisonFill= AugMatrix(latinUnisonMatrix, latinUnisonInitial)"
   ]
  },
  {
   "cell_type": "code",
   "execution_count": 91,
   "metadata": {},
   "outputs": [
    {
     "data": {
      "text/plain": [
       "unisonfill (generic function with 1 method)"
      ]
     },
     "execution_count": 91,
     "metadata": {},
     "output_type": "execute_result"
    }
   ],
   "source": [
    "#input a sixteenth note rhythm in pairs, two pairs of drums, and a crescendo/descr indicator, output abc notation\n",
    "function unisonfill(\n",
    "  L,\n",
    "  drums,\n",
    "  drums2,\n",
    "  crdc)\n",
    "    n = length(L)\n",
    "    drumlist = [\"[ce]\",\"[cA]\",\"[cG]\",\"[eA]\",\"[eG]\",\"[AG]\"]\n",
    "    c = [\"z\",\"z/2\" * drumlist[drums] * \"/2\", drumlist[drums], drumlist[drums] * \"/2\" * drumlist[drums] * \"/2\"]\n",
    "#print(c)\n",
    "    c2 = [\"z\",\"z/2\" * drumlist[drums2] * \"/2\", drumlist[drums2], drumlist[drums2] * \"/2\" * drumlist[drums2] * \"/2\"]\n",
    "    m = vcat([c[L[i] + 1] for i = 1:div(n,2)], [c2[L[i] + 1] for i = (div(n,2) + 1):n])\n",
    "# print(m)\n",
    "    s = \"\"\n",
    "    for i = 1:n\n",
    "        s = s * m[i]\n",
    "#print(s)\n",
    "        if i % 2 == 0\n",
    "            s = s * \" \"\n",
    "        end\n",
    "        if i % 8 == 0\n",
    "            s = s * \"\"\n",
    "        end\n",
    "        if i % 8 == 6\n",
    "            if crdc < 0\n",
    "                s = s * \"!>(!\"\n",
    "            elseif 0 < crdc\n",
    "                s = s * \"!<(!\"\n",
    "            end\n",
    "        end\n",
    "        if i % 8 == 7\n",
    "            if crdc < 0\n",
    "                s = s * \"!>)!\"\n",
    "            elseif 0 < crdc\n",
    "                s = s * \"!<)!\"\n",
    "            end\n",
    "        end\n",
    "    end\n",
    "    return(s)\n",
    "end\n"
   ]
  },
  {
   "cell_type": "code",
   "execution_count": 92,
   "metadata": {},
   "outputs": [
    {
     "data": {
      "text/plain": [
       "rhythmgen (generic function with 1 method)"
      ]
     },
     "execution_count": 92,
     "metadata": {},
     "output_type": "execute_result"
    }
   ],
   "source": [
    "#output rhythm in $beats pairs\n",
    "function rhythmgen(beats::Int, trans::AugMatrix)\n",
    "    transmat = trans.mat\n",
    "    iv = trans.init\n",
    "    nextv = iv\n",
    "    L = []\n",
    "    for j = 1:beats\n",
    "        current = markovrand(nextv)\n",
    "        append!(L, current)\n",
    "        nextv = transmat[:, current + 1]\n",
    "    end\n",
    "    return(L)\n",
    "end"
   ]
  },
  {
   "cell_type": "code",
   "execution_count": 154,
   "metadata": {},
   "outputs": [
    {
     "data": {
      "text/plain": [
       "4×4 Matrix{Float64}:\n",
       " 0.0  0.2  0.1  0.3\n",
       " 0.1  0.2  0.4  0.5\n",
       " 0.5  0.4  0.2  0.2\n",
       " 0.4  0.2  0.3  0.0"
      ]
     },
     "execution_count": 154,
     "metadata": {},
     "output_type": "execute_result"
    }
   ],
   "source": [
    "latinFillMatrix = \n",
    "    [0    0.2e0 0.1e0 0.3e0; #rest rest, rest bass, bass rest, bass bass\n",
    "    0.1e0 0.2e0 0.4e0 0.5e0; \n",
    "    0.5e0 0.4e0 0.2   0.2; \n",
    "    0.4e0 0.2   0.3e0 0]"
   ]
  },
  {
   "cell_type": "code",
   "execution_count": 155,
   "metadata": {},
   "outputs": [
    {
     "data": {
      "text/plain": [
       "1×4 Matrix{Float64}:\n",
       " 1.0  1.0  1.0  1.0"
      ]
     },
     "execution_count": 155,
     "metadata": {},
     "output_type": "execute_result"
    }
   ],
   "source": [
    "sum(latinFillMatrix, dims=1)"
   ]
  },
  {
   "cell_type": "code",
   "execution_count": 156,
   "metadata": {},
   "outputs": [
    {
     "data": {
      "text/plain": [
       "4-element Vector{Float64}:\n",
       " 0.1\n",
       " 0.4\n",
       " 0.25\n",
       " 0.25"
      ]
     },
     "execution_count": 156,
     "metadata": {},
     "output_type": "execute_result"
    }
   ],
   "source": [
    "latinFillInitial = [0.1,0.4,0.25,0.25]"
   ]
  },
  {
   "cell_type": "code",
   "execution_count": 157,
   "metadata": {},
   "outputs": [
    {
     "data": {
      "text/plain": [
       "AugMatrix([0.0 0.2 0.1 0.3; 0.1 0.2 0.4 0.5; 0.5 0.4 0.2 0.2; 0.4 0.2 0.3 0.0], [0.1, 0.4, 0.25, 0.25])"
      ]
     },
     "execution_count": 157,
     "metadata": {},
     "output_type": "execute_result"
    }
   ],
   "source": [
    "latinFillRhythm = AugMatrix(latinFillMatrix, latinFillInitial)"
   ]
  },
  {
   "cell_type": "code",
   "execution_count": 132,
   "metadata": {},
   "outputs": [
    {
     "data": {
      "text/plain": [
       "8-element Vector{Any}:\n",
       " 3\n",
       " 1\n",
       " 1\n",
       " 3\n",
       " 0\n",
       " 2\n",
       " 0\n",
       " 1"
      ]
     },
     "execution_count": 132,
     "metadata": {},
     "output_type": "execute_result"
    }
   ],
   "source": [
    "#test\n",
    "rhythmgen(8, latinFillRhythm)"
   ]
  },
  {
   "cell_type": "code",
   "execution_count": 133,
   "metadata": {},
   "outputs": [
    {
     "name": "stdout",
     "output_type": "stream",
     "text": [
      "Any[2, 3, 0, 1, 2, 1, 3, 1]"
     ]
    },
    {
     "data": {
      "text/plain": [
       "\"[cG][cG]/2[cG]/2 zz/2[cG]/2 [AG]z/2[AG]/2 !<(![AG]/2[AG]/2!<)!z/2[AG]/2 \""
      ]
     },
     "execution_count": 133,
     "metadata": {},
     "output_type": "execute_result"
    }
   ],
   "source": [
    "#test\n",
    "testrhythm = rhythmgen(8, latinFillRhythm)\n",
    "print(testrhythm)\n",
    "unisonfill(testrhythm, 3, 6, 1)"
   ]
  },
  {
   "cell_type": "code",
   "execution_count": null,
   "metadata": {},
   "outputs": [],
   "source": [
    "dynMatrix = [\n",
    "    0 0 0.2e0 0.2e0 0.1e0 0.1e0 0 0 0 0 0 0; \n",
    "    0 0 0.2e0 0.1e0 0.1e0 0.1e0 0 0 0 0 0 0; \n",
    "    0.2e0 0.2e0 0 0 0.2e0 0.1e0 0.1e0 0.1e0 0.1e0 0.2e0 0.1e0 0.2e0; \n",
    "    0.2e0 0.2e0 0 0 0.2e0 0.1e0 0.1e0 0.1e0 0.2e0 0.1e0 0.2e0 0.1e0; \n",
    "    0 0 0.1e0 0.2e0 0 0 0.2e0 0.1e0 0 0 0.1e0 0.2e0; \n",
    "    0 0 0.2e0 0.2e0 0 0 0.2e0 0.1e0 0 0 0.2e0 0.1e0; \n",
    "    0.1e0 0.2e0 0 0 0.1e0 0.2e0 0 0 0.2e0 0.2e0 0 0; \n",
    "    0.2e0 0.1e0 0 0 0.1e0 0.2e0 0 0 0.2e0 0.1e0 0 0; \n",
    "    0.1e0 0.2e0 0.1e0 0.2e0 0.1e0 0.1e0 0.1e0 0.2e0 0 0 0.2e0 0.2e0;\n",
    "    0.2e0 0.1e0 0.2e0 0.1e0 0.1e0 0.1e0 0.1e0 0.2e0 0 0 0.2e0 0.2e0; \n",
    "    0 0 0 0 0 0 0.1e0 0.1e0 0.1e0 0.2e0 0 0; \n",
    "    0 0 0 0 0 0 0.1e0 0.1e0 0.2e0 0.2e0 0 0]\n"
   ]
  },
  {
   "cell_type": "code",
   "execution_count": null,
   "metadata": {},
   "outputs": [],
   "source": [
    "dynFinal = [\n",
    "    0.1e0 0.2e0 0.2e0 0.2e0 0.1e0 0.1e0 0.1e0 0.1e0 0.1e0 0.2e0 0 0; \n",
    "    0.2e0 0.1e0 0.2e0 0.1e0 0.1e0 0.1e0 0.1e0 0.1e0 0.2e0 0.1e0 0 0; \n",
    "    0.2e0 0.2e0 0 0 0.2e0 0.1e0 0.2e0 0.1e0 0.2e0 0.2e0 0.1e0 0.2e0; \n",
    "    0.2e0 0.2e0 0 0 0.2e0 0.1e0 0.2e0 0.1e0 0.2e0 0.1e0 0.2e0 0.1e0; \n",
    "    0 0 0 0 0 0 0 0 0 0 0 0; \n",
    "    0 0 0 0 0 0 0 0 0 0 0 0; \n",
    "    0 0 0 0 0 0 0 0 0 0 0 0; \n",
    "    0 0 0 0 0 0 0 0 0 0 0 0; \n",
    "    0.1e0 0.2e0 0.1e0 0.2e0 0.1e0 0.2e0 0.1e0 0.2e0 0 0 0.2e0 0.2e0; \n",
    "    0.2e0 0.1e0 0.2e0 0.2e0 0.1e0 0.2e0 0.1e0 0.2e0 0 0 0.2e0 0.2e0; \n",
    "    0 0 0.1e0 0.2e0 0.1e0 0.1e0 0.1e0 0.1e0 0.1e0 0.2e0 0.1e0 0.2e0; \n",
    "    0 0 0.2e0 0.1e0 0.1e0 0.1e0 0.1e0 0.1e0 0.2e0 0.2e0 0.2e0 0.1e0]\n"
   ]
  },
  {
   "cell_type": "code",
   "execution_count": null,
   "metadata": {},
   "outputs": [],
   "source": [
    "dynInitial = [0.5e-1,0.5e-1,0.1e0,0.1e0,0.1e0,0.1e0,0.1e0,0.1e0,0.1e0,0.1e0,0.5e-1,0.5e-1]\n",
    "#pp>, pp<, p>, p<, mp>, mp<, mf>, mf<, f>, f<, ff>, ff<"
   ]
  },
  {
   "cell_type": "code",
   "execution_count": null,
   "metadata": {},
   "outputs": [],
   "source": [
    "dyn = AugDblMatrix(dynMatrix, dynFinal, dynInitial)"
   ]
  },
  {
   "cell_type": "code",
   "execution_count": null,
   "metadata": {},
   "outputs": [],
   "source": [
    "rockPatMatrix = [\n",
    "    #8  Q   b   +\n",
    "    0   0.4 0.4 0.4 #8 \n",
    "    0.4 0   0.2 0.2   #Q\n",
    "    0.2 0.2 0   0.4 #b\n",
    "    0.4 0.4 0.4 0 #+\n",
    "    ]"
   ]
  },
  {
   "cell_type": "code",
   "execution_count": null,
   "metadata": {},
   "outputs": [],
   "source": [
    "sum(rockPatMatrix, dims=1)"
   ]
  },
  {
   "cell_type": "code",
   "execution_count": null,
   "metadata": {},
   "outputs": [],
   "source": [
    "rockPatInitial = [0.4; 0.4; 0.2; 0]"
   ]
  },
  {
   "cell_type": "code",
   "execution_count": null,
   "metadata": {},
   "outputs": [],
   "source": [
    "rockPat = AugMatrix(rockPatMatrix, rockPatInitial)"
   ]
  },
  {
   "cell_type": "code",
   "execution_count": null,
   "metadata": {},
   "outputs": [],
   "source": [
    "rockInstMatrix = [\n",
    "   #HH  RC  RB  ST \n",
    "    0.1 0.4 0.4   0.4   #HH\n",
    "    0.6 0.1 0.4   0.4   #RC\n",
    "    0.2 0.4 0.1   0.2   #RB\n",
    "    0.1 0.1 0.1   0     #ST\n",
    "]"
   ]
  },
  {
   "cell_type": "code",
   "execution_count": null,
   "metadata": {},
   "outputs": [],
   "source": [
    "sum(rockInstMatrix, dims=1)"
   ]
  },
  {
   "cell_type": "code",
   "execution_count": null,
   "metadata": {},
   "outputs": [],
   "source": [
    "rockInstInitial = [0.5; 0.3; 0; 0.2]"
   ]
  },
  {
   "cell_type": "code",
   "execution_count": null,
   "metadata": {
    "scrolled": true
   },
   "outputs": [],
   "source": [
    "rockInst = AugMatrix(rockInstMatrix, rockInstInitial)"
   ]
  },
  {
   "cell_type": "code",
   "execution_count": null,
   "metadata": {},
   "outputs": [],
   "source": [
    "#output time, fill, time, fill with cresc/decr in abc notation\n",
    "function abctune16latin16ghostUnisonfill(\n",
    "  vol,\n",
    "  bass,\n",
    "  pat,\n",
    "  inst,\n",
    "  fillrhythm,\n",
    "  filldrums,\n",
    "  filldrums2,\n",
    "  crdc)\n",
    "    fp = [\"!pp!\",\"!p!\",\"!mp!\",\"!mf!\",\"!f!\",\"!ff!\"]\n",
    "    return(\"|:\" * fp[vol] * abctime16latin16ghost(bass, pat, inst) * \"[1\" \n",
    "        * unisonfill(fillrhythm, filldrums, filldrums2, 0) * \":|2\" \n",
    "        * unisonfill(fillrhythm, filldrums, filldrums2, crdc)* \"\\n\")\n",
    "end\n"
   ]
  },
  {
   "cell_type": "code",
   "execution_count": 115,
   "metadata": {},
   "outputs": [
    {
     "data": {
      "text/plain": [
       "abcsolo16latin16ghostUnisonfill (generic function with 3 methods)"
      ]
     },
     "execution_count": 115,
     "metadata": {},
     "output_type": "execute_result"
    }
   ],
   "source": [
    "#put it all together, output abc notation\n",
    "include(\"markov-drum-utilities.jl\")  #loads insert, functionName, abptest, makeppheader\n",
    "import Dates\n",
    "function abcsolo16latin16ghostUnisonfill(\n",
    "  len::Int,\n",
    "  basstrans::AugMatrix,\n",
    "  filldrumstrans::AugMatrix,\n",
    "  fillrhythmtrans::AugMatrix,\n",
    "  dyntrans::AugDblMatrix,\n",
    "  pattrans::AugMatrix,\n",
    "  insttrans::AugMatrix,\n",
    "  feel::String,\n",
    "    )\n",
    "    s = \"\"\n",
    "    curdyn = markovrand(dyn.init)\n",
    "    curpat = markovrand(pattrans.init)\n",
    "    curinst = markovrand(insttrans.init)\n",
    "    curfill = markovrand(filldrumstrans.init) \n",
    "    for i = 1:len\n",
    "        vol = div(curdyn, 2) + 1\n",
    "        bass = ghostbassgen(24, basstrans)\n",
    "        pat = curpat + 1\n",
    "        inst = curinst + 1\n",
    "        filldrums = curfill+1\n",
    "        curfill = markovrand(filldrumstrans.mat[:, curfill + 1])\n",
    "        filldrums2 = curfill+1\n",
    "        fillrhythm = rhythmgen(8, fillrhythmtrans)\n",
    "        crdc = 2 * mod(curdyn, 2) - 1\n",
    "        s = s * abctune16latin16ghostUnisonfill(vol, bass, pat, inst, fillrhythm, filldrums, filldrums2, crdc)\n",
    "        if i + 1 < len\n",
    "            curdyn = markovrand(dyntrans.mat1[:, curdyn + 1])\n",
    "        else\n",
    "            curdyn = markovrand(dyntrans.mat2[:, curdyn + 1])\n",
    "        end\n",
    "        curpat = markovrand(pattrans.mat[:, curpat + 1])\n",
    "        curinst = markovrand(insttrans.mat[:, curinst + 1])\n",
    "        curfill = markovrand(filldrumstrans.mat[:, curfill + 1])\n",
    "\n",
    "    end\n",
    "    s = insert(s, findlast(occursin(\"acbdefgABCDEFG\"), s)-1 - 2, \"!fermata!\") #final fermata on last chord\n",
    "    s = replace(s, \"[]\" => \"z\") #rest\n",
    "    s = makeppheader(\"Computer-generated \\\\`Etude for Solo Drum Kit\", String(@functionName), \"$(Dates.now())\", \"4/4\", feel, 80) * s * \"|]\\n\"\n",
    "    return(s)\n",
    "end\n"
   ]
  },
  {
   "cell_type": "code",
   "execution_count": 116,
   "metadata": {},
   "outputs": [
    {
     "name": "stdout",
     "output_type": "stream",
     "text": [
      "%%abc-include percussions-JBH.abh\n",
      "\n",
      "I:linebreak $\n",
      "\n",
      "#ifdef MIDI\n",
      "#define !>! \"[I:volinc 50]\"\n",
      "#define !Q! \"[I:vol 20]\" \n",
      "                %%%ghost\n",
      "#define !U! \"[I:volinc -20]\" \n",
      "                %%%unaccent\n",
      "#else\n",
      "#define !N! \"\\\"^_\\\"\" \n",
      "                %%%tenuto\n",
      "#define !Q! !(.!!).! \n",
      "                %%%ghost\n",
      "#define !U! !anti!  \n",
      "                %%%unaccent\n",
      "#endif\n",
      "\n",
      "X:1\n",
      "T:Computer-generated \\`Etude for Solo Drum Kit\n",
      "C:top-level scope\n",
      "O:2021-11-24T16:16:01.478\n",
      "M:4/4\n",
      "L:1/8\n",
      "Q:\"Rock 16th feel\" 1/4=80\n",
      "K:none clef=perc\n",
      "[V:1 clef=perc, stem=up]     % activate abc2xml.py map\n",
      "%%voicemap drummap  % activate abcm2ps/abc2svg map\n",
      "%%MIDI channel 10   % activate abc2midi map\n",
      "%%MIDI program 0\n",
      "%%flatbeams\n",
      "%%propagate-accidentals not\n",
      "%%pos ornament up\n",
      "%%ornament up\n",
      "%%MIDI fermatafixed\n"
     ]
    }
   ],
   "source": [
    "#test\n",
    "print(makeppheader(\"Computer-generated \\\\`Etude for Solo Drum Kit\", String(@functionName), \"$(Dates.now())\", \"4/4\", \"Rock 16th feel\", 80))"
   ]
  },
  {
   "cell_type": "code",
   "execution_count": 117,
   "metadata": {},
   "outputs": [
    {
     "data": {
      "text/plain": [
       "AugMatrix([0.0 0.2 … 0.2 0.2; 0.2 0.0 … 0.2 0.2; … ; 0.2 0.2 … 0.0 0.2; 0.2 0.2 … 0.2 0.0], Rational{Int64}[1//6, 1//6, 1//6, 1//6, 1//6, 1//6])"
      ]
     },
     "execution_count": 117,
     "metadata": {},
     "output_type": "execute_result"
    }
   ],
   "source": [
    "latinUnisonFill"
   ]
  },
  {
   "cell_type": "code",
   "execution_count": 183,
   "metadata": {
    "scrolled": true
   },
   "outputs": [
    {
     "name": "stdout",
     "output_type": "stream",
     "text": [
      "%%abc-include percussions-JBH.abh\n",
      "\n",
      "I:linebreak $\n",
      "\n",
      "#ifdef MIDI\n",
      "#define !>! \"[I:volinc 50]\"\n",
      "#define !Q! \"[I:vol 20]\" \n",
      "                %%%ghost\n",
      "#define !U! \"[I:volinc -20]\" \n",
      "                %%%unaccent\n",
      "#else\n",
      "#define !N! \"\\\"^_\\\"\" \n",
      "                %%%tenuto\n",
      "#define !Q! !(.!!).! \n",
      "                %%%ghost\n",
      "#define !U! !anti!  \n",
      "                %%%unaccent\n",
      "#endif\n",
      "\n",
      "X:1\n",
      "T:Computer-generated \\`Etude for Solo Drum Kit\n",
      "C:abcsolo16latin16ghostUnisonfill\n",
      "O:2021-11-25T18:12:46.491\n",
      "M:4/4\n",
      "L:1/8\n",
      "Q:\"Latin feel\" 1/4=80\n",
      "K:none clef=perc\n",
      "[V:1 clef=perc, stem=up]     % activate abc2xml.py map\n",
      "%%voicemap drummap  % activate abcm2ps/abc2svg map\n",
      "%%MIDI channel 10   % activate abc2midi map\n",
      "%%MIDI program 0\n",
      "%%flatbeams\n",
      "%%propagate-accidentals not\n",
      "%%pos ornament up\n",
      "%%ornament up\n",
      "%%MIDI fermatafixed\n",
      "|:!ff![^eF]/2[^e]/2[_e]/2[F]/2 [c^e]/2[^eF]/2[_eF]/2z/2 [^eF]/2[^eF]/2[_e]/2[F]/2 [c^e]/2[^eF]/2[_eF]/2z/2 |\n",
      "[^e]/2[^e]/2[_e]/2z/2 [c^e]/2[^e]/2[_eF]/2z/2 [^e]/2[^eF]/2[_e]/2[F]/2 [c^eF]/2[^e]/2[_e]/2[F]/2 |\n",
      "[^eF]/2[^e]/2[_e]/2[F]/2 [c^eF]/2[^e]/2[_e]/2[F]/2 [^eF]/2[^e]/2[_e]/2[F]/2 [c^eF]/2[^e]/2[_e]/2[F]/2 |\n",
      "[1z[eG] z/2[eG]/2[eG]/2[eG]/2 z[cA]/2[cA]/2 z/2[cA]/2[cA] :|2z[eG] z/2[eG]/2[eG]/2[eG]/2 z[cA]/2[cA]/2 !<(!z/2[cA]/2!<)![cA] \n",
      "|:!f![gF]/2z/2z/2[F]/2 [cgF]/2z/2z/2[F]/2 [g]/2z/2z/2[F]/2 [cg]/2z/2[F]/2z/2 |\n",
      "[g]/2[F]/2z/2[F]/2 [cg]/2z/2[F]/2[F]/2 [g]/2[F]/2z/2z/2 [cgF]/2z/2[F]/2[F]/2 |\n",
      "[g]/2[F]/2[F]/2z/2 [cg]/2[F]/2z/2z/2 [g]/2[F]/2z/2z/2 [cg]/2[F]/2[F]/2z/2 |\n",
      "[1[cG]z/2[cG]/2 [cG]/2[cG]/2[cG] [ce]/2[ce]/2z/2[ce]/2 [ce]z/2[ce]/2 :|2[cG]z/2[cG]/2 [cG]/2[cG]/2[cG] [ce]/2[ce]/2z/2[ce]/2 !<(![ce]!<)!z/2[ce]/2 \n",
      "|:!ff!!>![^eF]/2[^e]/2[^e]/2!>![^e]/2 !>![c^e]/2[^eF]/2[^eF]/2!>![^e]/2 !>![^eF]/2[^eF]/2[^e]/2!>![^e]/2 !>![c^eF]/2[^e]/2[^eF]/2[!>!^eF]/2 |\n",
      "!>![^e]/2[^eF]/2[^eF]/2!>![^e]/2 !>![c^e]/2[^e]/2[^e]/2!>![^eF]/2 !>![^e]/2[^e]/2[^eF]/2!>![^e]/2 !>![c^e]/2[^eF]/2[^eF]/2[!>!^e]/2 |\n",
      "!>![^e]/2[^e]/2[^e]/2!>![^eF]/2 !>![c^e]/2[^eF]/2[^e]/2!>![^e]/2 !>![^e]/2[^eF]/2[^eF]/2!>![^e]/2 !>![c^e]/2[^eF]/2[^e]/2[!>!^e]/2 |\n",
      "[1[AG]z/2[AG]/2 [AG]/2[AG]/2[AG] z/2[cG]/2[cG] z/2[cG]/2[cG] :|2[AG]z/2[AG]/2 [AG]/2[AG]/2[AG] z/2[cG]/2[cG] !>(!z/2[cG]/2!>)![cG] \n",
      "|:!ff![^g^DF]/2[^g]/2[^gF]/2[F]/2 [c^g^D]/2[^gF]/2[^g]/2z/2 [^g^D]/2[^gF]/2[^gF]/2z/2 [c^g^D]/2[^g]/2[^gF]/2z/2 |\n",
      "[^g^D]/2[^gF]/2[^gF]/2z/2 [c^g^D]/2[^g]/2[^gF]/2[F]/2 [^g^D]/2[^gF]/2[^gF]/2z/2 [c^g^DF]/2[^gF]/2[^g]/2[F]/2 |\n",
      "[^g^DF]/2[^g]/2[^g]/2[F]/2 [c^g^DF]/2[^g]/2[^g]/2[F]/2 [^g^DF]/2[^g]/2[^g]/2z/2 [c^g^D]/2[^gF]/2[^g]/2z/2 |\n",
      "[1[eA]/2[eA]/2z/2[eA]/2 z[eA]/2[eA]/2 [cA]z/2[cA]/2 [cA][cA] :|2[eA]/2[eA]/2z/2[eA]/2 z[eA]/2[eA]/2 [cA]z/2[cA]/2 !<(![cA]!<)!!fermata![cA] \n",
      "|]\n"
     ]
    }
   ],
   "source": [
    "latinsolo = abcsolo16latin16ghostUnisonfill(4, latinNoGhostB, latinUnisonFill, latinFillRhythm, dyn, rockPat, rockInst, \"Latin feel\")\n",
    "print(latinsolo)"
   ]
  },
  {
   "cell_type": "code",
   "execution_count": 184,
   "metadata": {},
   "outputs": [],
   "source": [
    "#write a string to a file\n",
    "open(f->print(f, latinsolo), \"latinghosttest.abp\", \"w\")"
   ]
  },
  {
   "cell_type": "code",
   "execution_count": 185,
   "metadata": {},
   "outputs": [
    {
     "name": "stdout",
     "output_type": "stream",
     "text": [
      "%%abc-include percussions-JBH.abh\n",
      "\n",
      "I:linebreak $\n",
      "\n",
      "#ifdef MIDI\n",
      "#define !>! \"[I:volinc 50]\"\n",
      "#define !Q! \"[I:vol 20]\" \n",
      "                %%%ghost\n",
      "#define !U! \"[I:volinc -20]\" \n",
      "                %%%unaccent\n",
      "#else\n",
      "#define !N! \"\\\"^_\\\"\" \n",
      "                %%%tenuto\n",
      "#define !Q! !(.!!).! \n",
      "                %%%ghost\n",
      "#define !U! !anti!  \n",
      "                %%%unaccent\n",
      "#endif\n",
      "\n",
      "X:1\n",
      "T:Computer-generated \\`Etude for Solo Drum Kit\n",
      "C:abcsolo16latin16ghostUnisonfill\n",
      "O:2021-11-25T18:12:46.491\n",
      "M:4/4\n",
      "L:1/8\n",
      "Q:\"Latin feel\" 1/4=80\n",
      "K:none clef=perc\n",
      "[V:1 clef=perc, stem=up]     % activate abc2xml.py map\n",
      "%%voicemap drummap  % activate abcm2ps/abc2svg map\n",
      "%%MIDI channel 10   % activate abc2midi map\n",
      "%%MIDI program 0\n",
      "%%flatbeams\n",
      "%%propagate-accidentals not\n",
      "%%pos ornament up\n",
      "%%ornament up\n",
      "%%MIDI fermatafixed\n",
      "|:!ff![^eF]/2[^e]/2[_e]/2[F]/2 [c^e]/2[^eF]/2[_eF]/2z/2 [^eF]/2[^eF]/2[_e]/2[F]/2 [c^e]/2[^eF]/2[_eF]/2z/2 |\n",
      "[^e]/2[^e]/2[_e]/2z/2 [c^e]/2[^e]/2[_eF]/2z/2 [^e]/2[^eF]/2[_e]/2[F]/2 [c^eF]/2[^e]/2[_e]/2[F]/2 |\n",
      "[^eF]/2[^e]/2[_e]/2[F]/2 [c^eF]/2[^e]/2[_e]/2[F]/2 [^eF]/2[^e]/2[_e]/2[F]/2 [c^eF]/2[^e]/2[_e]/2[F]/2 |\n",
      "[1z[eG] z/2[eG]/2[eG]/2[eG]/2 z[cA]/2[cA]/2 z/2[cA]/2[cA] :|2z[eG] z/2[eG]/2[eG]/2[eG]/2 z[cA]/2[cA]/2 !<(!z/2[cA]/2!<)![cA] \n",
      "|:!f![gF]/2z/2z/2[F]/2 [cgF]/2z/2z/2[F]/2 [g]/2z/2z/2[F]/2 [cg]/2z/2[F]/2z/2 |\n",
      "[g]/2[F]/2z/2[F]/2 [cg]/2z/2[F]/2[F]/2 [g]/2[F]/2z/2z/2 [cgF]/2z/2[F]/2[F]/2 |\n",
      "[g]/2[F]/2[F]/2z/2 [cg]/2[F]/2z/2z/2 [g]/2[F]/2z/2z/2 [cg]/2[F]/2[F]/2z/2 |\n",
      "[1[cG]z/2[cG]/2 [cG]/2[cG]/2[cG] [ce]/2[ce]/2z/2[ce]/2 [ce]z/2[ce]/2 :|2[cG]z/2[cG]/2 [cG]/2[cG]/2[cG] [ce]/2[ce]/2z/2[ce]/2 !<(![ce]!<)!z/2[ce]/2 \n",
      "|:!ff!!>![^eF]/2[^e]/2[^e]/2!>![^e]/2 !>![c^e]/2[^eF]/2[^eF]/2!>![^e]/2 !>![^eF]/2[^eF]/2[^e]/2!>![^e]/2 !>![c^eF]/2[^e]/2[^eF]/2[!>!^eF]/2 |\n",
      "!>![^e]/2[^eF]/2[^eF]/2!>![^e]/2 !>![c^e]/2[^e]/2[^e]/2!>![^eF]/2 !>![^e]/2[^e]/2[^eF]/2!>![^e]/2 !>![c^e]/2[^eF]/2[^eF]/2[!>!^e]/2 |\n",
      "!>![^e]/2[^e]/2[^e]/2!>![^eF]/2 !>![c^e]/2[^eF]/2[^e]/2!>![^e]/2 !>![^e]/2[^eF]/2[^eF]/2!>![^e]/2 !>![c^e]/2[^eF]/2[^e]/2[!>!^e]/2 |\n",
      "[1[AG]z/2[AG]/2 [AG]/2[AG]/2[AG] z/2[cG]/2[cG] z/2[cG]/2[cG] :|2[AG]z/2[AG]/2 [AG]/2[AG]/2[AG] z/2[cG]/2[cG] !>(!z/2[cG]/2!>)![cG] \n",
      "|:!ff![^g^DF]/2[^g]/2[^gF]/2[F]/2 [c^g^D]/2[^gF]/2[^g]/2z/2 [^g^D]/2[^gF]/2[^gF]/2z/2 [c^g^D]/2[^g]/2[^gF]/2z/2 |\n",
      "[^g^D]/2[^gF]/2[^gF]/2z/2 [c^g^D]/2[^g]/2[^gF]/2[F]/2 [^g^D]/2[^gF]/2[^gF]/2z/2 [c^g^DF]/2[^gF]/2[^g]/2[F]/2 |\n",
      "[^g^DF]/2[^g]/2[^g]/2[F]/2 [c^g^DF]/2[^g]/2[^g]/2[F]/2 [^g^DF]/2[^g]/2[^g]/2z/2 [c^g^D]/2[^gF]/2[^g]/2z/2 |\n",
      "[1[eA]/2[eA]/2z/2[eA]/2 z[eA]/2[eA]/2 [cA]z/2[cA]/2 [cA][cA] :|2[eA]/2[eA]/2z/2[eA]/2 z[eA]/2[eA]/2 [cA]z/2[cA]/2 !<(![cA]!<)!!fermata![cA] \n",
      "|]\n"
     ]
    },
    {
     "data": {
      "text/plain": [
       "Process(`\u001b[4mcat\u001b[24m \u001b[4mlatinghosttest.abp\u001b[24m`, ProcessExited(0))"
      ]
     },
     "execution_count": 185,
     "metadata": {},
     "output_type": "execute_result"
    }
   ],
   "source": [
    "run(`cat latinghosttest.abp`)"
   ]
  },
  {
   "cell_type": "code",
   "execution_count": 186,
   "metadata": {
    "scrolled": true
   },
   "outputs": [
    {
     "name": "stdout",
     "output_type": "stream",
     "text": [
      "abcm2ps-8.14.12 (2021-07-14)\r\n",
      "File latinghosttest-ps.abc\r\n",
      "File percussions-JBH.abh\r\n",
      "Output written on latinghosttest.xhtml (1 page, 1 title, 55620 bytes)\r\n",
      "4.59 June 27 2021 abc2midi\r\n",
      "writing MIDI file latinghosttest.mid\r\n",
      "Warning in line-char 40-0 : Track 1 Bar 19 has 9/2 units instead of 4 in repeat\r\n"
     ]
    },
    {
     "name": "stderr",
     "output_type": "stream",
     "text": [
      "latinghosttest-ps.abc:29:8: warning: Line overfull (639pt of 628pt)\r\n"
     ]
    },
    {
     "data": {
      "text/plain": [
       "Process(`\u001b[4mcmd\u001b[24m \u001b[4m/C\u001b[24m \u001b[4mstart\u001b[24m \u001b[4mlatinghosttest.xhtml\u001b[24m`, ProcessExited(0))"
      ]
     },
     "execution_count": 186,
     "metadata": {},
     "output_type": "execute_result"
    }
   ],
   "source": [
    "#Converts ABP file to score and MIDI and displays/plays it\n",
    "abptest(\"latinghosttest.abp\")"
   ]
  },
  {
   "cell_type": "code",
   "execution_count": 187,
   "metadata": {},
   "outputs": [
    {
     "ename": "LoadError",
     "evalue": "UndefVarError: abcsolo16patinst16ghost not defined",
     "output_type": "error",
     "traceback": [
      "UndefVarError: abcsolo16patinst16ghost not defined",
      "",
      "Stacktrace:",
      " [1] top-level scope",
      "   @ In[187]:1",
      " [2] eval",
      "   @ .\\boot.jl:360 [inlined]",
      " [3] include_string(mapexpr::typeof(REPL.softscope), mod::Module, code::String, filename::String)",
      "   @ Base .\\loading.jl:1116"
     ]
    }
   ],
   "source": [
    "NoGhostSolo = abcsolo16patinst16ghost(4, rockNoGhostB, rockFill, dyn, rockPat, rockInst, \"Rock 16th feel\")\n",
    "print(NoGhostSolo)"
   ]
  },
  {
   "cell_type": "code",
   "execution_count": 188,
   "metadata": {},
   "outputs": [
    {
     "ename": "LoadError",
     "evalue": "UndefVarError: NoGhostSolo not defined",
     "output_type": "error",
     "traceback": [
      "UndefVarError: NoGhostSolo not defined",
      "",
      "Stacktrace:",
      " [1] (::var\"#57#58\")(f::IOStream)",
      "   @ Main .\\In[188]:2",
      " [2] open(::var\"#57#58\", ::String, ::Vararg{String, N} where N; kwargs::Base.Iterators.Pairs{Union{}, Union{}, Tuple{}, NamedTuple{(), Tuple{}}})",
      "   @ Base .\\io.jl:330",
      " [3] open(::Function, ::String, ::String)",
      "   @ Base .\\io.jl:328",
      " [4] top-level scope",
      "   @ In[188]:2",
      " [5] eval",
      "   @ .\\boot.jl:360 [inlined]",
      " [6] include_string(mapexpr::typeof(REPL.softscope), mod::Module, code::String, filename::String)",
      "   @ Base .\\loading.jl:1116"
     ]
    }
   ],
   "source": [
    "#write a string to a file\n",
    "open(f->print(f, NoGhostSolo), \"rocknoghosttest.abp\", \"w\")\n",
    "#Converts ABP file to score and MIDI and displays/plays it\n",
    "abptest(\"rocknoghosttest.abp\")"
   ]
  },
  {
   "cell_type": "code",
   "execution_count": 189,
   "metadata": {},
   "outputs": [
    {
     "data": {
      "text/plain": [
       "9×9 Matrix{Float64}:\n",
       " 0.1  0.2  0.0  0.1  0.333333  0.0  0.0  0.0  0.0\n",
       " 0.2  0.2  0.2  0.2  0.333333  0.1  0.0  0.0  0.0\n",
       " 0.2  0.2  0.2  0.2  0.333333  0.1  0.0  0.0  0.0\n",
       " 0.1  0.2  0.2  0.1  0.0       0.3  0.0  0.0  0.0\n",
       " 0.2  0.0  0.2  0.2  0.0       0.2  0.0  0.0  0.0\n",
       " 0.2  0.2  0.2  0.2  0.0       0.3  0.0  0.0  0.0\n",
       " 0.0  0.0  0.0  0.0  0.0       0.0  0.0  0.0  0.0\n",
       " 0.0  0.0  0.0  0.0  0.0       0.0  0.0  0.0  0.0\n",
       " 0.0  0.0  0.0  0.0  0.0       0.0  0.0  0.0  0.0"
      ]
     },
     "execution_count": 189,
     "metadata": {},
     "output_type": "execute_result"
    }
   ],
   "source": [
    "#0 = rest, 1 = bass, 2 = LH\n",
    "                #00    #01  #02   #10  #11   #12  #zeros\n",
    "funkBassMatrix = [0.1e0 0.2  0     0.1  1//3 0   0 0 0 #00\n",
    "                    0.2 0.2  0.2   0.2  1//3 0.1    0 0 0  #01\n",
    "                    0.2 0.2  0.2   0.2  1//3 0.1    0 0 0  #02\n",
    "                    0.1 0.2  0.2   0.1  0    0.3 0 0 0  #10\n",
    "                    0.2 0    0.2   0.2  0    0.2 0 0 0  #11\n",
    "                    0.2 0.2  0.2   0.2  0    0.3 0 0 0    #12\n",
    "                    zeros(3,9)]                 #zeros"
   ]
  },
  {
   "cell_type": "code",
   "execution_count": null,
   "metadata": {},
   "outputs": [],
   "source": [
    "sum(funkBassMatrix, dims=1)"
   ]
  },
  {
   "cell_type": "code",
   "execution_count": null,
   "metadata": {},
   "outputs": [],
   "source": [
    "funkBassInitial = [0.1, 0.2, 0.1, 0.2, 0.2, 0.2, 0, 0, 0]\n"
   ]
  },
  {
   "cell_type": "code",
   "execution_count": null,
   "metadata": {},
   "outputs": [],
   "source": [
    "sum(funkBassInitial, dims=1)"
   ]
  },
  {
   "cell_type": "code",
   "execution_count": null,
   "metadata": {},
   "outputs": [],
   "source": [
    "funkBass = AugMatrix(funkBassMatrix, funkBassInitial)"
   ]
  },
  {
   "cell_type": "code",
   "execution_count": null,
   "metadata": {},
   "outputs": [],
   "source": [
    "funkNoGhostBMatrix = [0.1e0 1//3 0.25e0 0.5e0; 0.3e0 1//3 0.25e0 0.5e0; 0.3e0 1//3 0.25e0 0; 0.3e0 0 0.25e0 0]"
   ]
  },
  {
   "cell_type": "code",
   "execution_count": null,
   "metadata": {},
   "outputs": [],
   "source": [
    "funkNoGhostBInitial = [0.1e0, 0.1e0, 0, 0.4e0, 0.4e0, 0, 0, 0, 0 ]"
   ]
  },
  {
   "cell_type": "code",
   "execution_count": null,
   "metadata": {},
   "outputs": [],
   "source": [
    "funkNoGhostB = AugMatrix([funkNoGhostBMatrix[1:2, 1:2] zeros(2,1) funkNoGhostBMatrix[1:2, 3:4] zeros(2, 4)\n",
    "    zeros(1, 9)\n",
    "    funkNoGhostBMatrix[3:4, 1:2] zeros(2,1) funkNoGhostBMatrix[3:4, 3:4] zeros(2, 4)\n",
    "    zeros(4, 9)\n",
    "    ],\n",
    "    funkNoGhostBInitial)"
   ]
  },
  {
   "cell_type": "code",
   "execution_count": null,
   "metadata": {},
   "outputs": [],
   "source": [
    "funkFillLeftToRight = [0.2e0 0.1e0 0.1e0 0 0.3e0 0.2e0; 0.4e0 0.2e0 0 0.3e0 0.3e0 0.2e0; 0.1e0 0.4e0 0.2e0 0.1e0 0.1e0 0.2e0; 0.1e0 0.1e0 0.4e0 0.3e0 0.1e0 0.2e0; 0.1e0 0.1e0 0.1e0 0.2e0 0.1e0 0.1e0; 0.1e0 0.1e0 0.2e0 0.1e0 0.1e0 0.1e0]"
   ]
  },
  {
   "cell_type": "code",
   "execution_count": null,
   "metadata": {},
   "outputs": [],
   "source": [
    "funkFillRightToLeft = [0.4e0 0.2e0 0.1e0 0.1e0 0.3e0 0.2e0; 0.2e0 0.4e0 0.2e0 0.2e0 0.2e0 0.2e0; 0.1e0 0 0.4e0 0.1e0 0.1e0 0.2e0; 0 0.1e0 0.1e0 0.4e0 0.1e0 0.2e0; 0.2e0 0.1e0 0.1e0 0.1e0 0.2e0 0.1e0; 0.1e0 0.2e0 0.1e0 0.1e0 0.1e0 0.1e0]\n"
   ]
  },
  {
   "cell_type": "code",
   "execution_count": null,
   "metadata": {},
   "outputs": [],
   "source": [
    "funkFillInitial = [0.3e0,0.3e0,0.1e0,0.1e0,0.1e0,0.1e0]"
   ]
  },
  {
   "cell_type": "code",
   "execution_count": null,
   "metadata": {},
   "outputs": [],
   "source": [
    "funkFill = AugDblMatrix(funkFillLeftToRight, funkFillRightToLeft, funkFillInitial)"
   ]
  },
  {
   "cell_type": "code",
   "execution_count": null,
   "metadata": {},
   "outputs": [],
   "source": [
    "funkPatMatrix = [\n",
    "    #8  Q   b   +\n",
    "    0   0.2 0.2 0.2 #8 \n",
    "    0.2 0   0.4 0.4   #Q\n",
    "    0.2 0.2 0   0.4 #b\n",
    "    0.6 0.6 0.4 0 #+\n",
    "    ]"
   ]
  },
  {
   "cell_type": "code",
   "execution_count": null,
   "metadata": {},
   "outputs": [],
   "source": [
    "sum(funkPatMatrix, dims=1)"
   ]
  },
  {
   "cell_type": "code",
   "execution_count": null,
   "metadata": {},
   "outputs": [],
   "source": [
    "funkPatInitial = [0; 0.2; 0.4; 0.4]"
   ]
  },
  {
   "cell_type": "code",
   "execution_count": null,
   "metadata": {},
   "outputs": [],
   "source": [
    "funkPat = AugMatrix(funkPatMatrix, funkPatInitial)"
   ]
  },
  {
   "cell_type": "code",
   "execution_count": null,
   "metadata": {},
   "outputs": [],
   "source": [
    "funkInstMatrix = [\n",
    "   #HH  RC  RB  ST \n",
    "    0.1 0.4 0.4   0.4   #HH\n",
    "    0.6 0.1 0.4   0.4   #RC\n",
    "    0.2 0.4 0.1   0.2   #RB\n",
    "    0.1 0.1 0.1   0     #ST\n",
    "]"
   ]
  },
  {
   "cell_type": "code",
   "execution_count": null,
   "metadata": {},
   "outputs": [],
   "source": [
    "funkInstInitial = [0.4; 0.4; 0.2; 0]"
   ]
  },
  {
   "cell_type": "code",
   "execution_count": null,
   "metadata": {},
   "outputs": [],
   "source": [
    "funkInst = AugMatrix(funkInstMatrix, funkInstInitial)"
   ]
  },
  {
   "cell_type": "code",
   "execution_count": null,
   "metadata": {},
   "outputs": [],
   "source": [
    "funksolo = abcsolo16patinst16ghost(4, funkBass, funkFill, dyn, funkPat, funkInst, \"Funk 16th feel\")\n",
    "print(funksolo)"
   ]
  },
  {
   "cell_type": "code",
   "execution_count": null,
   "metadata": {},
   "outputs": [],
   "source": [
    "#write a string to a file\n",
    "open(f->print(f, funksolo), \"funkghosttest.abp\", \"w\")"
   ]
  },
  {
   "cell_type": "code",
   "execution_count": null,
   "metadata": {},
   "outputs": [],
   "source": [
    "run(`cat funkghosttest.abp`)"
   ]
  },
  {
   "cell_type": "code",
   "execution_count": null,
   "metadata": {},
   "outputs": [],
   "source": [
    "#Converts ABP file to score and MIDI and displays/plays it\n",
    "abptest(\"funkghosttest.abp\")"
   ]
  },
  {
   "cell_type": "code",
   "execution_count": null,
   "metadata": {},
   "outputs": [],
   "source": [
    "funkNoGhostsolo = abcsolo16patinst16ghost(4, funkNoGhostB, funkFill, dyn, funkPat, funkInst, \"Funk 16th feel\")\n",
    "print(funkNoGhostsolo)"
   ]
  },
  {
   "cell_type": "code",
   "execution_count": null,
   "metadata": {},
   "outputs": [],
   "source": [
    "#write a string to a file\n",
    "open(f->print(f, funkNoGhostsolo), \"funknoghosttest.abp\", \"w\")"
   ]
  },
  {
   "cell_type": "code",
   "execution_count": null,
   "metadata": {},
   "outputs": [],
   "source": [
    "#Converts ABP file to score and MIDI and displays/plays it\n",
    "abptest(\"funknoghosttest.abp\")"
   ]
  },
  {
   "cell_type": "code",
   "execution_count": null,
   "metadata": {},
   "outputs": [],
   "source": []
  }
 ],
 "metadata": {
  "kernelspec": {
   "display_name": "Julia 1.6.3",
   "language": "julia",
   "name": "julia-1.6"
  },
  "language_info": {
   "file_extension": ".jl",
   "mimetype": "application/julia",
   "name": "julia",
   "version": "1.6.3"
  }
 },
 "nbformat": 4,
 "nbformat_minor": 4
}
